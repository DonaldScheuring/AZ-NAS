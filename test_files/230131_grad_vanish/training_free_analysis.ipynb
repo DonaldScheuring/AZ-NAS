{
 "cells": [
  {
   "cell_type": "code",
   "execution_count": 1,
   "id": "15198afc",
   "metadata": {},
   "outputs": [],
   "source": [
    "import os, sys, time, glob, random, argparse\n",
    "import numpy as np\n",
    "from copy import deepcopy\n",
    "import torch\n",
    "import torch.nn as nn\n",
    "import time\n",
    "\n",
    "# XAutoDL \n",
    "from xautodl.config_utils import load_config, dict2config, configure2str\n",
    "from xautodl.datasets import get_datasets, get_nas_search_loaders\n",
    "from xautodl.procedures import (\n",
    "    prepare_seed,\n",
    "    prepare_logger,\n",
    "    save_checkpoint,\n",
    "    copy_checkpoint,\n",
    "    get_optim_scheduler,\n",
    ")\n",
    "from xautodl.utils import get_model_infos, obtain_accuracy\n",
    "from xautodl.log_utils import AverageMeter, time_string, convert_secs2time\n",
    "from xautodl.models import get_search_spaces\n",
    "\n",
    "# NB201\n",
    "from nas_201_api import NASBench201API as API\n",
    "\n",
    "from ntk import get_ntk_n\n",
    "from linear_region_counter import Linear_Region_Collector\n",
    "\n",
    "import scipy.stats as stats\n",
    "import matplotlib.pyplot as plt\n",
    "\n",
    "import tqdm\n",
    "\n",
    "# custom\n",
    "from custom_models import get_cell_based_tiny_net\n",
    "\n",
    "os.environ[\"CUDA_VISIBLE_DEVICES\"] = \"0\""
   ]
  },
  {
   "cell_type": "code",
   "execution_count": 2,
   "id": "392dc080",
   "metadata": {},
   "outputs": [
    {
     "name": "stdout",
     "output_type": "stream",
     "text": [
      "36634\n",
      "Namespace(arch_nas_dataset='../../NAS-Bench-201-v1_1-096897.pth', channel=16, config_path='../../configs/nas-benchmark/algos/RANDOM.config', data_path='../../cifar.python', dataset='cifar10', max_nodes=4, num_cells=5, print_freq=200, rand_seed=36634, save_dir='./results/tmp', search_space_name='nas-bench-201', select_num=100, track_running_stats=0, workers=0)\n"
     ]
    }
   ],
   "source": [
    "parser = argparse.ArgumentParser(\"Random search for NAS.\")\n",
    "parser.add_argument(\"--data_path\", type=str, default='../../cifar.python', help=\"The path to dataset\")\n",
    "parser.add_argument(\"--dataset\", type=str, default='cifar10',choices=[\"cifar10\", \"cifar100\", \"ImageNet16-120\"], help=\"Choose between Cifar10/100 and ImageNet-16.\")\n",
    "\n",
    "# channels and number-of-cells\n",
    "parser.add_argument(\"--search_space_name\", type=str, default='nas-bench-201', help=\"The search space name.\")\n",
    "parser.add_argument(\"--config_path\", type=str, default='../../configs/nas-benchmark/algos/RANDOM.config', help=\"The path to the configuration.\")\n",
    "parser.add_argument(\"--max_nodes\", type=int, default=4, help=\"The maximum number of nodes.\")\n",
    "parser.add_argument(\"--channel\", type=int, default=16, help=\"The number of channels.\")\n",
    "parser.add_argument(\"--num_cells\", type=int, default=5, help=\"The number of cells in one stage.\")\n",
    "# parser.add_argument(\"--channel\", type=int, default=3, help=\"The number of channels.\")\n",
    "# parser.add_argument(\"--num_cells\", type=int, default=1, help=\"The number of cells in one stage.\")\n",
    "parser.add_argument(\"--select_num\", type=int, default=100, help=\"The number of selected architectures to evaluate.\")\n",
    "parser.add_argument(\"--track_running_stats\", type=int, default=0, choices=[0, 1], help=\"Whether use track_running_stats or not in the BN layer.\")\n",
    "# log\n",
    "parser.add_argument(\"--workers\", type=int, default=0, help=\"number of data loading workers\")\n",
    "parser.add_argument(\"--save_dir\", type=str, default='./results/tmp', help=\"Folder to save checkpoints and log.\")\n",
    "parser.add_argument(\"--arch_nas_dataset\", type=str, default='../../NAS-Bench-201-v1_1-096897.pth', help=\"The path to load the architecture dataset (tiny-nas-benchmark).\")\n",
    "parser.add_argument(\"--print_freq\", type=int, default=200, help=\"print frequency (default: 200)\")\n",
    "parser.add_argument(\"--rand_seed\", type=int, default=None, help=\"manual seed\")\n",
    "args = parser.parse_args(args=[])\n",
    "if args.rand_seed is None or args.rand_seed < 0:\n",
    "    args.rand_seed = random.randint(1, 100000)\n",
    "\n",
    "    \n",
    "print(args.rand_seed)\n",
    "print(args)\n",
    "xargs=args"
   ]
  },
  {
   "cell_type": "code",
   "execution_count": 3,
   "id": "c1f83abf",
   "metadata": {},
   "outputs": [
    {
     "name": "stdout",
     "output_type": "stream",
     "text": [
      "Main Function with logger : Logger(dir=results/tmp, use-tf=False, writer=None)\n",
      "Arguments : -------------------------------\n",
      "arch_nas_dataset : ../../NAS-Bench-201-v1_1-096897.pth\n",
      "channel          : 16\n",
      "config_path      : ../../configs/nas-benchmark/algos/RANDOM.config\n",
      "data_path        : ../../cifar.python\n",
      "dataset          : cifar10\n",
      "max_nodes        : 4\n",
      "num_cells        : 5\n",
      "print_freq       : 200\n",
      "rand_seed        : 36634\n",
      "save_dir         : ./results/tmp\n",
      "search_space_name : nas-bench-201\n",
      "select_num       : 100\n",
      "track_running_stats : 0\n",
      "workers          : 0\n",
      "Python  Version  : 3.8.8 (default, Feb 24 2021, 21:46:12)  [GCC 7.3.0]\n",
      "Pillow  Version  : 8.1.2\n",
      "PyTorch Version  : 1.8.1\n",
      "cuDNN   Version  : 8005\n",
      "CUDA available   : True\n",
      "CUDA GPU numbers : 1\n",
      "CUDA_VISIBLE_DEVICES : 0\n"
     ]
    }
   ],
   "source": [
    "assert torch.cuda.is_available(), \"CUDA is not available.\"\n",
    "torch.backends.cudnn.enabled = True\n",
    "torch.backends.cudnn.benchmark = False\n",
    "torch.backends.cudnn.deterministic = True\n",
    "# torch.set_num_threads(xargs.workers)\n",
    "prepare_seed(xargs.rand_seed)\n",
    "logger = prepare_logger(args)"
   ]
  },
  {
   "cell_type": "code",
   "execution_count": 231,
   "id": "259c78b9",
   "metadata": {},
   "outputs": [],
   "source": [
    "def kaiming_normal_fanin_init(m):\n",
    "    if isinstance(m, nn.Conv2d) or isinstance(m, nn.Linear):\n",
    "        nn.init.kaiming_normal_(m.weight, mode='fan_in', nonlinearity='relu')\n",
    "        if hasattr(m, 'bias') and m.bias is not None:\n",
    "            nn.init.zeros_(m.bias)\n",
    "    elif isinstance(m, nn.BatchNorm2d):\n",
    "        if m.affine:\n",
    "            nn.init.ones_(m.weight.data)\n",
    "            nn.init.constant_(m.bias.data, 0.0)\n",
    "\n",
    "\n",
    "def kaiming_normal_fanout_init(m):\n",
    "    if isinstance(m, nn.Conv2d) or isinstance(m, nn.Linear):\n",
    "        nn.init.kaiming_normal_(m.weight, mode='fan_out', nonlinearity='relu')\n",
    "        if hasattr(m, 'bias') and m.bias is not None:\n",
    "            nn.init.zeros_(m.bias)\n",
    "    elif isinstance(m, nn.BatchNorm2d):\n",
    "        if m.affine:\n",
    "            nn.init.ones_(m.weight.data)\n",
    "            nn.init.constant_(m.bias.data, 0.0)\n",
    "\n",
    "\n",
    "def init_model(model, method='kaiming_norm_fanin'):\n",
    "    if method == 'kaiming_norm_fanin':\n",
    "        model.apply(kaiming_normal_fanin_init)\n",
    "    elif method == 'kaiming_norm_fanout':\n",
    "        model.apply(kaiming_normal_fanout_init)\n",
    "    return model\n",
    "\n",
    "####### original\n",
    "def pca_eig_diag(xloader, network, num_batch=1):\n",
    "    device = torch.cuda.current_device()\n",
    "    network.train()\n",
    "    \n",
    "    with torch.no_grad():\n",
    "        feat_list = []\n",
    "        for i, (inputs, targets) in enumerate(xloader):\n",
    "            if num_batch > 0 and i >= num_batch: break\n",
    "\n",
    "            inputs = inputs.cuda(device=device, non_blocking=True)\n",
    "            network.zero_grad()\n",
    "            inputs_ = torch.randn_like(inputs)\n",
    "            _ = network(inputs_)\n",
    "            feat = network.last_feature_map.detach().clone()\n",
    "            b,c,h,w = feat.size()\n",
    "            feat_list.append(feat.permute(0,2,3,1).contiguous().view(b*h*w,c))\n",
    "\n",
    "        feat = torch.cat(feat_list, dim=0)\n",
    "        m = feat.mean(dim=0, keepdim=True)\n",
    "        feat = feat - m\n",
    "        sigma = torch.mm(feat.transpose(1,0),feat) / (feat.size(0))\n",
    "        u, s, v = torch.svd(sigma)\n",
    "        prob_s = s / s.sum()\n",
    "        score = (-prob_s)*torch.log(prob_s+1e-8)\n",
    "        score = score.sum()\n",
    "        \n",
    "#         scores = []\n",
    "#         for f in network.cell_features:\n",
    "#             b,c,h,w = f.size()\n",
    "#             feat = f.permute(0,2,3,1).contiguous().view(b*h*w,c)\n",
    "#             m = feat.mean(dim=0, keepdim=True)\n",
    "#             feat = feat - m\n",
    "#             sigma = torch.mm(feat.transpose(1,0),feat) / (feat.size(0))\n",
    "#             u, s, v = torch.svd(sigma)\n",
    "#             prob_s = s / s.sum()\n",
    "#             score = (-prob_s)*torch.log(prob_s+1e-8)\n",
    "#             score = score.sum().item()\n",
    "#             scores.append(score)\n",
    "#         score = np.sum(np.array(scores[1:]) - np.array(scores[:-1]))\n",
    "            \n",
    "        torch.cuda.empty_cache()\n",
    "    \n",
    "    return score.item()\n",
    "\n",
    "def grad_vanish(xloader, network, criterion, num_batch=1):\n",
    "    device = torch.cuda.current_device()\n",
    "    network.train()\n",
    "    \n",
    "    for i, (inputs, targets) in enumerate(xloader):\n",
    "        if num_batch > 0 and i >= num_batch: break\n",
    "\n",
    "        inputs = inputs.cuda(device=device, non_blocking=True)\n",
    "        targets = targets.cuda(device=device, non_blocking=True)\n",
    "        \n",
    "        network.zero_grad()\n",
    "#         inputs_ = inputs\n",
    "        inputs_ = torch.randn_like(inputs)\n",
    "        _, logits = network(inputs_)\n",
    "\n",
    "\n",
    "################### std\n",
    "#         cell_features = network.cell_features\n",
    "    \n",
    "#         loss = criterion(logits, targets)\n",
    "#         loss.backward()\n",
    "\n",
    "#         scores = []\n",
    "#         for i in reversed(range(1, len(cell_features))):\n",
    "#             f_out = cell_features[i]\n",
    "#             f_in = cell_features[i-1]\n",
    "\n",
    "#             if f_out.size() == f_in.size():\n",
    "#                 if torch.all(f_in.grad == f_out.grad) or torch.all(f_in == f_out):\n",
    "#                     scores.append(-1)\n",
    "#             else:\n",
    "#                 s = f_in.grad.view(-1).std() / (f_out.grad.view(-1).std()+1e-6)\n",
    "# #                 scores.append(s.item())\n",
    "#                 scores.append(-((1-s.item())**2))\n",
    "#         score = np.mean(scores)\n",
    "################### weight grad\n",
    "#         loss = criterion(logits, targets)\n",
    "#         loss.backward()\n",
    "\n",
    "# #         g = torch.randn_like(network.last_feature_map)\n",
    "# #         g = g / (g.norm(dim=(1),keepdim=True)+1e-6)\n",
    "# #         network.last_feature_map.backward(g)\n",
    "#         w_g = network.stem[0].weight.grad\n",
    "#         c_out,c_in,kh,kw = w_g.size()\n",
    "#         score = w_g.view(c_out,-1).norm(dim=1).mean()\n",
    "################### using a CE loss\n",
    "#         loss = criterion(logits, targets)\n",
    "#         loss.backward()\n",
    "#         cell_features = network.cell_features\n",
    "\n",
    "#         scores = []\n",
    "#         for i in reversed(range(1, len(cell_features))):\n",
    "#             f_out = cell_features[i]\n",
    "#             f_in = cell_features[i-1]\n",
    "        \n",
    "#             s = f_in.grad.norm(dim=(1)).mean() / (f_out.grad.norm(dim=(1)).mean()+1e-6)\n",
    "# #             s = f_in.grad.norm() / (f_out.grad.norm()+1e-6)\n",
    "# #             print(s)\n",
    "# #             scores.append(s.item())\n",
    "#             scores.append(-np.abs(1-s.item()))\n",
    "#         score = np.mean(scores)  \n",
    "################### # feature vector norm 0.42\n",
    "#         g = torch.randn_like(network.last_feature_map)\n",
    "#         g = g / (g.norm(dim=(1),keepdim=True)+1e-6)\n",
    "#         network.last_feature_map.backward(g)\n",
    "        \n",
    "#         s_grad_norm = network.first_feature_map.grad.norm(dim=(1))\n",
    "#         score = s_grad_norm.mean()\n",
    "################### traverse all cell features\n",
    "#         cell_features = network.cell_features\n",
    "#         f_last = cell_features[-1]\n",
    "#         g = torch.randn_like(f_last)\n",
    "#         g = g / (g.norm(dim=(1),keepdim=True)+1e-6)\n",
    "#         f_last.backward(g)\n",
    "        \n",
    "#         scores = []\n",
    "#         for i in reversed(range(1, len(cell_features))):\n",
    "# #         for i in reversed(range(1, 5)):\n",
    "#             f_out = cell_features[i]\n",
    "#             f_in = cell_features[i-1]\n",
    "        \n",
    "#             s = f_in.grad.norm(dim=(1)).mean() / (f_out.grad.norm(dim=(1)).mean()+1e-6)\n",
    "# #             scores.append(s.item())\n",
    "#             scores.append(-np.abs(1-s.item()))\n",
    "#         score = np.mean(scores)\n",
    "################### channel norm\n",
    "#         g = torch.randn_like(network.last_feature_map)\n",
    "#         g = g / (g.norm(dim=(2,3),keepdim=True)+1e-6)\n",
    "#         network.last_feature_map.backward(g)\n",
    "        \n",
    "#         s_grad_norm = network.first_feature_map.grad.norm(dim=(2,3))\n",
    "#         score = s_grad_norm.mean()\n",
    "################### entire norm\n",
    "#         g = torch.randn_like(network.last_feature_map)\n",
    "#         g = g / (g.norm()+1e-6)\n",
    "#         network.last_feature_map.backward(g)\n",
    "        \n",
    "#         s_grad_norm = network.first_feature_map.grad.norm()\n",
    "#         score = s_grad_norm\n",
    "################### # batch-wise norm\n",
    "#         g = torch.randn_like(network.last_feature_map)\n",
    "#         b,c,h,w = g.size()\n",
    "#         g = g.view(b, -1)\n",
    "#         g = g / (g.norm(dim=(1),keepdim=True)+1e-6)\n",
    "#         g = g.view(b,c,h,w)\n",
    "#         network.last_feature_map.backward(g)\n",
    "        \n",
    "#         g = network.first_feature_map.grad\n",
    "#         b,c,h,w = g.size()\n",
    "#         g = g.view(b, -1)\n",
    "#         s_grad_norm = g.norm(dim=(1))\n",
    "#         score = s_grad_norm.mean()\n",
    "################### traverse cell features in a stage\n",
    "        cell_features = network.cell_features\n",
    "        f_last = cell_features[-1]\n",
    "        g = torch.randn_like(f_last)\n",
    "        g = g / (g.norm(dim=(1),keepdim=True)+1e-6)\n",
    "        f_last.backward(g)\n",
    "        \n",
    "        scores = []\n",
    "        for i in reversed(range(1, len(cell_features))):\n",
    "            f_out = cell_features[i]\n",
    "            f_in = cell_features[i-1]\n",
    "#         for i in range(1, 5):\n",
    "#             f_out = cell_features[-i]\n",
    "#             f_in = cell_features[-i-1]\n",
    "            \n",
    "            s1 = f_in.grad.norm(dim=(1)).mean() / (f_out.grad.norm(dim=(1)).mean()+1e-6)\n",
    "            s2 = f_out.norm(dim=(1)).mean() / (f_in.norm(dim=(1)).mean()+1e-6)\n",
    "#             s1 = f_in.grad.view(-1).std() / (f_out.grad.view(-1).std()+1e-6)\n",
    "#             s2 = f_out.view(-1).std() / (f_in.view(-1).std()+1e-6)\n",
    "#             print(s1, s2)\n",
    "            if (f_out.size() == f_in.size()) and (torch.all(f_in.grad == f_out.grad) or torch.all(f_in == f_out)):\n",
    "                print(\"detected\")\n",
    "                scores.append(-1)\n",
    "            else:\n",
    "#                 s = -torch.abs(s1-1)*torch.abs(s2-1)\n",
    "#                 scores.append(s.item())\n",
    "                scores.append((-torch.abs(s2-1)).item())\n",
    "#             scores.append(-np.abs(1-s.item()))\n",
    "        score = np.mean(scores)\n",
    "\n",
    "    torch.cuda.empty_cache()\n",
    "    \n",
    "    return score.item()\n",
    "\n",
    "def search_find_best(xloader, network, criterion, lrc_model, n_samples):\n",
    "    start = torch.cuda.Event(enable_timing=True)\n",
    "    end = torch.cuda.Event(enable_timing=True)\n",
    "    \n",
    "    network.train()\n",
    "    archs, pca_scores, grad_scores, ntk_scores, lr_scores = [], [], [], [], []\n",
    "    \n",
    "    for i in tqdm.tqdm(range(n_samples)):\n",
    "        # random sampling\n",
    "        arch = network.random_genotype(True)\n",
    "    \n",
    "        pca_score_tmp, grad_score_tmp, ntk_score_tmp, lr_score_tmp = [], [], [], []\n",
    "        pca_time, grad_time, ntk_time, lr_time = [], [], [], []\n",
    "        pca_mem, grad_mem, ntk_mem, lr_mem = [], [], [], []\n",
    "        \n",
    "        for _ in range(1):\n",
    "            init_model(network)\n",
    "            \n",
    "            # pca score\n",
    "            start.record()\n",
    "            torch.cuda.reset_peak_memory_stats()\n",
    "            score = pca_eig_diag(xloader, network)\n",
    "            pca_score_tmp.append(score)\n",
    "            end.record()\n",
    "            torch.cuda.synchronize()\n",
    "            pca_time.append(start.elapsed_time(end))\n",
    "            pca_mem.append(torch.cuda.max_memory_reserved())\n",
    "            torch.cuda.empty_cache()\n",
    "            \n",
    "            # grad score\n",
    "            start.record()\n",
    "            torch.cuda.reset_peak_memory_stats()\n",
    "            score = grad_vanish(xloader, network, criterion)\n",
    "            grad_score_tmp.append(score)\n",
    "            end.record()\n",
    "            torch.cuda.synchronize()\n",
    "            grad_time.append(start.elapsed_time(end))\n",
    "            grad_mem.append(torch.cuda.max_memory_reserved())\n",
    "            torch.cuda.empty_cache()\n",
    "            \n",
    "#             # ntk score        \n",
    "#             start.record()\n",
    "#             torch.cuda.reset_peak_memory_stats()\n",
    "#             score = -get_ntk_n(xloader, [network], recalbn=0, train_mode=True, num_batch=1)[0]\n",
    "#             end.record()\n",
    "#             torch.cuda.synchronize()\n",
    "#             ntk_time.append(start.elapsed_time(end))\n",
    "#             ntk_mem.append(torch.cuda.max_memory_reserved())\n",
    "#             torch.cuda.empty_cache()\n",
    "#             ntk_score_tmp.append(score)\n",
    "            \n",
    "#             # lr score\n",
    "#             start.record()\n",
    "#             torch.cuda.reset_peak_memory_stats()\n",
    "#             lrc_model.reinit(models=[network], seed=xargs.rand_seed)\n",
    "#             score = lrc_model.forward_batch_sample()\n",
    "#             end.record()\n",
    "#             torch.cuda.synchronize()\n",
    "#             lr_time.append(start.elapsed_time(end))\n",
    "#             lr_mem.append(torch.cuda.max_memory_reserved())\n",
    "#             lr_score_tmp.append(score)\n",
    "#             lrc_model.clear()\n",
    "        \n",
    "#         print(pca_score_tmp)\n",
    "#         print(np.mean(pca_score_tmp))\n",
    "#         print(np.std(pca_score_tmp))\n",
    "        \n",
    "#         print(ntk_score_tmp)\n",
    "#         print(np.mean(ntk_score_tmp))\n",
    "#         print(np.std(ntk_score_tmp))\n",
    "        \n",
    "        archs.append(arch)\n",
    "        pca_scores.append(np.mean(pca_score_tmp))\n",
    "        grad_scores.append(np.mean(grad_score_tmp))\n",
    "        ntk_scores.append(np.mean(ntk_score_tmp))\n",
    "        lr_scores.append(np.mean(lr_score_tmp))\n",
    "        \n",
    "    pca_scores = np.nan_to_num(np.array(pca_scores), nan=-np.inf)\n",
    "    grad_scores = np.nan_to_num(np.array(grad_scores), nan=-np.inf)\n",
    "    ntk_scores = np.nan_to_num(np.array(ntk_scores), nan=-np.inf)\n",
    "    lr_scores = np.nan_to_num(np.array(lr_scores), nan=-np.inf)\n",
    "\n",
    "#         print(arch)\n",
    "#         print(\"-----------------\")\n",
    "#         print(\"PCA: {:.5f} ms\".format(np.mean(pca_time)))\n",
    "#         print(\"Grad: {:.5f} ms\".format(np.mean(grad_time)))\n",
    "#         print(\"NTK: {:.5f} ms\".format(np.mean(ntk_time)))\n",
    "#         print(\"LR: {:.5f} ms\".format(np.mean(lr_time)))\n",
    "#         print(\"-----------------\")\n",
    "#         print(\"PCA: {:.5f} GB\".format(np.mean(pca_mem)/1e9))\n",
    "#         print(\"Grad: {:.5f} GB\".format(np.mean(grad_mem)/1e9))\n",
    "#         print(\"NTK: {:.5f} GB\".format(np.mean(ntk_mem)/1e9))\n",
    "#         print(\"LR: {:.5f} GB\".format(np.mean(lr_mem)/1e9))\n",
    "#         print(\"-----------------\\n\")\n",
    "        \n",
    "    return archs, pca_scores, grad_scores, ntk_scores, lr_scores"
   ]
  },
  {
   "cell_type": "markdown",
   "id": "67ad28c7",
   "metadata": {},
   "source": [
    "# Main"
   ]
  },
  {
   "cell_type": "code",
   "execution_count": 5,
   "id": "1bbfe256",
   "metadata": {},
   "outputs": [
    {
     "name": "stdout",
     "output_type": "stream",
     "text": [
      "Files already downloaded and verified\n",
      "Files already downloaded and verified\n",
      "../../configs/nas-benchmark/algos/RANDOM.config\n",
      "Configure(scheduler='cos', LR=0.025, eta_min=0.001, epochs=250, warmup=0, optim='SGD', decay=0.0005, momentum=0.9, nesterov=True, criterion='Softmax', batch_size=64, test_batch_size=512, class_num=10, xshape=(1, 3, 32, 32))\n",
      "||||||| cifar10    ||||||| Search-Loader-Num=391, Valid-Loader-Num=49, batch size=64\n",
      "||||||| cifar10    ||||||| Config=Configure(scheduler='cos', LR=0.025, eta_min=0.001, epochs=250, warmup=0, optim='SGD', decay=0.0005, momentum=0.9, nesterov=True, criterion='Softmax', batch_size=64, test_batch_size=512, class_num=10, xshape=(1, 3, 32, 32))\n",
      "try to create the NAS-Bench-201 api from ../../NAS-Bench-201-v1_1-096897.pth\n",
      "[2023-02-06 04:13:24] create API = NASBench201API(15625/15625 architectures, file=NAS-Bench-201-v1_1-096897.pth) done\n",
      "Files already downloaded and verified\n",
      "Files already downloaded and verified\n",
      "=> do not find the last-info file : results/tmp/seed-36634-last-info.pth\n"
     ]
    }
   ],
   "source": [
    "## data\n",
    "train_data, valid_data, xshape, class_num = get_datasets(xargs.dataset, xargs.data_path, -1)\n",
    "config = load_config(xargs.config_path, {\"class_num\": class_num, \"xshape\": xshape}, logger)\n",
    "search_loader, train_loader, valid_loader = get_nas_search_loaders(train_data,\n",
    "                                                        valid_data,\n",
    "                                                        xargs.dataset,\n",
    "                                                        \"../../configs/nas-benchmark/\",\n",
    "                                                        (config.batch_size, config.test_batch_size),\n",
    "                                                        xargs.workers)\n",
    "logger.log(\"||||||| {:10s} ||||||| Search-Loader-Num={:}, Valid-Loader-Num={:}, batch size={:}\".format(\n",
    "            xargs.dataset, len(search_loader), len(valid_loader), config.batch_size))\n",
    "logger.log(\"||||||| {:10s} ||||||| Config={:}\".format(xargs.dataset, config))\n",
    "\n",
    "\n",
    "## model\n",
    "search_space = get_search_spaces(\"cell\", xargs.search_space_name)\n",
    "model_config = dict2config(\n",
    "    {\n",
    "        \"name\": \"RANDOM\",\n",
    "        \"C\": xargs.channel,\n",
    "        \"N\": xargs.num_cells,\n",
    "        \"max_nodes\": xargs.max_nodes,\n",
    "        \"num_classes\": class_num,\n",
    "        \"space\": search_space,\n",
    "        \"affine\": False,\n",
    "        \"track_running_stats\": bool(xargs.track_running_stats),\n",
    "    },\n",
    "    None,\n",
    ")\n",
    "search_model = get_cell_based_tiny_net(model_config)\n",
    "\n",
    "_, _, criterion = get_optim_scheduler(search_model.parameters(), config)\n",
    "criterion = criterion.cuda()\n",
    "\n",
    "if \"api\" not in vars():\n",
    "    if xargs.arch_nas_dataset is None:\n",
    "        api = None\n",
    "    else:\n",
    "        api = API(xargs.arch_nas_dataset)\n",
    "    logger.log(\"{:} create API = {:} done\".format(time_string(), api))\n",
    "\n",
    "last_info, model_base_path, model_best_path = (\n",
    "    logger.path(\"info\"),\n",
    "    logger.path(\"model\"),\n",
    "    logger.path(\"best\"),\n",
    ")\n",
    "# network = torch.nn.DataParallel(search_model).cuda()\n",
    "network = search_model.cuda()\n",
    "\n",
    "## LRC\n",
    "if \"lrc_model\" not in vars():\n",
    "    lrc_model = Linear_Region_Collector(input_size=(333, 3, 3, 3), sample_batch=3, dataset=xargs.dataset, data_path=xargs.data_path, seed=xargs.rand_seed)\n",
    "\n",
    "\n",
    "## misc\n",
    "if last_info.exists():  # automatically resume from previous checkpoint\n",
    "    logger.log(\n",
    "        \"=> loading checkpoint of the last-info '{:}' start\".format(last_info)\n",
    "    )\n",
    "    last_info = torch.load(last_info)\n",
    "    start_epoch = last_info[\"epoch\"]\n",
    "    checkpoint = torch.load(last_info[\"last_checkpoint\"])\n",
    "    genotypes = checkpoint[\"genotypes\"]\n",
    "    valid_accuracies = checkpoint[\"valid_accuracies\"]\n",
    "    search_model.load_state_dict(checkpoint[\"search_model\"])\n",
    "    logger.log(\n",
    "        \"=> loading checkpoint of the last-info '{:}' start with {:}-th epoch.\".format(\n",
    "            last_info, start_epoch\n",
    "        )\n",
    "    )\n",
    "else:\n",
    "    logger.log(\"=> do not find the last-info file : {:}\".format(last_info))\n",
    "    start_epoch, valid_accuracies, genotypes = 0, {\"best\": -1}, {}"
   ]
  },
  {
   "cell_type": "code",
   "execution_count": 237,
   "id": "7a20052c",
   "metadata": {
    "scrolled": true
   },
   "outputs": [
    {
     "name": "stderr",
     "output_type": "stream",
     "text": [
      "  1%|          | 8/1000 [00:03<09:20,  1.77it/s]"
     ]
    },
    {
     "name": "stdout",
     "output_type": "stream",
     "text": [
      "detected\n",
      "detected\n",
      "detected\n",
      "detected\n",
      "detected\n",
      "detected\n",
      "detected\n",
      "detected\n",
      "detected\n",
      "detected\n",
      "detected\n",
      "detected\n",
      "detected\n",
      "detected\n"
     ]
    },
    {
     "name": "stderr",
     "output_type": "stream",
     "text": [
      "  2%|▏         | 15/1000 [00:04<04:05,  4.01it/s]"
     ]
    },
    {
     "name": "stdout",
     "output_type": "stream",
     "text": [
      "detected\n",
      "detected\n",
      "detected\n",
      "detected\n",
      "detected\n",
      "detected\n",
      "detected\n",
      "detected\n",
      "detected\n",
      "detected\n",
      "detected\n",
      "detected\n",
      "detected\n",
      "detected\n"
     ]
    },
    {
     "name": "stderr",
     "output_type": "stream",
     "text": [
      "\r",
      "  2%|▏         | 16/1000 [00:04<03:56,  4.17it/s]"
     ]
    },
    {
     "name": "stdout",
     "output_type": "stream",
     "text": [
      "detected\n",
      "detected\n",
      "detected\n",
      "detected\n",
      "detected\n",
      "detected\n",
      "detected\n",
      "detected\n",
      "detected\n",
      "detected\n",
      "detected\n",
      "detected\n",
      "detected\n",
      "detected\n"
     ]
    },
    {
     "name": "stderr",
     "output_type": "stream",
     "text": [
      "  6%|▌         | 58/1000 [00:19<03:58,  3.95it/s]"
     ]
    },
    {
     "name": "stdout",
     "output_type": "stream",
     "text": [
      "detected\n",
      "detected\n",
      "detected\n",
      "detected\n",
      "detected\n",
      "detected\n",
      "detected\n",
      "detected\n",
      "detected\n",
      "detected\n",
      "detected\n",
      "detected\n",
      "detected\n",
      "detected\n"
     ]
    },
    {
     "name": "stderr",
     "output_type": "stream",
     "text": [
      " 10%|█         | 102/1000 [00:33<03:22,  4.42it/s]"
     ]
    },
    {
     "name": "stdout",
     "output_type": "stream",
     "text": [
      "detected\n",
      "detected\n",
      "detected\n",
      "detected\n",
      "detected\n",
      "detected\n",
      "detected\n",
      "detected\n",
      "detected\n",
      "detected\n",
      "detected\n",
      "detected\n",
      "detected\n",
      "detected\n"
     ]
    },
    {
     "name": "stderr",
     "output_type": "stream",
     "text": [
      " 12%|█▏        | 116/1000 [00:39<05:51,  2.51it/s]"
     ]
    },
    {
     "name": "stdout",
     "output_type": "stream",
     "text": [
      "detected\n",
      "detected\n",
      "detected\n",
      "detected\n",
      "detected\n",
      "detected\n",
      "detected\n",
      "detected\n",
      "detected\n",
      "detected\n",
      "detected\n",
      "detected\n",
      "detected\n",
      "detected\n"
     ]
    },
    {
     "name": "stderr",
     "output_type": "stream",
     "text": [
      " 12%|█▏        | 120/1000 [00:40<03:54,  3.76it/s]"
     ]
    },
    {
     "name": "stdout",
     "output_type": "stream",
     "text": [
      "detected\n",
      "detected\n",
      "detected\n",
      "detected\n",
      "detected\n",
      "detected\n",
      "detected\n",
      "detected\n",
      "detected\n",
      "detected\n",
      "detected\n",
      "detected\n",
      "detected\n",
      "detected\n"
     ]
    },
    {
     "name": "stderr",
     "output_type": "stream",
     "text": [
      " 12%|█▏        | 122/1000 [00:40<03:33,  4.11it/s]"
     ]
    },
    {
     "name": "stdout",
     "output_type": "stream",
     "text": [
      "detected\n",
      "detected\n",
      "detected\n",
      "detected\n",
      "detected\n",
      "detected\n",
      "detected\n",
      "detected\n",
      "detected\n",
      "detected\n",
      "detected\n",
      "detected\n",
      "detected\n",
      "detected\n"
     ]
    },
    {
     "name": "stderr",
     "output_type": "stream",
     "text": [
      " 15%|█▌        | 152/1000 [00:51<03:53,  3.64it/s]"
     ]
    },
    {
     "name": "stdout",
     "output_type": "stream",
     "text": [
      "detected\n",
      "detected\n",
      "detected\n",
      "detected\n",
      "detected\n",
      "detected\n",
      "detected\n",
      "detected\n",
      "detected\n",
      "detected\n",
      "detected\n",
      "detected\n",
      "detected\n",
      "detected\n"
     ]
    },
    {
     "name": "stderr",
     "output_type": "stream",
     "text": [
      " 17%|█▋        | 170/1000 [00:57<04:43,  2.93it/s]"
     ]
    },
    {
     "name": "stdout",
     "output_type": "stream",
     "text": [
      "detected\n",
      "detected\n",
      "detected\n",
      "detected\n",
      "detected\n",
      "detected\n",
      "detected\n",
      "detected\n",
      "detected\n",
      "detected\n",
      "detected\n",
      "detected\n",
      "detected\n",
      "detected\n"
     ]
    },
    {
     "name": "stderr",
     "output_type": "stream",
     "text": [
      " 22%|██▏       | 216/1000 [01:13<03:31,  3.70it/s]"
     ]
    },
    {
     "name": "stdout",
     "output_type": "stream",
     "text": [
      "detected\n",
      "detected\n",
      "detected\n",
      "detected\n",
      "detected\n",
      "detected\n",
      "detected\n",
      "detected\n",
      "detected\n",
      "detected\n",
      "detected\n",
      "detected\n",
      "detected\n",
      "detected\n"
     ]
    },
    {
     "name": "stderr",
     "output_type": "stream",
     "text": [
      " 26%|██▌       | 260/1000 [01:27<03:08,  3.92it/s]"
     ]
    },
    {
     "name": "stdout",
     "output_type": "stream",
     "text": [
      "detected\n",
      "detected\n",
      "detected\n",
      "detected\n",
      "detected\n",
      "detected\n",
      "detected\n",
      "detected\n",
      "detected\n",
      "detected\n",
      "detected\n",
      "detected\n",
      "detected\n",
      "detected\n"
     ]
    },
    {
     "name": "stderr",
     "output_type": "stream",
     "text": [
      " 28%|██▊       | 281/1000 [01:35<03:22,  3.55it/s]"
     ]
    },
    {
     "name": "stdout",
     "output_type": "stream",
     "text": [
      "detected\n",
      "detected\n",
      "detected\n",
      "detected\n",
      "detected\n",
      "detected\n",
      "detected\n",
      "detected\n",
      "detected\n",
      "detected\n",
      "detected\n",
      "detected\n",
      "detected\n",
      "detected\n"
     ]
    },
    {
     "name": "stderr",
     "output_type": "stream",
     "text": [
      " 30%|███       | 303/1000 [01:42<02:59,  3.88it/s]"
     ]
    },
    {
     "name": "stdout",
     "output_type": "stream",
     "text": [
      "detected\n",
      "detected\n",
      "detected\n",
      "detected\n",
      "detected\n",
      "detected\n",
      "detected\n",
      "detected\n",
      "detected\n",
      "detected\n",
      "detected\n",
      "detected\n",
      "detected\n",
      "detected\n"
     ]
    },
    {
     "name": "stderr",
     "output_type": "stream",
     "text": [
      " 31%|███       | 309/1000 [01:45<03:57,  2.91it/s]"
     ]
    },
    {
     "name": "stdout",
     "output_type": "stream",
     "text": [
      "detected\n",
      "detected\n",
      "detected\n",
      "detected\n",
      "detected\n",
      "detected\n",
      "detected\n",
      "detected\n",
      "detected\n",
      "detected\n",
      "detected\n",
      "detected\n",
      "detected\n",
      "detected\n"
     ]
    },
    {
     "name": "stderr",
     "output_type": "stream",
     "text": [
      " 31%|███▏      | 313/1000 [01:46<02:56,  3.90it/s]"
     ]
    },
    {
     "name": "stdout",
     "output_type": "stream",
     "text": [
      "detected\n",
      "detected\n",
      "detected\n",
      "detected\n",
      "detected\n",
      "detected\n",
      "detected\n",
      "detected\n",
      "detected\n",
      "detected\n",
      "detected\n",
      "detected\n",
      "detected\n",
      "detected\n"
     ]
    },
    {
     "name": "stderr",
     "output_type": "stream",
     "text": [
      "\r",
      " 31%|███▏      | 314/1000 [01:46<02:45,  4.14it/s]"
     ]
    },
    {
     "name": "stdout",
     "output_type": "stream",
     "text": [
      "detected\n",
      "detected\n",
      "detected\n",
      "detected\n",
      "detected\n",
      "detected\n",
      "detected\n",
      "detected\n",
      "detected\n",
      "detected\n",
      "detected\n",
      "detected\n",
      "detected\n",
      "detected\n"
     ]
    },
    {
     "name": "stderr",
     "output_type": "stream",
     "text": [
      " 34%|███▎      | 335/1000 [01:53<02:51,  3.87it/s]"
     ]
    },
    {
     "name": "stdout",
     "output_type": "stream",
     "text": [
      "detected\n",
      "detected\n",
      "detected\n",
      "detected\n",
      "detected\n",
      "detected\n",
      "detected\n",
      "detected\n",
      "detected\n",
      "detected\n",
      "detected\n",
      "detected\n",
      "detected\n",
      "detected\n"
     ]
    },
    {
     "name": "stderr",
     "output_type": "stream",
     "text": [
      " 39%|███▊      | 386/1000 [02:11<02:47,  3.66it/s]"
     ]
    },
    {
     "name": "stdout",
     "output_type": "stream",
     "text": [
      "detected\n",
      "detected\n",
      "detected\n",
      "detected\n",
      "detected\n",
      "detected\n",
      "detected\n",
      "detected\n",
      "detected\n",
      "detected\n",
      "detected\n",
      "detected\n",
      "detected\n",
      "detected\n"
     ]
    },
    {
     "name": "stderr",
     "output_type": "stream",
     "text": [
      " 43%|████▎     | 432/1000 [02:26<02:13,  4.26it/s]"
     ]
    },
    {
     "name": "stdout",
     "output_type": "stream",
     "text": [
      "detected\n",
      "detected\n",
      "detected\n",
      "detected\n",
      "detected\n",
      "detected\n",
      "detected\n",
      "detected\n",
      "detected\n",
      "detected\n",
      "detected\n",
      "detected\n",
      "detected\n",
      "detected\n"
     ]
    },
    {
     "name": "stderr",
     "output_type": "stream",
     "text": [
      " 44%|████▍     | 442/1000 [02:30<02:11,  4.25it/s]"
     ]
    },
    {
     "name": "stdout",
     "output_type": "stream",
     "text": [
      "detected\n",
      "detected\n",
      "detected\n",
      "detected\n",
      "detected\n",
      "detected\n",
      "detected\n",
      "detected\n",
      "detected\n",
      "detected\n",
      "detected\n",
      "detected\n",
      "detected\n",
      "detected\n"
     ]
    },
    {
     "name": "stderr",
     "output_type": "stream",
     "text": [
      " 52%|█████▏    | 522/1000 [02:55<01:48,  4.40it/s]"
     ]
    },
    {
     "name": "stdout",
     "output_type": "stream",
     "text": [
      "detected\n",
      "detected\n",
      "detected\n",
      "detected\n",
      "detected\n",
      "detected\n",
      "detected\n",
      "detected\n",
      "detected\n",
      "detected\n",
      "detected\n",
      "detected\n",
      "detected\n",
      "detected\n"
     ]
    },
    {
     "name": "stderr",
     "output_type": "stream",
     "text": [
      " 52%|█████▎    | 525/1000 [02:56<01:24,  5.64it/s]"
     ]
    },
    {
     "name": "stdout",
     "output_type": "stream",
     "text": [
      "detected\n",
      "detected\n",
      "detected\n",
      "detected\n",
      "detected\n",
      "detected\n",
      "detected\n",
      "detected\n",
      "detected\n",
      "detected\n",
      "detected\n",
      "detected\n",
      "detected\n",
      "detected\n"
     ]
    },
    {
     "name": "stderr",
     "output_type": "stream",
     "text": [
      " 54%|█████▍    | 542/1000 [03:00<02:02,  3.73it/s]"
     ]
    },
    {
     "name": "stdout",
     "output_type": "stream",
     "text": [
      "detected\n",
      "detected\n",
      "detected\n",
      "detected\n",
      "detected\n",
      "detected\n",
      "detected\n",
      "detected\n",
      "detected\n",
      "detected\n",
      "detected\n",
      "detected\n",
      "detected\n",
      "detected\n"
     ]
    },
    {
     "name": "stderr",
     "output_type": "stream",
     "text": [
      " 56%|█████▌    | 555/1000 [03:02<01:29,  5.00it/s]"
     ]
    },
    {
     "name": "stdout",
     "output_type": "stream",
     "text": [
      "detected\n",
      "detected\n",
      "detected\n",
      "detected\n",
      "detected\n",
      "detected\n",
      "detected\n",
      "detected\n",
      "detected\n",
      "detected\n",
      "detected\n",
      "detected\n",
      "detected\n",
      "detected\n"
     ]
    },
    {
     "name": "stderr",
     "output_type": "stream",
     "text": [
      " 57%|█████▋    | 566/1000 [03:05<01:22,  5.26it/s]"
     ]
    },
    {
     "name": "stdout",
     "output_type": "stream",
     "text": [
      "detected\n",
      "detected\n",
      "detected\n",
      "detected\n",
      "detected\n",
      "detected\n",
      "detected\n",
      "detected\n",
      "detected\n",
      "detected\n",
      "detected\n",
      "detected\n",
      "detected\n",
      "detected\n"
     ]
    },
    {
     "name": "stderr",
     "output_type": "stream",
     "text": [
      " 57%|█████▋    | 572/1000 [03:05<00:58,  7.29it/s]"
     ]
    },
    {
     "name": "stdout",
     "output_type": "stream",
     "text": [
      "detected\n",
      "detected\n",
      "detected\n",
      "detected\n",
      "detected\n",
      "detected\n",
      "detected\n",
      "detected\n",
      "detected\n",
      "detected\n",
      "detected\n",
      "detected\n",
      "detected\n",
      "detected\n"
     ]
    },
    {
     "name": "stderr",
     "output_type": "stream",
     "text": [
      " 59%|█████▉    | 589/1000 [03:09<01:05,  6.24it/s]"
     ]
    },
    {
     "name": "stdout",
     "output_type": "stream",
     "text": [
      "detected\n",
      "detected\n",
      "detected\n",
      "detected\n",
      "detected\n",
      "detected\n",
      "detected\n",
      "detected\n",
      "detected\n",
      "detected\n",
      "detected\n",
      "detected\n",
      "detected\n",
      "detected\n"
     ]
    },
    {
     "name": "stderr",
     "output_type": "stream",
     "text": [
      " 62%|██████▏   | 617/1000 [03:16<01:44,  3.68it/s]"
     ]
    },
    {
     "name": "stdout",
     "output_type": "stream",
     "text": [
      "detected\n",
      "detected\n",
      "detected\n",
      "detected\n",
      "detected\n",
      "detected\n",
      "detected\n",
      "detected\n",
      "detected\n",
      "detected\n",
      "detected\n",
      "detected\n",
      "detected\n",
      "detected\n"
     ]
    },
    {
     "name": "stderr",
     "output_type": "stream",
     "text": [
      " 63%|██████▎   | 632/1000 [03:19<01:00,  6.06it/s]"
     ]
    },
    {
     "name": "stdout",
     "output_type": "stream",
     "text": [
      "detected\n",
      "detected\n",
      "detected\n",
      "detected\n",
      "detected\n",
      "detected\n",
      "detected\n",
      "detected\n",
      "detected\n",
      "detected\n",
      "detected\n",
      "detected\n",
      "detected\n",
      "detected\n"
     ]
    },
    {
     "name": "stderr",
     "output_type": "stream",
     "text": [
      " 65%|██████▍   | 648/1000 [03:23<01:55,  3.06it/s]"
     ]
    },
    {
     "name": "stdout",
     "output_type": "stream",
     "text": [
      "detected\n",
      "detected\n",
      "detected\n",
      "detected\n",
      "detected\n",
      "detected\n",
      "detected\n",
      "detected\n",
      "detected\n",
      "detected\n",
      "detected\n",
      "detected\n",
      "detected\n",
      "detected\n"
     ]
    },
    {
     "name": "stderr",
     "output_type": "stream",
     "text": [
      " 68%|██████▊   | 675/1000 [03:28<00:44,  7.33it/s]"
     ]
    },
    {
     "name": "stdout",
     "output_type": "stream",
     "text": [
      "detected\n",
      "detected\n",
      "detected\n",
      "detected\n",
      "detected\n",
      "detected\n",
      "detected\n",
      "detected\n",
      "detected\n",
      "detected\n",
      "detected\n",
      "detected\n",
      "detected\n",
      "detected\n"
     ]
    },
    {
     "name": "stderr",
     "output_type": "stream",
     "text": [
      " 70%|██████▉   | 699/1000 [03:33<00:41,  7.26it/s]"
     ]
    },
    {
     "name": "stdout",
     "output_type": "stream",
     "text": [
      "detected\n",
      "detected\n",
      "detected\n",
      "detected\n",
      "detected\n",
      "detected\n",
      "detected\n",
      "detected\n",
      "detected\n",
      "detected\n",
      "detected\n",
      "detected\n",
      "detected\n",
      "detected\n"
     ]
    },
    {
     "name": "stderr",
     "output_type": "stream",
     "text": [
      " 71%|███████   | 707/1000 [03:35<00:45,  6.40it/s]"
     ]
    },
    {
     "name": "stdout",
     "output_type": "stream",
     "text": [
      "detected\n",
      "detected\n",
      "detected\n",
      "detected\n",
      "detected\n",
      "detected\n",
      "detected\n",
      "detected\n",
      "detected\n",
      "detected\n",
      "detected\n",
      "detected\n",
      "detected\n",
      "detected\n"
     ]
    },
    {
     "name": "stderr",
     "output_type": "stream",
     "text": [
      " 72%|███████▏  | 717/1000 [03:38<00:48,  5.82it/s]"
     ]
    },
    {
     "name": "stdout",
     "output_type": "stream",
     "text": [
      "detected\n",
      "detected\n",
      "detected\n",
      "detected\n",
      "detected\n",
      "detected\n",
      "detected\n",
      "detected\n",
      "detected\n",
      "detected\n",
      "detected\n",
      "detected\n",
      "detected\n",
      "detected\n"
     ]
    },
    {
     "name": "stderr",
     "output_type": "stream",
     "text": [
      " 74%|███████▎  | 737/1000 [03:42<00:47,  5.56it/s]"
     ]
    },
    {
     "name": "stdout",
     "output_type": "stream",
     "text": [
      "detected\n",
      "detected\n",
      "detected\n",
      "detected\n",
      "detected\n",
      "detected\n",
      "detected\n",
      "detected\n",
      "detected\n",
      "detected\n",
      "detected\n",
      "detected\n",
      "detected\n",
      "detected\n"
     ]
    },
    {
     "name": "stderr",
     "output_type": "stream",
     "text": [
      " 74%|███████▍  | 739/1000 [03:43<00:40,  6.44it/s]"
     ]
    },
    {
     "name": "stdout",
     "output_type": "stream",
     "text": [
      "detected\n",
      "detected\n",
      "detected\n",
      "detected\n",
      "detected\n",
      "detected\n",
      "detected\n",
      "detected\n",
      "detected\n",
      "detected\n",
      "detected\n",
      "detected\n",
      "detected\n",
      "detected\n"
     ]
    },
    {
     "name": "stderr",
     "output_type": "stream",
     "text": [
      " 75%|███████▍  | 746/1000 [03:45<01:17,  3.30it/s]"
     ]
    },
    {
     "name": "stdout",
     "output_type": "stream",
     "text": [
      "detected\n",
      "detected\n",
      "detected\n",
      "detected\n",
      "detected\n",
      "detected\n",
      "detected\n",
      "detected\n",
      "detected\n",
      "detected\n",
      "detected\n",
      "detected\n",
      "detected\n",
      "detected\n"
     ]
    },
    {
     "name": "stderr",
     "output_type": "stream",
     "text": [
      "\r",
      " 75%|███████▍  | 747/1000 [03:45<01:09,  3.63it/s]"
     ]
    },
    {
     "name": "stdout",
     "output_type": "stream",
     "text": [
      "detected\n",
      "detected\n",
      "detected\n",
      "detected\n",
      "detected\n",
      "detected\n",
      "detected\n",
      "detected\n",
      "detected\n",
      "detected\n",
      "detected\n",
      "detected\n",
      "detected\n",
      "detected\n"
     ]
    },
    {
     "name": "stderr",
     "output_type": "stream",
     "text": [
      " 78%|███████▊  | 777/1000 [03:56<01:29,  2.48it/s]"
     ]
    },
    {
     "name": "stdout",
     "output_type": "stream",
     "text": [
      "detected\n",
      "detected\n",
      "detected\n",
      "detected\n",
      "detected\n",
      "detected\n",
      "detected\n",
      "detected\n",
      "detected\n",
      "detected\n",
      "detected\n",
      "detected\n",
      "detected\n",
      "detected\n"
     ]
    },
    {
     "name": "stderr",
     "output_type": "stream",
     "text": [
      " 79%|███████▉  | 793/1000 [04:01<00:55,  3.74it/s]"
     ]
    },
    {
     "name": "stdout",
     "output_type": "stream",
     "text": [
      "detected\n",
      "detected\n",
      "detected\n",
      "detected\n",
      "detected\n",
      "detected\n",
      "detected\n",
      "detected\n",
      "detected\n",
      "detected\n",
      "detected\n",
      "detected\n",
      "detected\n",
      "detected\n"
     ]
    },
    {
     "name": "stderr",
     "output_type": "stream",
     "text": [
      " 83%|████████▎ | 830/1000 [04:11<00:46,  3.69it/s]"
     ]
    },
    {
     "name": "stdout",
     "output_type": "stream",
     "text": [
      "detected\n",
      "detected\n",
      "detected\n",
      "detected\n",
      "detected\n",
      "detected\n",
      "detected\n",
      "detected\n",
      "detected\n",
      "detected\n",
      "detected\n",
      "detected\n",
      "detected\n",
      "detected\n"
     ]
    },
    {
     "name": "stderr",
     "output_type": "stream",
     "text": [
      " 84%|████████▍ | 844/1000 [04:13<00:28,  5.43it/s]"
     ]
    },
    {
     "name": "stdout",
     "output_type": "stream",
     "text": [
      "detected\n",
      "detected\n",
      "detected\n",
      "detected\n",
      "detected\n",
      "detected\n",
      "detected\n",
      "detected\n",
      "detected\n",
      "detected\n",
      "detected\n",
      "detected\n",
      "detected\n",
      "detected\n"
     ]
    },
    {
     "name": "stderr",
     "output_type": "stream",
     "text": [
      " 85%|████████▍ | 849/1000 [04:14<00:20,  7.28it/s]"
     ]
    },
    {
     "name": "stdout",
     "output_type": "stream",
     "text": [
      "detected\n",
      "detected\n",
      "detected\n",
      "detected\n",
      "detected\n",
      "detected\n",
      "detected\n",
      "detected\n",
      "detected\n",
      "detected\n",
      "detected\n",
      "detected\n",
      "detected\n",
      "detected\n"
     ]
    },
    {
     "name": "stderr",
     "output_type": "stream",
     "text": [
      " 85%|████████▌ | 853/1000 [04:16<00:34,  4.31it/s]"
     ]
    },
    {
     "name": "stdout",
     "output_type": "stream",
     "text": [
      "detected\n",
      "detected\n",
      "detected\n",
      "detected\n",
      "detected\n",
      "detected\n",
      "detected\n",
      "detected\n",
      "detected\n",
      "detected\n",
      "detected\n",
      "detected\n",
      "detected\n",
      "detected\n"
     ]
    },
    {
     "name": "stderr",
     "output_type": "stream",
     "text": [
      " 87%|████████▋ | 870/1000 [04:19<00:18,  7.07it/s]"
     ]
    },
    {
     "name": "stdout",
     "output_type": "stream",
     "text": [
      "detected\n",
      "detected\n",
      "detected\n",
      "detected\n",
      "detected\n",
      "detected\n",
      "detected\n",
      "detected\n",
      "detected\n",
      "detected\n",
      "detected\n",
      "detected\n",
      "detected\n",
      "detected\n"
     ]
    },
    {
     "name": "stderr",
     "output_type": "stream",
     "text": [
      " 89%|████████▉ | 892/1000 [04:24<00:15,  7.18it/s]"
     ]
    },
    {
     "name": "stdout",
     "output_type": "stream",
     "text": [
      "detected\n",
      "detected\n",
      "detected\n",
      "detected\n",
      "detected\n",
      "detected\n",
      "detected\n",
      "detected\n",
      "detected\n",
      "detected\n",
      "detected\n",
      "detected\n",
      "detected\n",
      "detected\n"
     ]
    },
    {
     "name": "stderr",
     "output_type": "stream",
     "text": [
      " 97%|█████████▋| 973/1000 [04:42<00:04,  6.05it/s]"
     ]
    },
    {
     "name": "stdout",
     "output_type": "stream",
     "text": [
      "detected\n",
      "detected\n",
      "detected\n",
      "detected\n",
      "detected\n",
      "detected\n",
      "detected\n",
      "detected\n",
      "detected\n",
      "detected\n",
      "detected\n",
      "detected\n",
      "detected\n",
      "detected\n"
     ]
    },
    {
     "name": "stderr",
     "output_type": "stream",
     "text": [
      " 99%|█████████▉| 990/1000 [04:46<00:03,  3.18it/s]"
     ]
    },
    {
     "name": "stdout",
     "output_type": "stream",
     "text": [
      "detected\n",
      "detected\n",
      "detected\n",
      "detected\n",
      "detected\n",
      "detected\n",
      "detected\n",
      "detected\n",
      "detected\n",
      "detected\n",
      "detected\n",
      "detected\n",
      "detected\n",
      "detected\n"
     ]
    },
    {
     "name": "stderr",
     "output_type": "stream",
     "text": [
      "100%|██████████| 1000/1000 [04:49<00:00,  3.46it/s]\n"
     ]
    }
   ],
   "source": [
    "n_samples = 1000\n",
    "\n",
    "archs, pca_scores, grad_scores, ntk_scores, lr_scores = search_find_best(train_loader, network, criterion, lrc_model, n_samples)"
   ]
  },
  {
   "cell_type": "code",
   "execution_count": 238,
   "id": "ca428b33",
   "metadata": {
    "scrolled": true
   },
   "outputs": [],
   "source": [
    "%%capture\n",
    "def get_results_from_api(api, arch):\n",
    "    # print(api.query_by_arch(arch, \"200\"))\n",
    "    index = api.query_index_by_arch(arch)\n",
    "#     results = api.query_by_index(index, 'cifar10-valid', '200') # a dict of all trials for 1st net on cifar100, where the key is the seed\n",
    "#     results = api.query_by_index(index, 'cifar100', '200') # a dict of all trials for 1st net on cifar100, where the key is the seed\n",
    "    results = api.query_by_index(index, 'cifar10', '200') # a dict of all trials for 1st net on cifar100, where the key is the seed\n",
    "    \n",
    "    # valid acc\n",
    "    acc = 0\n",
    "    for seed, result in results.items():\n",
    "#         acc = acc + result.get_eval('valid')['accuracy']\n",
    "#         acc = acc + result.get_eval('x-test')['accuracy']\n",
    "        acc = acc + result.get_eval('ori-test')['accuracy']\n",
    "    acc = acc / len(results)\n",
    "    \n",
    "    result = list(results.values())[0]\n",
    "    \n",
    "    return acc, result.flop, result.params\n",
    "\n",
    "api_valid_accs, api_flops, api_params = [], [], []\n",
    "for a in archs:\n",
    "    valid_acc, flops, params = get_results_from_api(api, a)\n",
    "    api_valid_accs.append(valid_acc)\n",
    "    api_flops.append(flops)\n",
    "    api_params.append(params)"
   ]
  },
  {
   "cell_type": "code",
   "execution_count": 205,
   "id": "50fe8372",
   "metadata": {},
   "outputs": [
    {
     "name": "stdout",
     "output_type": "stream",
     "text": [
      "[(('skip_connect', 0),) (('avg_pool_3x3', 0), ('none', 1))\n",
      " (('skip_connect', 0), ('nor_conv_3x3', 1), ('avg_pool_3x3', 2))]\n",
      "87.617 \t -1.172324538230896\n",
      "[(('nor_conv_1x1', 0),) (('avg_pool_3x3', 0), ('avg_pool_3x3', 1))\n",
      " (('skip_connect', 0), ('avg_pool_3x3', 1), ('avg_pool_3x3', 2))]\n",
      "85.027 \t -1.1624749898910522\n",
      "[(('skip_connect', 0),) (('avg_pool_3x3', 0), ('nor_conv_3x3', 1))\n",
      " (('nor_conv_3x3', 0), ('none', 1), ('avg_pool_3x3', 2))]\n",
      "89.813 \t 0.2494206428527832\n",
      "[(('skip_connect', 0),) (('avg_pool_3x3', 0), ('nor_conv_1x1', 1))\n",
      " (('avg_pool_3x3', 0), ('nor_conv_1x1', 1), ('nor_conv_1x1', 2))]\n",
      "89.187 \t 0.2967958450317383\n",
      "[(('none', 0),) (('skip_connect', 0), ('nor_conv_1x1', 1))\n",
      " (('avg_pool_3x3', 0), ('avg_pool_3x3', 1), ('nor_conv_3x3', 2))]\n",
      "91.587 \t 0.376969575881958\n",
      "[(('none', 0),) (('nor_conv_3x3', 0), ('skip_connect', 1))\n",
      " (('avg_pool_3x3', 0), ('skip_connect', 1), ('skip_connect', 2))]\n",
      "91.213 \t 0.49945592880249023\n",
      "[(('none', 0),) (('nor_conv_1x1', 0), ('skip_connect', 1))\n",
      " (('avg_pool_3x3', 0), ('nor_conv_3x3', 1), ('none', 2))]\n",
      "75.497 \t 0.735332727432251\n",
      "[(('nor_conv_1x1', 0),) (('none', 0), ('none', 1))\n",
      " (('none', 0), ('skip_connect', 1), ('none', 2))]\n",
      "88.770 \t 1.2150728702545166\n",
      "[(('none', 0),) (('nor_conv_3x3', 0), ('nor_conv_1x1', 1))\n",
      " (('nor_conv_1x1', 0), ('avg_pool_3x3', 1), ('nor_conv_1x1', 2))]\n",
      "93.380 \t 1.3253536224365234\n",
      "[(('nor_conv_1x1', 0),) (('nor_conv_3x3', 0), ('nor_conv_3x3', 1))\n",
      " (('none', 0), ('skip_connect', 1), ('skip_connect', 2))]\n",
      "92.550 \t 1.366394281387329\n"
     ]
    },
    {
     "name": "stderr",
     "output_type": "stream",
     "text": [
      "<ipython-input-205-4a61ba075066>:4: VisibleDeprecationWarning: Creating an ndarray from ragged nested sequences (which is a list-or-tuple of lists-or-tuples-or ndarrays with different lengths or shapes) is deprecated. If you meant to do this, you must specify 'dtype=object' when creating the ndarray\n",
      "  for a, s, acc in zip(np.array(archs)[sorted_indices], np.array(pca_scores)[sorted_indices], np.array(api_valid_accs)[sorted_indices]):\n"
     ]
    }
   ],
   "source": [
    "# sorted_indices = np.argsort(api_valid_accs)\n",
    "# sorted_indices = np.argsort(pca_scores)\n",
    "\n",
    "# for a, s, acc in zip(np.array(archs)[sorted_indices], np.array(pca_scores)[sorted_indices], np.array(api_valid_accs)[sorted_indices]):\n",
    "#     print(a)\n",
    "#     print(\"{:.3f}\".format(acc), '\\t', s)"
   ]
  },
  {
   "cell_type": "markdown",
   "id": "bd152cc4",
   "metadata": {},
   "source": [
    "# Analysis"
   ]
  },
  {
   "cell_type": "code",
   "execution_count": 246,
   "id": "63b4c375",
   "metadata": {},
   "outputs": [
    {
     "name": "stdout",
     "output_type": "stream",
     "text": [
      "RANDOM-NAS finds the best one : Structure(4 nodes with |nor_conv_3x3~0|+|nor_conv_1x1~0|nor_conv_3x3~1|+|nor_conv_3x3~0|nor_conv_3x3~1|skip_connect~2|) with ntk_score=-inf, lr_score=-inf\n",
      "153.27297 1.073466\n",
      "\n",
      "\n",
      "\n",
      "Call query_info_str_by_arch with arch=Structure(4 nodes with |nor_conv_3x3~0|+|nor_conv_1x1~0|nor_conv_3x3~1|+|nor_conv_3x3~0|nor_conv_3x3~1|skip_connect~2|) and hp=200\n",
      "Call query_index_by_arch with arch=Structure(4 nodes with |nor_conv_3x3~0|+|nor_conv_1x1~0|nor_conv_3x3~1|+|nor_conv_3x3~0|nor_conv_3x3~1|skip_connect~2|)\n",
      "|nor_conv_3x3~0|+|nor_conv_1x1~0|nor_conv_3x3~1|+|nor_conv_3x3~0|nor_conv_3x3~1|skip_connect~2|\n",
      "datasets : ['cifar10-valid', 'cifar10', 'cifar100', 'ImageNet16-120'], extra-info : arch-index=873\n",
      "cifar10-valid  FLOP=153.27 M, Params=1.073 MB, latency=20.97 ms.\n",
      "cifar10-valid  train : [loss = 0.002, top1 = 99.98%], valid : [loss = 0.510, top1 = 89.92%]\n",
      "cifar10        FLOP=153.27 M, Params=1.073 MB, latency=20.97 ms.\n",
      "cifar10        train : [loss = 0.003, top1 = 99.96%], test  : [loss = 0.302, top1 = 93.74%]\n",
      "cifar100       FLOP=153.28 M, Params=1.079 MB, latency=21.46 ms.\n",
      "cifar100       train : [loss = 0.070, top1 = 98.97%], valid : [loss = 1.315, top1 = 70.13%], test : [loss = 1.333, top1 = 70.16%]\n",
      "ImageNet16-120 FLOP= 38.33 M, Params=1.081 MB, latency=20.96 ms.\n",
      "ImageNet16-120 train : [loss = 1.779, top1 = 52.74%], valid : [loss = 2.233, top1 = 42.89%], test : [loss = 2.236, top1 = 42.74%]\n"
     ]
    },
    {
     "data": {
      "image/png": "[encoded data removed]",
      "text/plain": [
       "<Figure size 432x288 with 1 Axes>"
      ]
     },
     "metadata": {
      "needs_background": "light"
     },
     "output_type": "display_data"
    },
    {
     "name": "stdout",
     "output_type": "stream",
     "text": [
      "0.7250762491729562 4.88646927227123e-258\n"
     ]
    }
   ],
   "source": [
    "rank_pca, rank_grad, rank_ntk, rank_lr, rank_flops, rank_params = \\\n",
    "stats.rankdata(pca_scores), stats.rankdata(grad_scores), stats.rankdata(ntk_scores), stats.rankdata(lr_scores), stats.rankdata(api_flops), stats.rankdata(api_params)\n",
    "\n",
    "###\n",
    "# tmp = -np.abs(1.5-np.array(grad_scores))\n",
    "# rank_grad = stats.rankdata(tmp)\n",
    "###\n",
    "\n",
    "l = len(api_valid_accs)\n",
    "rank_agg = rank_pca + rank_grad + rank_params\n",
    "rank_agg = np.log(rank_pca/l) + np.log(rank_grad/l) + np.log(rank_params/l)\n",
    "# rank_agg = np.log(rank_pca/l) + np.log(rank_grad/l) + np.log(rank_ntk/l) + np.log(rank_lr/l) + np.log(rank_params/l)\n",
    "\n",
    "best_idx = np.argmax(rank_agg)\n",
    "best_arch, best_ntk_score, best_lr_score, flops, params = archs[best_idx], ntk_scores[best_idx], lr_scores[best_idx], api_flops[best_idx], api_params[best_idx]\n",
    "\n",
    "print(\"RANDOM-NAS finds the best one : {:} with ntk_score={:}, lr_score={:}\".format(best_arch, best_ntk_score, best_lr_score))\n",
    "print(flops, params)\n",
    "print(\"\\n\\n\")\n",
    "if api is not None:\n",
    "    print(\"{:}\".format(api.query_by_arch(best_arch, \"200\")))\n",
    "\n",
    "x = stats.rankdata(rank_agg)\n",
    "# x = np.array(grad_scores)\n",
    "# plt.xlim([-0.2,0])\n",
    "y = stats.rankdata(api_valid_accs)\n",
    "# y = api_valid_accs\n",
    "plt.scatter(x, y)\n",
    "plt.scatter(x[best_idx], y[best_idx], c=\"r\", linewidths=4)\n",
    "plt.title(\"rank_agg\")\n",
    "plt.show()\n",
    "tau, p_value = stats.kendalltau(x, y)\n",
    "print(tau, p_value)"
   ]
  },
  {
   "cell_type": "code",
   "execution_count": 117,
   "id": "2429f4d0",
   "metadata": {
    "scrolled": true
   },
   "outputs": [
    {
     "name": "stdout",
     "output_type": "stream",
     "text": [
      "[(('skip_connect', 0),) (('skip_connect', 0), ('none', 1))\n",
      " (('skip_connect', 0), ('avg_pool_3x3', 1), ('skip_connect', 2))]\n",
      "68.143 \t -2.522116430103779\n",
      "[(('skip_connect', 0),) (('none', 0), ('avg_pool_3x3', 1))\n",
      " (('avg_pool_3x3', 0), ('avg_pool_3x3', 1), ('skip_connect', 2))]\n",
      "58.777 \t -2.492975982837379\n",
      "[(('skip_connect', 0),) (('skip_connect', 0), ('skip_connect', 1))\n",
      " (('nor_conv_3x3', 0), ('skip_connect', 1), ('avg_pool_3x3', 2))]\n",
      "79.833 \t -2.4226902313530445\n",
      "[(('skip_connect', 0),) (('skip_connect', 0), ('skip_connect', 1))\n",
      " (('nor_conv_1x1', 0), ('avg_pool_3x3', 1), ('skip_connect', 2))]\n",
      "79.330 \t -2.41764610260725\n",
      "[(('avg_pool_3x3', 0),) (('nor_conv_3x3', 0), ('skip_connect', 1))\n",
      " (('avg_pool_3x3', 0), ('none', 1), ('none', 2))]\n",
      "75.830 \t -2.0753073519445024\n",
      "[(('none', 0),) (('avg_pool_3x3', 0), ('nor_conv_3x3', 1))\n",
      " (('avg_pool_3x3', 0), ('nor_conv_3x3', 1), ('none', 2))]\n",
      "75.615 \t -1.6011881113226991\n",
      "[(('none', 0),) (('none', 0), ('nor_conv_1x1', 1))\n",
      " (('none', 0), ('none', 1), ('none', 2))]\n",
      "10.000 \t -1.0\n",
      "[(('none', 0),) (('none', 0), ('skip_connect', 1))\n",
      " (('skip_connect', 0), ('nor_conv_3x3', 1), ('nor_conv_3x3', 2))]\n",
      "86.410 \t -0.8983452310785651\n",
      "[(('avg_pool_3x3', 0),) (('nor_conv_1x1', 0), ('nor_conv_3x3', 1))\n",
      " (('skip_connect', 0), ('none', 1), ('none', 2))]\n",
      "86.110 \t -0.8977421224117279\n",
      "[(('none', 0),) (('nor_conv_3x3', 0), ('none', 1))\n",
      " (('skip_connect', 0), ('nor_conv_1x1', 1), ('none', 2))]\n",
      "86.555 \t -0.8971426235511899\n",
      "[(('skip_connect', 0),) (('nor_conv_1x1', 0), ('none', 1))\n",
      " (('avg_pool_3x3', 0), ('avg_pool_3x3', 1), ('avg_pool_3x3', 2))]\n",
      "85.610 \t -0.6697319820523262\n",
      "[(('nor_conv_1x1', 0),) (('skip_connect', 0), ('nor_conv_3x3', 1))\n",
      " (('skip_connect', 0), ('avg_pool_3x3', 1), ('avg_pool_3x3', 2))]\n",
      "88.713 \t -0.6462596813216805\n",
      "[(('avg_pool_3x3', 0),) (('avg_pool_3x3', 0), ('avg_pool_3x3', 1))\n",
      " (('skip_connect', 0), ('skip_connect', 1), ('nor_conv_3x3', 2))]\n",
      "86.640 \t -0.6367638194933534\n",
      "[(('skip_connect', 0),) (('nor_conv_1x1', 0), ('avg_pool_3x3', 1))\n",
      " (('avg_pool_3x3', 0), ('avg_pool_3x3', 1), ('nor_conv_3x3', 2))]\n",
      "87.427 \t -0.6027520671486855\n",
      "[(('nor_conv_1x1', 0),) (('skip_connect', 0), ('avg_pool_3x3', 1))\n",
      " (('avg_pool_3x3', 0), ('none', 1), ('skip_connect', 2))]\n",
      "86.870 \t -0.6009546602144837\n",
      "[(('avg_pool_3x3', 0),) (('none', 0), ('none', 1))\n",
      " (('avg_pool_3x3', 0), ('skip_connect', 1), ('none', 2))]\n",
      "73.825 \t -0.5990393189713359\n",
      "[(('skip_connect', 0),) (('avg_pool_3x3', 0), ('nor_conv_3x3', 1))\n",
      " (('skip_connect', 0), ('nor_conv_1x1', 1), ('skip_connect', 2))]\n",
      "87.873 \t -0.5827965028584003\n",
      "[(('nor_conv_3x3', 0),) (('avg_pool_3x3', 0), ('none', 1))\n",
      " (('avg_pool_3x3', 0), ('skip_connect', 1), ('skip_connect', 2))]\n",
      "87.755 \t -0.5822126874700189\n",
      "[(('avg_pool_3x3', 0),) (('avg_pool_3x3', 0), ('nor_conv_3x3', 1))\n",
      " (('skip_connect', 0), ('avg_pool_3x3', 1), ('nor_conv_3x3', 2))]\n",
      "84.540 \t -0.5734318429604173\n",
      "[(('skip_connect', 0),) (('skip_connect', 0), ('avg_pool_3x3', 1))\n",
      " (('nor_conv_1x1', 0), ('nor_conv_3x3', 1), ('skip_connect', 2))]\n",
      "87.717 \t -0.5665316339582205\n",
      "[(('nor_conv_3x3', 0),) (('avg_pool_3x3', 0), ('avg_pool_3x3', 1))\n",
      " (('none', 0), ('none', 1), ('skip_connect', 2))]\n",
      "88.933 \t -0.13728091406301246\n",
      "[(('none', 0),) (('nor_conv_1x1', 0), ('skip_connect', 1))\n",
      " (('avg_pool_3x3', 0), ('nor_conv_3x3', 1), ('avg_pool_3x3', 2))]\n",
      "87.305 \t -0.13121718013556105\n",
      "[(('nor_conv_3x3', 0),) (('nor_conv_1x1', 0), ('avg_pool_3x3', 1))\n",
      " (('avg_pool_3x3', 0), ('skip_connect', 1), ('avg_pool_3x3', 2))]\n",
      "90.020 \t -0.10558033090728713\n",
      "[(('nor_conv_3x3', 0),) (('nor_conv_3x3', 0), ('skip_connect', 1))\n",
      " (('nor_conv_3x3', 0), ('avg_pool_3x3', 1), ('avg_pool_3x3', 2))]\n",
      "91.990 \t -0.09614726298150345\n",
      "[(('avg_pool_3x3', 0),) (('nor_conv_1x1', 0), ('nor_conv_3x3', 1))\n",
      " (('avg_pool_3x3', 0), ('nor_conv_3x3', 1), ('skip_connect', 2))]\n",
      "89.940 \t -0.08398346780450083\n",
      "[(('nor_conv_3x3', 0),) (('nor_conv_3x3', 0), ('avg_pool_3x3', 1))\n",
      " (('skip_connect', 0), ('avg_pool_3x3', 1), ('avg_pool_3x3', 2))]\n",
      "91.040 \t -0.08362970407506509\n",
      "[(('nor_conv_3x3', 0),) (('avg_pool_3x3', 0), ('none', 1))\n",
      " (('avg_pool_3x3', 0), ('skip_connect', 1), ('nor_conv_1x1', 2))]\n",
      "91.090 \t -0.0819573352309817\n",
      "[(('avg_pool_3x3', 0),) (('none', 0), ('avg_pool_3x3', 1))\n",
      " (('nor_conv_3x3', 0), ('nor_conv_1x1', 1), ('avg_pool_3x3', 2))]\n",
      "90.135 \t -0.07981316667428473\n",
      "[(('avg_pool_3x3', 0),) (('none', 0), ('none', 1))\n",
      " (('avg_pool_3x3', 0), ('nor_conv_1x1', 1), ('nor_conv_3x3', 2))]\n",
      "82.690 \t -0.07786316371414159\n",
      "[(('avg_pool_3x3', 0),) (('skip_connect', 0), ('skip_connect', 1))\n",
      " (('avg_pool_3x3', 0), ('nor_conv_3x3', 1), ('none', 2))]\n",
      "84.920 \t -0.0725294943431436\n",
      "[(('nor_conv_3x3', 0),) (('avg_pool_3x3', 0), ('avg_pool_3x3', 1))\n",
      " (('nor_conv_1x1', 0), ('none', 1), ('avg_pool_3x3', 2))]\n",
      "88.960 \t -0.07199840949715508\n",
      "[(('nor_conv_1x1', 0),) (('nor_conv_1x1', 0), ('avg_pool_3x3', 1))\n",
      " (('avg_pool_3x3', 0), ('nor_conv_3x3', 1), ('skip_connect', 2))]\n",
      "91.583 \t -0.07058089397560252\n",
      "[(('nor_conv_3x3', 0),) (('nor_conv_1x1', 0), ('avg_pool_3x3', 1))\n",
      " (('nor_conv_3x3', 0), ('avg_pool_3x3', 1), ('skip_connect', 2))]\n",
      "92.100 \t -0.06955914983063849\n",
      "[(('skip_connect', 0),) (('avg_pool_3x3', 0), ('nor_conv_3x3', 1))\n",
      " (('none', 0), ('avg_pool_3x3', 1), ('nor_conv_3x3', 2))]\n",
      "91.237 \t -0.06855374530096014\n",
      "[(('avg_pool_3x3', 0),) (('skip_connect', 0), ('none', 1))\n",
      " (('none', 0), ('nor_conv_1x1', 1), ('skip_connect', 2))]\n",
      "88.670 \t -0.06499355714549893\n",
      "[(('skip_connect', 0),) (('none', 0), ('skip_connect', 1))\n",
      " (('avg_pool_3x3', 0), ('nor_conv_3x3', 1), ('nor_conv_1x1', 2))]\n",
      "91.347 \t -0.06348872221133206\n",
      "[(('nor_conv_3x3', 0),) (('skip_connect', 0), ('avg_pool_3x3', 1))\n",
      " (('avg_pool_3x3', 0), ('nor_conv_1x1', 1), ('nor_conv_1x1', 2))]\n",
      "92.410 \t -0.06284872386106599\n",
      "[(('nor_conv_1x1', 0),) (('nor_conv_3x3', 0), ('nor_conv_1x1', 1))\n",
      " (('avg_pool_3x3', 0), ('skip_connect', 1), ('skip_connect', 2))]\n",
      "91.345 \t -0.059617916316256014\n",
      "[(('nor_conv_3x3', 0),) (('nor_conv_3x3', 0), ('skip_connect', 1))\n",
      " (('none', 0), ('nor_conv_1x1', 1), ('avg_pool_3x3', 2))]\n",
      "91.810 \t -0.0594838857450668\n",
      "[(('avg_pool_3x3', 0),) (('avg_pool_3x3', 0), ('nor_conv_3x3', 1))\n",
      " (('nor_conv_3x3', 0), ('none', 1), ('nor_conv_1x1', 2))]\n",
      "92.180 \t -0.05639275404109867\n",
      "[(('avg_pool_3x3', 0),) (('nor_conv_3x3', 0), ('nor_conv_1x1', 1))\n",
      " (('nor_conv_3x3', 0), ('avg_pool_3x3', 1), ('none', 2))]\n",
      "90.037 \t -0.05577125193667598\n",
      "[(('skip_connect', 0),) (('none', 0), ('skip_connect', 1))\n",
      " (('none', 0), ('avg_pool_3x3', 1), ('nor_conv_1x1', 2))]\n",
      "89.053 \t -0.05534488226294343\n",
      "[(('nor_conv_3x3', 0),) (('nor_conv_1x1', 0), ('nor_conv_1x1', 1))\n",
      " (('avg_pool_3x3', 0), ('nor_conv_1x1', 1), ('nor_conv_1x1', 2))]\n",
      "92.820 \t -0.054060993705206783\n",
      "[(('nor_conv_3x3', 0),) (('nor_conv_1x1', 0), ('none', 1))\n",
      " (('avg_pool_3x3', 0), ('nor_conv_1x1', 1), ('nor_conv_3x3', 2))]\n",
      "93.125 \t -0.05309953713640425\n",
      "[(('nor_conv_3x3', 0),) (('avg_pool_3x3', 0), ('none', 1))\n",
      " (('nor_conv_1x1', 0), ('nor_conv_1x1', 1), ('nor_conv_3x3', 2))]\n",
      "93.040 \t -0.05248046566703124\n",
      "[(('skip_connect', 0),) (('nor_conv_3x3', 0), ('nor_conv_3x3', 1))\n",
      " (('none', 0), ('avg_pool_3x3', 1), ('skip_connect', 2))]\n",
      "91.313 \t -0.05007438355823979\n",
      "[(('nor_conv_1x1', 0),) (('nor_conv_3x3', 0), ('avg_pool_3x3', 1))\n",
      " (('skip_connect', 0), ('avg_pool_3x3', 1), ('nor_conv_1x1', 2))]\n",
      "93.160 \t -0.04822713173052762\n",
      "[(('nor_conv_3x3', 0),) (('none', 0), ('avg_pool_3x3', 1))\n",
      " (('nor_conv_3x3', 0), ('nor_conv_1x1', 1), ('nor_conv_1x1', 2))]\n",
      "92.877 \t -0.04550996001853491\n",
      "[(('nor_conv_3x3', 0),) (('skip_connect', 0), ('none', 1))\n",
      " (('none', 0), ('avg_pool_3x3', 1), ('nor_conv_1x1', 2))]\n",
      "91.520 \t -0.043144482835487\n",
      "[(('nor_conv_3x3', 0),) (('nor_conv_1x1', 0), ('avg_pool_3x3', 1))\n",
      " (('nor_conv_3x3', 0), ('avg_pool_3x3', 1), ('none', 2))]\n",
      "91.895 \t -0.042688824971264694\n",
      "[(('nor_conv_3x3', 0),) (('nor_conv_3x3', 0), ('none', 1))\n",
      " (('none', 0), ('nor_conv_1x1', 1), ('avg_pool_3x3', 2))]\n",
      "92.270 \t -0.0403955660876818\n",
      "[(('nor_conv_1x1', 0),) (('nor_conv_3x3', 0), ('nor_conv_3x3', 1))\n",
      " (('skip_connect', 0), ('skip_connect', 1), ('nor_conv_1x1', 2))]\n",
      "93.757 \t -0.039252066519111395\n",
      "[(('skip_connect', 0),) (('nor_conv_1x1', 0), ('avg_pool_3x3', 1))\n",
      " (('nor_conv_1x1', 0), ('nor_conv_3x3', 1), ('nor_conv_1x1', 2))]\n",
      "92.353 \t -0.037015383929428936\n",
      "[(('nor_conv_3x3', 0),) (('nor_conv_3x3', 0), ('avg_pool_3x3', 1))\n",
      " (('none', 0), ('nor_conv_1x1', 1), ('nor_conv_1x1', 2))]\n",
      "92.290 \t -0.035951391229900764\n",
      "[(('nor_conv_3x3', 0),) (('nor_conv_3x3', 0), ('nor_conv_1x1', 1))\n",
      " (('nor_conv_1x1', 0), ('avg_pool_3x3', 1), ('nor_conv_3x3', 2))]\n",
      "93.415 \t -0.03407087170489831\n",
      "[(('nor_conv_1x1', 0),) (('nor_conv_3x3', 0), ('avg_pool_3x3', 1))\n",
      " (('nor_conv_1x1', 0), ('none', 1), ('none', 2))]\n",
      "88.910 \t -0.032783360798930516\n",
      "[(('nor_conv_3x3', 0),) (('nor_conv_1x1', 0), ('none', 1))\n",
      " (('skip_connect', 0), ('nor_conv_3x3', 1), ('skip_connect', 2))]\n",
      "93.703 \t -0.032586642540991306\n",
      "[(('nor_conv_3x3', 0),) (('nor_conv_3x3', 0), ('avg_pool_3x3', 1))\n",
      " (('none', 0), ('nor_conv_1x1', 1), ('nor_conv_1x1', 2))]\n",
      "92.290 \t -0.03188756906024537\n",
      "[(('skip_connect', 0),) (('none', 0), ('nor_conv_1x1', 1))\n",
      " (('none', 0), ('nor_conv_3x3', 1), ('nor_conv_1x1', 2))]\n",
      "92.113 \t -0.031521145342594536\n",
      "[(('nor_conv_3x3', 0),) (('nor_conv_1x1', 0), ('nor_conv_3x3', 1))\n",
      " (('nor_conv_1x1', 0), ('nor_conv_3x3', 1), ('none', 2))]\n",
      "93.067 \t -0.03136786293202931\n",
      "[(('nor_conv_3x3', 0),) (('nor_conv_1x1', 0), ('nor_conv_1x1', 1))\n",
      " (('nor_conv_1x1', 0), ('none', 1), ('nor_conv_1x1', 2))]\n",
      "92.320 \t -0.030624367407654063\n",
      "[(('nor_conv_3x3', 0),) (('nor_conv_1x1', 0), ('nor_conv_1x1', 1))\n",
      " (('none', 0), ('none', 1), ('skip_connect', 2))]\n",
      "92.570 \t -0.03023036027661874\n",
      "[(('skip_connect', 0),) (('nor_conv_3x3', 0), ('skip_connect', 1))\n",
      " (('nor_conv_3x3', 0), ('skip_connect', 1), ('nor_conv_1x1', 2))]\n",
      "93.040 \t -0.029904584647738375\n",
      "[(('nor_conv_1x1', 0),) (('none', 0), ('skip_connect', 1))\n",
      " (('nor_conv_3x3', 0), ('nor_conv_1x1', 1), ('nor_conv_1x1', 2))]\n",
      "92.310 \t -0.029884418152505532\n",
      "[(('nor_conv_1x1', 0),) (('skip_connect', 0), ('avg_pool_3x3', 1))\n",
      " (('skip_connect', 0), ('skip_connect', 1), ('nor_conv_3x3', 2))]\n",
      "91.900 \t -0.029840096045518294\n",
      "[(('none', 0),) (('nor_conv_3x3', 0), ('none', 1))\n",
      " (('nor_conv_1x1', 0), ('none', 1), ('nor_conv_1x1', 2))]\n",
      "92.835 \t -0.029564599471086694\n",
      "[(('nor_conv_1x1', 0),) (('none', 0), ('none', 1))\n",
      " (('nor_conv_3x3', 0), ('nor_conv_1x1', 1), ('nor_conv_1x1', 2))]\n",
      "92.147 \t -0.02944656039471738\n",
      "[(('nor_conv_3x3', 0),) (('none', 0), ('nor_conv_1x1', 1))\n",
      " (('nor_conv_3x3', 0), ('nor_conv_3x3', 1), ('nor_conv_3x3', 2))]\n",
      "93.213 \t -0.029004161937336903\n",
      "[(('nor_conv_1x1', 0),) (('nor_conv_3x3', 0), ('nor_conv_3x3', 1))\n",
      " (('nor_conv_1x1', 0), ('skip_connect', 1), ('nor_conv_1x1', 2))]\n",
      "92.810 \t -0.028702478703053202\n",
      "[(('nor_conv_1x1', 0),) (('nor_conv_1x1', 0), ('none', 1))\n",
      " (('skip_connect', 0), ('none', 1), ('skip_connect', 2))]\n",
      "89.470 \t -0.028157971435575746\n",
      "[(('nor_conv_1x1', 0),) (('nor_conv_1x1', 0), ('skip_connect', 1))\n",
      " (('none', 0), ('none', 1), ('nor_conv_3x3', 2))]\n",
      "91.060 \t -0.027772810825240413\n",
      "[(('nor_conv_1x1', 0),) (('nor_conv_3x3', 0), ('none', 1))\n",
      " (('nor_conv_3x3', 0), ('none', 1), ('nor_conv_1x1', 2))]\n",
      "92.930 \t -0.02761993627427728\n",
      "[(('nor_conv_3x3', 0),) (('none', 0), ('nor_conv_3x3', 1))\n",
      " (('nor_conv_3x3', 0), ('nor_conv_1x1', 1), ('nor_conv_1x1', 2))]\n",
      "93.330 \t -0.0274368862483243\n",
      "[(('nor_conv_3x3', 0),) (('skip_connect', 0), ('none', 1))\n",
      " (('skip_connect', 0), ('skip_connect', 1), ('nor_conv_1x1', 2))]\n",
      "92.310 \t -0.027264498276053928\n",
      "[(('nor_conv_3x3', 0),) (('nor_conv_1x1', 0), ('nor_conv_3x3', 1))\n",
      " (('none', 0), ('skip_connect', 1), ('skip_connect', 2))]\n",
      "92.817 \t -0.027242669657425722\n",
      "[(('nor_conv_1x1', 0),) (('skip_connect', 0), ('nor_conv_3x3', 1))\n",
      " (('nor_conv_1x1', 0), ('none', 1), ('none', 2))]\n",
      "88.895 \t -0.02719318949675653\n",
      "[(('none', 0),) (('nor_conv_3x3', 0), ('nor_conv_1x1', 1))\n",
      " (('none', 0), ('nor_conv_1x1', 1), ('nor_conv_1x1', 2))]\n",
      "91.020 \t -0.027142948449636606\n",
      "[(('nor_conv_3x3', 0),) (('nor_conv_1x1', 0), ('none', 1))\n",
      " (('nor_conv_3x3', 0), ('nor_conv_1x1', 1), ('nor_conv_1x1', 2))]\n",
      "93.310 \t -0.02713599461458216\n",
      "[(('nor_conv_1x1', 0),) (('none', 0), ('nor_conv_1x1', 1))\n",
      " (('nor_conv_3x3', 0), ('skip_connect', 1), ('nor_conv_3x3', 2))]\n",
      "92.433 \t -0.02702807639434468\n",
      "[(('none', 0),) (('skip_connect', 0), ('nor_conv_3x3', 1))\n",
      " (('nor_conv_3x3', 0), ('avg_pool_3x3', 1), ('nor_conv_3x3', 2))]\n",
      "92.400 \t -0.026964844501890184\n",
      "[(('skip_connect', 0),) (('none', 0), ('none', 1))\n",
      " (('skip_connect', 0), ('nor_conv_1x1', 1), ('avg_pool_3x3', 2))]\n",
      "89.560 \t -0.0269567725044908\n",
      "[(('nor_conv_1x1', 0),) (('skip_connect', 0), ('avg_pool_3x3', 1))\n",
      " (('skip_connect', 0), ('skip_connect', 1), ('nor_conv_3x3', 2))]\n",
      "91.900 \t -0.026630662439856678\n",
      "[(('nor_conv_1x1', 0),) (('skip_connect', 0), ('skip_connect', 1))\n",
      " (('nor_conv_3x3', 0), ('nor_conv_1x1', 1), ('nor_conv_3x3', 2))]\n",
      "92.650 \t -0.026363130991740036\n",
      "[(('skip_connect', 0),) (('skip_connect', 0), ('nor_conv_3x3', 1))\n",
      " (('none', 0), ('nor_conv_1x1', 1), ('nor_conv_1x1', 2))]\n",
      "92.053 \t -0.026066477697895607\n",
      "[(('none', 0),) (('nor_conv_3x3', 0), ('nor_conv_1x1', 1))\n",
      " (('nor_conv_3x3', 0), ('nor_conv_3x3', 1), ('skip_connect', 2))]\n",
      "92.155 \t -0.025993188141001156\n",
      "[(('none', 0),) (('none', 0), ('nor_conv_1x1', 1))\n",
      " (('nor_conv_1x1', 0), ('skip_connect', 1), ('skip_connect', 2))]\n",
      "88.877 \t -0.025830027305346448\n",
      "[(('none', 0),) (('skip_connect', 0), ('skip_connect', 1))\n",
      " (('nor_conv_3x3', 0), ('nor_conv_3x3', 1), ('nor_conv_1x1', 2))]\n",
      "92.100 \t -0.025677563852241292\n",
      "[(('skip_connect', 0),) (('avg_pool_3x3', 0), ('nor_conv_3x3', 1))\n",
      " (('nor_conv_3x3', 0), ('none', 1), ('none', 2))]\n",
      "92.047 \t -0.02546996819546621\n",
      "[(('none', 0),) (('none', 0), ('skip_connect', 1))\n",
      " (('nor_conv_3x3', 0), ('skip_connect', 1), ('nor_conv_3x3', 2))]\n",
      "92.113 \t -0.02541030382963072\n",
      "[(('skip_connect', 0),) (('nor_conv_3x3', 0), ('nor_conv_1x1', 1))\n",
      " (('nor_conv_3x3', 0), ('nor_conv_3x3', 1), ('nor_conv_1x1', 2))]\n",
      "93.113 \t -0.025350940182761406\n",
      "[(('nor_conv_1x1', 0),) (('nor_conv_3x3', 0), ('nor_conv_3x3', 1))\n",
      " (('nor_conv_3x3', 0), ('nor_conv_3x3', 1), ('none', 2))]\n",
      "92.633 \t -0.025244941225537332\n",
      "[(('nor_conv_1x1', 0),) (('skip_connect', 0), ('none', 1))\n",
      " (('nor_conv_1x1', 0), ('none', 1), ('nor_conv_3x3', 2))]\n",
      "92.243 \t -0.025161438521536184\n",
      "[(('skip_connect', 0),) (('none', 0), ('none', 1))\n",
      " (('nor_conv_3x3', 0), ('skip_connect', 1), ('nor_conv_3x3', 2))]\n",
      "91.957 \t -0.02497025960474275\n",
      "[(('none', 0),) (('nor_conv_1x1', 0), ('avg_pool_3x3', 1))\n",
      " (('skip_connect', 0), ('none', 1), ('skip_connect', 2))]\n",
      "89.535 \t -0.024672014042153023\n",
      "[(('none', 0),) (('avg_pool_3x3', 0), ('skip_connect', 1))\n",
      " (('nor_conv_3x3', 0), ('nor_conv_1x1', 1), ('none', 2))]\n",
      "92.037 \t -0.02451248677567719\n",
      "[(('nor_conv_3x3', 0),) (('skip_connect', 0), ('skip_connect', 1))\n",
      " (('nor_conv_1x1', 0), ('nor_conv_3x3', 1), ('nor_conv_3x3', 2))]\n",
      "93.435 \t -0.024164139264030382\n",
      "[(('avg_pool_3x3', 0),) (('skip_connect', 0), ('none', 1))\n",
      " (('none', 0), ('none', 1), ('nor_conv_3x3', 2))]\n",
      "92.100 \t -0.024049084991844438\n",
      "[(('none', 0),) (('none', 0), ('nor_conv_1x1', 1))\n",
      " (('nor_conv_3x3', 0), ('nor_conv_3x3', 1), ('nor_conv_1x1', 2))]\n",
      "92.095 \t -0.024015677098304877\n",
      "[(('none', 0),) (('skip_connect', 0), ('skip_connect', 1))\n",
      " (('skip_connect', 0), ('nor_conv_1x1', 1), ('nor_conv_3x3', 2))]\n",
      "91.940 \t -0.02401211684627924\n",
      "[(('skip_connect', 0),) (('skip_connect', 0), ('skip_connect', 1))\n",
      " (('none', 0), ('none', 1), ('nor_conv_3x3', 2))]\n",
      "91.863 \t -0.02287614272427163\n"
     ]
    },
    {
     "name": "stderr",
     "output_type": "stream",
     "text": [
      "<ipython-input-117-afcd6e867ef8>:4: VisibleDeprecationWarning: Creating an ndarray from ragged nested sequences (which is a list-or-tuple of lists-or-tuples-or ndarrays with different lengths or shapes) is deprecated. If you meant to do this, you must specify 'dtype=object' when creating the ndarray\n",
      "  for a, s, acc in zip(np.array(archs)[sorted_indices], np.array(grad_scores)[sorted_indices], np.array(api_valid_accs)[sorted_indices]):\n"
     ]
    }
   ],
   "source": [
    "sorted_indices = np.argsort(api_valid_accs)\n",
    "sorted_indices = np.argsort(grad_scores)\n",
    "\n",
    "for a, s, acc in zip(np.array(archs)[sorted_indices], np.array(grad_scores)[sorted_indices], np.array(api_valid_accs)[sorted_indices]):\n",
    "    print(a)\n",
    "    print(\"{:.3f}\".format(acc), '\\t', s)"
   ]
  },
  {
   "cell_type": "code",
   "execution_count": 10,
   "id": "7427f014",
   "metadata": {},
   "outputs": [],
   "source": [
    "# fp_results = torch.load(\"./c3n1_1000samples.pth\")\n",
    "# archs = fp_results['archs']\n",
    "# fp_ntk_scores = fp_results['ntk_scores']\n",
    "# fp_lr_scores = fp_results['lr_scores']\n",
    "# api_valid_accs = fp_results['api_valid_accs']\n",
    "# api_flops = fp_results['api_flops']\n",
    "# api_params = fp_results['api_params']\n",
    "\n",
    "# torch.save({\"archs\":archs,\n",
    "#             \"ntk_scores\":ntk_scores,\n",
    "#             \"pca_scores\":pca_scores,\n",
    "#             \"lr_scores\":lr_scores,\n",
    "#             \"api_valid_accs\":api_valid_accs,\n",
    "#             \"api_flops\":api_flops,\n",
    "#             \"api_params\":api_params,\n",
    "#            },\"./c3n5_1000samples_32_8_4_2.pth\")\n",
    "\n",
    "# torch.save({\"archs\":archs,\n",
    "#             \"fp_ntk_scores\":fp_ntk_scores,\n",
    "#             \"fp_lr_scores\":fp_lr_scores,\n",
    "#             \"q_ntk_scores\":q_ntk_scores,\n",
    "#             \"q_lr_scores\":q_lr_scores,\n",
    "#             \"api_valid_accs\":api_valid_accs,\n",
    "#             \"api_flops\":api_flops,\n",
    "#             \"api_params\":api_params,\n",
    "#            },\"./c3n5_1000samples_1bit.pth\")\n",
    "\n",
    "# trained_results = torch.load(\"./c3n5_1000samples_4bit.pth\")\n",
    "# archs = trained_results['archs']\n",
    "# fp_ntk_scores = trained_results['fp_ntk_scores']\n",
    "# fp_lr_scores = trained_results['fp_lr_scores']\n",
    "# q_ntk_scores = trained_results['q_ntk_scores']\n",
    "# q_lr_scores = trained_results['q_lr_scores']\n",
    "# api_valid_accs = trained_results['api_valid_accs']\n",
    "# api_flops = trained_results['api_flops']\n",
    "# api_params = trained_results['api_params']"
   ]
  }
 ],
 "metadata": {
  "kernelspec": {
   "display_name": "Python 3",
   "language": "python",
   "name": "python3"
  },
  "language_info": {
   "codemirror_mode": {
    "name": "ipython",
    "version": 3
   },
   "file_extension": ".py",
   "mimetype": "text/x-python",
   "name": "python",
   "nbconvert_exporter": "python",
   "pygments_lexer": "ipython3",
   "version": "3.8.8"
  }
 },
 "nbformat": 4,
 "nbformat_minor": 5
}
