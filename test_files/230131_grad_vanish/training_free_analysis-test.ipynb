{
 "cells": [
  {
   "cell_type": "code",
   "execution_count": 1,
   "id": "15198afc",
   "metadata": {},
   "outputs": [],
   "source": [
    "import os, sys, time, glob, random, argparse\n",
    "import numpy as np\n",
    "from copy import deepcopy\n",
    "import torch\n",
    "import torch.nn as nn\n",
    "import time\n",
    "\n",
    "# XAutoDL \n",
    "from xautodl.config_utils import load_config, dict2config, configure2str\n",
    "from xautodl.datasets import get_datasets, get_nas_search_loaders\n",
    "from xautodl.procedures import (\n",
    "    prepare_seed,\n",
    "    prepare_logger,\n",
    "    save_checkpoint,\n",
    "    copy_checkpoint,\n",
    "    get_optim_scheduler,\n",
    ")\n",
    "from xautodl.utils import get_model_infos, obtain_accuracy\n",
    "from xautodl.log_utils import AverageMeter, time_string, convert_secs2time\n",
    "from xautodl.models import get_search_spaces\n",
    "\n",
    "# NB201\n",
    "from nas_201_api import NASBench201API as API\n",
    "\n",
    "from ntk import get_ntk_n\n",
    "from linear_region_counter import Linear_Region_Collector\n",
    "\n",
    "import scipy.stats as stats\n",
    "import matplotlib.pyplot as plt\n",
    "\n",
    "import tqdm\n",
    "\n",
    "# custom\n",
    "from custom_models import get_cell_based_tiny_net\n",
    "\n",
    "os.environ[\"CUDA_VISIBLE_DEVICES\"] = \"1\""
   ]
  },
  {
   "cell_type": "code",
   "execution_count": 2,
   "id": "392dc080",
   "metadata": {},
   "outputs": [
    {
     "name": "stdout",
     "output_type": "stream",
     "text": [
      "21094\n",
      "Namespace(arch_nas_dataset='../../NAS-Bench-201-v1_1-096897.pth', channel=16, config_path='../../configs/nas-benchmark/algos/RANDOM.config', data_path='../../cifar.python', dataset='cifar10', max_nodes=4, num_cells=5, print_freq=200, rand_seed=21094, save_dir='./results/tmp', search_space_name='nas-bench-201', select_num=100, track_running_stats=0, workers=0)\n"
     ]
    }
   ],
   "source": [
    "parser = argparse.ArgumentParser(\"Random search for NAS.\")\n",
    "parser.add_argument(\"--data_path\", type=str, default='../../cifar.python', help=\"The path to dataset\")\n",
    "parser.add_argument(\"--dataset\", type=str, default='cifar10',choices=[\"cifar10\", \"cifar100\", \"ImageNet16-120\"], help=\"Choose between Cifar10/100 and ImageNet-16.\")\n",
    "\n",
    "# channels and number-of-cells\n",
    "parser.add_argument(\"--search_space_name\", type=str, default='nas-bench-201', help=\"The search space name.\")\n",
    "parser.add_argument(\"--config_path\", type=str, default='../../configs/nas-benchmark/algos/RANDOM.config', help=\"The path to the configuration.\")\n",
    "parser.add_argument(\"--max_nodes\", type=int, default=4, help=\"The maximum number of nodes.\")\n",
    "parser.add_argument(\"--channel\", type=int, default=16, help=\"The number of channels.\")\n",
    "parser.add_argument(\"--num_cells\", type=int, default=5, help=\"The number of cells in one stage.\")\n",
    "# parser.add_argument(\"--channel\", type=int, default=3, help=\"The number of channels.\")\n",
    "# parser.add_argument(\"--num_cells\", type=int, default=1, help=\"The number of cells in one stage.\")\n",
    "parser.add_argument(\"--select_num\", type=int, default=100, help=\"The number of selected architectures to evaluate.\")\n",
    "parser.add_argument(\"--track_running_stats\", type=int, default=0, choices=[0, 1], help=\"Whether use track_running_stats or not in the BN layer.\")\n",
    "# log\n",
    "parser.add_argument(\"--workers\", type=int, default=0, help=\"number of data loading workers\")\n",
    "parser.add_argument(\"--save_dir\", type=str, default='./results/tmp', help=\"Folder to save checkpoints and log.\")\n",
    "parser.add_argument(\"--arch_nas_dataset\", type=str, default='../../NAS-Bench-201-v1_1-096897.pth', help=\"The path to load the architecture dataset (tiny-nas-benchmark).\")\n",
    "parser.add_argument(\"--print_freq\", type=int, default=200, help=\"print frequency (default: 200)\")\n",
    "parser.add_argument(\"--rand_seed\", type=int, default=None, help=\"manual seed\")\n",
    "args = parser.parse_args(args=[])\n",
    "if args.rand_seed is None or args.rand_seed < 0:\n",
    "    args.rand_seed = random.randint(1, 100000)\n",
    "\n",
    "    \n",
    "print(args.rand_seed)\n",
    "print(args)\n",
    "xargs=args"
   ]
  },
  {
   "cell_type": "code",
   "execution_count": 3,
   "id": "c1f83abf",
   "metadata": {},
   "outputs": [
    {
     "name": "stdout",
     "output_type": "stream",
     "text": [
      "Main Function with logger : Logger(dir=results/tmp, use-tf=False, writer=None)\n",
      "Arguments : -------------------------------\n",
      "arch_nas_dataset : ../../NAS-Bench-201-v1_1-096897.pth\n",
      "channel          : 16\n",
      "config_path      : ../../configs/nas-benchmark/algos/RANDOM.config\n",
      "data_path        : ../../cifar.python\n",
      "dataset          : cifar10\n",
      "max_nodes        : 4\n",
      "num_cells        : 5\n",
      "print_freq       : 200\n",
      "rand_seed        : 21094\n",
      "save_dir         : ./results/tmp\n",
      "search_space_name : nas-bench-201\n",
      "select_num       : 100\n",
      "track_running_stats : 0\n",
      "workers          : 0\n",
      "Python  Version  : 3.8.8 (default, Feb 24 2021, 21:46:12)  [GCC 7.3.0]\n",
      "Pillow  Version  : 8.1.2\n",
      "PyTorch Version  : 1.8.1\n",
      "cuDNN   Version  : 8005\n",
      "CUDA available   : True\n",
      "CUDA GPU numbers : 1\n",
      "CUDA_VISIBLE_DEVICES : 1\n"
     ]
    }
   ],
   "source": [
    "assert torch.cuda.is_available(), \"CUDA is not available.\"\n",
    "torch.backends.cudnn.enabled = True\n",
    "torch.backends.cudnn.benchmark = False\n",
    "torch.backends.cudnn.deterministic = True\n",
    "# torch.set_num_threads(xargs.workers)\n",
    "prepare_seed(xargs.rand_seed)\n",
    "logger = prepare_logger(args)"
   ]
  },
  {
   "cell_type": "markdown",
   "id": "67ad28c7",
   "metadata": {},
   "source": [
    "# Main"
   ]
  },
  {
   "cell_type": "code",
   "execution_count": 4,
   "id": "1bbfe256",
   "metadata": {},
   "outputs": [
    {
     "name": "stdout",
     "output_type": "stream",
     "text": [
      "Files already downloaded and verified\n",
      "Files already downloaded and verified\n",
      "../../configs/nas-benchmark/algos/RANDOM.config\n",
      "Configure(scheduler='cos', LR=0.025, eta_min=0.001, epochs=250, warmup=0, optim='SGD', decay=0.0005, momentum=0.9, nesterov=True, criterion='Softmax', batch_size=64, test_batch_size=512, class_num=10, xshape=(1, 3, 32, 32))\n",
      "||||||| cifar10    ||||||| Search-Loader-Num=391, Valid-Loader-Num=49, batch size=64\n",
      "||||||| cifar10    ||||||| Config=Configure(scheduler='cos', LR=0.025, eta_min=0.001, epochs=250, warmup=0, optim='SGD', decay=0.0005, momentum=0.9, nesterov=True, criterion='Softmax', batch_size=64, test_batch_size=512, class_num=10, xshape=(1, 3, 32, 32))\n",
      "[2023-02-15 04:52:57] create API = NASBench201API(15625/15625 architectures, file=NAS-Bench-201-v1_1-096897.pth) done\n",
      "=> do not find the last-info file : results/tmp/seed-21094-last-info.pth\n"
     ]
    }
   ],
   "source": [
    "## data\n",
    "train_data, valid_data, xshape, class_num = get_datasets(xargs.dataset, xargs.data_path, -1)\n",
    "config = load_config(xargs.config_path, {\"class_num\": class_num, \"xshape\": xshape}, logger)\n",
    "search_loader, train_loader, valid_loader = get_nas_search_loaders(train_data,\n",
    "                                                        valid_data,\n",
    "                                                        xargs.dataset,\n",
    "                                                        \"../../configs/nas-benchmark/\",\n",
    "                                                        (config.batch_size, config.test_batch_size),\n",
    "                                                        xargs.workers)\n",
    "logger.log(\"||||||| {:10s} ||||||| Search-Loader-Num={:}, Valid-Loader-Num={:}, batch size={:}\".format(\n",
    "            xargs.dataset, len(search_loader), len(valid_loader), config.batch_size))\n",
    "logger.log(\"||||||| {:10s} ||||||| Config={:}\".format(xargs.dataset, config))\n",
    "\n",
    "\n",
    "## model\n",
    "search_space = get_search_spaces(\"cell\", xargs.search_space_name)\n",
    "model_config = dict2config(\n",
    "    {\n",
    "        \"name\": \"RANDOM\",\n",
    "        \"C\": xargs.channel,\n",
    "        \"N\": xargs.num_cells,\n",
    "        \"max_nodes\": xargs.max_nodes,\n",
    "        \"num_classes\": class_num,\n",
    "        \"space\": search_space,\n",
    "        \"affine\": False,\n",
    "        \"track_running_stats\": bool(xargs.track_running_stats),\n",
    "    },\n",
    "    None,\n",
    ")\n",
    "search_model = get_cell_based_tiny_net(model_config)\n",
    "\n",
    "_, _, criterion = get_optim_scheduler(search_model.parameters(), config)\n",
    "criterion = criterion.cuda()\n",
    "\n",
    "if \"api\" not in vars():\n",
    "    if xargs.arch_nas_dataset is None:\n",
    "        api = None\n",
    "    else:\n",
    "        api = API(xargs.arch_nas_dataset, verbose=False)\n",
    "    logger.log(\"{:} create API = {:} done\".format(time_string(), api))\n",
    "\n",
    "last_info, model_base_path, model_best_path = (\n",
    "    logger.path(\"info\"),\n",
    "    logger.path(\"model\"),\n",
    "    logger.path(\"best\"),\n",
    ")\n",
    "# network = torch.nn.DataParallel(search_model).cuda()\n",
    "network = search_model.cuda()\n",
    "\n",
    "## LRC\n",
    "# if \"lrc_model\" not in vars():\n",
    "#     lrc_model = Linear_Region_Collector(input_size=(333, 3, 3, 3), sample_batch=3, dataset=xargs.dataset, data_path=xargs.data_path, seed=xargs.rand_seed)\n",
    "\n",
    "\n",
    "## misc\n",
    "if last_info.exists():  # automatically resume from previous checkpoint\n",
    "    logger.log(\n",
    "        \"=> loading checkpoint of the last-info '{:}' start\".format(last_info)\n",
    "    )\n",
    "    last_info = torch.load(last_info)\n",
    "    start_epoch = last_info[\"epoch\"]\n",
    "    checkpoint = torch.load(last_info[\"last_checkpoint\"])\n",
    "    genotypes = checkpoint[\"genotypes\"]\n",
    "    valid_accuracies = checkpoint[\"valid_accuracies\"]\n",
    "    search_model.load_state_dict(checkpoint[\"search_model\"])\n",
    "    logger.log(\n",
    "        \"=> loading checkpoint of the last-info '{:}' start with {:}-th epoch.\".format(\n",
    "            last_info, start_epoch\n",
    "        )\n",
    "    )\n",
    "else:\n",
    "    logger.log(\"=> do not find the last-info file : {:}\".format(last_info))\n",
    "    start_epoch, valid_accuracies, genotypes = 0, {\"best\": -1}, {}"
   ]
  },
  {
   "cell_type": "code",
   "execution_count": 20,
   "id": "541fb315",
   "metadata": {},
   "outputs": [],
   "source": [
    "def kaiming_normal_fanin_init(m):\n",
    "    if isinstance(m, nn.Conv2d) or isinstance(m, nn.Linear):\n",
    "        nn.init.kaiming_normal_(m.weight, mode='fan_in', nonlinearity='relu')\n",
    "        if hasattr(m, 'bias') and m.bias is not None:\n",
    "            nn.init.zeros_(m.bias)\n",
    "    elif isinstance(m, nn.BatchNorm2d):\n",
    "        if m.affine:\n",
    "            nn.init.ones_(m.weight.data)\n",
    "            nn.init.constant_(m.bias.data, 0.0)\n",
    "\n",
    "\n",
    "def kaiming_normal_fanout_init(m):\n",
    "    if isinstance(m, nn.Conv2d) or isinstance(m, nn.Linear):\n",
    "        nn.init.kaiming_normal_(m.weight, mode='fan_out', nonlinearity='relu')\n",
    "        if hasattr(m, 'bias') and m.bias is not None:\n",
    "            nn.init.zeros_(m.bias)\n",
    "    elif isinstance(m, nn.BatchNorm2d):\n",
    "        if m.affine:\n",
    "            nn.init.ones_(m.weight.data)\n",
    "            nn.init.constant_(m.bias.data, 0.0)\n",
    "            \n",
    "def xavier_normal(m):\n",
    "    if isinstance(m, nn.Conv2d) or isinstance(m, nn.Linear):\n",
    "        nn.init.xavier_normal_(m.weight)\n",
    "        if hasattr(m, 'bias') and m.bias is not None:\n",
    "            nn.init.zeros_(m.bias)\n",
    "    elif isinstance(m, nn.BatchNorm2d):\n",
    "        if m.affine:\n",
    "            nn.init.ones_(m.weight.data)\n",
    "            nn.init.constant_(m.bias.data, 0.0)\n",
    "            \n",
    "def xavier_uniform(m):\n",
    "    if isinstance(m, nn.Conv2d) or isinstance(m, nn.Linear):\n",
    "        nn.init.xavier_uniform_(m.weight, gain=nn.init.calculate_gain('relu'))\n",
    "        if hasattr(m, 'bias') and m.bias is not None:\n",
    "            nn.init.zeros_(m.bias)\n",
    "    elif isinstance(m, nn.BatchNorm2d):\n",
    "        if m.affine:\n",
    "            nn.init.ones_(m.weight.data)\n",
    "            nn.init.constant_(m.bias.data, 0.0)\n",
    "\n",
    "\n",
    "def init_model(model, method='kaiming_norm_fanin'):\n",
    "    if method == 'kaiming_norm_fanin':\n",
    "        model.apply(kaiming_normal_fanin_init)\n",
    "    elif method == 'kaiming_norm_fanout':\n",
    "        model.apply(kaiming_normal_fanout_init)\n",
    "    elif method == 'xavier_norm':\n",
    "        model.apply(xavier_normal)\n",
    "    elif method == 'xavier_uni':\n",
    "        model.apply(xavier_uniform)\n",
    "    return model\n",
    "\n",
    "\n",
    "def get_scores(xloader, network, criterion):\n",
    "    device = torch.cuda.current_device()\n",
    "    network.train()\n",
    "    \n",
    "    # generate random inputs\n",
    "    inputs, _ = next(iter(xloader))\n",
    "    inputs = inputs.cuda(device=device, non_blocking=True)\n",
    "    inputs_ = torch.randn_like(inputs)\n",
    "#     inputs_ = torch.randn((64,3,128,128), device=device)\n",
    "    \n",
    "    # forward pass\n",
    "    network.zero_grad(set_to_none=True)\n",
    "    _, logits = network(inputs_)\n",
    "    \n",
    "    ################ fwrd pca score ################\n",
    "#     feat = network.last_feature_map.detach().clone()\n",
    "    feat = network.cell_features[-1].detach().clone()\n",
    "    b,c,h,w = feat.size()\n",
    "    feat = feat.permute(0,2,3,1).contiguous().view(b*h*w,c)\n",
    "    m = feat.mean(dim=0, keepdim=True)\n",
    "    feat = feat - m\n",
    "    sigma = torch.mm(feat.transpose(1,0),feat) / (feat.size(0))\n",
    "    u, s, v = torch.svd(sigma, compute_uv=False)\n",
    "    prob_s = s / s.sum()\n",
    "    score = (-prob_s)*torch.log(prob_s+1e-8)\n",
    "    score = score.sum()\n",
    "    fwrd_pca_score = score.item()\n",
    "    #################################################\n",
    "    \n",
    "    ################ fwrd norm score ################\n",
    "    cell_features = network.cell_features\n",
    "    scores = []\n",
    "    for i in range(1, len(cell_features)):\n",
    "        f_out = cell_features[i]\n",
    "        f_in = cell_features[i-1]\n",
    "\n",
    "        if (f_out.size() == f_in.size()) and (torch.all(f_in == f_out)):\n",
    "            scores.append(-1)\n",
    "        else:\n",
    "            s1 = f_out.norm(p=2, dim=(1)).mean() / (f_in.norm(p=2, dim=(1)).mean()+1e-6)\n",
    "            s2 = f_in.norm(p=2, dim=(1)).mean() / (f_out.norm(p=2, dim=(1)).mean()+1e-6)\n",
    "            scores.append((-torch.abs(s1-1)).item() + (-torch.abs(s2-1)).item())\n",
    "    fwrd_norm_score = np.mean(scores)\n",
    "\n",
    "    \n",
    "    ################ bkwd pca score ################\n",
    "    f_last = network.cell_features[-1]\n",
    "    g = torch.ones_like(f_last) * 0.5\n",
    "    g = (torch.bernoulli(g) - 0.5) * 2\n",
    "    f_last.backward(g, retain_graph=True)\n",
    "    \n",
    "#     grad = network.first_feature_map.grad.detach().clone()\n",
    "#     b,c,h,w = grad.size()\n",
    "#     grad = grad.permute(0,2,3,1).contiguous().view(b*h*w,c)\n",
    "    \n",
    "#     m = grad.mean(dim=0, keepdim=True)\n",
    "#     grad = grad - m\n",
    "#     sigma = torch.mm(grad.transpose(1,0),grad) / (grad.size(0))\n",
    "#     u, s, v = torch.svd(sigma, compute_uv=False)\n",
    "#     prob_s = s / s.sum()\n",
    "#     score = (-prob_s)*torch.log(prob_s+1e-8)\n",
    "#     score = score.sum()\n",
    "#     bkwd_pca_score = score.item()\n",
    "\n",
    "    grad = network.stem.weight.grad.detach().clone()\n",
    "    \n",
    "    #################################################\n",
    "    \n",
    "    ################ bkwd norm score ################\n",
    "    cell_features = network.cell_features\n",
    "    f_out = cell_features[-1]\n",
    "    f_in = cell_features[-2]\n",
    "    if (f_out.grad.size() == f_in.grad.size()) and (torch.all(f_in.grad == f_out.grad)):\n",
    "        bkwd_norm_score = -1\n",
    "    else:\n",
    "        b,c,h,w = f_out.size()\n",
    "        g_out = f_out.grad.permute(0,2,3,1).contiguous().view(b*h*w,c,1)\n",
    "        g_in = f_in.grad.permute(0,2,3,1).contiguous().view(b*h*w,1,c)\n",
    "        mat = torch.bmm(g_out,g_in).mean(dim=0)\n",
    "        u, s, v = torch.svd(mat, compute_uv=False)\n",
    "        bkwd_norm_score = -torch.abs(s.max()-1).item()\n",
    "    #################################################\n",
    "    \n",
    "    return fwrd_pca_score, fwrd_norm_score, bkwd_pca_score, bkwd_norm_score\n",
    "\n",
    "\n",
    "def search_find_best(xloader, network, criterion, n_samples, init_method='kaiming_norm_fanin'):\n",
    "    network.train()\n",
    "    archs, fwrd_pca_scores, fwrd_norm_scores, bkwd_pca_scores, bkwd_norm_scores = [], [], [], [], []\n",
    "    \n",
    "    for i in tqdm.tqdm(range(n_samples)):\n",
    "        # random sampling\n",
    "        arch = network.random_genotype(True)\n",
    "    \n",
    "        fwrd_pca_score_tmp, fwrd_norm_score_tmp, bkwd_pca_score_tmp, bkwd_norm_score_tmp = [], [], [], []\n",
    "        \n",
    "        for _ in range(1):\n",
    "            init_model(network, init_method)\n",
    "            \n",
    "            fwrd_pca_score, fwrd_norm_score, bkwd_pca_score, bkwd_norm_score = get_scores(xloader, network, criterion)\n",
    "            \n",
    "            fwrd_pca_score_tmp.append(fwrd_pca_score)\n",
    "            fwrd_norm_score_tmp.append(fwrd_norm_score)\n",
    "            bkwd_pca_score_tmp.append(bkwd_pca_score)\n",
    "            bkwd_norm_score_tmp.append(bkwd_norm_score)\n",
    "        \n",
    "        archs.append(arch)\n",
    "        fwrd_pca_scores.append(np.mean(fwrd_pca_score_tmp))\n",
    "        fwrd_norm_scores.append(np.mean(fwrd_norm_score_tmp))\n",
    "        bkwd_pca_scores.append(np.mean(bkwd_pca_score_tmp))\n",
    "        bkwd_norm_scores.append(np.mean(bkwd_norm_score_tmp))\n",
    "        \n",
    "    fwrd_pca_scores = np.nan_to_num(np.array(fwrd_pca_scores), nan=-np.inf)\n",
    "    fwrd_norm_scores = np.nan_to_num(np.array(fwrd_norm_scores), nan=-np.inf)\n",
    "    bkwd_pca_scores = np.nan_to_num(np.array(bkwd_pca_scores), nan=-np.inf)\n",
    "    bkwd_norm_scores = np.nan_to_num(np.array(bkwd_norm_scores), nan=-np.inf)\n",
    "        \n",
    "    return archs, fwrd_pca_scores, fwrd_norm_scores, bkwd_pca_scores, bkwd_norm_scores\n",
    "\n",
    "def search_find_best_all(xloader, network, criterion, xargs, sample_uniform = None, init_method='kaiming_norm_fanin'):\n",
    "    start = torch.cuda.Event(enable_timing=True)\n",
    "    end = torch.cuda.Event(enable_timing=True)\n",
    "    \n",
    "    network.train()\n",
    "    fwrd_pca_scores, fwrd_norm_scores, bkwd_pca_scores, bkwd_norm_scores = [], [], [], []\n",
    "    all_time = []\n",
    "    all_mem = []\n",
    "    \n",
    "    if 'all_archs' not in globals() or 'all_valid_accs' not in globals():\n",
    "        global all_archs, all_valid_accs\n",
    "        print(\"generate all archs\")\n",
    "        all_archs = generate_all_archs(network, xargs)\n",
    "        all_valid_accs = []\n",
    "        for a in all_archs:\n",
    "            valid_acc, flops, params = get_results_from_api(api, a, 'cifar10')\n",
    "            all_valid_accs.append(valid_acc)\n",
    "        \n",
    "        \n",
    "    archs = deepcopy(all_archs)\n",
    "    api_valid_accs = deepcopy(all_valid_accs)\n",
    "    ###\n",
    "    if sample_uniform is not None:\n",
    "        interval = int(len(archs) / sample_uniform)\n",
    "        sorted_indices = np.argsort(api_valid_accs)\n",
    "        new_archs = []\n",
    "        for i, idx in enumerate(sorted_indices):\n",
    "            if i % interval == 0:\n",
    "                new_archs.append(archs[idx])\n",
    "        archs = new_archs\n",
    "    \n",
    "    for a in tqdm.tqdm(archs):\n",
    "        # assign arch\n",
    "        network.arch_cache = a\n",
    "    \n",
    "        fwrd_pca_score_tmp, fwrd_norm_score_tmp, bkwd_pca_score_tmp, bkwd_norm_score_tmp = [], [], [], []\n",
    "        \n",
    "        for _ in range(1):\n",
    "            init_model(network, init_method)\n",
    "            \n",
    "            start.record()\n",
    "            torch.cuda.reset_peak_memory_stats()\n",
    "            fwrd_pca_score, fwrd_norm_score, bkwd_pca_score, bkwd_norm_score = get_scores(xloader, network, criterion)\n",
    "            end.record()\n",
    "            torch.cuda.synchronize()\n",
    "            all_time.append(start.elapsed_time(end))\n",
    "            all_mem.append(torch.cuda.max_memory_reserved())\n",
    "            torch.cuda.empty_cache()\n",
    "            \n",
    "            fwrd_pca_score_tmp.append(fwrd_pca_score)\n",
    "            fwrd_norm_score_tmp.append(fwrd_norm_score)\n",
    "            bkwd_pca_score_tmp.append(bkwd_pca_score)\n",
    "            bkwd_norm_score_tmp.append(bkwd_norm_score)\n",
    "        \n",
    "        fwrd_pca_scores.append(np.mean(fwrd_pca_score_tmp))\n",
    "        fwrd_norm_scores.append(np.mean(fwrd_norm_score_tmp))\n",
    "        bkwd_pca_scores.append(np.mean(bkwd_pca_score_tmp))\n",
    "        bkwd_norm_scores.append(np.mean(bkwd_norm_score_tmp))\n",
    "        \n",
    "    fwrd_pca_scores = np.nan_to_num(np.array(fwrd_pca_scores), nan=-np.inf)\n",
    "    fwrd_norm_scores = np.nan_to_num(np.array(fwrd_norm_scores), nan=-np.inf)\n",
    "    bkwd_pca_scores = np.nan_to_num(np.array(bkwd_pca_scores), nan=-np.inf)\n",
    "    bkwd_norm_scores = np.nan_to_num(np.array(bkwd_norm_scores), nan=-np.inf)\n",
    "    \n",
    "    print(\"------Runtime------\")\n",
    "    print(\"All: {:.5f} ms\".format(np.mean(all_time)))\n",
    "    print(\"------Avg Mem------\")\n",
    "    print(\"All: {:.5f} GB\".format(np.mean(all_mem)/1e9))\n",
    "    print(\"------Max Mem------\")\n",
    "    print(\"All: {:.5f} GB\".format(np.max(all_mem)/1e9))\n",
    "        \n",
    "    return archs, fwrd_pca_scores, fwrd_norm_scores, bkwd_pca_scores, bkwd_norm_scores\n",
    "\n",
    "def generate_all_archs(network, xargs):\n",
    "    arch = network.random_genotype(True)\n",
    "    \n",
    "    search_space = get_search_spaces(\"cell\", xargs.search_space_name)\n",
    "    \n",
    "    archs = arch.gen_all(search_space, xargs.max_nodes, False)\n",
    "    \n",
    "    return archs\n",
    "\n",
    "def get_results_from_api(api, arch, dataset='cifar10'):\n",
    "    dataset_candidates = ['cifar10-valid', 'cifar10', 'cifar100', 'ImageNet16-120']\n",
    "    assert dataset in dataset_candidates\n",
    "    index = api.query_index_by_arch(arch)\n",
    "    archresult = api.arch2infos_dict[index]['200']\n",
    "    \n",
    "    if dataset == 'cifar10-valid':\n",
    "        acc = archresult.get_metrics(dataset, 'x-valid', iepoch=199, is_random=False)['accuracy']\n",
    "    else:\n",
    "        acc = archresult.get_metrics(dataset, 'ori-test', iepoch=199, is_random=False)['accuracy']\n",
    "    flops = archresult.get_compute_costs(dataset)['flops']\n",
    "    params = archresult.get_compute_costs(dataset)['params']\n",
    "    \n",
    "    return acc, flops, params"
   ]
  },
  {
   "cell_type": "code",
   "execution_count": 17,
   "id": "af2ecf3d",
   "metadata": {
    "scrolled": true
   },
   "outputs": [
    {
     "name": "stderr",
     "output_type": "stream",
     "text": [
      "100%|██████████| 1042/1042 [05:38<00:00,  3.08it/s]"
     ]
    },
    {
     "name": "stdout",
     "output_type": "stream",
     "text": [
      "------Runtime------\n",
      "All: 249.61532 ms\n",
      "------Avg Mem------\n",
      "All: 10.86972 GB\n",
      "------Max Mem------\n",
      "All: 18.87437 GB\n"
     ]
    },
    {
     "name": "stderr",
     "output_type": "stream",
     "text": [
      "\n"
     ]
    }
   ],
   "source": [
    "# n_samples = 1\n",
    "# archs, fwrd_pca_scores, fwrd_norm_scores, bkwd_pca_scores, bkwd_norm_scores = search_find_best(train_loader, network, criterion, n_samples)\n",
    "\n",
    "# del all_archs, all_valid_accs\n",
    "archs, fwrd_pca_scores, fwrd_norm_scores, bkwd_pca_scores, bkwd_norm_scores = search_find_best_all(train_loader, network, criterion, xargs, sample_uniform=1000)"
   ]
  },
  {
   "cell_type": "code",
   "execution_count": 18,
   "id": "7a20052c",
   "metadata": {
    "scrolled": true
   },
   "outputs": [],
   "source": [
    "api_valid_accs, api_flops, api_params = [], [], []\n",
    "for a in archs:\n",
    "#     valid_acc, flops, params = get_results_from_api(api, a, 'ImageNet16-120')\n",
    "    valid_acc, flops, params = get_results_from_api(api, a, 'cifar10')\n",
    "#     valid_acc, flops, params = get_results_from_api(api, a, 'cifar100')\n",
    "    api_valid_accs.append(valid_acc)\n",
    "    api_flops.append(flops)\n",
    "    api_params.append(params)"
   ]
  },
  {
   "cell_type": "markdown",
   "id": "bd152cc4",
   "metadata": {},
   "source": [
    "# Analysis"
   ]
  },
  {
   "cell_type": "code",
   "execution_count": 22,
   "id": "63b4c375",
   "metadata": {},
   "outputs": [
    {
     "name": "stdout",
     "output_type": "stream",
     "text": [
      "RANDOM-NAS finds the best one : Structure(4 nodes with |nor_conv_3x3~0|+|nor_conv_3x3~0|skip_connect~1|+|nor_conv_1x1~0|nor_conv_3x3~1|nor_conv_3x3~2|) with acc=93.48333333333333, fwd_pca_rank=65.0, fwrd_norm_rank=15.0, bkwd_pca_rank=21.0, bkwd_norm_rank=26.0, params_rank=2.0, flops_rank=2.0\n",
      "\n",
      "\n",
      "\n",
      "|nor_conv_3x3~0|+|nor_conv_3x3~0|skip_connect~1|+|nor_conv_1x1~0|nor_conv_3x3~1|nor_conv_3x3~2|\n",
      "datasets : ['cifar10-valid', 'cifar10', 'cifar100', 'ImageNet16-120'], extra-info : arch-index=1346\n",
      "cifar10-valid  FLOP=153.27 M, Params=1.073 MB, latency=20.29 ms.\n",
      "cifar10-valid  train : [loss = 0.002, top1 = 99.97%], valid : [loss = 0.484, top1 = 90.27%]\n",
      "cifar10        FLOP=153.27 M, Params=1.073 MB, latency=20.29 ms.\n",
      "cifar10        train : [loss = 0.003, top1 = 99.94%], test  : [loss = 0.310, top1 = 93.48%]\n",
      "cifar100       FLOP=153.28 M, Params=1.079 MB, latency=21.66 ms.\n",
      "cifar100       train : [loss = 0.041, top1 = 99.58%], valid : [loss = 1.276, top1 = 71.41%], test : [loss = 1.276, top1 = 71.29%]\n",
      "ImageNet16-120 FLOP= 38.33 M, Params=1.081 MB, latency=21.31 ms.\n",
      "ImageNet16-120 train : [loss = 1.646, top1 = 55.66%], valid : [loss = 2.179, top1 = 44.74%], test : [loss = 2.186, top1 = 44.50%]\n"
     ]
    },
    {
     "data": {
      "image/png": "[encoded data removed]",
      "text/plain": [
       "<Figure size 432x288 with 1 Axes>"
      ]
     },
     "metadata": {
      "needs_background": "light"
     },
     "output_type": "display_data"
    },
    {
     "name": "stdout",
     "output_type": "stream",
     "text": [
      "0.7509060380828575 2.5282014306596365e-288\n",
      "aggregated: 0.7509060380828575\t0.5314967569977762\t0.9203638881414254\t\n",
      "fwrd_pca: 0.5554919143770065\t0.48766930277501475\t0.7519013650120586\t\n",
      "fwrd_norm: 0.5920127504223286\t0.459543390850422\t0.7947980134293438\t\n",
      "bkwd_pca: 0.5442357197336812\t0.4548308683865445\t0.7258487186945851\t\n",
      "bkwd_norm: 0.3726628756968502\t0.38250122469088427\t0.5237741677492203\t\n",
      "params: 0.5814159577309247\t0.3518732845774245\t0.7550501346284033\t\n"
     ]
    }
   ],
   "source": [
    "rank_fpca, rank_fnorm, rank_bpca, rank_bnorm, rank_flops, rank_params = \\\n",
    "stats.rankdata(fwrd_pca_scores), stats.rankdata(fwrd_norm_scores), stats.rankdata(bkwd_pca_scores), stats.rankdata(bkwd_norm_scores), stats.rankdata(api_flops), stats.rankdata(api_params)\n",
    "\n",
    "l = len(api_valid_accs)\n",
    "# rank_agg = rank_bnorm\n",
    "# rank_agg = np.log(rank_fpca/l) + np.log(rank_bpca/l)\n",
    "rank_agg = np.log(rank_fpca/l) + np.log(rank_fnorm/l) + np.log(rank_bnorm/l) + np.log(rank_params/l)\n",
    "# rank_agg = np.log(rank_fpca/l) + np.log(rank_fnorm/l) + np.log(rank_bpca/l) + np.log(rank_bnorm/l) + np.log(rank_params/l)\n",
    "# rank_agg = rank_fpca/l + rank_fnorm/l + rank_bpca/l + rank_bnorm/l + rank_params/l\n",
    "\n",
    "best_idx = np.argmax(rank_agg)\n",
    "best_arch, acc, best_rank_fpca, best_rank_fnorm, best_rank_bpca, best_rank_bnorm, best_rank_flops, best_rank_params = \\\n",
    "archs[best_idx], api_valid_accs[best_idx], rank_fpca[best_idx], rank_fnorm[best_idx], rank_bpca[best_idx], rank_bnorm[best_idx], rank_flops[best_idx], rank_params[best_idx]\n",
    "\n",
    "print(\"RANDOM-NAS finds the best one : {:} with acc={:}, fwd_pca_rank={:}, fwrd_norm_rank={:}, bkwd_pca_rank={:}, bkwd_norm_rank={:}, params_rank={:}, flops_rank={:}\".format(\n",
    "    best_arch, acc, l-best_rank_fpca, l-best_rank_fnorm, l-best_rank_bpca, l-best_rank_bnorm, l-best_rank_params, l-best_rank_flops))\n",
    "print(\"\\n\\n\")\n",
    "if api is not None:\n",
    "    print(\"{:}\".format(api.query_by_arch(best_arch, \"200\")))\n",
    "\n",
    "x = stats.rankdata(rank_agg)\n",
    "# x = bkwd_norm_scores\n",
    "y = stats.rankdata(api_valid_accs)\n",
    "# y = api_valid_accs\n",
    "\n",
    "\n",
    "plt.scatter(x, y)\n",
    "plt.scatter(x[best_idx], y[best_idx], c=\"r\", linewidths=1)\n",
    "# plt.xlim([-3,0])\n",
    "# plt.xlim([800,1000])\n",
    "# plt.xlim([12000,16000])\n",
    "# plt.ylim([30,50])\n",
    "plt.title(\"rank_agg\")\n",
    "plt.show()\n",
    "tau, p_value = stats.kendalltau(x, y)\n",
    "print(tau, p_value)\n",
    "\n",
    "#####\n",
    "kendalltau = stats.kendalltau(api_valid_accs, stats.rankdata(rank_agg))\n",
    "pearsonr = stats.pearsonr(api_valid_accs, stats.rankdata(rank_agg))\n",
    "spearmanr = stats.spearmanr(api_valid_accs, stats.rankdata(rank_agg))\n",
    "print(\"aggregated: {}\\t{}\\t{}\\t\".format(kendalltau[0], pearsonr[0], spearmanr[0]))\n",
    "\n",
    "kendalltau = stats.kendalltau(api_valid_accs, stats.rankdata(rank_fpca))\n",
    "pearsonr = stats.pearsonr(api_valid_accs, stats.rankdata(rank_fpca))\n",
    "spearmanr = stats.spearmanr(api_valid_accs, stats.rankdata(rank_fpca))\n",
    "print(\"fwrd_pca: {}\\t{}\\t{}\\t\".format(kendalltau[0], pearsonr[0], spearmanr[0]))\n",
    "\n",
    "kendalltau = stats.kendalltau(api_valid_accs, stats.rankdata(rank_fnorm))\n",
    "pearsonr = stats.pearsonr(api_valid_accs, stats.rankdata(rank_fnorm))\n",
    "spearmanr = stats.spearmanr(api_valid_accs, stats.rankdata(rank_fnorm))\n",
    "print(\"fwrd_norm: {}\\t{}\\t{}\\t\".format(kendalltau[0], pearsonr[0], spearmanr[0]))\n",
    "\n",
    "kendalltau = stats.kendalltau(api_valid_accs, stats.rankdata(rank_bpca))\n",
    "pearsonr = stats.pearsonr(api_valid_accs, stats.rankdata(rank_bpca))\n",
    "spearmanr = stats.spearmanr(api_valid_accs, stats.rankdata(rank_bpca))\n",
    "print(\"bkwd_pca: {}\\t{}\\t{}\\t\".format(kendalltau[0], pearsonr[0], spearmanr[0]))\n",
    "\n",
    "kendalltau = stats.kendalltau(api_valid_accs, stats.rankdata(rank_bnorm))\n",
    "pearsonr = stats.pearsonr(api_valid_accs, stats.rankdata(rank_bnorm))\n",
    "spearmanr = stats.spearmanr(api_valid_accs, stats.rankdata(rank_bnorm))\n",
    "print(\"bkwd_norm: {}\\t{}\\t{}\\t\".format(kendalltau[0], pearsonr[0], spearmanr[0]))\n",
    "\n",
    "kendalltau = stats.kendalltau(api_valid_accs, stats.rankdata(rank_params))\n",
    "pearsonr = stats.pearsonr(api_valid_accs, stats.rankdata(rank_params))\n",
    "spearmanr = stats.spearmanr(api_valid_accs, stats.rankdata(rank_params))\n",
    "print(\"params: {}\\t{}\\t{}\\t\".format(kendalltau[0], pearsonr[0], spearmanr[0]))"
   ]
  },
  {
   "cell_type": "code",
   "execution_count": null,
   "id": "2429f4d0",
   "metadata": {
    "scrolled": true
   },
   "outputs": [],
   "source": [
    "sorted_indices = np.argsort(api_valid_accs)\n",
    "sorted_indices = np.argsort(bkwd_norm_scores)\n",
    "\n",
    "for a, s, acc in zip(np.array(archs)[sorted_indices], np.array(bkwd_norm_scores)[sorted_indices], np.array(api_valid_accs)[sorted_indices]):\n",
    "    print(a)\n",
    "    print(\"{:.3f}\".format(acc), '\\t', s)"
   ]
  },
  {
   "cell_type": "code",
   "execution_count": null,
   "id": "7427f014",
   "metadata": {},
   "outputs": [],
   "source": [
    "# fp_results = torch.load(\"./c3n1_1000samples.pth\")\n",
    "# archs = fp_results['archs']\n",
    "# fp_ntk_scores = fp_results['ntk_scores']\n",
    "# fp_lr_scores = fp_results['lr_scores']\n",
    "# api_valid_accs = fp_results['api_valid_accs']\n",
    "# api_flops = fp_results['api_flops']\n",
    "# api_params = fp_results['api_params']\n",
    "\n",
    "# torch.save({\"archs\":archs,\n",
    "#             \"fwrd_pca_scores\":fwrd_pca_scores,\n",
    "#             \"fwrd_norm_scores\":fwrd_norm_scores,\n",
    "#             \"bkwd_pca_scores\":bkwd_pca_scores,\n",
    "#             \"bkwd_norm_scores\":bkwd_norm_scores,\n",
    "#             \"api_valid_accs\":api_valid_accs,\n",
    "#             \"api_flops\":api_flops,\n",
    "#             \"api_params\":api_params,\n",
    "#            },\"./4metrics_all_archs.pth\")\n",
    "\n",
    "# trained_results = torch.load(\"./4metrics_all_archs.pth\")\n",
    "# archs = trained_results['archs']\n",
    "# fwrd_pca_scores = trained_results['fwrd_pca_scores']\n",
    "# fwrd_norm_scores = trained_results['fwrd_norm_scores']\n",
    "# bkwd_pca_scores = trained_results['bkwd_pca_scores']\n",
    "# bkwd_norm_scores = trained_results['bkwd_norm_scores']\n",
    "# api_valid_accs = trained_results['api_valid_accs']\n",
    "# api_flops = trained_results['api_flops']\n",
    "# api_params = trained_results['api_params']"
   ]
  },
  {
   "cell_type": "code",
   "execution_count": 11,
   "id": "7f20f565",
   "metadata": {},
   "outputs": [
    {
     "data": {
      "image/png": "[encoded data removed]",
      "text/plain": [
       "<Figure size 432x288 with 1 Axes>"
      ]
     },
     "metadata": {
      "needs_background": "light"
     },
     "output_type": "display_data"
    },
    {
     "name": "stdout",
     "output_type": "stream",
     "text": [
      "0.540738771078464 1.9377897325415334e-44\n"
     ]
    },
    {
     "data": {
      "image/png": "[encoded data removed]",
      "text/plain": [
       "<Figure size 432x288 with 1 Axes>"
      ]
     },
     "metadata": {
      "needs_background": "light"
     },
     "output_type": "display_data"
    },
    {
     "name": "stdout",
     "output_type": "stream",
     "text": [
      "0.5929446697245674 4.485954205182405e-53\n"
     ]
    },
    {
     "data": {
      "image/png": "[encoded data removed]",
      "text/plain": [
       "<Figure size 432x288 with 1 Axes>"
      ]
     },
     "metadata": {
      "needs_background": "light"
     },
     "output_type": "display_data"
    },
    {
     "name": "stdout",
     "output_type": "stream",
     "text": [
      "0.5050189456890248 5.518976343124678e-39\n"
     ]
    },
    {
     "data": {
      "image/png": "[encoded data removed]",
      "text/plain": [
       "<Figure size 432x288 with 1 Axes>"
      ]
     },
     "metadata": {
      "needs_background": "light"
     },
     "output_type": "display_data"
    },
    {
     "name": "stdout",
     "output_type": "stream",
     "text": [
      "0.42974688067459726 1.1734129216137383e-28\n"
     ]
    },
    {
     "data": {
      "image/png": "[encoded data removed]",
      "text/plain": [
       "<Figure size 432x288 with 1 Axes>"
      ]
     },
     "metadata": {
      "needs_background": "light"
     },
     "output_type": "display_data"
    },
    {
     "name": "stdout",
     "output_type": "stream",
     "text": [
      "0.5693927877270019 1.1856436485516635e-45\n"
     ]
    }
   ],
   "source": [
    "_list = [rank_fpca, rank_fnorm, rank_bpca, rank_bnorm, rank_params]\n",
    "\n",
    "y = stats.rankdata(api_valid_accs)\n",
    "for x in _list:\n",
    "    plt.scatter(x, y)\n",
    "    plt.scatter(x[best_idx], y[best_idx], c=\"r\", linewidths=1)\n",
    "    # plt.xlim([-3,0])\n",
    "    # plt.xlim([800,1000])\n",
    "    # plt.xlim([12000,16000])\n",
    "    # plt.ylim([30,50])\n",
    "    plt.title(\"rank_agg\")\n",
    "    plt.show()\n",
    "    tau, p_value = stats.kendalltau(x, y)\n",
    "    print(tau, p_value)"
   ]
  }
 ],
 "metadata": {
  "kernelspec": {
   "display_name": "Python 3",
   "language": "python",
   "name": "python3"
  },
  "language_info": {
   "codemirror_mode": {
    "name": "ipython",
    "version": 3
   },
   "file_extension": ".py",
   "mimetype": "text/x-python",
   "name": "python",
   "nbconvert_exporter": "python",
   "pygments_lexer": "ipython3",
   "version": "3.8.8"
  }
 },
 "nbformat": 4,
 "nbformat_minor": 5
}
