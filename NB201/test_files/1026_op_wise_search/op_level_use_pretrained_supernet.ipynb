{
 "cells": [
  {
   "cell_type": "code",
   "execution_count": 1,
   "id": "902bb49d",
   "metadata": {},
   "outputs": [
    {
     "name": "stderr",
     "output_type": "stream",
     "text": [
      "2022-11-07 07:10:46.570516: I tensorflow/core/util/util.cc:169] oneDNN custom operations are on. You may see slightly different numerical results due to floating-point round-off errors from different computation orders. To turn them off, set the environment variable `TF_ENABLE_ONEDNN_OPTS=0`.\n"
     ]
    }
   ],
   "source": [
    "import os, sys, time, glob, random, argparse\n",
    "import numpy as np\n",
    "from copy import deepcopy\n",
    "import torch\n",
    "import torch.nn as nn\n",
    "\n",
    "# XAutoDL \n",
    "from xautodl.config_utils import load_config, dict2config, configure2str\n",
    "from xautodl.datasets import get_datasets, get_nas_search_loaders\n",
    "from xautodl.procedures import (\n",
    "    prepare_seed,\n",
    "    prepare_logger,\n",
    "    save_checkpoint,\n",
    "    copy_checkpoint,\n",
    "    get_optim_scheduler,\n",
    ")\n",
    "from xautodl.utils import get_model_infos, obtain_accuracy\n",
    "from xautodl.log_utils import AverageMeter, time_string, convert_secs2time\n",
    "from xautodl.models import get_search_spaces\n",
    "\n",
    "from custom_models import get_cell_based_tiny_net\n",
    "from custom_search_cells import NAS201SearchCell as SearchCell\n",
    "from xautodl.models.cell_searchs.genotypes import Structure\n",
    "\n",
    "# NB201\n",
    "from nas_201_api import NASBench201API as API\n",
    "\n",
    "import scipy.stats as stats\n",
    "from tqdm import tqdm"
   ]
  },
  {
   "cell_type": "code",
   "execution_count": 2,
   "id": "792763c0",
   "metadata": {},
   "outputs": [
    {
     "name": "stdout",
     "output_type": "stream",
     "text": [
      "24382\n",
      "Namespace(arch_nas_dataset=None, channel=16, config_path='./MY.config', data_path='../cifar.python', dataset='cifar10', max_nodes=4, num_cells=5, print_freq=200, rand_seed=24382, save_dir='./op_level-use_pretrain', search_space_name='nas-bench-201', select_num=100, track_running_stats=0, workers=4)\n"
     ]
    }
   ],
   "source": [
    "parser = argparse.ArgumentParser(\"Random search for NAS.\")\n",
    "parser.add_argument(\"--data_path\", type=str, default='../cifar.python', help=\"The path to dataset\")\n",
    "parser.add_argument(\"--dataset\", type=str, default='cifar10',choices=[\"cifar10\", \"cifar100\", \"ImageNet16-120\"], help=\"Choose between Cifar10/100 and ImageNet-16.\")\n",
    "\n",
    "# channels and number-of-cells\n",
    "parser.add_argument(\"--search_space_name\", type=str, default='nas-bench-201', help=\"The search space name.\")\n",
    "parser.add_argument(\"--config_path\", type=str, default='./MY.config', help=\"The path to the configuration.\")\n",
    "parser.add_argument(\"--max_nodes\", type=int, default=4, help=\"The maximum number of nodes.\")\n",
    "parser.add_argument(\"--channel\", type=int, default=16, help=\"The number of channels.\")\n",
    "parser.add_argument(\"--num_cells\", type=int, default=5, help=\"The number of cells in one stage.\")\n",
    "parser.add_argument(\"--select_num\", type=int, default=100, help=\"The number of selected architectures to evaluate.\")\n",
    "parser.add_argument(\"--track_running_stats\", type=int, default=0, choices=[0, 1], help=\"Whether use track_running_stats or not in the BN layer.\")\n",
    "# log\n",
    "parser.add_argument(\"--workers\", type=int, default=4, help=\"number of data loading workers\")\n",
    "parser.add_argument(\"--save_dir\", type=str, default='./op_level-use_pretrain', help=\"Folder to save checkpoints and log.\")\n",
    "# parser.add_argument(\"--arch_nas_dataset\", type=str, default='../NAS-Bench-201-v1_1-096897.pth', help=\"The path to load the architecture dataset (tiny-nas-benchmark).\")\n",
    "parser.add_argument(\"--arch_nas_dataset\", type=str, default=None, help=\"The path to load the architecture dataset (tiny-nas-benchmark).\")\n",
    "parser.add_argument(\"--print_freq\", type=int, default=200, help=\"print frequency (default: 200)\")\n",
    "parser.add_argument(\"--rand_seed\", type=int, default=None, help=\"manual seed\")\n",
    "args = parser.parse_args(args=[])\n",
    "if args.rand_seed is None or args.rand_seed < 0:\n",
    "    args.rand_seed = random.randint(1, 100000)\n",
    "\n",
    "    \n",
    "print(args.rand_seed)\n",
    "print(args)\n",
    "xargs=args"
   ]
  },
  {
   "cell_type": "code",
   "execution_count": 3,
   "id": "6dcd1b68",
   "metadata": {},
   "outputs": [
    {
     "name": "stdout",
     "output_type": "stream",
     "text": [
      "Main Function with logger : Logger(dir=op_level-use_pretrain, use-tf=False, writer=None)\n",
      "Arguments : -------------------------------\n",
      "arch_nas_dataset : None\n",
      "channel          : 16\n",
      "config_path      : ./MY.config\n",
      "data_path        : ../cifar.python\n",
      "dataset          : cifar10\n",
      "max_nodes        : 4\n",
      "num_cells        : 5\n",
      "print_freq       : 200\n",
      "rand_seed        : 24382\n",
      "save_dir         : ./op_level-use_pretrain\n",
      "search_space_name : nas-bench-201\n",
      "select_num       : 100\n",
      "track_running_stats : 0\n",
      "workers          : 4\n",
      "Python  Version  : 3.7.13 (default, Mar 29 2022, 02:18:16)  [GCC 7.5.0]\n",
      "Pillow  Version  : 9.0.1\n",
      "PyTorch Version  : 1.12.0\n",
      "cuDNN   Version  : 8302\n",
      "CUDA available   : True\n",
      "CUDA GPU numbers : 2\n",
      "CUDA_VISIBLE_DEVICES : None\n"
     ]
    }
   ],
   "source": [
    "assert torch.cuda.is_available(), \"CUDA is not available.\"\n",
    "torch.backends.cudnn.enabled = True\n",
    "torch.backends.cudnn.benchmark = False\n",
    "torch.backends.cudnn.deterministic = True\n",
    "torch.set_num_threads(xargs.workers)\n",
    "prepare_seed(xargs.rand_seed)\n",
    "logger = prepare_logger(args)"
   ]
  },
  {
   "cell_type": "code",
   "execution_count": 4,
   "id": "9daa5275",
   "metadata": {},
   "outputs": [
    {
     "name": "stdout",
     "output_type": "stream",
     "text": [
      "Files already downloaded and verified\n",
      "Files already downloaded and verified\n",
      "./MY.config\n",
      "Configure(scheduler='cos', LR=0.025, eta_min=0.001, epochs=50, warmup=0, optim='SGD', decay=0.0005, momentum=0.9, nesterov=True, criterion='Softmax', batch_size=64, test_batch_size=512, class_num=10, xshape=(1, 3, 32, 32))\n",
      "||||||| cifar10    ||||||| Search-Loader-Num=391, Valid-Loader-Num=49, batch size=64\n",
      "||||||| cifar10    ||||||| Config=Configure(scheduler='cos', LR=0.025, eta_min=0.001, epochs=50, warmup=0, optim='SGD', decay=0.0005, momentum=0.9, nesterov=True, criterion='Softmax', batch_size=64, test_batch_size=512, class_num=10, xshape=(1, 3, 32, 32))\n",
      "w-optimizer : SGD (\n",
      "Parameter Group 0\n",
      "    dampening: 0\n",
      "    foreach: None\n",
      "    initial_lr: 0.025\n",
      "    lr: 0.025\n",
      "    maximize: False\n",
      "    momentum: 0.9\n",
      "    nesterov: True\n",
      "    weight_decay: 0.0005\n",
      ")\n",
      "w-scheduler : CosineAnnealingLR(warmup=0, max-epoch=50, current::epoch=0, iter=0.00, type=cosine, T-max=50, eta-min=0.001)\n",
      "criterion   : CrossEntropyLoss()\n",
      "[2022-11-07 07:10:49] create API = None done\n",
      "=> do not find the last-info file : op_level-use_pretrain/seed-24382-last-info.pth\n"
     ]
    }
   ],
   "source": [
    "train_data, valid_data, xshape, class_num = get_datasets(xargs.dataset, xargs.data_path, -1)\n",
    "config = load_config(xargs.config_path, {\"class_num\": class_num, \"xshape\": xshape}, logger)\n",
    "search_loader, _, valid_loader = get_nas_search_loaders(train_data,\n",
    "                                                        valid_data,\n",
    "                                                        xargs.dataset,\n",
    "                                                        \"../configs/nas-benchmark/\",\n",
    "                                                        (config.batch_size, config.test_batch_size),\n",
    "                                                        xargs.workers)\n",
    "logger.log(\"||||||| {:10s} ||||||| Search-Loader-Num={:}, Valid-Loader-Num={:}, batch size={:}\".format(\n",
    "            xargs.dataset, len(search_loader), len(valid_loader), config.batch_size))\n",
    "logger.log(\"||||||| {:10s} ||||||| Config={:}\".format(xargs.dataset, config))\n",
    "\n",
    "search_space = get_search_spaces(\"cell\", xargs.search_space_name)\n",
    "model_config = dict2config(\n",
    "    {\n",
    "        \"name\": \"RANDOM\",\n",
    "        \"C\": xargs.channel,\n",
    "        \"N\": xargs.num_cells,\n",
    "        \"max_nodes\": xargs.max_nodes,\n",
    "        \"num_classes\": class_num,\n",
    "        \"space\": search_space,\n",
    "        \"affine\": False,\n",
    "        \"track_running_stats\": bool(xargs.track_running_stats),\n",
    "    },\n",
    "    None,\n",
    ")\n",
    "search_model = get_cell_based_tiny_net(model_config)\n",
    "\n",
    "w_optimizer, w_scheduler, criterion = get_optim_scheduler(search_model.parameters(), config)\n",
    "\n",
    "logger.log(\"w-optimizer : {:}\".format(w_optimizer))\n",
    "logger.log(\"w-scheduler : {:}\".format(w_scheduler))\n",
    "logger.log(\"criterion   : {:}\".format(criterion))\n",
    "# if xargs.arch_nas_dataset is None:\n",
    "api = None\n",
    "# else:\n",
    "#     api = API(xargs.arch_nas_dataset)\n",
    "logger.log(\"{:} create API = {:} done\".format(time_string(), api))\n",
    "\n",
    "last_info, model_base_path, model_best_path = (\n",
    "    logger.path(\"info\"),\n",
    "    logger.path(\"model\"),\n",
    "    logger.path(\"best\"),\n",
    ")\n",
    "network, criterion = torch.nn.DataParallel(search_model).cuda(), criterion.cuda()\n",
    "\n",
    "if last_info.exists():  # automatically resume from previous checkpoint\n",
    "    logger.log(\n",
    "        \"=> loading checkpoint of the last-info '{:}' start\".format(last_info)\n",
    "    )\n",
    "    last_info = torch.load(last_info)\n",
    "    start_epoch = last_info[\"epoch\"]\n",
    "    checkpoint = torch.load(last_info[\"last_checkpoint\"])\n",
    "    genotypes = checkpoint[\"genotypes\"]\n",
    "    valid_accuracies = checkpoint[\"valid_accuracies\"]\n",
    "    search_model.load_state_dict(checkpoint[\"search_model\"])\n",
    "    w_scheduler.load_state_dict(checkpoint[\"w_scheduler\"])\n",
    "    w_optimizer.load_state_dict(checkpoint[\"w_optimizer\"])\n",
    "    logger.log(\n",
    "        \"=> loading checkpoint of the last-info '{:}' start with {:}-th epoch.\".format(\n",
    "            last_info, start_epoch\n",
    "        )\n",
    "    )\n",
    "else:\n",
    "    logger.log(\"=> do not find the last-info file : {:}\".format(last_info))\n",
    "    start_epoch, valid_accuracies, genotypes = 0, {\"best\": -1}, {}"
   ]
  },
  {
   "cell_type": "code",
   "execution_count": 5,
   "id": "94ba0e36",
   "metadata": {},
   "outputs": [],
   "source": [
    "def acc_confidence_robustness_metrics(network, inputs, targets):\n",
    "    with torch.no_grad():\n",
    "        # accuracy\n",
    "        network.train()\n",
    "        _, logits = network(inputs)\n",
    "        val_top1, val_top5 = obtain_accuracy(logits.data, targets.data, topk=(1, 5))\n",
    "        acc = val_top1\n",
    "        \n",
    "        # confidence\n",
    "        prob = torch.nn.functional.softmax(logits, dim=1)\n",
    "        one_hot_idx = torch.nn.functional.one_hot(targets)\n",
    "        confidence = (prob[one_hot_idx==1].sum()) / inputs.size(0) * 100 # in percent\n",
    "        \n",
    "        # sensitivity\n",
    "        _, noisy_logits = network(inputs + torch.randn_like(inputs)*0.1)\n",
    "        kl_loss = torch.nn.KLDivLoss(reduction=\"batchmean\")\n",
    "        sensitivity = kl_loss(torch.nn.functional.log_softmax(noisy_logits, dim=1), torch.nn.functional.softmax(logits, dim=1))\n",
    "        \n",
    "        # robustness\n",
    "        original_weights = deepcopy(network.state_dict())\n",
    "        for m in network.modules():\n",
    "            if isinstance(m, SearchCell):\n",
    "                for p in m.parameters():\n",
    "                    p.add_(torch.randn_like(p) * p.std()*0.3)\n",
    "            \n",
    "        _, noisy_logits = network(inputs)\n",
    "        kl_loss = torch.nn.KLDivLoss(reduction=\"batchmean\")\n",
    "        robustness = -kl_loss(torch.nn.functional.log_softmax(noisy_logits, dim=1), torch.nn.functional.softmax(logits, dim=1))\n",
    "        network.load_state_dict(original_weights)\n",
    "                \n",
    "        return acc.item(), confidence.item(), sensitivity.item(), robustness.item()\n",
    "    \n",
    "def step_sim_metric(network, criterion, inputs, targets):\n",
    "#     inputs, targets = inputs[:64], targets[:64] # smaller batches\n",
    "    original_dict = deepcopy(network.state_dict())\n",
    "    optim_large_step = torch.optim.SGD(network.parameters(), lr=0.025)\n",
    "    \n",
    "    # single large step\n",
    "    network.train()\n",
    "    optim_large_step.zero_grad()\n",
    "    _, logits = network(inputs)\n",
    "    base_loss = criterion(logits, targets)\n",
    "    base_loss.backward()\n",
    "    optim_large_step.step()\n",
    "    large_step_dict = deepcopy(network.state_dict())\n",
    "    \n",
    "    # multiple small steps\n",
    "    network.load_state_dict(original_dict)\n",
    "    optim_small_step = torch.optim.SGD(network.parameters(), lr=0.025/3)\n",
    "    for i in range(3):\n",
    "        optim_small_step.zero_grad()\n",
    "        _, logits = network(inputs)\n",
    "        base_loss = criterion(logits, targets)\n",
    "        base_loss.backward()\n",
    "        optim_small_step.step()\n",
    "    small_step_dict = deepcopy(network.state_dict())\n",
    "    scores = []\n",
    "    for key in large_step_dict.keys():\n",
    "        if ('weight' in key) and (original_dict[key].dim()==4):\n",
    "            if (original_dict[key] != large_step_dict[key]).sum():\n",
    "                large_step = large_step_dict[key] - original_dict[key]\n",
    "                small_step = small_step_dict[key] - original_dict[key]\n",
    "                co, ci, kh, kw = large_step.size()\n",
    "                large_step = large_step.view(co, -1)\n",
    "                small_step = small_step.view(co, -1)\n",
    "                score = torch.nn.functional.cosine_similarity(large_step, small_step, dim=1)\n",
    "                score = score.mean().item() * 100 # in percent\n",
    "                scores.append(score)\n",
    "    if len(scores)==0:\n",
    "        step_sim = 100\n",
    "        raise RuntimeError\n",
    "    else:\n",
    "        step_sim = np.mean(scores)\n",
    "    \n",
    "    # resume\n",
    "    network.load_state_dict(original_dict)\n",
    "            \n",
    "    return step_sim"
   ]
  },
  {
   "cell_type": "code",
   "execution_count": 6,
   "id": "ebdd6c2a",
   "metadata": {},
   "outputs": [
    {
     "data": {
      "text/plain": [
       "<All keys matched successfully>"
      ]
     },
     "execution_count": 6,
     "metadata": {},
     "output_type": "execute_result"
    }
   ],
   "source": [
    "supernet_weights = torch.load(\"./250ep_cosine_supernet_cell_wise.pth\")\n",
    "network.load_state_dict(supernet_weights)"
   ]
  },
  {
   "cell_type": "code",
   "execution_count": 7,
   "id": "67cdab22",
   "metadata": {
    "scrolled": true
   },
   "outputs": [
    {
     "name": "stdout",
     "output_type": "stream",
     "text": [
      "total number of nodes:60\n",
      "target_node:1 4\n",
      "target_node:2 20\n",
      "target_node:3 100\n",
      "arch loop#0, current structure:\n",
      "Structure(4 nodes with |skip_connect~0|+|none~0|skip_connect~1|+|none~0|none~1|skip_connect~2|)\n",
      "Structure(4 nodes with |skip_connect~0|+|none~0|skip_connect~1|+|none~0|none~1|skip_connect~2|)\n",
      "Structure(4 nodes with |skip_connect~0|+|none~0|skip_connect~1|+|none~0|none~1|skip_connect~2|)\n",
      "Structure(4 nodes with |skip_connect~0|+|none~0|skip_connect~1|+|none~0|none~1|skip_connect~2|)\n",
      "Structure(4 nodes with |skip_connect~0|+|none~0|skip_connect~1|+|none~0|none~1|skip_connect~2|)\n",
      "Structure(4 nodes with |skip_connect~0|+|none~0|skip_connect~1|+|none~0|none~1|skip_connect~2|)\n",
      "Structure(4 nodes with |skip_connect~0|+|none~0|skip_connect~1|+|none~0|none~1|skip_connect~2|)\n",
      "Structure(4 nodes with |skip_connect~0|+|none~0|skip_connect~1|+|none~0|none~1|skip_connect~2|)\n",
      "Structure(4 nodes with |skip_connect~0|+|none~0|skip_connect~1|+|none~0|none~1|skip_connect~2|)\n",
      "Structure(4 nodes with |skip_connect~0|+|none~0|skip_connect~1|+|none~0|none~1|skip_connect~2|)\n",
      "Structure(4 nodes with |skip_connect~0|+|none~0|skip_connect~1|+|none~0|none~1|skip_connect~2|)\n",
      "Structure(4 nodes with |skip_connect~0|+|none~0|skip_connect~1|+|none~0|none~1|skip_connect~2|)\n",
      "Structure(4 nodes with |skip_connect~0|+|none~0|skip_connect~1|+|none~0|none~1|skip_connect~2|)\n",
      "Structure(4 nodes with |skip_connect~0|+|none~0|skip_connect~1|+|none~0|none~1|skip_connect~2|)\n",
      "Structure(4 nodes with |skip_connect~0|+|none~0|skip_connect~1|+|none~0|none~1|skip_connect~2|)\n",
      "\n",
      "\n",
      " Searching with a cell #0\n",
      "\n",
      "Current target cell:0 / current target node:1\n"
     ]
    },
    {
     "name": "stderr",
     "output_type": "stream",
     "text": [
      "100%|██████████| 4/4 [00:06<00:00,  1.71s/it]"
     ]
    },
    {
     "name": "stdout",
     "output_type": "stream",
     "text": [
      "Found best op for target cell:0 / target node:1\n",
      ": Structure(4 nodes with |nor_conv_3x3~0|+|none~0|skip_connect~1|+|none~0|none~1|skip_connect~2|) with accuracy=27.73%, confidence=13.169%, sensitivity=0.002, robustness=-0.001, step_sim=95.693\n",
      "\n",
      "Current target cell:0 / current target node:2\n"
     ]
    },
    {
     "name": "stderr",
     "output_type": "stream",
     "text": [
      "\n",
      "100%|██████████| 20/20 [00:16<00:00,  1.18it/s]"
     ]
    },
    {
     "name": "stdout",
     "output_type": "stream",
     "text": [
      "Found best op for target cell:0 / target node:2\n",
      ": Structure(4 nodes with |nor_conv_3x3~0|+|nor_conv_3x3~0|nor_conv_1x1~1|+|none~0|none~1|skip_connect~2|) with accuracy=32.42%, confidence=13.587%, sensitivity=0.002, robustness=-0.001, step_sim=96.501\n",
      "\n",
      "Current target cell:0 / current target node:3\n"
     ]
    },
    {
     "name": "stderr",
     "output_type": "stream",
     "text": [
      "\n",
      "100%|██████████| 100/100 [01:42<00:00,  1.03s/it]"
     ]
    },
    {
     "name": "stdout",
     "output_type": "stream",
     "text": [
      "Found best op for target cell:0 / target node:3\n",
      ": Structure(4 nodes with |nor_conv_3x3~0|+|nor_conv_3x3~0|nor_conv_1x1~1|+|nor_conv_3x3~0|nor_conv_1x1~1|nor_conv_3x3~2|) with accuracy=34.18%, confidence=13.900%, sensitivity=0.002, robustness=-0.000, step_sim=97.500\n",
      "\n",
      "\n",
      " Searching with a cell #1\n",
      "\n",
      "Current target cell:1 / current target node:1\n"
     ]
    },
    {
     "name": "stderr",
     "output_type": "stream",
     "text": [
      "\n",
      "100%|██████████| 4/4 [00:05<00:00,  1.32s/it]"
     ]
    },
    {
     "name": "stdout",
     "output_type": "stream",
     "text": [
      "Found best op for target cell:1 / target node:1\n",
      ": Structure(4 nodes with |avg_pool_3x3~0|+|none~0|skip_connect~1|+|none~0|none~1|skip_connect~2|) with accuracy=33.20%, confidence=14.038%, sensitivity=0.002, robustness=-0.000, step_sim=97.474\n",
      "\n",
      "Current target cell:1 / current target node:2\n"
     ]
    },
    {
     "name": "stderr",
     "output_type": "stream",
     "text": [
      "\n",
      "100%|██████████| 20/20 [00:17<00:00,  1.13it/s]"
     ]
    },
    {
     "name": "stdout",
     "output_type": "stream",
     "text": [
      "Found best op for target cell:1 / target node:2\n",
      ": Structure(4 nodes with |avg_pool_3x3~0|+|nor_conv_3x3~0|avg_pool_3x3~1|+|none~0|none~1|skip_connect~2|) with accuracy=40.04%, confidence=14.354%, sensitivity=0.002, robustness=-0.000, step_sim=97.532\n",
      "\n",
      "Current target cell:1 / current target node:3\n"
     ]
    },
    {
     "name": "stderr",
     "output_type": "stream",
     "text": [
      "\n",
      "100%|██████████| 100/100 [01:50<00:00,  1.10s/it]"
     ]
    },
    {
     "name": "stdout",
     "output_type": "stream",
     "text": [
      "Found best op for target cell:1 / target node:3\n",
      ": Structure(4 nodes with |avg_pool_3x3~0|+|nor_conv_3x3~0|avg_pool_3x3~1|+|nor_conv_1x1~0|avg_pool_3x3~1|nor_conv_3x3~2|) with accuracy=40.82%, confidence=14.570%, sensitivity=0.002, robustness=-0.000, step_sim=97.837\n",
      "\n",
      "\n",
      " Searching with a cell #2\n",
      "\n",
      "Current target cell:2 / current target node:1\n"
     ]
    },
    {
     "name": "stderr",
     "output_type": "stream",
     "text": [
      "\n",
      "100%|██████████| 4/4 [00:05<00:00,  1.34s/it]"
     ]
    },
    {
     "name": "stdout",
     "output_type": "stream",
     "text": [
      "Found best op for target cell:2 / target node:1\n",
      ": Structure(4 nodes with |skip_connect~0|+|none~0|skip_connect~1|+|none~0|none~1|skip_connect~2|) with accuracy=39.06%, confidence=14.444%, sensitivity=0.002, robustness=-0.000, step_sim=97.782\n",
      "\n",
      "Current target cell:2 / current target node:2\n"
     ]
    },
    {
     "name": "stderr",
     "output_type": "stream",
     "text": [
      "\n",
      "100%|██████████| 20/20 [00:20<00:00,  1.02s/it]"
     ]
    },
    {
     "name": "stdout",
     "output_type": "stream",
     "text": [
      "Found best op for target cell:2 / target node:2\n",
      ": Structure(4 nodes with |skip_connect~0|+|skip_connect~0|nor_conv_1x1~1|+|none~0|none~1|skip_connect~2|) with accuracy=37.30%, confidence=14.491%, sensitivity=0.002, robustness=-0.000, step_sim=97.876\n",
      "\n",
      "Current target cell:2 / current target node:3\n"
     ]
    },
    {
     "name": "stderr",
     "output_type": "stream",
     "text": [
      "\n",
      "100%|██████████| 100/100 [01:55<00:00,  1.15s/it]"
     ]
    },
    {
     "name": "stdout",
     "output_type": "stream",
     "text": [
      "Found best op for target cell:2 / target node:3\n",
      ": Structure(4 nodes with |skip_connect~0|+|skip_connect~0|nor_conv_1x1~1|+|nor_conv_1x1~0|nor_conv_1x1~1|skip_connect~2|) with accuracy=40.82%, confidence=14.799%, sensitivity=0.002, robustness=-0.000, step_sim=97.843\n",
      "\n",
      "\n",
      " Searching with a cell #3\n",
      "\n",
      "Current target cell:3 / current target node:1\n"
     ]
    },
    {
     "name": "stderr",
     "output_type": "stream",
     "text": [
      "\n",
      "100%|██████████| 4/4 [00:04<00:00,  1.12s/it]"
     ]
    },
    {
     "name": "stdout",
     "output_type": "stream",
     "text": [
      "Found best op for target cell:3 / target node:1\n",
      ": Structure(4 nodes with |nor_conv_1x1~0|+|none~0|skip_connect~1|+|none~0|none~1|skip_connect~2|) with accuracy=33.59%, confidence=13.871%, sensitivity=0.002, robustness=-0.001, step_sim=97.952\n",
      "\n",
      "Current target cell:3 / current target node:2\n"
     ]
    },
    {
     "name": "stderr",
     "output_type": "stream",
     "text": [
      "\n",
      "100%|██████████| 20/20 [00:21<00:00,  1.07s/it]"
     ]
    },
    {
     "name": "stdout",
     "output_type": "stream",
     "text": [
      "Found best op for target cell:3 / target node:2\n",
      ": Structure(4 nodes with |nor_conv_1x1~0|+|nor_conv_3x3~0|avg_pool_3x3~1|+|none~0|none~1|skip_connect~2|) with accuracy=37.11%, confidence=14.104%, sensitivity=0.002, robustness=-0.000, step_sim=98.235\n",
      "\n",
      "Current target cell:3 / current target node:3\n"
     ]
    },
    {
     "name": "stderr",
     "output_type": "stream",
     "text": [
      "\n",
      "100%|██████████| 100/100 [01:56<00:00,  1.16s/it]"
     ]
    },
    {
     "name": "stdout",
     "output_type": "stream",
     "text": [
      "Found best op for target cell:3 / target node:3\n",
      ": Structure(4 nodes with |nor_conv_1x1~0|+|nor_conv_3x3~0|avg_pool_3x3~1|+|none~0|skip_connect~1|nor_conv_3x3~2|) with accuracy=39.65%, confidence=14.450%, sensitivity=0.002, robustness=-0.000, step_sim=98.254\n",
      "\n",
      "\n",
      " Searching with a cell #4\n",
      "\n",
      "Current target cell:4 / current target node:1\n"
     ]
    },
    {
     "name": "stderr",
     "output_type": "stream",
     "text": [
      "\n",
      "100%|██████████| 4/4 [00:04<00:00,  1.16s/it]"
     ]
    },
    {
     "name": "stdout",
     "output_type": "stream",
     "text": [
      "Found best op for target cell:4 / target node:1\n",
      ": Structure(4 nodes with |skip_connect~0|+|none~0|skip_connect~1|+|none~0|none~1|skip_connect~2|) with accuracy=35.35%, confidence=13.860%, sensitivity=0.002, robustness=-0.001, step_sim=98.239\n",
      "\n",
      "Current target cell:4 / current target node:2\n"
     ]
    },
    {
     "name": "stderr",
     "output_type": "stream",
     "text": [
      "\n",
      "100%|██████████| 20/20 [00:21<00:00,  1.08s/it]"
     ]
    },
    {
     "name": "stdout",
     "output_type": "stream",
     "text": [
      "Found best op for target cell:4 / target node:2\n",
      ": Structure(4 nodes with |skip_connect~0|+|skip_connect~0|nor_conv_1x1~1|+|none~0|none~1|skip_connect~2|) with accuracy=40.43%, confidence=14.336%, sensitivity=0.002, robustness=-0.001, step_sim=98.264\n",
      "\n",
      "Current target cell:4 / current target node:3\n"
     ]
    },
    {
     "name": "stderr",
     "output_type": "stream",
     "text": [
      "\n",
      "100%|██████████| 100/100 [02:00<00:00,  1.20s/it]"
     ]
    },
    {
     "name": "stdout",
     "output_type": "stream",
     "text": [
      "Found best op for target cell:4 / target node:3\n",
      ": Structure(4 nodes with |skip_connect~0|+|skip_connect~0|nor_conv_1x1~1|+|skip_connect~0|nor_conv_3x3~1|nor_conv_3x3~2|) with accuracy=40.43%, confidence=14.332%, sensitivity=0.002, robustness=-0.000, step_sim=98.409\n",
      "\n",
      "\n",
      " Searching with a cell #5\n",
      "\n",
      "Current target cell:5 / current target node:1\n"
     ]
    },
    {
     "name": "stderr",
     "output_type": "stream",
     "text": [
      "\n",
      "100%|██████████| 4/4 [00:04<00:00,  1.16s/it]"
     ]
    },
    {
     "name": "stdout",
     "output_type": "stream",
     "text": [
      "Found best op for target cell:5 / target node:1\n",
      ": Structure(4 nodes with |nor_conv_3x3~0|+|none~0|skip_connect~1|+|none~0|none~1|skip_connect~2|) with accuracy=42.97%, confidence=14.929%, sensitivity=0.002, robustness=-0.001, step_sim=98.533\n",
      "\n",
      "Current target cell:5 / current target node:2\n"
     ]
    },
    {
     "name": "stderr",
     "output_type": "stream",
     "text": [
      "\n",
      "100%|██████████| 20/20 [00:25<00:00,  1.26s/it]"
     ]
    },
    {
     "name": "stdout",
     "output_type": "stream",
     "text": [
      "Found best op for target cell:5 / target node:2\n",
      ": Structure(4 nodes with |nor_conv_3x3~0|+|avg_pool_3x3~0|skip_connect~1|+|none~0|none~1|skip_connect~2|) with accuracy=46.09%, confidence=15.751%, sensitivity=0.002, robustness=-0.000, step_sim=98.467\n",
      "\n",
      "Current target cell:5 / current target node:3\n"
     ]
    },
    {
     "name": "stderr",
     "output_type": "stream",
     "text": [
      "\n",
      "100%|██████████| 100/100 [02:10<00:00,  1.30s/it]"
     ]
    },
    {
     "name": "stdout",
     "output_type": "stream",
     "text": [
      "Found best op for target cell:5 / target node:3\n",
      ": Structure(4 nodes with |nor_conv_3x3~0|+|avg_pool_3x3~0|skip_connect~1|+|avg_pool_3x3~0|nor_conv_1x1~1|nor_conv_3x3~2|) with accuracy=49.02%, confidence=16.466%, sensitivity=0.002, robustness=-0.000, step_sim=98.521\n",
      "\n",
      "\n",
      " Searching with a cell #6\n",
      "\n",
      "Current target cell:6 / current target node:1\n"
     ]
    },
    {
     "name": "stderr",
     "output_type": "stream",
     "text": [
      "\n",
      "100%|██████████| 4/4 [00:05<00:00,  1.35s/it]"
     ]
    },
    {
     "name": "stdout",
     "output_type": "stream",
     "text": [
      "Found best op for target cell:6 / target node:1\n",
      ": Structure(4 nodes with |avg_pool_3x3~0|+|none~0|skip_connect~1|+|none~0|none~1|skip_connect~2|) with accuracy=52.54%, confidence=17.848%, sensitivity=0.002, robustness=-0.001, step_sim=98.542\n",
      "\n",
      "Current target cell:6 / current target node:2\n"
     ]
    },
    {
     "name": "stderr",
     "output_type": "stream",
     "text": [
      "\n",
      "100%|██████████| 20/20 [00:24<00:00,  1.25s/it]"
     ]
    },
    {
     "name": "stdout",
     "output_type": "stream",
     "text": [
      "Found best op for target cell:6 / target node:2\n",
      ": Structure(4 nodes with |avg_pool_3x3~0|+|nor_conv_1x1~0|avg_pool_3x3~1|+|none~0|none~1|skip_connect~2|) with accuracy=53.12%, confidence=18.064%, sensitivity=0.003, robustness=-0.001, step_sim=98.472\n",
      "\n",
      "Current target cell:6 / current target node:3\n"
     ]
    },
    {
     "name": "stderr",
     "output_type": "stream",
     "text": [
      "\n",
      "100%|██████████| 100/100 [02:10<00:00,  1.30s/it]"
     ]
    },
    {
     "name": "stdout",
     "output_type": "stream",
     "text": [
      "Found best op for target cell:6 / target node:3\n",
      ": Structure(4 nodes with |avg_pool_3x3~0|+|nor_conv_1x1~0|avg_pool_3x3~1|+|none~0|avg_pool_3x3~1|nor_conv_1x1~2|) with accuracy=54.10%, confidence=18.809%, sensitivity=0.003, robustness=-0.001, step_sim=98.573\n",
      "\n",
      "\n",
      " Searching with a cell #7\n",
      "\n",
      "Current target cell:7 / current target node:1\n"
     ]
    },
    {
     "name": "stderr",
     "output_type": "stream",
     "text": [
      "\n",
      "100%|██████████| 4/4 [00:04<00:00,  1.21s/it]"
     ]
    },
    {
     "name": "stdout",
     "output_type": "stream",
     "text": [
      "Found best op for target cell:7 / target node:1\n",
      ": Structure(4 nodes with |avg_pool_3x3~0|+|none~0|skip_connect~1|+|none~0|none~1|skip_connect~2|) with accuracy=54.30%, confidence=19.795%, sensitivity=0.003, robustness=-0.001, step_sim=98.082\n",
      "\n",
      "Current target cell:7 / current target node:2\n"
     ]
    },
    {
     "name": "stderr",
     "output_type": "stream",
     "text": [
      "\n",
      "100%|██████████| 20/20 [00:23<00:00,  1.18s/it]"
     ]
    },
    {
     "name": "stdout",
     "output_type": "stream",
     "text": [
      "Found best op for target cell:7 / target node:2\n",
      ": Structure(4 nodes with |avg_pool_3x3~0|+|nor_conv_3x3~0|skip_connect~1|+|none~0|none~1|skip_connect~2|) with accuracy=53.71%, confidence=19.985%, sensitivity=0.003, robustness=-0.001, step_sim=98.193\n",
      "\n",
      "Current target cell:7 / current target node:3\n"
     ]
    },
    {
     "name": "stderr",
     "output_type": "stream",
     "text": [
      "\n",
      "100%|██████████| 100/100 [02:12<00:00,  1.32s/it]"
     ]
    },
    {
     "name": "stdout",
     "output_type": "stream",
     "text": [
      "Found best op for target cell:7 / target node:3\n",
      ": Structure(4 nodes with |avg_pool_3x3~0|+|nor_conv_3x3~0|skip_connect~1|+|nor_conv_1x1~0|none~1|skip_connect~2|) with accuracy=55.47%, confidence=19.836%, sensitivity=0.003, robustness=-0.001, step_sim=98.296\n",
      "\n",
      "\n",
      " Searching with a cell #8\n",
      "\n",
      "Current target cell:8 / current target node:1\n"
     ]
    },
    {
     "name": "stderr",
     "output_type": "stream",
     "text": [
      "\n",
      "100%|██████████| 4/4 [00:06<00:00,  1.64s/it]"
     ]
    },
    {
     "name": "stdout",
     "output_type": "stream",
     "text": [
      "Found best op for target cell:8 / target node:1\n",
      ": Structure(4 nodes with |skip_connect~0|+|none~0|skip_connect~1|+|none~0|none~1|skip_connect~2|) with accuracy=54.30%, confidence=19.897%, sensitivity=0.003, robustness=-0.001, step_sim=98.127\n",
      "\n",
      "Current target cell:8 / current target node:2\n"
     ]
    },
    {
     "name": "stderr",
     "output_type": "stream",
     "text": [
      "\n",
      "100%|██████████| 20/20 [00:27<00:00,  1.37s/it]"
     ]
    },
    {
     "name": "stdout",
     "output_type": "stream",
     "text": [
      "Found best op for target cell:8 / target node:2\n",
      ": Structure(4 nodes with |skip_connect~0|+|nor_conv_3x3~0|avg_pool_3x3~1|+|none~0|none~1|skip_connect~2|) with accuracy=56.05%, confidence=20.277%, sensitivity=0.004, robustness=-0.001, step_sim=97.380\n",
      "\n",
      "Current target cell:8 / current target node:3\n"
     ]
    },
    {
     "name": "stderr",
     "output_type": "stream",
     "text": [
      "\n",
      "100%|██████████| 100/100 [02:11<00:00,  1.32s/it]"
     ]
    },
    {
     "name": "stdout",
     "output_type": "stream",
     "text": [
      "Found best op for target cell:8 / target node:3\n",
      ": Structure(4 nodes with |skip_connect~0|+|nor_conv_3x3~0|avg_pool_3x3~1|+|nor_conv_1x1~0|avg_pool_3x3~1|nor_conv_3x3~2|) with accuracy=52.73%, confidence=20.457%, sensitivity=0.004, robustness=-0.001, step_sim=97.150\n",
      "\n",
      "\n",
      " Searching with a cell #9\n",
      "\n",
      "Current target cell:9 / current target node:1\n"
     ]
    },
    {
     "name": "stderr",
     "output_type": "stream",
     "text": [
      "\n",
      "100%|██████████| 4/4 [00:06<00:00,  1.55s/it]"
     ]
    },
    {
     "name": "stdout",
     "output_type": "stream",
     "text": [
      "Found best op for target cell:9 / target node:1\n",
      ": Structure(4 nodes with |avg_pool_3x3~0|+|none~0|skip_connect~1|+|none~0|none~1|skip_connect~2|) with accuracy=53.12%, confidence=21.187%, sensitivity=0.003, robustness=-0.001, step_sim=97.185\n",
      "\n",
      "Current target cell:9 / current target node:2\n"
     ]
    },
    {
     "name": "stderr",
     "output_type": "stream",
     "text": [
      "\n",
      "100%|██████████| 20/20 [00:26<00:00,  1.35s/it]"
     ]
    },
    {
     "name": "stdout",
     "output_type": "stream",
     "text": [
      "Found best op for target cell:9 / target node:2\n",
      ": Structure(4 nodes with |avg_pool_3x3~0|+|nor_conv_3x3~0|avg_pool_3x3~1|+|none~0|none~1|skip_connect~2|) with accuracy=52.15%, confidence=20.460%, sensitivity=0.004, robustness=-0.001, step_sim=96.611\n",
      "\n",
      "Current target cell:9 / current target node:3\n"
     ]
    },
    {
     "name": "stderr",
     "output_type": "stream",
     "text": [
      "\n",
      "100%|██████████| 100/100 [02:16<00:00,  1.36s/it]"
     ]
    },
    {
     "name": "stdout",
     "output_type": "stream",
     "text": [
      "Found best op for target cell:9 / target node:3\n",
      ": Structure(4 nodes with |avg_pool_3x3~0|+|nor_conv_3x3~0|avg_pool_3x3~1|+|none~0|nor_conv_1x1~1|avg_pool_3x3~2|) with accuracy=51.95%, confidence=20.958%, sensitivity=0.004, robustness=-0.001, step_sim=96.453\n",
      "\n",
      "\n",
      " Searching with a cell #10\n",
      "\n",
      "Current target cell:10 / current target node:1\n"
     ]
    },
    {
     "name": "stderr",
     "output_type": "stream",
     "text": [
      "\n",
      "100%|██████████| 4/4 [00:04<00:00,  1.24s/it]"
     ]
    },
    {
     "name": "stdout",
     "output_type": "stream",
     "text": [
      "Found best op for target cell:10 / target node:1\n",
      ": Structure(4 nodes with |nor_conv_3x3~0|+|none~0|skip_connect~1|+|none~0|none~1|skip_connect~2|) with accuracy=59.18%, confidence=32.826%, sensitivity=0.008, robustness=-0.003, step_sim=97.489\n",
      "\n",
      "Current target cell:10 / current target node:2\n"
     ]
    },
    {
     "name": "stderr",
     "output_type": "stream",
     "text": [
      "\n",
      "100%|██████████| 20/20 [00:28<00:00,  1.41s/it]"
     ]
    },
    {
     "name": "stdout",
     "output_type": "stream",
     "text": [
      "Found best op for target cell:10 / target node:2\n",
      ": Structure(4 nodes with |nor_conv_3x3~0|+|nor_conv_3x3~0|nor_conv_1x1~1|+|none~0|none~1|skip_connect~2|) with accuracy=66.41%, confidence=39.603%, sensitivity=0.012, robustness=-0.005, step_sim=98.168\n",
      "\n",
      "Current target cell:10 / current target node:3\n"
     ]
    },
    {
     "name": "stderr",
     "output_type": "stream",
     "text": [
      "\n",
      "100%|██████████| 100/100 [02:09<00:00,  1.29s/it]"
     ]
    },
    {
     "name": "stdout",
     "output_type": "stream",
     "text": [
      "Found best op for target cell:10 / target node:3\n",
      ": Structure(4 nodes with |nor_conv_3x3~0|+|nor_conv_3x3~0|nor_conv_1x1~1|+|avg_pool_3x3~0|nor_conv_1x1~1|nor_conv_3x3~2|) with accuracy=66.80%, confidence=42.974%, sensitivity=0.014, robustness=-0.005, step_sim=97.771\n",
      "\n",
      "\n",
      " Searching with a cell #11\n",
      "\n",
      "Current target cell:11 / current target node:1\n"
     ]
    },
    {
     "name": "stderr",
     "output_type": "stream",
     "text": [
      "\n",
      "100%|██████████| 4/4 [00:06<00:00,  1.52s/it]"
     ]
    },
    {
     "name": "stdout",
     "output_type": "stream",
     "text": [
      "Found best op for target cell:11 / target node:1\n",
      ": Structure(4 nodes with |nor_conv_3x3~0|+|none~0|skip_connect~1|+|none~0|none~1|skip_connect~2|) with accuracy=67.19%, confidence=45.653%, sensitivity=0.016, robustness=-0.005, step_sim=97.477\n",
      "\n",
      "Current target cell:11 / current target node:2\n"
     ]
    },
    {
     "name": "stderr",
     "output_type": "stream",
     "text": [
      "\n",
      "100%|██████████| 20/20 [00:26<00:00,  1.34s/it]"
     ]
    },
    {
     "name": "stdout",
     "output_type": "stream",
     "text": [
      "Found best op for target cell:11 / target node:2\n",
      ": Structure(4 nodes with |nor_conv_3x3~0|+|avg_pool_3x3~0|nor_conv_1x1~1|+|none~0|none~1|skip_connect~2|) with accuracy=66.02%, confidence=46.804%, sensitivity=0.018, robustness=-0.005, step_sim=97.960\n",
      "\n",
      "Current target cell:11 / current target node:3\n"
     ]
    },
    {
     "name": "stderr",
     "output_type": "stream",
     "text": [
      "\n",
      "100%|██████████| 100/100 [02:15<00:00,  1.36s/it]"
     ]
    },
    {
     "name": "stdout",
     "output_type": "stream",
     "text": [
      "Found best op for target cell:11 / target node:3\n",
      ": Structure(4 nodes with |nor_conv_3x3~0|+|avg_pool_3x3~0|nor_conv_1x1~1|+|nor_conv_1x1~0|nor_conv_1x1~1|avg_pool_3x3~2|) with accuracy=66.80%, confidence=51.299%, sensitivity=0.021, robustness=-0.006, step_sim=96.956\n",
      "\n",
      "\n",
      " Searching with a cell #12\n",
      "\n",
      "Current target cell:12 / current target node:1\n"
     ]
    },
    {
     "name": "stderr",
     "output_type": "stream",
     "text": [
      "\n",
      "100%|██████████| 4/4 [00:06<00:00,  1.63s/it]"
     ]
    },
    {
     "name": "stdout",
     "output_type": "stream",
     "text": [
      "Found best op for target cell:12 / target node:1\n",
      ": Structure(4 nodes with |nor_conv_3x3~0|+|none~0|skip_connect~1|+|none~0|none~1|skip_connect~2|) with accuracy=64.65%, confidence=49.456%, sensitivity=0.022, robustness=-0.008, step_sim=96.836\n",
      "\n",
      "Current target cell:12 / current target node:2\n"
     ]
    },
    {
     "name": "stderr",
     "output_type": "stream",
     "text": [
      "\n",
      "100%|██████████| 20/20 [00:30<00:00,  1.52s/it]"
     ]
    },
    {
     "name": "stdout",
     "output_type": "stream",
     "text": [
      "Found best op for target cell:12 / target node:2\n",
      ": Structure(4 nodes with |nor_conv_3x3~0|+|nor_conv_3x3~0|nor_conv_3x3~1|+|none~0|none~1|skip_connect~2|) with accuracy=67.58%, confidence=52.375%, sensitivity=0.025, robustness=-0.009, step_sim=97.709\n",
      "\n",
      "Current target cell:12 / current target node:3\n"
     ]
    },
    {
     "name": "stderr",
     "output_type": "stream",
     "text": [
      "\n",
      "100%|██████████| 100/100 [02:25<00:00,  1.46s/it]"
     ]
    },
    {
     "name": "stdout",
     "output_type": "stream",
     "text": [
      "Found best op for target cell:12 / target node:3\n",
      ": Structure(4 nodes with |nor_conv_3x3~0|+|nor_conv_3x3~0|nor_conv_3x3~1|+|nor_conv_3x3~0|none~1|avg_pool_3x3~2|) with accuracy=70.12%, confidence=56.231%, sensitivity=0.025, robustness=-0.006, step_sim=98.178\n",
      "\n",
      "\n",
      " Searching with a cell #13\n",
      "\n",
      "Current target cell:13 / current target node:1\n"
     ]
    },
    {
     "name": "stderr",
     "output_type": "stream",
     "text": [
      "\n",
      "100%|██████████| 4/4 [00:04<00:00,  1.22s/it]"
     ]
    },
    {
     "name": "stdout",
     "output_type": "stream",
     "text": [
      "Found best op for target cell:13 / target node:1\n",
      ": Structure(4 nodes with |nor_conv_1x1~0|+|none~0|skip_connect~1|+|none~0|none~1|skip_connect~2|) with accuracy=66.60%, confidence=53.246%, sensitivity=0.029, robustness=-0.010, step_sim=96.453\n",
      "\n",
      "Current target cell:13 / current target node:2\n"
     ]
    },
    {
     "name": "stderr",
     "output_type": "stream",
     "text": [
      "\n",
      "100%|██████████| 20/20 [00:25<00:00,  1.28s/it]"
     ]
    },
    {
     "name": "stdout",
     "output_type": "stream",
     "text": [
      "Found best op for target cell:13 / target node:2\n",
      ": Structure(4 nodes with |nor_conv_1x1~0|+|none~0|avg_pool_3x3~1|+|none~0|none~1|skip_connect~2|) with accuracy=64.06%, confidence=54.599%, sensitivity=0.036, robustness=-0.011, step_sim=95.816\n",
      "\n",
      "Current target cell:13 / current target node:3\n"
     ]
    },
    {
     "name": "stderr",
     "output_type": "stream",
     "text": [
      "\n",
      "100%|██████████| 100/100 [02:20<00:00,  1.41s/it]"
     ]
    },
    {
     "name": "stdout",
     "output_type": "stream",
     "text": [
      "Found best op for target cell:13 / target node:3\n",
      ": Structure(4 nodes with |nor_conv_1x1~0|+|none~0|avg_pool_3x3~1|+|none~0|avg_pool_3x3~1|nor_conv_1x1~2|) with accuracy=66.80%, confidence=55.016%, sensitivity=0.043, robustness=-0.010, step_sim=96.275\n",
      "\n",
      "\n",
      " Searching with a cell #14\n",
      "\n",
      "Current target cell:14 / current target node:1\n"
     ]
    },
    {
     "name": "stderr",
     "output_type": "stream",
     "text": [
      "\n",
      "100%|██████████| 4/4 [00:05<00:00,  1.45s/it]"
     ]
    },
    {
     "name": "stdout",
     "output_type": "stream",
     "text": [
      "Found best op for target cell:14 / target node:1\n",
      ": Structure(4 nodes with |nor_conv_1x1~0|+|none~0|skip_connect~1|+|none~0|none~1|skip_connect~2|) with accuracy=64.45%, confidence=54.596%, sensitivity=0.033, robustness=-0.012, step_sim=95.887\n",
      "\n",
      "Current target cell:14 / current target node:2\n"
     ]
    },
    {
     "name": "stderr",
     "output_type": "stream",
     "text": [
      "\n",
      "100%|██████████| 20/20 [00:26<00:00,  1.32s/it]"
     ]
    },
    {
     "name": "stdout",
     "output_type": "stream",
     "text": [
      "Found best op for target cell:14 / target node:2\n",
      ": Structure(4 nodes with |nor_conv_1x1~0|+|avg_pool_3x3~0|nor_conv_1x1~1|+|none~0|none~1|skip_connect~2|) with accuracy=67.19%, confidence=57.882%, sensitivity=0.038, robustness=-0.013, step_sim=96.424\n",
      "\n",
      "Current target cell:14 / current target node:3\n"
     ]
    },
    {
     "name": "stderr",
     "output_type": "stream",
     "text": [
      "\n",
      "100%|██████████| 100/100 [02:29<00:00,  1.50s/it]"
     ]
    },
    {
     "name": "stdout",
     "output_type": "stream",
     "text": [
      "Found best op for target cell:14 / target node:3\n",
      ": Structure(4 nodes with |nor_conv_1x1~0|+|avg_pool_3x3~0|nor_conv_1x1~1|+|nor_conv_1x1~0|nor_conv_3x3~1|nor_conv_1x1~2|) with accuracy=67.58%, confidence=57.045%, sensitivity=0.038, robustness=-0.014, step_sim=97.218\n",
      "arch loop#1, current structure:\n",
      "Structure(4 nodes with |nor_conv_3x3~0|+|nor_conv_3x3~0|nor_conv_1x1~1|+|nor_conv_3x3~0|nor_conv_1x1~1|nor_conv_3x3~2|)\n",
      "Structure(4 nodes with |avg_pool_3x3~0|+|nor_conv_3x3~0|avg_pool_3x3~1|+|nor_conv_1x1~0|avg_pool_3x3~1|nor_conv_3x3~2|)\n",
      "Structure(4 nodes with |skip_connect~0|+|skip_connect~0|nor_conv_1x1~1|+|nor_conv_1x1~0|nor_conv_1x1~1|skip_connect~2|)\n",
      "Structure(4 nodes with |nor_conv_1x1~0|+|nor_conv_3x3~0|avg_pool_3x3~1|+|none~0|skip_connect~1|nor_conv_3x3~2|)\n",
      "Structure(4 nodes with |skip_connect~0|+|skip_connect~0|nor_conv_1x1~1|+|skip_connect~0|nor_conv_3x3~1|nor_conv_3x3~2|)\n",
      "Structure(4 nodes with |nor_conv_3x3~0|+|avg_pool_3x3~0|skip_connect~1|+|avg_pool_3x3~0|nor_conv_1x1~1|nor_conv_3x3~2|)\n",
      "Structure(4 nodes with |avg_pool_3x3~0|+|nor_conv_1x1~0|avg_pool_3x3~1|+|none~0|avg_pool_3x3~1|nor_conv_1x1~2|)\n",
      "Structure(4 nodes with |avg_pool_3x3~0|+|nor_conv_3x3~0|skip_connect~1|+|nor_conv_1x1~0|none~1|skip_connect~2|)\n",
      "Structure(4 nodes with |skip_connect~0|+|nor_conv_3x3~0|avg_pool_3x3~1|+|nor_conv_1x1~0|avg_pool_3x3~1|nor_conv_3x3~2|)\n",
      "Structure(4 nodes with |avg_pool_3x3~0|+|nor_conv_3x3~0|avg_pool_3x3~1|+|none~0|nor_conv_1x1~1|avg_pool_3x3~2|)\n",
      "Structure(4 nodes with |nor_conv_3x3~0|+|nor_conv_3x3~0|nor_conv_1x1~1|+|avg_pool_3x3~0|nor_conv_1x1~1|nor_conv_3x3~2|)\n",
      "Structure(4 nodes with |nor_conv_3x3~0|+|avg_pool_3x3~0|nor_conv_1x1~1|+|nor_conv_1x1~0|nor_conv_1x1~1|avg_pool_3x3~2|)\n",
      "Structure(4 nodes with |nor_conv_3x3~0|+|nor_conv_3x3~0|nor_conv_3x3~1|+|nor_conv_3x3~0|none~1|avg_pool_3x3~2|)\n",
      "Structure(4 nodes with |nor_conv_1x1~0|+|none~0|avg_pool_3x3~1|+|none~0|avg_pool_3x3~1|nor_conv_1x1~2|)\n",
      "Structure(4 nodes with |nor_conv_1x1~0|+|avg_pool_3x3~0|nor_conv_1x1~1|+|nor_conv_1x1~0|nor_conv_3x3~1|nor_conv_1x1~2|)\n",
      "\n",
      "\n",
      " Searching with a cell #0\n",
      "\n",
      "Current target cell:0 / current target node:1\n"
     ]
    },
    {
     "name": "stderr",
     "output_type": "stream",
     "text": [
      "\n",
      "100%|██████████| 4/4 [00:05<00:00,  1.40s/it]"
     ]
    },
    {
     "name": "stdout",
     "output_type": "stream",
     "text": [
      "Found best op for target cell:0 / target node:1\n",
      ": Structure(4 nodes with |nor_conv_3x3~0|+|nor_conv_3x3~0|nor_conv_1x1~1|+|nor_conv_3x3~0|nor_conv_1x1~1|nor_conv_3x3~2|) with accuracy=67.58%, confidence=56.607%, sensitivity=0.034, robustness=-0.010, step_sim=95.292\n",
      "\n",
      "Current target cell:0 / current target node:2\n"
     ]
    },
    {
     "name": "stderr",
     "output_type": "stream",
     "text": [
      "\n",
      "100%|██████████| 20/20 [00:29<00:00,  1.47s/it]"
     ]
    },
    {
     "name": "stdout",
     "output_type": "stream",
     "text": [
      "Found best op for target cell:0 / target node:2\n",
      ": Structure(4 nodes with |nor_conv_3x3~0|+|skip_connect~0|nor_conv_1x1~1|+|nor_conv_3x3~0|nor_conv_1x1~1|nor_conv_3x3~2|) with accuracy=66.41%, confidence=56.883%, sensitivity=0.034, robustness=-0.013, step_sim=95.910\n",
      "\n",
      "Current target cell:0 / current target node:3\n"
     ]
    },
    {
     "name": "stderr",
     "output_type": "stream",
     "text": [
      "\n",
      "100%|██████████| 100/100 [02:15<00:00,  1.36s/it]"
     ]
    },
    {
     "name": "stdout",
     "output_type": "stream",
     "text": [
      "Found best op for target cell:0 / target node:3\n",
      ": Structure(4 nodes with |nor_conv_3x3~0|+|skip_connect~0|nor_conv_1x1~1|+|nor_conv_3x3~0|nor_conv_3x3~1|avg_pool_3x3~2|) with accuracy=67.97%, confidence=57.530%, sensitivity=0.033, robustness=-0.013, step_sim=96.831\n",
      "\n",
      "\n",
      " Searching with a cell #1\n",
      "\n",
      "Current target cell:1 / current target node:1\n"
     ]
    },
    {
     "name": "stderr",
     "output_type": "stream",
     "text": [
      "\n",
      "100%|██████████| 4/4 [00:05<00:00,  1.25s/it]"
     ]
    },
    {
     "name": "stdout",
     "output_type": "stream",
     "text": [
      "Found best op for target cell:1 / target node:1\n",
      ": Structure(4 nodes with |nor_conv_1x1~0|+|nor_conv_3x3~0|avg_pool_3x3~1|+|nor_conv_1x1~0|avg_pool_3x3~1|nor_conv_3x3~2|) with accuracy=67.19%, confidence=55.891%, sensitivity=0.040, robustness=-0.016, step_sim=95.024\n",
      "\n",
      "Current target cell:1 / current target node:2\n"
     ]
    },
    {
     "name": "stderr",
     "output_type": "stream",
     "text": [
      "\n",
      "100%|██████████| 20/20 [00:32<00:00,  1.60s/it]"
     ]
    },
    {
     "name": "stdout",
     "output_type": "stream",
     "text": [
      "Found best op for target cell:1 / target node:2\n",
      ": Structure(4 nodes with |nor_conv_1x1~0|+|nor_conv_3x3~0|skip_connect~1|+|nor_conv_1x1~0|avg_pool_3x3~1|nor_conv_3x3~2|) with accuracy=66.21%, confidence=57.358%, sensitivity=0.038, robustness=-0.013, step_sim=96.234\n",
      "\n",
      "Current target cell:1 / current target node:3\n"
     ]
    },
    {
     "name": "stderr",
     "output_type": "stream",
     "text": [
      "\n",
      "100%|██████████| 100/100 [02:28<00:00,  1.49s/it]"
     ]
    },
    {
     "name": "stdout",
     "output_type": "stream",
     "text": [
      "Found best op for target cell:1 / target node:3\n",
      ": Structure(4 nodes with |nor_conv_1x1~0|+|nor_conv_3x3~0|skip_connect~1|+|skip_connect~0|nor_conv_3x3~1|nor_conv_3x3~2|) with accuracy=66.99%, confidence=56.753%, sensitivity=0.041, robustness=-0.012, step_sim=96.194\n",
      "\n",
      "\n",
      " Searching with a cell #2\n",
      "\n",
      "Current target cell:2 / current target node:1\n"
     ]
    },
    {
     "name": "stderr",
     "output_type": "stream",
     "text": [
      "\n",
      "100%|██████████| 4/4 [00:06<00:00,  1.55s/it]"
     ]
    },
    {
     "name": "stdout",
     "output_type": "stream",
     "text": [
      "Found best op for target cell:2 / target node:1\n",
      ": Structure(4 nodes with |avg_pool_3x3~0|+|skip_connect~0|nor_conv_1x1~1|+|nor_conv_1x1~0|nor_conv_1x1~1|skip_connect~2|) with accuracy=68.55%, confidence=57.952%, sensitivity=0.032, robustness=-0.013, step_sim=95.770\n",
      "\n",
      "Current target cell:2 / current target node:2\n"
     ]
    },
    {
     "name": "stderr",
     "output_type": "stream",
     "text": [
      "\n",
      "100%|██████████| 20/20 [00:31<00:00,  1.57s/it]"
     ]
    },
    {
     "name": "stdout",
     "output_type": "stream",
     "text": [
      "Found best op for target cell:2 / target node:2\n",
      ": Structure(4 nodes with |avg_pool_3x3~0|+|avg_pool_3x3~0|nor_conv_3x3~1|+|nor_conv_1x1~0|nor_conv_1x1~1|skip_connect~2|) with accuracy=66.21%, confidence=56.868%, sensitivity=0.031, robustness=-0.012, step_sim=96.070\n",
      "\n",
      "Current target cell:2 / current target node:3\n"
     ]
    },
    {
     "name": "stderr",
     "output_type": "stream",
     "text": [
      "\n",
      "100%|██████████| 100/100 [02:30<00:00,  1.50s/it]"
     ]
    },
    {
     "name": "stdout",
     "output_type": "stream",
     "text": [
      "Found best op for target cell:2 / target node:3\n",
      ": Structure(4 nodes with |avg_pool_3x3~0|+|avg_pool_3x3~0|nor_conv_3x3~1|+|nor_conv_1x1~0|nor_conv_3x3~1|nor_conv_1x1~2|) with accuracy=67.97%, confidence=56.593%, sensitivity=0.033, robustness=-0.013, step_sim=95.976\n",
      "\n",
      "\n",
      " Searching with a cell #3\n",
      "\n",
      "Current target cell:3 / current target node:1\n"
     ]
    },
    {
     "name": "stderr",
     "output_type": "stream",
     "text": [
      "\n",
      "100%|██████████| 4/4 [00:06<00:00,  1.63s/it]"
     ]
    },
    {
     "name": "stdout",
     "output_type": "stream",
     "text": [
      "Found best op for target cell:3 / target node:1\n",
      ": Structure(4 nodes with |nor_conv_3x3~0|+|nor_conv_3x3~0|avg_pool_3x3~1|+|none~0|skip_connect~1|nor_conv_3x3~2|) with accuracy=66.60%, confidence=57.677%, sensitivity=0.033, robustness=-0.011, step_sim=95.894\n",
      "\n",
      "Current target cell:3 / current target node:2\n"
     ]
    },
    {
     "name": "stderr",
     "output_type": "stream",
     "text": [
      "\n",
      "100%|██████████| 20/20 [00:25<00:00,  1.29s/it]"
     ]
    },
    {
     "name": "stdout",
     "output_type": "stream",
     "text": [
      "Found best op for target cell:3 / target node:2\n",
      ": Structure(4 nodes with |nor_conv_3x3~0|+|skip_connect~0|avg_pool_3x3~1|+|none~0|skip_connect~1|nor_conv_3x3~2|) with accuracy=65.04%, confidence=54.678%, sensitivity=0.052, robustness=-0.016, step_sim=96.117\n",
      "\n",
      "Current target cell:3 / current target node:3\n"
     ]
    },
    {
     "name": "stderr",
     "output_type": "stream",
     "text": [
      "\n",
      "100%|██████████| 100/100 [02:32<00:00,  1.52s/it]"
     ]
    },
    {
     "name": "stdout",
     "output_type": "stream",
     "text": [
      "Found best op for target cell:3 / target node:3\n",
      ": Structure(4 nodes with |nor_conv_3x3~0|+|skip_connect~0|avg_pool_3x3~1|+|nor_conv_3x3~0|none~1|nor_conv_1x1~2|) with accuracy=64.26%, confidence=55.705%, sensitivity=0.031, robustness=-0.011, step_sim=97.302\n",
      "\n",
      "\n",
      " Searching with a cell #4\n",
      "\n",
      "Current target cell:4 / current target node:1\n"
     ]
    },
    {
     "name": "stderr",
     "output_type": "stream",
     "text": [
      "\n",
      "100%|██████████| 4/4 [00:05<00:00,  1.35s/it]"
     ]
    },
    {
     "name": "stdout",
     "output_type": "stream",
     "text": [
      "Found best op for target cell:4 / target node:1\n",
      ": Structure(4 nodes with |nor_conv_3x3~0|+|skip_connect~0|nor_conv_1x1~1|+|skip_connect~0|nor_conv_3x3~1|nor_conv_3x3~2|) with accuracy=65.82%, confidence=56.140%, sensitivity=0.031, robustness=-0.012, step_sim=96.024\n",
      "\n",
      "Current target cell:4 / current target node:2\n"
     ]
    },
    {
     "name": "stderr",
     "output_type": "stream",
     "text": [
      "\n",
      "100%|██████████| 20/20 [00:28<00:00,  1.42s/it]"
     ]
    },
    {
     "name": "stdout",
     "output_type": "stream",
     "text": [
      "Found best op for target cell:4 / target node:2\n",
      ": Structure(4 nodes with |nor_conv_3x3~0|+|none~0|nor_conv_3x3~1|+|skip_connect~0|nor_conv_3x3~1|nor_conv_3x3~2|) with accuracy=63.48%, confidence=54.079%, sensitivity=0.042, robustness=-0.011, step_sim=96.283\n",
      "\n",
      "Current target cell:4 / current target node:3\n"
     ]
    },
    {
     "name": "stderr",
     "output_type": "stream",
     "text": [
      "\n",
      "100%|██████████| 100/100 [02:27<00:00,  1.47s/it]"
     ]
    },
    {
     "name": "stdout",
     "output_type": "stream",
     "text": [
      "Found best op for target cell:4 / target node:3\n",
      ": Structure(4 nodes with |nor_conv_3x3~0|+|none~0|nor_conv_3x3~1|+|nor_conv_1x1~0|nor_conv_3x3~1|nor_conv_3x3~2|) with accuracy=65.62%, confidence=55.147%, sensitivity=0.035, robustness=-0.013, step_sim=96.357\n",
      "\n",
      "\n",
      " Searching with a cell #5\n",
      "\n",
      "Current target cell:5 / current target node:1\n"
     ]
    },
    {
     "name": "stderr",
     "output_type": "stream",
     "text": [
      "\n",
      "100%|██████████| 4/4 [00:07<00:00,  1.77s/it]"
     ]
    },
    {
     "name": "stdout",
     "output_type": "stream",
     "text": [
      "Found best op for target cell:5 / target node:1\n",
      ": Structure(4 nodes with |skip_connect~0|+|avg_pool_3x3~0|skip_connect~1|+|avg_pool_3x3~0|nor_conv_1x1~1|nor_conv_3x3~2|) with accuracy=61.72%, confidence=54.030%, sensitivity=0.036, robustness=-0.010, step_sim=95.360\n",
      "\n",
      "Current target cell:5 / current target node:2\n"
     ]
    },
    {
     "name": "stderr",
     "output_type": "stream",
     "text": [
      "\n",
      "100%|██████████| 20/20 [00:33<00:00,  1.67s/it]"
     ]
    },
    {
     "name": "stdout",
     "output_type": "stream",
     "text": [
      "Found best op for target cell:5 / target node:2\n",
      ": Structure(4 nodes with |skip_connect~0|+|nor_conv_1x1~0|nor_conv_1x1~1|+|avg_pool_3x3~0|nor_conv_1x1~1|nor_conv_3x3~2|) with accuracy=65.82%, confidence=55.629%, sensitivity=0.037, robustness=-0.014, step_sim=95.381\n",
      "\n",
      "Current target cell:5 / current target node:3\n"
     ]
    },
    {
     "name": "stderr",
     "output_type": "stream",
     "text": [
      "\n",
      "100%|██████████| 100/100 [02:28<00:00,  1.48s/it]"
     ]
    },
    {
     "name": "stdout",
     "output_type": "stream",
     "text": [
      "Found best op for target cell:5 / target node:3\n",
      ": Structure(4 nodes with |skip_connect~0|+|nor_conv_1x1~0|nor_conv_1x1~1|+|avg_pool_3x3~0|none~1|nor_conv_1x1~2|) with accuracy=65.04%, confidence=55.258%, sensitivity=0.041, robustness=-0.012, step_sim=96.542\n",
      "\n",
      "\n",
      " Searching with a cell #6\n",
      "\n",
      "Current target cell:6 / current target node:1\n"
     ]
    },
    {
     "name": "stderr",
     "output_type": "stream",
     "text": [
      "\n",
      "100%|██████████| 4/4 [00:04<00:00,  1.04s/it]"
     ]
    },
    {
     "name": "stdout",
     "output_type": "stream",
     "text": [
      "Found best op for target cell:6 / target node:1\n",
      ": Structure(4 nodes with |nor_conv_1x1~0|+|nor_conv_1x1~0|avg_pool_3x3~1|+|none~0|avg_pool_3x3~1|nor_conv_1x1~2|) with accuracy=61.13%, confidence=53.636%, sensitivity=0.044, robustness=-0.016, step_sim=95.147\n",
      "\n",
      "Current target cell:6 / current target node:2\n"
     ]
    },
    {
     "name": "stderr",
     "output_type": "stream",
     "text": [
      "\n",
      "100%|██████████| 20/20 [00:21<00:00,  1.08s/it]"
     ]
    },
    {
     "name": "stdout",
     "output_type": "stream",
     "text": [
      "Found best op for target cell:6 / target node:2\n",
      ": Structure(4 nodes with |nor_conv_1x1~0|+|skip_connect~0|nor_conv_1x1~1|+|none~0|avg_pool_3x3~1|nor_conv_1x1~2|) with accuracy=67.19%, confidence=57.033%, sensitivity=0.040, robustness=-0.020, step_sim=96.692\n",
      "\n",
      "Current target cell:6 / current target node:3\n"
     ]
    },
    {
     "name": "stderr",
     "output_type": "stream",
     "text": [
      "\n",
      "100%|██████████| 100/100 [02:01<00:00,  1.21s/it]"
     ]
    },
    {
     "name": "stdout",
     "output_type": "stream",
     "text": [
      "Found best op for target cell:6 / target node:3\n",
      ": Structure(4 nodes with |nor_conv_1x1~0|+|skip_connect~0|nor_conv_1x1~1|+|nor_conv_1x1~0|none~1|nor_conv_1x1~2|) with accuracy=66.80%, confidence=57.557%, sensitivity=0.040, robustness=-0.016, step_sim=96.594\n",
      "\n",
      "\n",
      " Searching with a cell #7\n",
      "\n",
      "Current target cell:7 / current target node:1\n"
     ]
    },
    {
     "name": "stderr",
     "output_type": "stream",
     "text": [
      "\n",
      "100%|██████████| 4/4 [00:06<00:00,  1.52s/it]"
     ]
    },
    {
     "name": "stdout",
     "output_type": "stream",
     "text": [
      "Found best op for target cell:7 / target node:1\n",
      ": Structure(4 nodes with |skip_connect~0|+|nor_conv_3x3~0|skip_connect~1|+|nor_conv_1x1~0|none~1|skip_connect~2|) with accuracy=66.99%, confidence=55.861%, sensitivity=0.037, robustness=-0.014, step_sim=97.267\n",
      "\n",
      "Current target cell:7 / current target node:2\n"
     ]
    },
    {
     "name": "stderr",
     "output_type": "stream",
     "text": [
      "\n",
      "100%|██████████| 20/20 [00:22<00:00,  1.13s/it]"
     ]
    },
    {
     "name": "stdout",
     "output_type": "stream",
     "text": [
      "Found best op for target cell:7 / target node:2\n",
      ": Structure(4 nodes with |skip_connect~0|+|nor_conv_3x3~0|skip_connect~1|+|nor_conv_1x1~0|none~1|skip_connect~2|) with accuracy=66.99%, confidence=58.020%, sensitivity=0.039, robustness=-0.016, step_sim=96.342\n",
      "\n",
      "Current target cell:7 / current target node:3\n"
     ]
    },
    {
     "name": "stderr",
     "output_type": "stream",
     "text": [
      "\n",
      "100%|██████████| 100/100 [02:02<00:00,  1.22s/it]"
     ]
    },
    {
     "name": "stdout",
     "output_type": "stream",
     "text": [
      "Found best op for target cell:7 / target node:3\n",
      ": Structure(4 nodes with |skip_connect~0|+|nor_conv_3x3~0|skip_connect~1|+|avg_pool_3x3~0|avg_pool_3x3~1|nor_conv_3x3~2|) with accuracy=67.97%, confidence=58.043%, sensitivity=0.039, robustness=-0.013, step_sim=96.235\n",
      "\n",
      "\n",
      " Searching with a cell #8\n",
      "\n",
      "Current target cell:8 / current target node:1\n"
     ]
    },
    {
     "name": "stderr",
     "output_type": "stream",
     "text": [
      "\n",
      "100%|██████████| 4/4 [00:05<00:00,  1.48s/it]"
     ]
    },
    {
     "name": "stdout",
     "output_type": "stream",
     "text": [
      "Found best op for target cell:8 / target node:1\n",
      ": Structure(4 nodes with |nor_conv_3x3~0|+|nor_conv_3x3~0|avg_pool_3x3~1|+|nor_conv_1x1~0|avg_pool_3x3~1|nor_conv_3x3~2|) with accuracy=66.02%, confidence=55.700%, sensitivity=0.037, robustness=-0.016, step_sim=96.292\n",
      "\n",
      "Current target cell:8 / current target node:2\n"
     ]
    },
    {
     "name": "stderr",
     "output_type": "stream",
     "text": [
      "\n",
      "100%|██████████| 20/20 [00:29<00:00,  1.45s/it]"
     ]
    },
    {
     "name": "stdout",
     "output_type": "stream",
     "text": [
      "Found best op for target cell:8 / target node:2\n",
      ": Structure(4 nodes with |nor_conv_3x3~0|+|none~0|skip_connect~1|+|nor_conv_1x1~0|avg_pool_3x3~1|nor_conv_3x3~2|) with accuracy=65.23%, confidence=56.743%, sensitivity=0.036, robustness=-0.015, step_sim=96.655\n",
      "\n",
      "Current target cell:8 / current target node:3\n"
     ]
    },
    {
     "name": "stderr",
     "output_type": "stream",
     "text": [
      "\n",
      "100%|██████████| 100/100 [02:08<00:00,  1.28s/it]"
     ]
    },
    {
     "name": "stdout",
     "output_type": "stream",
     "text": [
      "Found best op for target cell:8 / target node:3\n",
      ": Structure(4 nodes with |nor_conv_3x3~0|+|none~0|skip_connect~1|+|nor_conv_1x1~0|nor_conv_3x3~1|nor_conv_3x3~2|) with accuracy=68.16%, confidence=57.838%, sensitivity=0.040, robustness=-0.011, step_sim=97.219\n",
      "\n",
      "\n",
      " Searching with a cell #9\n",
      "\n",
      "Current target cell:9 / current target node:1\n"
     ]
    },
    {
     "name": "stderr",
     "output_type": "stream",
     "text": [
      "\n",
      "100%|██████████| 4/4 [00:04<00:00,  1.20s/it]"
     ]
    },
    {
     "name": "stdout",
     "output_type": "stream",
     "text": [
      "Found best op for target cell:9 / target node:1\n",
      ": Structure(4 nodes with |nor_conv_3x3~0|+|nor_conv_3x3~0|avg_pool_3x3~1|+|none~0|nor_conv_1x1~1|avg_pool_3x3~2|) with accuracy=70.12%, confidence=58.605%, sensitivity=0.040, robustness=-0.021, step_sim=97.938\n",
      "\n",
      "Current target cell:9 / current target node:2\n"
     ]
    },
    {
     "name": "stderr",
     "output_type": "stream",
     "text": [
      "\n",
      "100%|██████████| 20/20 [00:26<00:00,  1.32s/it]"
     ]
    },
    {
     "name": "stdout",
     "output_type": "stream",
     "text": [
      "Found best op for target cell:9 / target node:2\n",
      ": Structure(4 nodes with |nor_conv_3x3~0|+|nor_conv_3x3~0|nor_conv_1x1~1|+|none~0|nor_conv_1x1~1|avg_pool_3x3~2|) with accuracy=66.41%, confidence=56.749%, sensitivity=0.041, robustness=-0.022, step_sim=97.755\n",
      "\n",
      "Current target cell:9 / current target node:3\n"
     ]
    },
    {
     "name": "stderr",
     "output_type": "stream",
     "text": [
      "\n",
      "100%|██████████| 100/100 [02:09<00:00,  1.30s/it]"
     ]
    },
    {
     "name": "stdout",
     "output_type": "stream",
     "text": [
      "Found best op for target cell:9 / target node:3\n",
      ": Structure(4 nodes with |nor_conv_3x3~0|+|nor_conv_3x3~0|nor_conv_1x1~1|+|avg_pool_3x3~0|nor_conv_3x3~1|nor_conv_3x3~2|) with accuracy=69.53%, confidence=58.155%, sensitivity=0.043, robustness=-0.014, step_sim=97.271\n",
      "\n",
      "\n",
      " Searching with a cell #10\n",
      "\n",
      "Current target cell:10 / current target node:1\n"
     ]
    },
    {
     "name": "stderr",
     "output_type": "stream",
     "text": [
      "\n",
      "100%|██████████| 4/4 [00:04<00:00,  1.13s/it]"
     ]
    },
    {
     "name": "stdout",
     "output_type": "stream",
     "text": [
      "Found best op for target cell:10 / target node:1\n",
      ": Structure(4 nodes with |skip_connect~0|+|nor_conv_3x3~0|nor_conv_1x1~1|+|avg_pool_3x3~0|nor_conv_1x1~1|nor_conv_3x3~2|) with accuracy=67.19%, confidence=56.195%, sensitivity=0.039, robustness=-0.014, step_sim=98.222\n",
      "\n",
      "Current target cell:10 / current target node:2\n"
     ]
    },
    {
     "name": "stderr",
     "output_type": "stream",
     "text": [
      "\n",
      "100%|██████████| 20/20 [00:26<00:00,  1.34s/it]"
     ]
    },
    {
     "name": "stdout",
     "output_type": "stream",
     "text": [
      "Found best op for target cell:10 / target node:2\n",
      ": Structure(4 nodes with |skip_connect~0|+|skip_connect~0|nor_conv_1x1~1|+|avg_pool_3x3~0|nor_conv_1x1~1|nor_conv_3x3~2|) with accuracy=67.77%, confidence=55.702%, sensitivity=0.037, robustness=-0.012, step_sim=97.082\n",
      "\n",
      "Current target cell:10 / current target node:3\n"
     ]
    },
    {
     "name": "stderr",
     "output_type": "stream",
     "text": [
      "\n",
      "100%|██████████| 100/100 [01:58<00:00,  1.19s/it]"
     ]
    },
    {
     "name": "stdout",
     "output_type": "stream",
     "text": [
      "Found best op for target cell:10 / target node:3\n",
      ": Structure(4 nodes with |skip_connect~0|+|skip_connect~0|nor_conv_1x1~1|+|nor_conv_1x1~0|skip_connect~1|skip_connect~2|) with accuracy=68.55%, confidence=56.724%, sensitivity=0.038, robustness=-0.013, step_sim=97.901\n",
      "\n",
      "\n",
      " Searching with a cell #11\n",
      "\n",
      "Current target cell:11 / current target node:1\n"
     ]
    },
    {
     "name": "stderr",
     "output_type": "stream",
     "text": [
      "\n",
      "100%|██████████| 4/4 [00:04<00:00,  1.16s/it]"
     ]
    },
    {
     "name": "stdout",
     "output_type": "stream",
     "text": [
      "Found best op for target cell:11 / target node:1\n",
      ": Structure(4 nodes with |skip_connect~0|+|avg_pool_3x3~0|nor_conv_1x1~1|+|nor_conv_1x1~0|nor_conv_1x1~1|avg_pool_3x3~2|) with accuracy=67.58%, confidence=56.730%, sensitivity=0.037, robustness=-0.013, step_sim=96.605\n",
      "\n",
      "Current target cell:11 / current target node:2\n"
     ]
    },
    {
     "name": "stderr",
     "output_type": "stream",
     "text": [
      "\n",
      "100%|██████████| 20/20 [00:22<00:00,  1.12s/it]"
     ]
    },
    {
     "name": "stdout",
     "output_type": "stream",
     "text": [
      "Found best op for target cell:11 / target node:2\n",
      ": Structure(4 nodes with |skip_connect~0|+|skip_connect~0|skip_connect~1|+|nor_conv_1x1~0|nor_conv_1x1~1|avg_pool_3x3~2|) with accuracy=66.80%, confidence=55.411%, sensitivity=0.034, robustness=-0.015, step_sim=97.539\n",
      "\n",
      "Current target cell:11 / current target node:3\n"
     ]
    },
    {
     "name": "stderr",
     "output_type": "stream",
     "text": [
      "\n",
      "100%|██████████| 100/100 [02:06<00:00,  1.26s/it]"
     ]
    },
    {
     "name": "stdout",
     "output_type": "stream",
     "text": [
      "Found best op for target cell:11 / target node:3\n",
      ": Structure(4 nodes with |skip_connect~0|+|skip_connect~0|skip_connect~1|+|skip_connect~0|none~1|nor_conv_3x3~2|) with accuracy=67.19%, confidence=55.065%, sensitivity=0.032, robustness=-0.012, step_sim=97.689\n",
      "\n",
      "\n",
      " Searching with a cell #12\n",
      "\n",
      "Current target cell:12 / current target node:1\n"
     ]
    },
    {
     "name": "stderr",
     "output_type": "stream",
     "text": [
      "\n",
      "100%|██████████| 4/4 [00:05<00:00,  1.44s/it]"
     ]
    },
    {
     "name": "stdout",
     "output_type": "stream",
     "text": [
      "Found best op for target cell:12 / target node:1\n",
      ": Structure(4 nodes with |nor_conv_1x1~0|+|nor_conv_3x3~0|nor_conv_3x3~1|+|nor_conv_3x3~0|none~1|avg_pool_3x3~2|) with accuracy=66.80%, confidence=53.497%, sensitivity=0.032, robustness=-0.012, step_sim=97.188\n",
      "\n",
      "Current target cell:12 / current target node:2\n"
     ]
    },
    {
     "name": "stderr",
     "output_type": "stream",
     "text": [
      "\n",
      "100%|██████████| 20/20 [00:31<00:00,  1.57s/it]"
     ]
    },
    {
     "name": "stdout",
     "output_type": "stream",
     "text": [
      "Found best op for target cell:12 / target node:2\n",
      ": Structure(4 nodes with |nor_conv_1x1~0|+|nor_conv_3x3~0|nor_conv_3x3~1|+|nor_conv_3x3~0|none~1|avg_pool_3x3~2|) with accuracy=66.60%, confidence=53.559%, sensitivity=0.036, robustness=-0.013, step_sim=97.610\n",
      "\n",
      "Current target cell:12 / current target node:3\n"
     ]
    },
    {
     "name": "stderr",
     "output_type": "stream",
     "text": [
      "\n",
      "100%|██████████| 100/100 [02:25<00:00,  1.46s/it]"
     ]
    },
    {
     "name": "stdout",
     "output_type": "stream",
     "text": [
      "Found best op for target cell:12 / target node:3\n",
      ": Structure(4 nodes with |nor_conv_1x1~0|+|nor_conv_3x3~0|nor_conv_3x3~1|+|none~0|skip_connect~1|nor_conv_3x3~2|) with accuracy=67.19%, confidence=53.977%, sensitivity=0.034, robustness=-0.013, step_sim=97.392\n",
      "\n",
      "\n",
      " Searching with a cell #13\n",
      "\n",
      "Current target cell:13 / current target node:1\n"
     ]
    },
    {
     "name": "stderr",
     "output_type": "stream",
     "text": [
      "\n",
      "100%|██████████| 4/4 [00:05<00:00,  1.44s/it]"
     ]
    },
    {
     "name": "stdout",
     "output_type": "stream",
     "text": [
      "Found best op for target cell:13 / target node:1\n",
      ": Structure(4 nodes with |avg_pool_3x3~0|+|none~0|avg_pool_3x3~1|+|none~0|avg_pool_3x3~1|nor_conv_1x1~2|) with accuracy=70.31%, confidence=57.463%, sensitivity=0.034, robustness=-0.014, step_sim=97.959\n",
      "\n",
      "Current target cell:13 / current target node:2\n"
     ]
    },
    {
     "name": "stderr",
     "output_type": "stream",
     "text": [
      "\n",
      "100%|██████████| 20/20 [00:31<00:00,  1.58s/it]"
     ]
    },
    {
     "name": "stdout",
     "output_type": "stream",
     "text": [
      "Found best op for target cell:13 / target node:2\n",
      ": Structure(4 nodes with |avg_pool_3x3~0|+|avg_pool_3x3~0|nor_conv_1x1~1|+|none~0|avg_pool_3x3~1|nor_conv_1x1~2|) with accuracy=66.99%, confidence=54.187%, sensitivity=0.033, robustness=-0.012, step_sim=97.950\n",
      "\n",
      "Current target cell:13 / current target node:3\n"
     ]
    },
    {
     "name": "stderr",
     "output_type": "stream",
     "text": [
      "\n",
      "100%|██████████| 100/100 [02:26<00:00,  1.46s/it]"
     ]
    },
    {
     "name": "stdout",
     "output_type": "stream",
     "text": [
      "Found best op for target cell:13 / target node:3\n",
      ": Structure(4 nodes with |avg_pool_3x3~0|+|avg_pool_3x3~0|nor_conv_1x1~1|+|none~0|nor_conv_3x3~1|nor_conv_1x1~2|) with accuracy=69.14%, confidence=54.384%, sensitivity=0.034, robustness=-0.012, step_sim=97.291\n",
      "\n",
      "\n",
      " Searching with a cell #14\n",
      "\n",
      "Current target cell:14 / current target node:1\n"
     ]
    },
    {
     "name": "stderr",
     "output_type": "stream",
     "text": [
      "\n",
      "100%|██████████| 4/4 [00:05<00:00,  1.34s/it]"
     ]
    },
    {
     "name": "stdout",
     "output_type": "stream",
     "text": [
      "Found best op for target cell:14 / target node:1\n",
      ": Structure(4 nodes with |skip_connect~0|+|avg_pool_3x3~0|nor_conv_1x1~1|+|nor_conv_1x1~0|nor_conv_3x3~1|nor_conv_1x1~2|) with accuracy=66.99%, confidence=53.792%, sensitivity=0.032, robustness=-0.011, step_sim=97.659\n",
      "\n",
      "Current target cell:14 / current target node:2\n"
     ]
    },
    {
     "name": "stderr",
     "output_type": "stream",
     "text": [
      "\n",
      "100%|██████████| 20/20 [00:32<00:00,  1.65s/it]"
     ]
    },
    {
     "name": "stdout",
     "output_type": "stream",
     "text": [
      "Found best op for target cell:14 / target node:2\n",
      ": Structure(4 nodes with |skip_connect~0|+|nor_conv_3x3~0|avg_pool_3x3~1|+|nor_conv_1x1~0|nor_conv_3x3~1|nor_conv_1x1~2|) with accuracy=66.60%, confidence=53.617%, sensitivity=0.033, robustness=-0.012, step_sim=97.339\n",
      "\n",
      "Current target cell:14 / current target node:3\n"
     ]
    },
    {
     "name": "stderr",
     "output_type": "stream",
     "text": [
      "\n",
      "100%|██████████| 100/100 [02:33<00:00,  1.54s/it]"
     ]
    },
    {
     "name": "stdout",
     "output_type": "stream",
     "text": [
      "Found best op for target cell:14 / target node:3\n",
      ": Structure(4 nodes with |skip_connect~0|+|nor_conv_3x3~0|avg_pool_3x3~1|+|nor_conv_3x3~0|skip_connect~1|nor_conv_1x1~2|) with accuracy=68.16%, confidence=53.225%, sensitivity=0.034, robustness=-0.010, step_sim=97.829\n",
      "arch loop#2, current structure:\n",
      "Structure(4 nodes with |nor_conv_3x3~0|+|skip_connect~0|nor_conv_1x1~1|+|nor_conv_3x3~0|nor_conv_3x3~1|avg_pool_3x3~2|)\n",
      "Structure(4 nodes with |nor_conv_1x1~0|+|nor_conv_3x3~0|skip_connect~1|+|skip_connect~0|nor_conv_3x3~1|nor_conv_3x3~2|)\n",
      "Structure(4 nodes with |avg_pool_3x3~0|+|avg_pool_3x3~0|nor_conv_3x3~1|+|nor_conv_1x1~0|nor_conv_3x3~1|nor_conv_1x1~2|)\n",
      "Structure(4 nodes with |nor_conv_3x3~0|+|skip_connect~0|avg_pool_3x3~1|+|nor_conv_3x3~0|none~1|nor_conv_1x1~2|)\n",
      "Structure(4 nodes with |nor_conv_3x3~0|+|none~0|nor_conv_3x3~1|+|nor_conv_1x1~0|nor_conv_3x3~1|nor_conv_3x3~2|)\n",
      "Structure(4 nodes with |skip_connect~0|+|nor_conv_1x1~0|nor_conv_1x1~1|+|avg_pool_3x3~0|none~1|nor_conv_1x1~2|)\n",
      "Structure(4 nodes with |nor_conv_1x1~0|+|skip_connect~0|nor_conv_1x1~1|+|nor_conv_1x1~0|none~1|nor_conv_1x1~2|)\n",
      "Structure(4 nodes with |skip_connect~0|+|nor_conv_3x3~0|skip_connect~1|+|avg_pool_3x3~0|avg_pool_3x3~1|nor_conv_3x3~2|)\n",
      "Structure(4 nodes with |nor_conv_3x3~0|+|none~0|skip_connect~1|+|nor_conv_1x1~0|nor_conv_3x3~1|nor_conv_3x3~2|)\n",
      "Structure(4 nodes with |nor_conv_3x3~0|+|nor_conv_3x3~0|nor_conv_1x1~1|+|avg_pool_3x3~0|nor_conv_3x3~1|nor_conv_3x3~2|)\n",
      "Structure(4 nodes with |skip_connect~0|+|skip_connect~0|nor_conv_1x1~1|+|nor_conv_1x1~0|skip_connect~1|skip_connect~2|)\n",
      "Structure(4 nodes with |skip_connect~0|+|skip_connect~0|skip_connect~1|+|skip_connect~0|none~1|nor_conv_3x3~2|)\n",
      "Structure(4 nodes with |nor_conv_1x1~0|+|nor_conv_3x3~0|nor_conv_3x3~1|+|none~0|skip_connect~1|nor_conv_3x3~2|)\n",
      "Structure(4 nodes with |avg_pool_3x3~0|+|avg_pool_3x3~0|nor_conv_1x1~1|+|none~0|nor_conv_3x3~1|nor_conv_1x1~2|)\n",
      "Structure(4 nodes with |skip_connect~0|+|nor_conv_3x3~0|avg_pool_3x3~1|+|nor_conv_3x3~0|skip_connect~1|nor_conv_1x1~2|)\n",
      "\n",
      "\n",
      " Searching with a cell #0\n",
      "\n",
      "Current target cell:0 / current target node:1\n"
     ]
    },
    {
     "name": "stderr",
     "output_type": "stream",
     "text": [
      "\n",
      "100%|██████████| 4/4 [00:05<00:00,  1.31s/it]"
     ]
    },
    {
     "name": "stdout",
     "output_type": "stream",
     "text": [
      "Found best op for target cell:0 / target node:1\n",
      ": Structure(4 nodes with |nor_conv_3x3~0|+|skip_connect~0|nor_conv_1x1~1|+|nor_conv_3x3~0|nor_conv_3x3~1|avg_pool_3x3~2|) with accuracy=68.16%, confidence=52.534%, sensitivity=0.032, robustness=-0.016, step_sim=97.888\n",
      "\n",
      "Current target cell:0 / current target node:2\n"
     ]
    },
    {
     "name": "stderr",
     "output_type": "stream",
     "text": [
      "\n",
      "100%|██████████| 20/20 [00:28<00:00,  1.41s/it]"
     ]
    },
    {
     "name": "stdout",
     "output_type": "stream",
     "text": [
      "Found best op for target cell:0 / target node:2\n",
      ": Structure(4 nodes with |nor_conv_3x3~0|+|nor_conv_3x3~0|nor_conv_1x1~1|+|nor_conv_3x3~0|nor_conv_3x3~1|avg_pool_3x3~2|) with accuracy=66.41%, confidence=53.276%, sensitivity=0.030, robustness=-0.013, step_sim=97.728\n",
      "\n",
      "Current target cell:0 / current target node:3\n"
     ]
    },
    {
     "name": "stderr",
     "output_type": "stream",
     "text": [
      "\n",
      "100%|██████████| 100/100 [02:37<00:00,  1.58s/it]"
     ]
    },
    {
     "name": "stdout",
     "output_type": "stream",
     "text": [
      "Found best op for target cell:0 / target node:3\n",
      ": Structure(4 nodes with |nor_conv_3x3~0|+|nor_conv_3x3~0|nor_conv_1x1~1|+|nor_conv_3x3~0|nor_conv_1x1~1|skip_connect~2|) with accuracy=66.80%, confidence=52.188%, sensitivity=0.032, robustness=-0.009, step_sim=97.895\n",
      "\n",
      "\n",
      " Searching with a cell #1\n",
      "\n",
      "Current target cell:1 / current target node:1\n"
     ]
    },
    {
     "name": "stderr",
     "output_type": "stream",
     "text": [
      "\n",
      "100%|██████████| 4/4 [00:05<00:00,  1.36s/it]"
     ]
    },
    {
     "name": "stdout",
     "output_type": "stream",
     "text": [
      "Found best op for target cell:1 / target node:1\n",
      ": Structure(4 nodes with |skip_connect~0|+|nor_conv_3x3~0|skip_connect~1|+|skip_connect~0|nor_conv_3x3~1|nor_conv_3x3~2|) with accuracy=67.77%, confidence=53.020%, sensitivity=0.028, robustness=-0.008, step_sim=96.743\n",
      "\n",
      "Current target cell:1 / current target node:2\n"
     ]
    },
    {
     "name": "stderr",
     "output_type": "stream",
     "text": [
      "\n",
      "100%|██████████| 20/20 [00:28<00:00,  1.43s/it]"
     ]
    },
    {
     "name": "stdout",
     "output_type": "stream",
     "text": [
      "Found best op for target cell:1 / target node:2\n",
      ": Structure(4 nodes with |skip_connect~0|+|nor_conv_1x1~0|skip_connect~1|+|skip_connect~0|nor_conv_3x3~1|nor_conv_3x3~2|) with accuracy=68.16%, confidence=54.317%, sensitivity=0.028, robustness=-0.011, step_sim=98.401\n",
      "\n",
      "Current target cell:1 / current target node:3\n"
     ]
    },
    {
     "name": "stderr",
     "output_type": "stream",
     "text": [
      "\n",
      "100%|██████████| 100/100 [02:28<00:00,  1.48s/it]"
     ]
    },
    {
     "name": "stdout",
     "output_type": "stream",
     "text": [
      "Found best op for target cell:1 / target node:3\n",
      ": Structure(4 nodes with |skip_connect~0|+|nor_conv_1x1~0|skip_connect~1|+|nor_conv_3x3~0|avg_pool_3x3~1|nor_conv_1x1~2|) with accuracy=69.58%, confidence=54.915%, sensitivity=0.030, robustness=-0.009, step_sim=97.427\n",
      "\n",
      "\n",
      " Searching with a cell #2\n",
      "\n",
      "Current target cell:2 / current target node:1\n"
     ]
    },
    {
     "name": "stderr",
     "output_type": "stream",
     "text": [
      "\n",
      "100%|██████████| 4/4 [00:06<00:00,  1.58s/it]"
     ]
    },
    {
     "name": "stdout",
     "output_type": "stream",
     "text": [
      "Found best op for target cell:2 / target node:1\n",
      ": Structure(4 nodes with |nor_conv_1x1~0|+|avg_pool_3x3~0|nor_conv_3x3~1|+|nor_conv_1x1~0|nor_conv_3x3~1|nor_conv_1x1~2|) with accuracy=68.36%, confidence=53.100%, sensitivity=0.031, robustness=-0.010, step_sim=94.860\n",
      "\n",
      "Current target cell:2 / current target node:2\n"
     ]
    },
    {
     "name": "stderr",
     "output_type": "stream",
     "text": [
      "\n",
      "100%|██████████| 20/20 [00:29<00:00,  1.48s/it]"
     ]
    },
    {
     "name": "stdout",
     "output_type": "stream",
     "text": [
      "Found best op for target cell:2 / target node:2\n",
      ": Structure(4 nodes with |nor_conv_1x1~0|+|skip_connect~0|nor_conv_3x3~1|+|nor_conv_1x1~0|nor_conv_3x3~1|nor_conv_1x1~2|) with accuracy=65.04%, confidence=52.533%, sensitivity=0.033, robustness=-0.009, step_sim=97.289\n",
      "\n",
      "Current target cell:2 / current target node:3\n"
     ]
    },
    {
     "name": "stderr",
     "output_type": "stream",
     "text": [
      "\n",
      "100%|██████████| 100/100 [02:33<00:00,  1.53s/it]"
     ]
    },
    {
     "name": "stdout",
     "output_type": "stream",
     "text": [
      "Found best op for target cell:2 / target node:3\n",
      ": Structure(4 nodes with |nor_conv_1x1~0|+|skip_connect~0|nor_conv_3x3~1|+|skip_connect~0|avg_pool_3x3~1|nor_conv_3x3~2|) with accuracy=67.19%, confidence=53.634%, sensitivity=0.035, robustness=-0.010, step_sim=97.596\n",
      "\n",
      "\n",
      " Searching with a cell #3\n",
      "\n",
      "Current target cell:3 / current target node:1\n"
     ]
    },
    {
     "name": "stderr",
     "output_type": "stream",
     "text": [
      "\n",
      "100%|██████████| 4/4 [00:07<00:00,  1.76s/it]"
     ]
    },
    {
     "name": "stdout",
     "output_type": "stream",
     "text": [
      "Found best op for target cell:3 / target node:1\n",
      ": Structure(4 nodes with |nor_conv_1x1~0|+|skip_connect~0|avg_pool_3x3~1|+|nor_conv_3x3~0|none~1|nor_conv_1x1~2|) with accuracy=66.80%, confidence=53.207%, sensitivity=0.034, robustness=-0.009, step_sim=96.992\n",
      "\n",
      "Current target cell:3 / current target node:2\n"
     ]
    },
    {
     "name": "stderr",
     "output_type": "stream",
     "text": [
      "\n",
      "100%|██████████| 20/20 [00:32<00:00,  1.61s/it]"
     ]
    },
    {
     "name": "stdout",
     "output_type": "stream",
     "text": [
      "Found best op for target cell:3 / target node:2\n",
      ": Structure(4 nodes with |nor_conv_1x1~0|+|none~0|avg_pool_3x3~1|+|nor_conv_3x3~0|none~1|nor_conv_1x1~2|) with accuracy=69.34%, confidence=54.908%, sensitivity=0.033, robustness=-0.008, step_sim=97.937\n",
      "\n",
      "Current target cell:3 / current target node:3\n"
     ]
    },
    {
     "name": "stderr",
     "output_type": "stream",
     "text": [
      "\n",
      "100%|██████████| 100/100 [02:30<00:00,  1.50s/it]"
     ]
    },
    {
     "name": "stdout",
     "output_type": "stream",
     "text": [
      "Found best op for target cell:3 / target node:3\n",
      ": Structure(4 nodes with |nor_conv_1x1~0|+|none~0|avg_pool_3x3~1|+|skip_connect~0|nor_conv_3x3~1|nor_conv_1x1~2|) with accuracy=67.19%, confidence=52.911%, sensitivity=0.032, robustness=-0.008, step_sim=97.831\n",
      "\n",
      "\n",
      " Searching with a cell #4\n",
      "\n",
      "Current target cell:4 / current target node:1\n"
     ]
    },
    {
     "name": "stderr",
     "output_type": "stream",
     "text": [
      "\n",
      "100%|██████████| 4/4 [00:04<00:00,  1.24s/it]"
     ]
    },
    {
     "name": "stdout",
     "output_type": "stream",
     "text": [
      "Found best op for target cell:4 / target node:1\n",
      ": Structure(4 nodes with |nor_conv_3x3~0|+|none~0|nor_conv_3x3~1|+|nor_conv_1x1~0|nor_conv_3x3~1|nor_conv_3x3~2|) with accuracy=66.21%, confidence=51.110%, sensitivity=0.038, robustness=-0.010, step_sim=96.980\n",
      "\n",
      "Current target cell:4 / current target node:2\n"
     ]
    },
    {
     "name": "stderr",
     "output_type": "stream",
     "text": [
      "\n",
      "100%|██████████| 20/20 [00:27<00:00,  1.37s/it]"
     ]
    },
    {
     "name": "stdout",
     "output_type": "stream",
     "text": [
      "Found best op for target cell:4 / target node:2\n",
      ": Structure(4 nodes with |nor_conv_3x3~0|+|none~0|nor_conv_3x3~1|+|nor_conv_1x1~0|nor_conv_3x3~1|nor_conv_3x3~2|) with accuracy=67.38%, confidence=53.232%, sensitivity=0.030, robustness=-0.009, step_sim=97.242\n",
      "\n",
      "Current target cell:4 / current target node:3\n"
     ]
    },
    {
     "name": "stderr",
     "output_type": "stream",
     "text": [
      "\n",
      "100%|██████████| 100/100 [02:28<00:00,  1.48s/it]"
     ]
    },
    {
     "name": "stdout",
     "output_type": "stream",
     "text": [
      "Found best op for target cell:4 / target node:3\n",
      ": Structure(4 nodes with |nor_conv_3x3~0|+|none~0|nor_conv_3x3~1|+|nor_conv_3x3~0|skip_connect~1|nor_conv_3x3~2|) with accuracy=71.09%, confidence=57.409%, sensitivity=0.025, robustness=-0.008, step_sim=98.082\n",
      "\n",
      "\n",
      " Searching with a cell #5\n",
      "\n",
      "Current target cell:5 / current target node:1\n"
     ]
    },
    {
     "name": "stderr",
     "output_type": "stream",
     "text": [
      "\n",
      "100%|██████████| 4/4 [00:04<00:00,  1.24s/it]"
     ]
    },
    {
     "name": "stdout",
     "output_type": "stream",
     "text": [
      "Found best op for target cell:5 / target node:1\n",
      ": Structure(4 nodes with |skip_connect~0|+|nor_conv_1x1~0|nor_conv_1x1~1|+|avg_pool_3x3~0|none~1|nor_conv_1x1~2|) with accuracy=71.48%, confidence=55.699%, sensitivity=0.028, robustness=-0.009, step_sim=97.760\n",
      "\n",
      "Current target cell:5 / current target node:2\n"
     ]
    },
    {
     "name": "stderr",
     "output_type": "stream",
     "text": [
      "\n",
      "100%|██████████| 20/20 [00:30<00:00,  1.54s/it]"
     ]
    },
    {
     "name": "stdout",
     "output_type": "stream",
     "text": [
      "Found best op for target cell:5 / target node:2\n",
      ": Structure(4 nodes with |skip_connect~0|+|nor_conv_3x3~0|nor_conv_1x1~1|+|avg_pool_3x3~0|none~1|nor_conv_1x1~2|) with accuracy=65.23%, confidence=51.389%, sensitivity=0.033, robustness=-0.008, step_sim=97.599\n",
      "\n",
      "Current target cell:5 / current target node:3\n"
     ]
    },
    {
     "name": "stderr",
     "output_type": "stream",
     "text": [
      "\n",
      "100%|██████████| 100/100 [02:25<00:00,  1.45s/it]"
     ]
    },
    {
     "name": "stdout",
     "output_type": "stream",
     "text": [
      "Found best op for target cell:5 / target node:3\n",
      ": Structure(4 nodes with |skip_connect~0|+|nor_conv_3x3~0|nor_conv_1x1~1|+|none~0|avg_pool_3x3~1|skip_connect~2|) with accuracy=67.58%, confidence=54.198%, sensitivity=0.032, robustness=-0.008, step_sim=97.914\n",
      "\n",
      "\n",
      " Searching with a cell #6\n",
      "\n",
      "Current target cell:6 / current target node:1\n"
     ]
    },
    {
     "name": "stderr",
     "output_type": "stream",
     "text": [
      "\n",
      "100%|██████████| 4/4 [00:04<00:00,  1.19s/it]"
     ]
    },
    {
     "name": "stdout",
     "output_type": "stream",
     "text": [
      "Found best op for target cell:6 / target node:1\n",
      ": Structure(4 nodes with |avg_pool_3x3~0|+|skip_connect~0|nor_conv_1x1~1|+|nor_conv_1x1~0|none~1|nor_conv_1x1~2|) with accuracy=67.58%, confidence=54.092%, sensitivity=0.026, robustness=-0.009, step_sim=98.344\n",
      "\n",
      "Current target cell:6 / current target node:2\n"
     ]
    },
    {
     "name": "stderr",
     "output_type": "stream",
     "text": [
      "\n",
      "100%|██████████| 20/20 [00:32<00:00,  1.62s/it]"
     ]
    },
    {
     "name": "stdout",
     "output_type": "stream",
     "text": [
      "Found best op for target cell:6 / target node:2\n",
      ": Structure(4 nodes with |avg_pool_3x3~0|+|nor_conv_3x3~0|nor_conv_3x3~1|+|nor_conv_1x1~0|none~1|nor_conv_1x1~2|) with accuracy=69.53%, confidence=55.017%, sensitivity=0.028, robustness=-0.008, step_sim=97.905\n",
      "\n",
      "Current target cell:6 / current target node:3\n"
     ]
    },
    {
     "name": "stderr",
     "output_type": "stream",
     "text": [
      "\n",
      "100%|██████████| 100/100 [02:28<00:00,  1.48s/it]"
     ]
    },
    {
     "name": "stdout",
     "output_type": "stream",
     "text": [
      "Found best op for target cell:6 / target node:3\n",
      ": Structure(4 nodes with |avg_pool_3x3~0|+|nor_conv_3x3~0|nor_conv_3x3~1|+|nor_conv_1x1~0|skip_connect~1|avg_pool_3x3~2|) with accuracy=67.58%, confidence=54.357%, sensitivity=0.030, robustness=-0.008, step_sim=98.241\n",
      "\n",
      "\n",
      " Searching with a cell #7\n",
      "\n",
      "Current target cell:7 / current target node:1\n"
     ]
    },
    {
     "name": "stderr",
     "output_type": "stream",
     "text": [
      "\n",
      "100%|██████████| 4/4 [00:06<00:00,  1.57s/it]"
     ]
    },
    {
     "name": "stdout",
     "output_type": "stream",
     "text": [
      "Found best op for target cell:7 / target node:1\n",
      ": Structure(4 nodes with |avg_pool_3x3~0|+|nor_conv_3x3~0|skip_connect~1|+|avg_pool_3x3~0|avg_pool_3x3~1|nor_conv_3x3~2|) with accuracy=69.14%, confidence=54.224%, sensitivity=0.026, robustness=-0.011, step_sim=97.272\n",
      "\n",
      "Current target cell:7 / current target node:2\n"
     ]
    },
    {
     "name": "stderr",
     "output_type": "stream",
     "text": [
      "\n",
      "100%|██████████| 20/20 [00:27<00:00,  1.37s/it]"
     ]
    },
    {
     "name": "stdout",
     "output_type": "stream",
     "text": [
      "Found best op for target cell:7 / target node:2\n",
      ": Structure(4 nodes with |avg_pool_3x3~0|+|nor_conv_3x3~0|skip_connect~1|+|avg_pool_3x3~0|avg_pool_3x3~1|nor_conv_3x3~2|) with accuracy=67.97%, confidence=53.481%, sensitivity=0.028, robustness=-0.008, step_sim=98.321\n",
      "\n",
      "Current target cell:7 / current target node:3\n"
     ]
    },
    {
     "name": "stderr",
     "output_type": "stream",
     "text": [
      "\n",
      "100%|██████████| 100/100 [02:28<00:00,  1.48s/it]"
     ]
    },
    {
     "name": "stdout",
     "output_type": "stream",
     "text": [
      "Found best op for target cell:7 / target node:3\n",
      ": Structure(4 nodes with |avg_pool_3x3~0|+|nor_conv_3x3~0|skip_connect~1|+|nor_conv_3x3~0|nor_conv_3x3~1|nor_conv_1x1~2|) with accuracy=66.60%, confidence=53.752%, sensitivity=0.031, robustness=-0.008, step_sim=98.267\n",
      "\n",
      "\n",
      " Searching with a cell #8\n",
      "\n",
      "Current target cell:8 / current target node:1\n"
     ]
    },
    {
     "name": "stderr",
     "output_type": "stream",
     "text": [
      "\n",
      "100%|██████████| 4/4 [00:06<00:00,  1.57s/it]"
     ]
    },
    {
     "name": "stdout",
     "output_type": "stream",
     "text": [
      "Found best op for target cell:8 / target node:1\n",
      ": Structure(4 nodes with |nor_conv_3x3~0|+|none~0|skip_connect~1|+|nor_conv_1x1~0|nor_conv_3x3~1|nor_conv_3x3~2|) with accuracy=65.82%, confidence=51.892%, sensitivity=0.032, robustness=-0.010, step_sim=97.538\n",
      "\n",
      "Current target cell:8 / current target node:2\n"
     ]
    },
    {
     "name": "stderr",
     "output_type": "stream",
     "text": [
      "\n",
      "100%|██████████| 20/20 [00:27<00:00,  1.40s/it]"
     ]
    },
    {
     "name": "stdout",
     "output_type": "stream",
     "text": [
      "Found best op for target cell:8 / target node:2\n",
      ": Structure(4 nodes with |nor_conv_3x3~0|+|avg_pool_3x3~0|skip_connect~1|+|nor_conv_1x1~0|nor_conv_3x3~1|nor_conv_3x3~2|) with accuracy=67.97%, confidence=54.345%, sensitivity=0.031, robustness=-0.008, step_sim=97.642\n",
      "\n",
      "Current target cell:8 / current target node:3\n"
     ]
    },
    {
     "name": "stderr",
     "output_type": "stream",
     "text": [
      "\n",
      "100%|██████████| 100/100 [02:23<00:00,  1.43s/it]"
     ]
    },
    {
     "name": "stdout",
     "output_type": "stream",
     "text": [
      "Found best op for target cell:8 / target node:3\n",
      ": Structure(4 nodes with |nor_conv_3x3~0|+|avg_pool_3x3~0|skip_connect~1|+|nor_conv_3x3~0|none~1|nor_conv_1x1~2|) with accuracy=68.75%, confidence=53.995%, sensitivity=0.032, robustness=-0.007, step_sim=98.047\n",
      "\n",
      "\n",
      " Searching with a cell #9\n",
      "\n",
      "Current target cell:9 / current target node:1\n"
     ]
    },
    {
     "name": "stderr",
     "output_type": "stream",
     "text": [
      "\n",
      "100%|██████████| 4/4 [00:06<00:00,  1.61s/it]"
     ]
    },
    {
     "name": "stdout",
     "output_type": "stream",
     "text": [
      "Found best op for target cell:9 / target node:1\n",
      ": Structure(4 nodes with |nor_conv_1x1~0|+|nor_conv_3x3~0|nor_conv_1x1~1|+|avg_pool_3x3~0|nor_conv_3x3~1|nor_conv_3x3~2|) with accuracy=64.26%, confidence=52.443%, sensitivity=0.027, robustness=-0.010, step_sim=97.875\n",
      "\n",
      "Current target cell:9 / current target node:2\n"
     ]
    },
    {
     "name": "stderr",
     "output_type": "stream",
     "text": [
      "\n",
      "100%|██████████| 20/20 [00:30<00:00,  1.51s/it]"
     ]
    },
    {
     "name": "stdout",
     "output_type": "stream",
     "text": [
      "Found best op for target cell:9 / target node:2\n",
      ": Structure(4 nodes with |nor_conv_1x1~0|+|nor_conv_3x3~0|avg_pool_3x3~1|+|avg_pool_3x3~0|nor_conv_3x3~1|nor_conv_3x3~2|) with accuracy=67.19%, confidence=53.555%, sensitivity=0.028, robustness=-0.007, step_sim=98.174\n",
      "\n",
      "Current target cell:9 / current target node:3\n"
     ]
    },
    {
     "name": "stderr",
     "output_type": "stream",
     "text": [
      "\n",
      "100%|██████████| 100/100 [02:25<00:00,  1.45s/it]"
     ]
    },
    {
     "name": "stdout",
     "output_type": "stream",
     "text": [
      "Found best op for target cell:9 / target node:3\n",
      ": Structure(4 nodes with |nor_conv_1x1~0|+|nor_conv_3x3~0|avg_pool_3x3~1|+|nor_conv_3x3~0|avg_pool_3x3~1|nor_conv_3x3~2|) with accuracy=69.53%, confidence=54.640%, sensitivity=0.035, robustness=-0.010, step_sim=97.901\n",
      "\n",
      "\n",
      " Searching with a cell #10\n",
      "\n",
      "Current target cell:10 / current target node:1\n"
     ]
    },
    {
     "name": "stderr",
     "output_type": "stream",
     "text": [
      "\n",
      "100%|██████████| 4/4 [00:05<00:00,  1.36s/it]"
     ]
    },
    {
     "name": "stdout",
     "output_type": "stream",
     "text": [
      "Found best op for target cell:10 / target node:1\n",
      ": Structure(4 nodes with |nor_conv_1x1~0|+|skip_connect~0|nor_conv_1x1~1|+|nor_conv_1x1~0|skip_connect~1|skip_connect~2|) with accuracy=66.80%, confidence=53.406%, sensitivity=0.028, robustness=-0.010, step_sim=97.754\n",
      "\n",
      "Current target cell:10 / current target node:2\n"
     ]
    },
    {
     "name": "stderr",
     "output_type": "stream",
     "text": [
      "\n",
      "100%|██████████| 20/20 [00:28<00:00,  1.41s/it]"
     ]
    },
    {
     "name": "stdout",
     "output_type": "stream",
     "text": [
      "Found best op for target cell:10 / target node:2\n",
      ": Structure(4 nodes with |nor_conv_1x1~0|+|avg_pool_3x3~0|nor_conv_1x1~1|+|nor_conv_1x1~0|skip_connect~1|skip_connect~2|) with accuracy=68.16%, confidence=54.972%, sensitivity=0.033, robustness=-0.007, step_sim=97.092\n",
      "\n",
      "Current target cell:10 / current target node:3\n"
     ]
    },
    {
     "name": "stderr",
     "output_type": "stream",
     "text": [
      "\n",
      "100%|██████████| 100/100 [02:26<00:00,  1.46s/it]"
     ]
    },
    {
     "name": "stdout",
     "output_type": "stream",
     "text": [
      "Found best op for target cell:10 / target node:3\n",
      ": Structure(4 nodes with |nor_conv_1x1~0|+|avg_pool_3x3~0|nor_conv_1x1~1|+|avg_pool_3x3~0|none~1|skip_connect~2|) with accuracy=67.19%, confidence=55.178%, sensitivity=0.035, robustness=-0.010, step_sim=97.934\n",
      "\n",
      "\n",
      " Searching with a cell #11\n",
      "\n",
      "Current target cell:11 / current target node:1\n"
     ]
    },
    {
     "name": "stderr",
     "output_type": "stream",
     "text": [
      "\n",
      "100%|██████████| 4/4 [00:06<00:00,  1.54s/it]"
     ]
    },
    {
     "name": "stdout",
     "output_type": "stream",
     "text": [
      "Found best op for target cell:11 / target node:1\n",
      ": Structure(4 nodes with |nor_conv_1x1~0|+|skip_connect~0|skip_connect~1|+|skip_connect~0|none~1|nor_conv_3x3~2|) with accuracy=66.80%, confidence=53.665%, sensitivity=0.035, robustness=-0.011, step_sim=96.135\n",
      "\n",
      "Current target cell:11 / current target node:2\n"
     ]
    },
    {
     "name": "stderr",
     "output_type": "stream",
     "text": [
      "\n",
      "100%|██████████| 20/20 [00:29<00:00,  1.48s/it]"
     ]
    },
    {
     "name": "stdout",
     "output_type": "stream",
     "text": [
      "Found best op for target cell:11 / target node:2\n",
      ": Structure(4 nodes with |nor_conv_1x1~0|+|nor_conv_1x1~0|nor_conv_1x1~1|+|skip_connect~0|none~1|nor_conv_3x3~2|) with accuracy=68.16%, confidence=55.033%, sensitivity=0.033, robustness=-0.011, step_sim=97.812\n",
      "\n",
      "Current target cell:11 / current target node:3\n"
     ]
    },
    {
     "name": "stderr",
     "output_type": "stream",
     "text": [
      "\n",
      "100%|██████████| 100/100 [02:28<00:00,  1.49s/it]"
     ]
    },
    {
     "name": "stdout",
     "output_type": "stream",
     "text": [
      "Found best op for target cell:11 / target node:3\n",
      ": Structure(4 nodes with |nor_conv_1x1~0|+|nor_conv_1x1~0|nor_conv_1x1~1|+|skip_connect~0|skip_connect~1|avg_pool_3x3~2|) with accuracy=69.14%, confidence=55.077%, sensitivity=0.035, robustness=-0.010, step_sim=97.461\n",
      "\n",
      "\n",
      " Searching with a cell #12\n",
      "\n",
      "Current target cell:12 / current target node:1\n"
     ]
    },
    {
     "name": "stderr",
     "output_type": "stream",
     "text": [
      "\n",
      "100%|██████████| 4/4 [00:05<00:00,  1.32s/it]"
     ]
    },
    {
     "name": "stdout",
     "output_type": "stream",
     "text": [
      "Found best op for target cell:12 / target node:1\n",
      ": Structure(4 nodes with |nor_conv_3x3~0|+|nor_conv_3x3~0|nor_conv_3x3~1|+|none~0|skip_connect~1|nor_conv_3x3~2|) with accuracy=66.60%, confidence=54.866%, sensitivity=0.028, robustness=-0.009, step_sim=97.213\n",
      "\n",
      "Current target cell:12 / current target node:2\n"
     ]
    },
    {
     "name": "stderr",
     "output_type": "stream",
     "text": [
      "\n",
      "100%|██████████| 20/20 [00:30<00:00,  1.54s/it]"
     ]
    },
    {
     "name": "stdout",
     "output_type": "stream",
     "text": [
      "Found best op for target cell:12 / target node:2\n",
      ": Structure(4 nodes with |nor_conv_3x3~0|+|nor_conv_3x3~0|avg_pool_3x3~1|+|none~0|skip_connect~1|nor_conv_3x3~2|) with accuracy=71.48%, confidence=56.738%, sensitivity=0.031, robustness=-0.011, step_sim=96.980\n",
      "\n",
      "Current target cell:12 / current target node:3\n"
     ]
    },
    {
     "name": "stderr",
     "output_type": "stream",
     "text": [
      "\n",
      "100%|██████████| 100/100 [02:25<00:00,  1.46s/it]"
     ]
    },
    {
     "name": "stdout",
     "output_type": "stream",
     "text": [
      "Found best op for target cell:12 / target node:3\n",
      ": Structure(4 nodes with |nor_conv_3x3~0|+|nor_conv_3x3~0|avg_pool_3x3~1|+|skip_connect~0|none~1|avg_pool_3x3~2|) with accuracy=67.58%, confidence=54.433%, sensitivity=0.035, robustness=-0.011, step_sim=98.001\n",
      "\n",
      "\n",
      " Searching with a cell #13\n",
      "\n",
      "Current target cell:13 / current target node:1\n"
     ]
    },
    {
     "name": "stderr",
     "output_type": "stream",
     "text": [
      "\n",
      "100%|██████████| 4/4 [00:05<00:00,  1.33s/it]"
     ]
    },
    {
     "name": "stdout",
     "output_type": "stream",
     "text": [
      "Found best op for target cell:13 / target node:1\n",
      ": Structure(4 nodes with |nor_conv_3x3~0|+|avg_pool_3x3~0|nor_conv_1x1~1|+|none~0|nor_conv_3x3~1|nor_conv_1x1~2|) with accuracy=72.46%, confidence=57.367%, sensitivity=0.027, robustness=-0.010, step_sim=96.336\n",
      "\n",
      "Current target cell:13 / current target node:2\n"
     ]
    },
    {
     "name": "stderr",
     "output_type": "stream",
     "text": [
      "\n",
      "100%|██████████| 20/20 [00:31<00:00,  1.55s/it]"
     ]
    },
    {
     "name": "stdout",
     "output_type": "stream",
     "text": [
      "Found best op for target cell:13 / target node:2\n",
      ": Structure(4 nodes with |nor_conv_3x3~0|+|avg_pool_3x3~0|nor_conv_3x3~1|+|none~0|nor_conv_3x3~1|nor_conv_1x1~2|) with accuracy=70.90%, confidence=56.372%, sensitivity=0.030, robustness=-0.010, step_sim=97.671\n",
      "\n",
      "Current target cell:13 / current target node:3\n"
     ]
    },
    {
     "name": "stderr",
     "output_type": "stream",
     "text": [
      "\n",
      "100%|██████████| 100/100 [02:27<00:00,  1.48s/it]"
     ]
    },
    {
     "name": "stdout",
     "output_type": "stream",
     "text": [
      "Found best op for target cell:13 / target node:3\n",
      ": Structure(4 nodes with |nor_conv_3x3~0|+|avg_pool_3x3~0|nor_conv_3x3~1|+|nor_conv_3x3~0|nor_conv_3x3~1|skip_connect~2|) with accuracy=67.19%, confidence=53.231%, sensitivity=0.029, robustness=-0.008, step_sim=98.324\n",
      "\n",
      "\n",
      " Searching with a cell #14\n",
      "\n",
      "Current target cell:14 / current target node:1\n"
     ]
    },
    {
     "name": "stderr",
     "output_type": "stream",
     "text": [
      "\n",
      "100%|██████████| 4/4 [00:06<00:00,  1.69s/it]"
     ]
    },
    {
     "name": "stdout",
     "output_type": "stream",
     "text": [
      "Found best op for target cell:14 / target node:1\n",
      ": Structure(4 nodes with |avg_pool_3x3~0|+|nor_conv_3x3~0|avg_pool_3x3~1|+|nor_conv_3x3~0|skip_connect~1|nor_conv_1x1~2|) with accuracy=65.62%, confidence=53.136%, sensitivity=0.029, robustness=-0.009, step_sim=97.794\n",
      "\n",
      "Current target cell:14 / current target node:2\n"
     ]
    },
    {
     "name": "stderr",
     "output_type": "stream",
     "text": [
      "\n",
      "100%|██████████| 20/20 [00:26<00:00,  1.33s/it]"
     ]
    },
    {
     "name": "stdout",
     "output_type": "stream",
     "text": [
      "Found best op for target cell:14 / target node:2\n",
      ": Structure(4 nodes with |avg_pool_3x3~0|+|nor_conv_3x3~0|skip_connect~1|+|nor_conv_3x3~0|skip_connect~1|nor_conv_1x1~2|) with accuracy=68.75%, confidence=55.247%, sensitivity=0.030, robustness=-0.010, step_sim=97.470\n",
      "\n",
      "Current target cell:14 / current target node:3\n"
     ]
    },
    {
     "name": "stderr",
     "output_type": "stream",
     "text": [
      "\n",
      "100%|██████████| 100/100 [02:26<00:00,  1.47s/it]"
     ]
    },
    {
     "name": "stdout",
     "output_type": "stream",
     "text": [
      "Found best op for target cell:14 / target node:3\n",
      ": Structure(4 nodes with |avg_pool_3x3~0|+|nor_conv_3x3~0|skip_connect~1|+|nor_conv_1x1~0|skip_connect~1|nor_conv_3x3~2|) with accuracy=68.36%, confidence=54.170%, sensitivity=0.031, robustness=-0.009, step_sim=97.827\n",
      "Structure(4 nodes with |nor_conv_3x3~0|+|nor_conv_3x3~0|nor_conv_1x1~1|+|nor_conv_3x3~0|nor_conv_1x1~1|skip_connect~2|)\n",
      "Structure(4 nodes with |skip_connect~0|+|nor_conv_1x1~0|skip_connect~1|+|nor_conv_3x3~0|avg_pool_3x3~1|nor_conv_1x1~2|)\n",
      "Structure(4 nodes with |nor_conv_1x1~0|+|skip_connect~0|nor_conv_3x3~1|+|skip_connect~0|avg_pool_3x3~1|nor_conv_3x3~2|)\n",
      "Structure(4 nodes with |nor_conv_1x1~0|+|none~0|avg_pool_3x3~1|+|skip_connect~0|nor_conv_3x3~1|nor_conv_1x1~2|)\n",
      "Structure(4 nodes with |nor_conv_3x3~0|+|none~0|nor_conv_3x3~1|+|nor_conv_3x3~0|skip_connect~1|nor_conv_3x3~2|)\n",
      "Structure(4 nodes with |skip_connect~0|+|nor_conv_3x3~0|nor_conv_1x1~1|+|none~0|avg_pool_3x3~1|skip_connect~2|)\n",
      "Structure(4 nodes with |avg_pool_3x3~0|+|nor_conv_3x3~0|nor_conv_3x3~1|+|nor_conv_1x1~0|skip_connect~1|avg_pool_3x3~2|)\n",
      "Structure(4 nodes with |avg_pool_3x3~0|+|nor_conv_3x3~0|skip_connect~1|+|nor_conv_3x3~0|nor_conv_3x3~1|nor_conv_1x1~2|)\n",
      "Structure(4 nodes with |nor_conv_3x3~0|+|avg_pool_3x3~0|skip_connect~1|+|nor_conv_3x3~0|none~1|nor_conv_1x1~2|)\n",
      "Structure(4 nodes with |nor_conv_1x1~0|+|nor_conv_3x3~0|avg_pool_3x3~1|+|nor_conv_3x3~0|avg_pool_3x3~1|nor_conv_3x3~2|)\n",
      "Structure(4 nodes with |nor_conv_1x1~0|+|avg_pool_3x3~0|nor_conv_1x1~1|+|avg_pool_3x3~0|none~1|skip_connect~2|)\n",
      "Structure(4 nodes with |nor_conv_1x1~0|+|nor_conv_1x1~0|nor_conv_1x1~1|+|skip_connect~0|skip_connect~1|avg_pool_3x3~2|)\n",
      "Structure(4 nodes with |nor_conv_3x3~0|+|nor_conv_3x3~0|avg_pool_3x3~1|+|skip_connect~0|none~1|avg_pool_3x3~2|)\n",
      "Structure(4 nodes with |nor_conv_3x3~0|+|avg_pool_3x3~0|nor_conv_3x3~1|+|nor_conv_3x3~0|nor_conv_3x3~1|skip_connect~2|)\n",
      "Structure(4 nodes with |avg_pool_3x3~0|+|nor_conv_3x3~0|skip_connect~1|+|nor_conv_1x1~0|skip_connect~1|nor_conv_3x3~2|)\n"
     ]
    },
    {
     "name": "stderr",
     "output_type": "stream",
     "text": [
      "\n"
     ]
    }
   ],
   "source": [
    "# start training\n",
    "start_time, search_time, epoch_time, total_epoch = (\n",
    "    time.time(),\n",
    "    AverageMeter(),\n",
    "    AverageMeter(),\n",
    "    config.epochs + config.warmup,\n",
    ")\n",
    "\n",
    "################# initialize\n",
    "cells = []\n",
    "for m in network.modules():\n",
    "    if isinstance(m, SearchCell):\n",
    "        cells.append(m)\n",
    "num_cells = len(cells)\n",
    "print(\"total number of nodes:{}\".format(num_cells*xargs.max_nodes))\n",
    "        \n",
    "op_names = deepcopy(cells[0].op_names)\n",
    "op_names_wo_none = deepcopy(op_names)\n",
    "if \"none\" in op_names_wo_none:\n",
    "    op_names_wo_none.remove(\"none\")\n",
    "\n",
    "genotypes = []\n",
    "for i in range(1, xargs.max_nodes):\n",
    "    xlist = []\n",
    "    for j in range(i):\n",
    "        node_str = \"{:}<-{:}\".format(i, j)\n",
    "        if i-j==1:\n",
    "            op_name = \"skip_connect\"\n",
    "        else:\n",
    "            op_name = \"none\"\n",
    "        xlist.append((op_name, j))\n",
    "    genotypes.append(tuple(xlist))\n",
    "init_arch = Structure(genotypes)\n",
    "\n",
    "for c in cells:\n",
    "    c.arch_cache = init_arch\n",
    "\n",
    "### gen possible connections of a target node\n",
    "possible_connections = {}\n",
    "for target_node_idx in range(1,xargs.max_nodes):\n",
    "    possible_connections[target_node_idx] = list()\n",
    "    xlists = []\n",
    "    for src_node in range(target_node_idx):\n",
    "        node_str = \"{:}<-{:}\".format(target_node_idx, src_node)\n",
    "        # select possible ops\n",
    "        if target_node_idx - src_node == 1:\n",
    "            op_names_tmp = op_names_wo_none\n",
    "        else:\n",
    "            op_names_tmp = op_names\n",
    "#         op_names_tmp = op_names\n",
    "            \n",
    "        if len(xlists) == 0: # initial iteration\n",
    "            for op_name in op_names_tmp:\n",
    "                xlists.append([(op_name, src_node)])\n",
    "        else:\n",
    "            new_xlists = []\n",
    "            for op_name in op_names_tmp:\n",
    "                for xlist in xlists:\n",
    "                    new_xlist = deepcopy(xlist)\n",
    "                    new_xlist.append((op_name, src_node))\n",
    "                    new_xlists.append(new_xlist)\n",
    "            xlists = new_xlists\n",
    "    for xlist in xlists:\n",
    "        selected_ops = []\n",
    "        for l in xlist:\n",
    "            selected_ops.append(l[0])\n",
    "#         if sum(np.array(selected_ops) == \"none\") == len(selected_ops):\n",
    "#             continue\n",
    "        possible_connections[target_node_idx].append(tuple(xlist))\n",
    "    print(\"target_node:{}\".format(target_node_idx), len(possible_connections[target_node_idx]))\n",
    "        \n",
    "### train while generating random architectures by mutating connections of a target node\n",
    "\n",
    "for arch_loop in range(3):\n",
    "    logger.log(\"arch loop#{}, current structure:\".format(arch_loop))\n",
    "    for m in search_model.modules():\n",
    "        if isinstance(m, SearchCell):\n",
    "            logger.log(m.arch_cache)\n",
    "    for target_cell_idx in range(num_cells):\n",
    "        target_cell = cells[target_cell_idx]\n",
    "        print(\"\\n\\n Searching with a cell #{}\".format(target_cell_idx))\n",
    "        for target_node_idx in range(1,xargs.max_nodes):\n",
    "            current_genotypes,_ = target_cell.arch_cache.tolist(None)\n",
    "            print(\"\\nCurrent target cell:{} / current target node:{}\".format(target_cell_idx, target_node_idx))\n",
    "            ####\n",
    "#             for src_node_idx in range(target_node_idx):\n",
    "#                 node_str = \"{:}<-{:}\".format(target_node_idx, src_node_idx)\n",
    "#                 for m in target_cell.edges[node_str].modules():\n",
    "#                     if hasattr(m, 'reset_parameters'):\n",
    "#                         m.reset_parameters()\n",
    "            ####\n",
    "            ## training\n",
    "#             for ep in range(2):\n",
    "#                 data_time, batch_time = AverageMeter(), AverageMeter()\n",
    "#                 base_losses, base_top1, base_top5 = AverageMeter(), AverageMeter(), AverageMeter()\n",
    "#                 network.train()\n",
    "#                 end = time.time()\n",
    "#                 print_freq = 200\n",
    "#                 for step, (base_inputs, base_targets, arch_inputs, arch_targets) in enumerate(search_loader):\n",
    "#                     ######### random generation\n",
    "#                     genotypes = deepcopy(current_genotypes)\n",
    "#                     connection = random.choice(possible_connections[target_node_idx])\n",
    "#                     genotypes[target_node_idx-1] = connection\n",
    "#                     arch = Structure(genotypes)\n",
    "#                     target_cell.arch_cache = arch\n",
    "\n",
    "#                     ######### forward/backward/optim\n",
    "#                     base_targets = base_targets.cuda(non_blocking=True)\n",
    "#                     arch_targets = arch_targets.cuda(non_blocking=True)\n",
    "#                     # measure data loading time\n",
    "#                     data_time.update(time.time() - end)\n",
    "#                     w_optimizer.zero_grad()\n",
    "#                     _, logits = network(base_inputs)\n",
    "#                     base_loss = criterion(logits, base_targets)\n",
    "#                     base_loss.backward()\n",
    "#                     nn.utils.clip_grad_norm_(network.parameters(), 5)\n",
    "#                     w_optimizer.step()\n",
    "\n",
    "#                     ######### logging\n",
    "#                     base_prec1, base_prec5 = obtain_accuracy(logits.data, base_targets.data, topk=(1, 5))\n",
    "#                     base_losses.update(base_loss.item(), base_inputs.size(0))\n",
    "#                     base_top1.update(base_prec1.item(), base_inputs.size(0))\n",
    "#                     base_top5.update(base_prec5.item(), base_inputs.size(0))\n",
    "#                     batch_time.update(time.time() - end)\n",
    "#                     end = time.time()\n",
    "#                     if step % print_freq == 0 or step + 1 == len(search_loader):\n",
    "#                         Sstr = (\"*Train* \"+ time_string()+\" Ep:{:} [{:03d}/{:03d}]\".format(ep, step, len(search_loader)))\n",
    "#                         Tstr = \"Time {batch_time.val:.2f} ({batch_time.avg:.2f}) Data {data_time.val:.2f} ({data_time.avg:.2f})\".format(batch_time=batch_time, data_time=data_time)\n",
    "#                         Wstr = \"Base [Loss {loss.val:.3f} ({loss.avg:.3f})  Prec@1 {top1.val:.2f} ({top1.avg:.2f}) Prec@5 {top5.val:.2f} ({top5.avg:.2f})]\".format(loss=base_losses, top1=base_top1, top5=base_top5)\n",
    "#                         logger.log(Sstr + \" \" + Tstr + \" \" + Wstr)\n",
    "\n",
    "#                 logger.log(\"Ep:{:} ends : loss={:.2f}, accuracy@1={:.2f}%, accuracy@5={:.2f}%\".format(ep, base_losses.avg, base_top1.avg, base_top5.avg))\n",
    "            ## evaluation\n",
    "            network.train()\n",
    "            archs, metric_accs, metric_confidences, metric_sensitivities, metric_robustnesses, metric_step_sims = [], [], [], [], [], []\n",
    "            loader_iter = iter(valid_loader)\n",
    "            for connection in tqdm(possible_connections[target_node_idx]):\n",
    "                ###### traverse over possible archs\n",
    "                genotypes = deepcopy(current_genotypes)\n",
    "                genotypes[target_node_idx-1] = connection\n",
    "                arch = Structure(genotypes)\n",
    "                target_cell.arch_cache = arch\n",
    "                ###### measure metrics\n",
    "                try:\n",
    "                    inputs, targets = next(loader_iter)\n",
    "                except:\n",
    "                    loader_iter = iter(valid_loader)\n",
    "                    inputs, targets = next(loader_iter)\n",
    "                inputs, targets = inputs.cuda(non_blocking=True), targets.cuda(non_blocking=True)\n",
    "                valid_acc, confidence, sensitivity, robustness = acc_confidence_robustness_metrics(network, inputs, targets)\n",
    "                step_sim = step_sim_metric(network, criterion, inputs, targets)\n",
    "                archs.append(arch)\n",
    "                metric_accs.append(valid_acc)\n",
    "                metric_confidences.append(confidence)\n",
    "                metric_sensitivities.append(sensitivity)\n",
    "                metric_robustnesses.append(robustness)\n",
    "                metric_step_sims.append(step_sim)\n",
    "            rank_accs, rank_confidences, rank_sensitivities, rank_robustnesses, rank_step_sims = stats.rankdata(metric_accs), stats.rankdata(metric_confidences), stats.rankdata(metric_sensitivities), stats.rankdata(metric_robustnesses), stats.rankdata(metric_step_sims)\n",
    "            l = len(rank_accs)\n",
    "            rank_agg = np.log(rank_accs/l)+np.log(rank_confidences/l)+np.log(rank_sensitivities/l)+np.log(rank_robustnesses/l)+np.log(rank_step_sims/l)\n",
    "#             rank_agg = np.log(rank_accs/l)+np.log(rank_confidences/l)+np.log(rank_sensitivities/l)+np.log(rank_step_sims/l)\n",
    "            best_idx = np.argmax(rank_agg)\n",
    "            best_arch, best_acc, best_conf, best_sensitivity, best_robust, best_step_sim = archs[best_idx], metric_accs[best_idx], metric_confidences[best_idx], metric_sensitivities[best_idx], metric_robustnesses[best_idx], metric_step_sims[best_idx]\n",
    "            logger.log(\"Found best op for target cell:{} / target node:{}\".format(target_cell_idx, target_node_idx))\n",
    "            logger.log(\": {:} with accuracy={:.2f}%, confidence={:.3f}%, sensitivity={:.3f}, robustness={:.3f}, step_sim={:.3f}\".format(best_arch, best_acc, best_conf, best_sensitivity, best_robust, best_step_sim))\n",
    "            target_cell.arch_cache = best_arch\n",
    "            \n",
    "best_archs = []\n",
    "for c in cells:\n",
    "    best_archs.append(c.arch_cache)\n",
    "    \n",
    "torch.save({\"model\":search_model.state_dict(), \"best_archs\":best_archs}, os.path.join(xargs.save_dir, \"output.pth\"))\n",
    "\n",
    "for m in search_model.modules():\n",
    "    if isinstance(m, SearchCell):\n",
    "        logger.log(m.arch_cache)\n",
    "\n",
    "logger.close()"
   ]
  },
  {
   "cell_type": "code",
   "execution_count": 8,
   "id": "4bde3bcf",
   "metadata": {},
   "outputs": [
    {
     "data": {
      "image/png": "[encoded data removed]",
      "text/plain": [
       "<Figure size 432x288 with 1 Axes>"
      ]
     },
     "metadata": {
      "needs_background": "light"
     },
     "output_type": "display_data"
    },
    {
     "data": {
      "image/png": "[encoded data removed]",
      "text/plain": [
       "<Figure size 432x288 with 1 Axes>"
      ]
     },
     "metadata": {
      "needs_background": "light"
     },
     "output_type": "display_data"
    },
    {
     "data": {
      "image/png": "[encoded data removed]",
      "text/plain": [
       "<Figure size 432x288 with 1 Axes>"
      ]
     },
     "metadata": {
      "needs_background": "light"
     },
     "output_type": "display_data"
    },
    {
     "data": {
      "image/png": "[encoded data removed]",
      "text/plain": [
       "<Figure size 432x288 with 1 Axes>"
      ]
     },
     "metadata": {
      "needs_background": "light"
     },
     "output_type": "display_data"
    }
   ],
   "source": [
    "import matplotlib.pyplot as plt\n",
    "\n",
    "plt.scatter(rank_confidences,rank_accs)\n",
    "plt.show()\n",
    "\n",
    "plt.scatter(rank_sensitivities,rank_accs)\n",
    "plt.show()\n",
    "\n",
    "plt.scatter(rank_robustnesses,rank_accs)\n",
    "plt.show()\n",
    "\n",
    "plt.scatter(rank_step_sims,rank_accs)\n",
    "plt.show()"
   ]
  },
  {
   "cell_type": "markdown",
   "id": "e0da32ec",
   "metadata": {},
   "source": [
    "# Train a found model"
   ]
  },
  {
   "cell_type": "code",
   "execution_count": 9,
   "id": "b3ae460c",
   "metadata": {},
   "outputs": [
    {
     "name": "stdout",
     "output_type": "stream",
     "text": [
      "Namespace(arch_nas_dataset=None, channel=16, config_path='./MY.config', data_path='../cifar.python', dataset='cifar10', max_nodes=4, num_cells=5, print_freq=200, rand_seed=24382, save_dir='./op_level-use_pretrain', search_space_name='nas-bench-201', select_num=100, track_running_stats=0, workers=4)\n",
      "Namespace(arch_nas_dataset=None, channel=16, config_path='./MY.config', data_path='../cifar.python', dataset='cifar10', max_nodes=4, num_cells=5, print_freq=200, rand_seed=24382, save_dir='./op_level-use_pretrain/train', search_space_name='nas-bench-201', select_num=100, track_running_stats=0, workers=4)\n"
     ]
    }
   ],
   "source": [
    "trained_output = torch.load(os.path.join(xargs.save_dir, \"output.pth\"))\n",
    "print(args)\n",
    "args.save_dir = os.path.join(xargs.save_dir, \"train\")\n",
    "print(args)"
   ]
  },
  {
   "cell_type": "code",
   "execution_count": 10,
   "id": "ed27598e",
   "metadata": {},
   "outputs": [
    {
     "name": "stdout",
     "output_type": "stream",
     "text": [
      "Configure(scheduler='cos', LR=0.025, eta_min=0.001, epochs=50, warmup=0, optim='SGD', decay=0.0005, momentum=0.9, nesterov=True, criterion='Softmax', batch_size=64, test_batch_size=512, class_num=10, xshape=(1, 3, 32, 32))\n"
     ]
    }
   ],
   "source": [
    "print(config)"
   ]
  },
  {
   "cell_type": "code",
   "execution_count": 11,
   "id": "5c02f6c3",
   "metadata": {},
   "outputs": [
    {
     "name": "stdout",
     "output_type": "stream",
     "text": [
      "Main Function with logger : Logger(dir=op_level-use_pretrain/train, use-tf=False, writer=None)\n",
      "Arguments : -------------------------------\n",
      "arch_nas_dataset : None\n",
      "channel          : 16\n",
      "config_path      : ./MY.config\n",
      "data_path        : ../cifar.python\n",
      "dataset          : cifar10\n",
      "max_nodes        : 4\n",
      "num_cells        : 5\n",
      "print_freq       : 200\n",
      "rand_seed        : 24382\n",
      "save_dir         : ./op_level-use_pretrain/train\n",
      "search_space_name : nas-bench-201\n",
      "select_num       : 100\n",
      "track_running_stats : 0\n",
      "workers          : 4\n",
      "Python  Version  : 3.7.13 (default, Mar 29 2022, 02:18:16)  [GCC 7.5.0]\n",
      "Pillow  Version  : 9.0.1\n",
      "PyTorch Version  : 1.12.0\n",
      "cuDNN   Version  : 8302\n",
      "CUDA available   : True\n",
      "CUDA GPU numbers : 2\n",
      "CUDA_VISIBLE_DEVICES : None\n",
      "Files already downloaded and verified\n",
      "Files already downloaded and verified\n",
      "../configs/nas-benchmark/CIFAR.config\n",
      "Configure(scheduler='cos', eta_min=0.0, epochs=200, warmup=0, optim='SGD', LR=0.1, decay=0.0005, momentum=0.9, nesterov=True, criterion='Softmax', batch_size=256, class_num=10, xshape=(1, 3, 32, 32))\n",
      "||||||| cifar10    ||||||| Train-Loader-Num=196, Test-Loader-Num=40, batch size=256\n",
      "||||||| cifar10    ||||||| Config=Configure(scheduler='cos', eta_min=0.0, epochs=200, warmup=0, optim='SGD', LR=0.1, decay=0.0005, momentum=0.9, nesterov=True, criterion='Softmax', batch_size=256, class_num=10, xshape=(1, 3, 32, 32))\n",
      "Structure(4 nodes with |nor_conv_3x3~0|+|nor_conv_3x3~0|nor_conv_1x1~1|+|nor_conv_3x3~0|nor_conv_1x1~1|skip_connect~2|)\n",
      "Structure(4 nodes with |skip_connect~0|+|nor_conv_1x1~0|skip_connect~1|+|nor_conv_3x3~0|avg_pool_3x3~1|nor_conv_1x1~2|)\n",
      "Structure(4 nodes with |nor_conv_1x1~0|+|skip_connect~0|nor_conv_3x3~1|+|skip_connect~0|avg_pool_3x3~1|nor_conv_3x3~2|)\n",
      "Structure(4 nodes with |nor_conv_1x1~0|+|none~0|avg_pool_3x3~1|+|skip_connect~0|nor_conv_3x3~1|nor_conv_1x1~2|)\n",
      "Structure(4 nodes with |nor_conv_3x3~0|+|none~0|nor_conv_3x3~1|+|nor_conv_3x3~0|skip_connect~1|nor_conv_3x3~2|)\n",
      "Structure(4 nodes with |skip_connect~0|+|nor_conv_3x3~0|nor_conv_1x1~1|+|none~0|avg_pool_3x3~1|skip_connect~2|)\n",
      "Structure(4 nodes with |avg_pool_3x3~0|+|nor_conv_3x3~0|nor_conv_3x3~1|+|nor_conv_1x1~0|skip_connect~1|avg_pool_3x3~2|)\n",
      "Structure(4 nodes with |avg_pool_3x3~0|+|nor_conv_3x3~0|skip_connect~1|+|nor_conv_3x3~0|nor_conv_3x3~1|nor_conv_1x1~2|)\n",
      "Structure(4 nodes with |nor_conv_3x3~0|+|avg_pool_3x3~0|skip_connect~1|+|nor_conv_3x3~0|none~1|nor_conv_1x1~2|)\n",
      "Structure(4 nodes with |nor_conv_1x1~0|+|nor_conv_3x3~0|avg_pool_3x3~1|+|nor_conv_3x3~0|avg_pool_3x3~1|nor_conv_3x3~2|)\n",
      "Structure(4 nodes with |nor_conv_1x1~0|+|avg_pool_3x3~0|nor_conv_1x1~1|+|avg_pool_3x3~0|none~1|skip_connect~2|)\n",
      "Structure(4 nodes with |nor_conv_1x1~0|+|nor_conv_1x1~0|nor_conv_1x1~1|+|skip_connect~0|skip_connect~1|avg_pool_3x3~2|)\n",
      "Structure(4 nodes with |nor_conv_3x3~0|+|nor_conv_3x3~0|avg_pool_3x3~1|+|skip_connect~0|none~1|avg_pool_3x3~2|)\n",
      "Structure(4 nodes with |nor_conv_3x3~0|+|avg_pool_3x3~0|nor_conv_3x3~1|+|nor_conv_3x3~0|nor_conv_3x3~1|skip_connect~2|)\n",
      "Structure(4 nodes with |avg_pool_3x3~0|+|nor_conv_3x3~0|skip_connect~1|+|nor_conv_1x1~0|skip_connect~1|nor_conv_3x3~2|)\n",
      "w-optimizer : SGD (\n",
      "Parameter Group 0\n",
      "    dampening: 0\n",
      "    foreach: None\n",
      "    initial_lr: 0.1\n",
      "    lr: 0.1\n",
      "    maximize: False\n",
      "    momentum: 0.9\n",
      "    nesterov: True\n",
      "    weight_decay: 0.0005\n",
      ")\n",
      "w-scheduler : CosineAnnealingLR(warmup=0, max-epoch=200, current::epoch=0, iter=0.00, type=cosine, T-max=200, eta-min=0.0)\n",
      "criterion   : CrossEntropyLoss()\n"
     ]
    }
   ],
   "source": [
    "logger = prepare_logger(args)\n",
    "\n",
    "# cifar_train_config_path = \"./MY.config\"\n",
    "cifar_train_config_path = \"../configs/nas-benchmark/CIFAR.config\"\n",
    "###\n",
    "train_data, test_data, xshape, class_num = get_datasets(xargs.dataset, xargs.data_path, -1)\n",
    "config = load_config(cifar_train_config_path, {\"class_num\": class_num, \"xshape\": xshape}, logger)\n",
    "\n",
    "train_loader = torch.utils.data.DataLoader(\n",
    "            train_data,\n",
    "            batch_size=config.batch_size,\n",
    "            shuffle=True,\n",
    "            num_workers=xargs.workers,\n",
    "            pin_memory=True,)\n",
    "\n",
    "test_loader = torch.utils.data.DataLoader(\n",
    "            test_data,\n",
    "            batch_size=config.batch_size,\n",
    "            shuffle=True,\n",
    "            num_workers=xargs.workers,\n",
    "            pin_memory=True,)\n",
    "\n",
    "# search_loader, _, valid_loader = get_nas_search_loaders(train_data,\n",
    "#                                                         valid_data,\n",
    "#                                                         xargs.dataset,\n",
    "#                                                         \"../configs/nas-benchmark/\",\n",
    "#                                                         (config.batch_size, config.batch_size),\n",
    "#                                                         xargs.workers)\n",
    "logger.log(\"||||||| {:10s} ||||||| Train-Loader-Num={:}, Test-Loader-Num={:}, batch size={:}\".format(\n",
    "            xargs.dataset, len(train_loader), len(test_loader), config.batch_size))\n",
    "logger.log(\"||||||| {:10s} ||||||| Config={:}\".format(xargs.dataset, config))\n",
    "\n",
    "search_space = get_search_spaces(\"cell\", xargs.search_space_name)\n",
    "model_config = dict2config(\n",
    "    {\n",
    "        \"name\": \"RANDOM\",\n",
    "        \"C\": xargs.channel,\n",
    "        \"N\": xargs.num_cells,\n",
    "        \"max_nodes\": xargs.max_nodes,\n",
    "        \"num_classes\": class_num,\n",
    "        \"space\": search_space,\n",
    "        \"affine\": False,\n",
    "        \"track_running_stats\": True, # true for eval\n",
    "    },\n",
    "    None,\n",
    ")\n",
    "search_model = get_cell_based_tiny_net(model_config)\n",
    "\n",
    "### load\n",
    "# trained_output = torch.load(os.path.join(xargs.save_dir, \"output.pth\"))\n",
    "# search_model.load_state_dict(trained_output['model'], strict=False)\n",
    "best_archs = trained_output['best_archs']\n",
    "i=0\n",
    "for m in search_model.modules():\n",
    "    if isinstance(m, SearchCell):\n",
    "        m.arch_cache = best_archs[i]\n",
    "        i += 1\n",
    "for m in network.modules():\n",
    "    if isinstance(m, SearchCell):\n",
    "        print(m.arch_cache)\n",
    "###\n",
    "\n",
    "w_optimizer, w_scheduler, criterion = get_optim_scheduler(search_model.parameters(), config)\n",
    "\n",
    "logger.log(\"w-optimizer : {:}\".format(w_optimizer))\n",
    "logger.log(\"w-scheduler : {:}\".format(w_scheduler))\n",
    "logger.log(\"criterion   : {:}\".format(criterion))\n",
    "\n",
    "network, criterion = torch.nn.DataParallel(search_model).cuda(), criterion.cuda()\n",
    "\n",
    "last_info, model_base_path, model_best_path = (\n",
    "    logger.path(\"info\"),\n",
    "    logger.path(\"model\"),\n",
    "    logger.path(\"best\"),\n",
    ")\n",
    "\n",
    "start_epoch, valid_accuracies, genotypes = 0, {\"best\": -1}, {}"
   ]
  },
  {
   "cell_type": "code",
   "execution_count": 12,
   "id": "964fcb4e",
   "metadata": {},
   "outputs": [],
   "source": [
    "# def search_func_one_arch(xloader, network, criterion, scheduler, w_optimizer, epoch_str, print_freq, logger):\n",
    "#     data_time, batch_time = AverageMeter(), AverageMeter()\n",
    "#     base_losses, base_top1, base_top5 = AverageMeter(), AverageMeter(), AverageMeter()\n",
    "#     network.train()\n",
    "#     end = time.time()\n",
    "#     for step, (base_inputs, base_targets, arch_inputs, arch_targets) in enumerate(\n",
    "#         xloader\n",
    "#     ):\n",
    "#         scheduler.update(None, 1.0 * step / len(xloader))\n",
    "#         base_targets = base_targets.cuda(non_blocking=True)\n",
    "#         arch_targets = arch_targets.cuda(non_blocking=True)\n",
    "#         # measure data loading time\n",
    "#         data_time.update(time.time() - end)\n",
    "\n",
    "#         w_optimizer.zero_grad()\n",
    "#         _, logits = network(base_inputs)\n",
    "#         base_loss = criterion(logits, base_targets)\n",
    "#         base_loss.backward()\n",
    "#         nn.utils.clip_grad_norm_(network.parameters(), 5)\n",
    "#         w_optimizer.step()\n",
    "#         # record\n",
    "#         base_prec1, base_prec5 = obtain_accuracy(\n",
    "#             logits.data, base_targets.data, topk=(1, 5)\n",
    "#         )\n",
    "#         base_losses.update(base_loss.item(), base_inputs.size(0))\n",
    "#         base_top1.update(base_prec1.item(), base_inputs.size(0))\n",
    "#         base_top5.update(base_prec5.item(), base_inputs.size(0))\n",
    "\n",
    "#         # measure elapsed time\n",
    "#         batch_time.update(time.time() - end)\n",
    "#         end = time.time()\n",
    "\n",
    "#         if step % print_freq == 0 or step + 1 == len(xloader):\n",
    "#             Sstr = (\n",
    "#                 \"*SEARCH* \"\n",
    "#                 + time_string()\n",
    "#                 + \" [{:}][{:03d}/{:03d}]\".format(epoch_str, step, len(xloader))\n",
    "#             )\n",
    "#             Tstr = \"Time {batch_time.val:.2f} ({batch_time.avg:.2f}) Data {data_time.val:.2f} ({data_time.avg:.2f})\".format(\n",
    "#                 batch_time=batch_time, data_time=data_time\n",
    "#             )\n",
    "#             Wstr = \"Base [Loss {loss.val:.3f} ({loss.avg:.3f})  Prec@1 {top1.val:.2f} ({top1.avg:.2f}) Prec@5 {top5.val:.2f} ({top5.avg:.2f})]\".format(\n",
    "#                 loss=base_losses, top1=base_top1, top5=base_top5\n",
    "#             )\n",
    "#             logger.log(Sstr + \" \" + Tstr + \" \" + Wstr)\n",
    "#     return base_losses.avg, base_top1.avg, base_top5.avg\n",
    "\n",
    "def train_func_one_arch(xloader, network, criterion, scheduler, w_optimizer, epoch_str, print_freq, logger):\n",
    "    data_time, batch_time = AverageMeter(), AverageMeter()\n",
    "    base_losses, base_top1, base_top5 = AverageMeter(), AverageMeter(), AverageMeter()\n",
    "    network.train()\n",
    "    end = time.time()\n",
    "    for step, (base_inputs, base_targets) in enumerate(\n",
    "        xloader\n",
    "    ):\n",
    "        scheduler.update(None, 1.0 * step / len(xloader))\n",
    "        base_targets = base_targets.cuda(non_blocking=True)\n",
    "        # measure data loading time\n",
    "        data_time.update(time.time() - end)\n",
    "\n",
    "        w_optimizer.zero_grad()\n",
    "        _, logits = network(base_inputs)\n",
    "        base_loss = criterion(logits, base_targets)\n",
    "        base_loss.backward()\n",
    "        nn.utils.clip_grad_norm_(network.parameters(), 5)\n",
    "        w_optimizer.step()\n",
    "        # record\n",
    "        base_prec1, base_prec5 = obtain_accuracy(\n",
    "            logits.data, base_targets.data, topk=(1, 5)\n",
    "        )\n",
    "        base_losses.update(base_loss.item(), base_inputs.size(0))\n",
    "        base_top1.update(base_prec1.item(), base_inputs.size(0))\n",
    "        base_top5.update(base_prec5.item(), base_inputs.size(0))\n",
    "\n",
    "        # measure elapsed time\n",
    "        batch_time.update(time.time() - end)\n",
    "        end = time.time()\n",
    "\n",
    "        if step % print_freq == 0 or step + 1 == len(xloader):\n",
    "            Sstr = (\n",
    "                \"*SEARCH* \"\n",
    "                + time_string()\n",
    "                + \" [{:}][{:03d}/{:03d}]\".format(epoch_str, step, len(xloader))\n",
    "            )\n",
    "            Tstr = \"Time {batch_time.val:.2f} ({batch_time.avg:.2f}) Data {data_time.val:.2f} ({data_time.avg:.2f})\".format(\n",
    "                batch_time=batch_time, data_time=data_time\n",
    "            )\n",
    "            Wstr = \"Base [Loss {loss.val:.3f} ({loss.avg:.3f})  Prec@1 {top1.val:.2f} ({top1.avg:.2f}) Prec@5 {top5.val:.2f} ({top5.avg:.2f})]\".format(\n",
    "                loss=base_losses, top1=base_top1, top5=base_top5\n",
    "            )\n",
    "            logger.log(Sstr + \" \" + Tstr + \" \" + Wstr)\n",
    "    return base_losses.avg, base_top1.avg, base_top5.avg\n",
    "\n",
    "def valid_func_one_arch(xloader, network, criterion):\n",
    "    data_time, batch_time = AverageMeter(), AverageMeter()\n",
    "    arch_losses, arch_top1, arch_top5 = AverageMeter(), AverageMeter(), AverageMeter()\n",
    "    network.eval()\n",
    "    end = time.time()\n",
    "    with torch.no_grad():\n",
    "        for step, (arch_inputs, arch_targets) in enumerate(xloader):\n",
    "            arch_targets = arch_targets.cuda(non_blocking=True)\n",
    "            # measure data loading time\n",
    "            data_time.update(time.time() - end)\n",
    "            # prediction\n",
    "\n",
    "#             network.module.random_genotype_per_cell(True)\n",
    "            _, logits = network(arch_inputs)\n",
    "            arch_loss = criterion(logits, arch_targets)\n",
    "            # record\n",
    "            arch_prec1, arch_prec5 = obtain_accuracy(\n",
    "                logits.data, arch_targets.data, topk=(1, 5)\n",
    "            )\n",
    "            arch_losses.update(arch_loss.item(), arch_inputs.size(0))\n",
    "            arch_top1.update(arch_prec1.item(), arch_inputs.size(0))\n",
    "            arch_top5.update(arch_prec5.item(), arch_inputs.size(0))\n",
    "            # measure elapsed time\n",
    "            batch_time.update(time.time() - end)\n",
    "            end = time.time()\n",
    "    return arch_losses.avg, arch_top1.avg, arch_top5.avg"
   ]
  },
  {
   "cell_type": "code",
   "execution_count": 13,
   "id": "6be07a9f",
   "metadata": {},
   "outputs": [
    {
     "name": "stdout",
     "output_type": "stream",
     "text": [
      "\n",
      "[Search the 000-200-th epoch] Time Left: [00:00:00], LR=0.1\n",
      "*SEARCH* [2022-11-07 09:20:19] [000-200][000/196] Time 0.53 (0.53) Data 0.39 (0.39) Base [Loss 2.337 (2.337)  Prec@1 8.20 (8.20) Prec@5 52.34 (52.34)]\n",
      "*SEARCH* [2022-11-07 09:20:53] [000-200][195/196] Time 0.16 (0.18) Data 0.00 (0.00) Base [Loss 1.443 (1.715)  Prec@1 41.25 (35.63) Prec@5 91.25 (86.63)]\n",
      "[000-200] searching : loss=1.72, accuracy@1=35.63%, accuracy@5=86.63%, time-cost=34.4 s\n",
      "[000-200] evaluate  : loss=1.88, accuracy@1=35.86%, accuracy@5=87.25%\n",
      "save checkpoint into op_level-use_pretrain/train/checkpoint/seed-24382-basic.pth\n",
      "save checkpoint into op_level-use_pretrain/train/seed-24382-last-info.pth\n",
      "<<<--->>> The 000-200-th epoch : find the highest validation accuracy : 35.86%.\n",
      "copy the file from op_level-use_pretrain/train/checkpoint/seed-24382-basic.pth into op_level-use_pretrain/train/checkpoint/seed-24382-best.pth\n",
      "\n",
      "[Search the 001-200-th epoch] Time Left: [02:09:22], LR=0.09999383162408304\n",
      "*SEARCH* [2022-11-07 09:20:58] [001-200][000/196] Time 0.55 (0.55) Data 0.37 (0.37) Base [Loss 1.543 (1.543)  Prec@1 40.62 (40.62) Prec@5 92.58 (92.58)]\n",
      "*SEARCH* [2022-11-07 09:21:31] [001-200][195/196] Time 0.24 (0.17) Data 0.00 (0.00) Base [Loss 1.310 (1.364)  Prec@1 52.50 (49.55) Prec@5 90.00 (93.44)]\n",
      "[001-200] searching : loss=1.36, accuracy@1=49.55%, accuracy@5=93.44%, time-cost=67.6 s\n",
      "[001-200] evaluate  : loss=1.61, accuracy@1=44.32%, accuracy@5=92.88%\n",
      "Find op_level-use_pretrain/train/checkpoint/seed-24382-basic.pth exist, delete is at first before saving\n",
      "save checkpoint into op_level-use_pretrain/train/checkpoint/seed-24382-basic.pth\n",
      "Find op_level-use_pretrain/train/seed-24382-last-info.pth exist, delete is at first before saving\n",
      "save checkpoint into op_level-use_pretrain/train/seed-24382-last-info.pth\n",
      "<<<--->>> The 001-200-th epoch : find the highest validation accuracy : 44.32%.\n",
      "Find op_level-use_pretrain/train/checkpoint/seed-24382-best.pth exist, delete is at first before saving\n",
      "copy the file from op_level-use_pretrain/train/checkpoint/seed-24382-basic.pth into op_level-use_pretrain/train/checkpoint/seed-24382-best.pth\n",
      "\n",
      "[Search the 002-200-th epoch] Time Left: [02:04:27], LR=0.09997532801828658\n",
      "*SEARCH* [2022-11-07 09:21:36] [002-200][000/196] Time 0.62 (0.62) Data 0.43 (0.43) Base [Loss 1.310 (1.310)  Prec@1 51.95 (51.95) Prec@5 94.92 (94.92)]\n",
      "*SEARCH* [2022-11-07 09:22:09] [002-200][195/196] Time 0.15 (0.17) Data 0.00 (0.00) Base [Loss 0.966 (1.140)  Prec@1 56.25 (58.67) Prec@5 100.00 (95.62)]\n",
      "[002-200] searching : loss=1.14, accuracy@1=58.67%, accuracy@5=95.62%, time-cost=101.6 s\n",
      "[002-200] evaluate  : loss=1.40, accuracy@1=52.48%, accuracy@5=92.52%\n",
      "Find op_level-use_pretrain/train/checkpoint/seed-24382-basic.pth exist, delete is at first before saving\n",
      "save checkpoint into op_level-use_pretrain/train/checkpoint/seed-24382-basic.pth\n",
      "Find op_level-use_pretrain/train/seed-24382-last-info.pth exist, delete is at first before saving\n",
      "save checkpoint into op_level-use_pretrain/train/seed-24382-last-info.pth\n",
      "<<<--->>> The 002-200-th epoch : find the highest validation accuracy : 52.48%.\n",
      "Find op_level-use_pretrain/train/checkpoint/seed-24382-best.pth exist, delete is at first before saving\n",
      "copy the file from op_level-use_pretrain/train/checkpoint/seed-24382-basic.pth into op_level-use_pretrain/train/checkpoint/seed-24382-best.pth\n",
      "\n",
      "[Search the 003-200-th epoch] Time Left: [02:03:27], LR=0.09994449374809851\n",
      "*SEARCH* [2022-11-07 09:22:13] [003-200][000/196] Time 0.56 (0.56) Data 0.42 (0.42) Base [Loss 1.121 (1.121)  Prec@1 54.69 (54.69) Prec@5 97.66 (97.66)]\n",
      "*SEARCH* [2022-11-07 09:22:46] [003-200][195/196] Time 0.11 (0.17) Data 0.00 (0.00) Base [Loss 1.018 (1.006)  Prec@1 66.25 (63.73) Prec@5 96.25 (96.64)]\n",
      "[003-200] searching : loss=1.01, accuracy@1=63.73%, accuracy@5=96.64%, time-cost=135.5 s\n",
      "[003-200] evaluate  : loss=1.44, accuracy@1=51.33%, accuracy@5=93.75%\n",
      "Find op_level-use_pretrain/train/checkpoint/seed-24382-basic.pth exist, delete is at first before saving\n",
      "save checkpoint into op_level-use_pretrain/train/checkpoint/seed-24382-basic.pth\n",
      "Find op_level-use_pretrain/train/seed-24382-last-info.pth exist, delete is at first before saving\n",
      "save checkpoint into op_level-use_pretrain/train/seed-24382-last-info.pth\n",
      "\n",
      "[Search the 004-200-th epoch] Time Left: [02:04:02], LR=0.09990133642141358\n",
      "*SEARCH* [2022-11-07 09:22:51] [004-200][000/196] Time 0.59 (0.59) Data 0.44 (0.44) Base [Loss 1.079 (1.079)  Prec@1 61.72 (61.72) Prec@5 96.48 (96.48)]\n",
      "*SEARCH* [2022-11-07 09:23:23] [004-200][195/196] Time 0.14 (0.16) Data 0.00 (0.00) Base [Loss 1.095 (0.914)  Prec@1 68.75 (67.20) Prec@5 93.75 (97.35)]\n",
      "[004-200] searching : loss=0.91, accuracy@1=67.20%, accuracy@5=97.35%, time-cost=167.9 s\n",
      "[004-200] evaluate  : loss=1.49, accuracy@1=52.11%, accuracy@5=93.87%\n",
      "Find op_level-use_pretrain/train/checkpoint/seed-24382-basic.pth exist, delete is at first before saving\n",
      "save checkpoint into op_level-use_pretrain/train/checkpoint/seed-24382-basic.pth\n",
      "Find op_level-use_pretrain/train/seed-24382-last-info.pth exist, delete is at first before saving\n",
      "save checkpoint into op_level-use_pretrain/train/seed-24382-last-info.pth\n",
      "\n",
      "[Search the 005-200-th epoch] Time Left: [01:58:21], LR=0.0998458666866564\n",
      "*SEARCH* [2022-11-07 09:23:28] [005-200][000/196] Time 0.53 (0.53) Data 0.34 (0.34) Base [Loss 0.877 (0.877)  Prec@1 67.97 (67.97) Prec@5 98.44 (98.44)]\n",
      "*SEARCH* [2022-11-07 09:23:59] [005-200][195/196] Time 0.16 (0.16) Data 0.00 (0.00) Base [Loss 0.713 (0.829)  Prec@1 72.50 (70.58) Prec@5 97.50 (97.90)]\n",
      "[005-200] searching : loss=0.83, accuracy@1=70.58%, accuracy@5=97.90%, time-cost=199.4 s\n",
      "[005-200] evaluate  : loss=2.17, accuracy@1=46.61%, accuracy@5=84.75%\n",
      "Find op_level-use_pretrain/train/checkpoint/seed-24382-basic.pth exist, delete is at first before saving\n",
      "save checkpoint into op_level-use_pretrain/train/checkpoint/seed-24382-basic.pth\n",
      "Find op_level-use_pretrain/train/seed-24382-last-info.pth exist, delete is at first before saving\n",
      "save checkpoint into op_level-use_pretrain/train/seed-24382-last-info.pth\n",
      "\n",
      "[Search the 006-200-th epoch] Time Left: [01:53:50], LR=0.099778098230154\n",
      "*SEARCH* [2022-11-07 09:24:03] [006-200][000/196] Time 0.53 (0.53) Data 0.33 (0.33) Base [Loss 0.898 (0.898)  Prec@1 68.36 (68.36) Prec@5 98.44 (98.44)]\n",
      "*SEARCH* [2022-11-07 09:24:36] [006-200][195/196] Time 0.09 (0.17) Data 0.00 (0.00) Base [Loss 0.916 (0.763)  Prec@1 68.75 (73.33) Prec@5 100.00 (98.13)]\n",
      "[006-200] searching : loss=0.76, accuracy@1=73.33%, accuracy@5=98.13%, time-cost=233.4 s\n",
      "[006-200] evaluate  : loss=1.13, accuracy@1=62.00%, accuracy@5=95.53%\n",
      "Find op_level-use_pretrain/train/checkpoint/seed-24382-basic.pth exist, delete is at first before saving\n",
      "save checkpoint into op_level-use_pretrain/train/checkpoint/seed-24382-basic.pth\n",
      "Find op_level-use_pretrain/train/seed-24382-last-info.pth exist, delete is at first before saving\n",
      "save checkpoint into op_level-use_pretrain/train/seed-24382-last-info.pth\n",
      "<<<--->>> The 006-200-th epoch : find the highest validation accuracy : 62.00%.\n",
      "Find op_level-use_pretrain/train/checkpoint/seed-24382-best.pth exist, delete is at first before saving\n",
      "copy the file from op_level-use_pretrain/train/checkpoint/seed-24382-basic.pth into op_level-use_pretrain/train/checkpoint/seed-24382-best.pth\n",
      "\n",
      "[Search the 007-200-th epoch] Time Left: [02:00:29], LR=0.099698047772759\n",
      "*SEARCH* [2022-11-07 09:24:40] [007-200][000/196] Time 0.46 (0.46) Data 0.33 (0.33) Base [Loss 0.755 (0.755)  Prec@1 70.70 (70.70) Prec@5 98.44 (98.44)]\n",
      "*SEARCH* [2022-11-07 09:25:13] [007-200][195/196] Time 0.20 (0.17) Data 0.00 (0.00) Base [Loss 0.683 (0.716)  Prec@1 75.00 (74.96) Prec@5 97.50 (98.44)]\n",
      "[007-200] searching : loss=0.72, accuracy@1=74.96%, accuracy@5=98.44%, time-cost=267.1 s\n",
      "[007-200] evaluate  : loss=1.40, accuracy@1=57.57%, accuracy@5=96.81%\n",
      "Find op_level-use_pretrain/train/checkpoint/seed-24382-basic.pth exist, delete is at first before saving\n",
      "save checkpoint into op_level-use_pretrain/train/checkpoint/seed-24382-basic.pth\n",
      "Find op_level-use_pretrain/train/seed-24382-last-info.pth exist, delete is at first before saving\n",
      "save checkpoint into op_level-use_pretrain/train/seed-24382-last-info.pth\n",
      "\n",
      "[Search the 008-200-th epoch] Time Left: [02:01:49], LR=0.0996057350657239\n"
     ]
    },
    {
     "name": "stdout",
     "output_type": "stream",
     "text": [
      "*SEARCH* [2022-11-07 09:25:18] [008-200][000/196] Time 0.56 (0.56) Data 0.41 (0.41) Base [Loss 0.690 (0.690)  Prec@1 75.00 (75.00) Prec@5 98.05 (98.05)]\n",
      "*SEARCH* [2022-11-07 09:25:51] [008-200][195/196] Time 0.15 (0.17) Data 0.00 (0.00) Base [Loss 0.651 (0.677)  Prec@1 76.25 (76.51) Prec@5 98.75 (98.62)]\n",
      "[008-200] searching : loss=0.68, accuracy@1=76.51%, accuracy@5=98.62%, time-cost=300.4 s\n",
      "[008-200] evaluate  : loss=1.70, accuracy@1=51.35%, accuracy@5=94.53%\n",
      "Find op_level-use_pretrain/train/checkpoint/seed-24382-basic.pth exist, delete is at first before saving\n",
      "save checkpoint into op_level-use_pretrain/train/checkpoint/seed-24382-basic.pth\n",
      "Find op_level-use_pretrain/train/seed-24382-last-info.pth exist, delete is at first before saving\n",
      "save checkpoint into op_level-use_pretrain/train/seed-24382-last-info.pth\n",
      "\n",
      "[Search the 009-200-th epoch] Time Left: [01:57:23], LR=0.09950118288582788\n",
      "*SEARCH* [2022-11-07 09:25:55] [009-200][000/196] Time 0.57 (0.57) Data 0.40 (0.40) Base [Loss 0.733 (0.733)  Prec@1 76.17 (76.17) Prec@5 99.22 (99.22)]\n",
      "*SEARCH* [2022-11-07 09:26:30] [009-200][195/196] Time 0.21 (0.18) Data 0.00 (0.00) Base [Loss 0.704 (0.652)  Prec@1 76.25 (77.35) Prec@5 97.50 (98.68)]\n",
      "[009-200] searching : loss=0.65, accuracy@1=77.35%, accuracy@5=98.68%, time-cost=336.1 s\n",
      "[009-200] evaluate  : loss=0.97, accuracy@1=69.94%, accuracy@5=97.93%\n",
      "Find op_level-use_pretrain/train/checkpoint/seed-24382-basic.pth exist, delete is at first before saving\n",
      "save checkpoint into op_level-use_pretrain/train/checkpoint/seed-24382-basic.pth\n",
      "Find op_level-use_pretrain/train/seed-24382-last-info.pth exist, delete is at first before saving\n",
      "save checkpoint into op_level-use_pretrain/train/seed-24382-last-info.pth\n",
      "<<<--->>> The 009-200-th epoch : find the highest validation accuracy : 69.94%.\n",
      "Find op_level-use_pretrain/train/checkpoint/seed-24382-best.pth exist, delete is at first before saving\n",
      "copy the file from op_level-use_pretrain/train/checkpoint/seed-24382-basic.pth into op_level-use_pretrain/train/checkpoint/seed-24382-best.pth\n",
      "\n",
      "[Search the 010-200-th epoch] Time Left: [02:05:27], LR=0.0993844170297569\n",
      "*SEARCH* [2022-11-07 09:26:35] [010-200][000/196] Time 0.57 (0.57) Data 0.34 (0.34) Base [Loss 0.729 (0.729)  Prec@1 73.44 (73.44) Prec@5 99.22 (99.22)]\n",
      "*SEARCH* [2022-11-07 09:27:08] [010-200][195/196] Time 0.18 (0.17) Data 0.00 (0.00) Base [Loss 0.504 (0.624)  Prec@1 82.50 (78.35) Prec@5 100.00 (98.80)]\n",
      "[010-200] searching : loss=0.62, accuracy@1=78.35%, accuracy@5=98.80%, time-cost=370.3 s\n",
      "[010-200] evaluate  : loss=0.94, accuracy@1=70.13%, accuracy@5=97.76%\n",
      "Find op_level-use_pretrain/train/checkpoint/seed-24382-basic.pth exist, delete is at first before saving\n",
      "save checkpoint into op_level-use_pretrain/train/checkpoint/seed-24382-basic.pth\n",
      "Find op_level-use_pretrain/train/seed-24382-last-info.pth exist, delete is at first before saving\n",
      "save checkpoint into op_level-use_pretrain/train/seed-24382-last-info.pth\n",
      "<<<--->>> The 010-200-th epoch : find the highest validation accuracy : 70.13%.\n",
      "Find op_level-use_pretrain/train/checkpoint/seed-24382-best.pth exist, delete is at first before saving\n",
      "copy the file from op_level-use_pretrain/train/checkpoint/seed-24382-basic.pth into op_level-use_pretrain/train/checkpoint/seed-24382-best.pth\n",
      "\n",
      "[Search the 011-200-th epoch] Time Left: [01:59:28], LR=0.0992554663077387\n",
      "*SEARCH* [2022-11-07 09:27:13] [011-200][000/196] Time 0.63 (0.63) Data 0.40 (0.40) Base [Loss 0.648 (0.648)  Prec@1 78.52 (78.52) Prec@5 99.22 (99.22)]\n",
      "*SEARCH* [2022-11-07 09:27:47] [011-200][195/196] Time 0.12 (0.18) Data 0.00 (0.00) Base [Loss 0.674 (0.603)  Prec@1 77.50 (79.27) Prec@5 98.75 (98.91)]\n",
      "[011-200] searching : loss=0.60, accuracy@1=79.27%, accuracy@5=98.91%, time-cost=404.8 s\n",
      "[011-200] evaluate  : loss=1.03, accuracy@1=68.09%, accuracy@5=98.08%\n",
      "Find op_level-use_pretrain/train/checkpoint/seed-24382-basic.pth exist, delete is at first before saving\n",
      "save checkpoint into op_level-use_pretrain/train/checkpoint/seed-24382-basic.pth\n",
      "Find op_level-use_pretrain/train/seed-24382-last-info.pth exist, delete is at first before saving\n",
      "save checkpoint into op_level-use_pretrain/train/seed-24382-last-info.pth\n",
      "\n",
      "[Search the 012-200-th epoch] Time Left: [02:01:28], LR=0.09911436253643445\n",
      "*SEARCH* [2022-11-07 09:27:52] [012-200][000/196] Time 0.61 (0.61) Data 0.41 (0.41) Base [Loss 0.638 (0.638)  Prec@1 80.08 (80.08) Prec@5 98.44 (98.44)]\n",
      "*SEARCH* [2022-11-07 09:28:27] [012-200][195/196] Time 0.14 (0.19) Data 0.00 (0.00) Base [Loss 0.666 (0.584)  Prec@1 78.75 (79.82) Prec@5 97.50 (98.98)]\n",
      "[012-200] searching : loss=0.58, accuracy@1=79.82%, accuracy@5=98.98%, time-cost=441.1 s\n",
      "[012-200] evaluate  : loss=0.92, accuracy@1=69.31%, accuracy@5=97.53%\n",
      "Find op_level-use_pretrain/train/checkpoint/seed-24382-basic.pth exist, delete is at first before saving\n",
      "save checkpoint into op_level-use_pretrain/train/checkpoint/seed-24382-basic.pth\n",
      "Find op_level-use_pretrain/train/seed-24382-last-info.pth exist, delete is at first before saving\n",
      "save checkpoint into op_level-use_pretrain/train/seed-24382-last-info.pth\n",
      "\n",
      "[Search the 013-200-th epoch] Time Left: [02:06:50], LR=0.09896114053108829\n",
      "*SEARCH* [2022-11-07 09:28:32] [013-200][000/196] Time 0.53 (0.53) Data 0.36 (0.36) Base [Loss 0.589 (0.589)  Prec@1 79.30 (79.30) Prec@5 99.22 (99.22)]\n",
      "*SEARCH* [2022-11-07 09:29:05] [013-200][195/196] Time 0.12 (0.17) Data 0.00 (0.00) Base [Loss 0.500 (0.573)  Prec@1 82.50 (80.24) Prec@5 100.00 (98.99)]\n",
      "[013-200] searching : loss=0.57, accuracy@1=80.24%, accuracy@5=98.99%, time-cost=474.5 s\n",
      "[013-200] evaluate  : loss=1.22, accuracy@1=64.19%, accuracy@5=93.13%\n",
      "Find op_level-use_pretrain/train/checkpoint/seed-24382-basic.pth exist, delete is at first before saving\n",
      "save checkpoint into op_level-use_pretrain/train/checkpoint/seed-24382-basic.pth\n",
      "Find op_level-use_pretrain/train/seed-24382-last-info.pth exist, delete is at first before saving\n",
      "save checkpoint into op_level-use_pretrain/train/seed-24382-last-info.pth\n",
      "\n",
      "[Search the 014-200-th epoch] Time Left: [01:56:39], LR=0.09879583809693737\n",
      "*SEARCH* [2022-11-07 09:29:10] [014-200][000/196] Time 0.53 (0.53) Data 0.36 (0.36) Base [Loss 0.640 (0.640)  Prec@1 76.56 (76.56) Prec@5 99.61 (99.61)]\n",
      "*SEARCH* [2022-11-07 09:29:42] [014-200][195/196] Time 0.15 (0.16) Data 0.00 (0.00) Base [Loss 0.527 (0.557)  Prec@1 82.50 (80.60) Prec@5 100.00 (99.08)]\n",
      "[014-200] searching : loss=0.56, accuracy@1=80.60%, accuracy@5=99.08%, time-cost=506.7 s\n",
      "[014-200] evaluate  : loss=1.28, accuracy@1=63.69%, accuracy@5=95.66%\n",
      "Find op_level-use_pretrain/train/checkpoint/seed-24382-basic.pth exist, delete is at first before saving\n",
      "save checkpoint into op_level-use_pretrain/train/checkpoint/seed-24382-basic.pth\n",
      "Find op_level-use_pretrain/train/seed-24382-last-info.pth exist, delete is at first before saving\n",
      "save checkpoint into op_level-use_pretrain/train/seed-24382-last-info.pth\n",
      "\n",
      "[Search the 015-200-th epoch] Time Left: [01:50:03], LR=0.09861849601988383\n",
      "*SEARCH* [2022-11-07 09:29:46] [015-200][000/196] Time 0.52 (0.52) Data 0.36 (0.36) Base [Loss 0.526 (0.526)  Prec@1 82.03 (82.03) Prec@5 99.22 (99.22)]\n",
      "*SEARCH* [2022-11-07 09:30:19] [015-200][195/196] Time 0.09 (0.17) Data 0.00 (0.00) Base [Loss 0.678 (0.548)  Prec@1 83.75 (81.15) Prec@5 98.75 (99.09)]\n",
      "[015-200] searching : loss=0.55, accuracy@1=81.15%, accuracy@5=99.09%, time-cost=540.5 s\n",
      "[015-200] evaluate  : loss=1.57, accuracy@1=58.88%, accuracy@5=91.31%\n",
      "Find op_level-use_pretrain/train/checkpoint/seed-24382-basic.pth exist, delete is at first before saving\n",
      "save checkpoint into op_level-use_pretrain/train/checkpoint/seed-24382-basic.pth\n",
      "Find op_level-use_pretrain/train/seed-24382-last-info.pth exist, delete is at first before saving\n",
      "save checkpoint into op_level-use_pretrain/train/seed-24382-last-info.pth\n",
      "\n",
      "[Search the 016-200-th epoch] Time Left: [01:57:32], LR=0.09842915805643156\n",
      "*SEARCH* [2022-11-07 09:30:24] [016-200][000/196] Time 0.56 (0.56) Data 0.41 (0.41) Base [Loss 0.564 (0.564)  Prec@1 81.64 (81.64) Prec@5 98.83 (98.83)]\n",
      "*SEARCH* [2022-11-07 09:30:59] [016-200][195/196] Time 0.10 (0.18) Data 0.00 (0.00) Base [Loss 0.560 (0.538)  Prec@1 80.00 (81.51) Prec@5 98.75 (99.09)]\n",
      "[016-200] searching : loss=0.54, accuracy@1=81.51%, accuracy@5=99.09%, time-cost=575.8 s\n"
     ]
    },
    {
     "name": "stdout",
     "output_type": "stream",
     "text": [
      "[016-200] evaluate  : loss=1.02, accuracy@1=67.62%, accuracy@5=98.28%\n",
      "Find op_level-use_pretrain/train/checkpoint/seed-24382-basic.pth exist, delete is at first before saving\n",
      "save checkpoint into op_level-use_pretrain/train/checkpoint/seed-24382-basic.pth\n",
      "Find op_level-use_pretrain/train/seed-24382-last-info.pth exist, delete is at first before saving\n",
      "save checkpoint into op_level-use_pretrain/train/seed-24382-last-info.pth\n",
      "\n",
      "[Search the 017-200-th epoch] Time Left: [01:58:40], LR=0.09822787092288991\n",
      "*SEARCH* [2022-11-07 09:31:03] [017-200][000/196] Time 0.56 (0.56) Data 0.40 (0.40) Base [Loss 0.556 (0.556)  Prec@1 80.08 (80.08) Prec@5 99.61 (99.61)]\n",
      "*SEARCH* [2022-11-07 09:31:37] [017-200][195/196] Time 0.25 (0.18) Data 0.00 (0.00) Base [Loss 0.639 (0.524)  Prec@1 75.00 (82.00) Prec@5 97.50 (99.21)]\n",
      "[017-200] searching : loss=0.52, accuracy@1=82.00%, accuracy@5=99.21%, time-cost=610.7 s\n",
      "[017-200] evaluate  : loss=0.80, accuracy@1=72.21%, accuracy@5=98.35%\n",
      "Find op_level-use_pretrain/train/checkpoint/seed-24382-basic.pth exist, delete is at first before saving\n",
      "save checkpoint into op_level-use_pretrain/train/checkpoint/seed-24382-basic.pth\n",
      "Find op_level-use_pretrain/train/seed-24382-last-info.pth exist, delete is at first before saving\n",
      "save checkpoint into op_level-use_pretrain/train/seed-24382-last-info.pth\n",
      "<<<--->>> The 017-200-th epoch : find the highest validation accuracy : 72.21%.\n",
      "Find op_level-use_pretrain/train/checkpoint/seed-24382-best.pth exist, delete is at first before saving\n",
      "copy the file from op_level-use_pretrain/train/checkpoint/seed-24382-basic.pth into op_level-use_pretrain/train/checkpoint/seed-24382-best.pth\n",
      "\n",
      "[Search the 018-200-th epoch] Time Left: [01:56:44], LR=0.09801468428384716\n",
      "*SEARCH* [2022-11-07 09:31:41] [018-200][000/196] Time 0.61 (0.61) Data 0.40 (0.40) Base [Loss 0.530 (0.530)  Prec@1 80.08 (80.08) Prec@5 100.00 (100.00)]\n",
      "*SEARCH* [2022-11-07 09:32:15] [018-200][195/196] Time 0.10 (0.18) Data 0.00 (0.00) Base [Loss 0.489 (0.516)  Prec@1 83.75 (82.21) Prec@5 100.00 (99.18)]\n",
      "[018-200] searching : loss=0.52, accuracy@1=82.21%, accuracy@5=99.18%, time-cost=645.2 s\n",
      "[018-200] evaluate  : loss=0.83, accuracy@1=73.61%, accuracy@5=98.63%\n",
      "Find op_level-use_pretrain/train/checkpoint/seed-24382-basic.pth exist, delete is at first before saving\n",
      "save checkpoint into op_level-use_pretrain/train/checkpoint/seed-24382-basic.pth\n",
      "Find op_level-use_pretrain/train/seed-24382-last-info.pth exist, delete is at first before saving\n",
      "save checkpoint into op_level-use_pretrain/train/seed-24382-last-info.pth\n",
      "<<<--->>> The 018-200-th epoch : find the highest validation accuracy : 73.61%.\n",
      "Find op_level-use_pretrain/train/checkpoint/seed-24382-best.pth exist, delete is at first before saving\n",
      "copy the file from op_level-use_pretrain/train/checkpoint/seed-24382-basic.pth into op_level-use_pretrain/train/checkpoint/seed-24382-best.pth\n",
      "\n",
      "[Search the 019-200-th epoch] Time Left: [01:56:03], LR=0.09778965073991651\n",
      "*SEARCH* [2022-11-07 09:32:20] [019-200][000/196] Time 0.78 (0.78) Data 0.38 (0.38) Base [Loss 0.579 (0.579)  Prec@1 77.34 (77.34) Prec@5 100.00 (100.00)]\n",
      "*SEARCH* [2022-11-07 09:32:56] [019-200][195/196] Time 0.14 (0.19) Data 0.00 (0.00) Base [Loss 0.457 (0.509)  Prec@1 82.50 (82.33) Prec@5 98.75 (99.18)]\n",
      "[019-200] searching : loss=0.51, accuracy@1=82.33%, accuracy@5=99.18%, time-cost=681.6 s\n",
      "[019-200] evaluate  : loss=0.68, accuracy@1=76.71%, accuracy@5=98.68%\n",
      "Find op_level-use_pretrain/train/checkpoint/seed-24382-basic.pth exist, delete is at first before saving\n",
      "save checkpoint into op_level-use_pretrain/train/checkpoint/seed-24382-basic.pth\n",
      "Find op_level-use_pretrain/train/seed-24382-last-info.pth exist, delete is at first before saving\n",
      "save checkpoint into op_level-use_pretrain/train/seed-24382-last-info.pth\n",
      "<<<--->>> The 019-200-th epoch : find the highest validation accuracy : 76.71%.\n",
      "Find op_level-use_pretrain/train/checkpoint/seed-24382-best.pth exist, delete is at first before saving\n",
      "copy the file from op_level-use_pretrain/train/checkpoint/seed-24382-basic.pth into op_level-use_pretrain/train/checkpoint/seed-24382-best.pth\n",
      "\n",
      "[Search the 020-200-th epoch] Time Left: [02:01:00], LR=0.09755282581475769\n",
      "*SEARCH* [2022-11-07 09:33:00] [020-200][000/196] Time 0.58 (0.58) Data 0.45 (0.45) Base [Loss 0.531 (0.531)  Prec@1 82.03 (82.03) Prec@5 99.22 (99.22)]\n",
      "*SEARCH* [2022-11-07 09:33:34] [020-200][195/196] Time 0.14 (0.17) Data 0.00 (0.00) Base [Loss 0.476 (0.496)  Prec@1 82.50 (82.89) Prec@5 100.00 (99.20)]\n",
      "[020-200] searching : loss=0.50, accuracy@1=82.89%, accuracy@5=99.20%, time-cost=715.8 s\n",
      "[020-200] evaluate  : loss=1.09, accuracy@1=68.65%, accuracy@5=95.47%\n",
      "Find op_level-use_pretrain/train/checkpoint/seed-24382-basic.pth exist, delete is at first before saving\n",
      "save checkpoint into op_level-use_pretrain/train/checkpoint/seed-24382-basic.pth\n",
      "Find op_level-use_pretrain/train/seed-24382-last-info.pth exist, delete is at first before saving\n",
      "save checkpoint into op_level-use_pretrain/train/seed-24382-last-info.pth\n",
      "\n",
      "[Search the 021-200-th epoch] Time Left: [01:53:39], LR=0.09730426794137727\n",
      "*SEARCH* [2022-11-07 09:33:38] [021-200][000/196] Time 0.53 (0.53) Data 0.36 (0.36) Base [Loss 0.441 (0.441)  Prec@1 83.59 (83.59) Prec@5 98.83 (98.83)]\n",
      "*SEARCH* [2022-11-07 09:34:10] [021-200][195/196] Time 0.11 (0.16) Data 0.00 (0.00) Base [Loss 0.532 (0.493)  Prec@1 78.75 (83.02) Prec@5 100.00 (99.22)]\n",
      "[021-200] searching : loss=0.49, accuracy@1=83.02%, accuracy@5=99.22%, time-cost=747.9 s\n",
      "[021-200] evaluate  : loss=0.75, accuracy@1=75.45%, accuracy@5=98.29%\n",
      "Find op_level-use_pretrain/train/checkpoint/seed-24382-basic.pth exist, delete is at first before saving\n",
      "save checkpoint into op_level-use_pretrain/train/checkpoint/seed-24382-basic.pth\n",
      "Find op_level-use_pretrain/train/seed-24382-last-info.pth exist, delete is at first before saving\n",
      "save checkpoint into op_level-use_pretrain/train/seed-24382-last-info.pth\n",
      "\n",
      "[Search the 022-200-th epoch] Time Left: [01:48:40], LR=0.09704403844771128\n",
      "*SEARCH* [2022-11-07 09:34:15] [022-200][000/196] Time 0.61 (0.61) Data 0.44 (0.44) Base [Loss 0.517 (0.517)  Prec@1 81.64 (81.64) Prec@5 97.66 (97.66)]\n",
      "*SEARCH* [2022-11-07 09:34:48] [022-200][195/196] Time 0.15 (0.17) Data 0.00 (0.00) Base [Loss 0.523 (0.489)  Prec@1 81.25 (83.08) Prec@5 100.00 (99.24)]\n",
      "[022-200] searching : loss=0.49, accuracy@1=83.08%, accuracy@5=99.24%, time-cost=781.8 s\n",
      "[022-200] evaluate  : loss=0.80, accuracy@1=73.32%, accuracy@5=98.18%\n",
      "Find op_level-use_pretrain/train/checkpoint/seed-24382-basic.pth exist, delete is at first before saving\n",
      "save checkpoint into op_level-use_pretrain/train/checkpoint/seed-24382-basic.pth\n",
      "Find op_level-use_pretrain/train/seed-24382-last-info.pth exist, delete is at first before saving\n",
      "save checkpoint into op_level-use_pretrain/train/seed-24382-last-info.pth\n",
      "\n",
      "[Search the 023-200-th epoch] Time Left: [01:50:00], LR=0.09677220154149338\n",
      "*SEARCH* [2022-11-07 09:34:52] [023-200][000/196] Time 0.57 (0.57) Data 0.40 (0.40) Base [Loss 0.576 (0.576)  Prec@1 79.69 (79.69) Prec@5 99.22 (99.22)]\n",
      "*SEARCH* [2022-11-07 09:35:23] [023-200][195/196] Time 0.10 (0.16) Data 0.00 (0.00) Base [Loss 0.535 (0.481)  Prec@1 77.50 (83.35) Prec@5 100.00 (99.26)]\n",
      "[023-200] searching : loss=0.48, accuracy@1=83.35%, accuracy@5=99.26%, time-cost=813.5 s\n",
      "[023-200] evaluate  : loss=0.85, accuracy@1=73.51%, accuracy@5=98.64%\n",
      "Find op_level-use_pretrain/train/checkpoint/seed-24382-basic.pth exist, delete is at first before saving\n",
      "save checkpoint into op_level-use_pretrain/train/checkpoint/seed-24382-basic.pth\n",
      "Find op_level-use_pretrain/train/seed-24382-last-info.pth exist, delete is at first before saving\n",
      "save checkpoint into op_level-use_pretrain/train/seed-24382-last-info.pth\n",
      "\n",
      "[Search the 024-200-th epoch] Time Left: [01:44:38], LR=0.09648882429441258\n",
      "*SEARCH* [2022-11-07 09:35:28] [024-200][000/196] Time 0.57 (0.57) Data 0.40 (0.40) Base [Loss 0.484 (0.484)  Prec@1 84.38 (84.38) Prec@5 100.00 (100.00)]\n",
      "*SEARCH* [2022-11-07 09:36:00] [024-200][195/196] Time 0.08 (0.17) Data 0.00 (0.00) Base [Loss 0.418 (0.477)  Prec@1 87.50 (83.59) Prec@5 98.75 (99.37)]\n",
      "[024-200] searching : loss=0.48, accuracy@1=83.59%, accuracy@5=99.37%, time-cost=846.3 s\n",
      "[024-200] evaluate  : loss=0.89, accuracy@1=71.73%, accuracy@5=98.02%\n",
      "Find op_level-use_pretrain/train/checkpoint/seed-24382-basic.pth exist, delete is at first before saving\n",
      "save checkpoint into op_level-use_pretrain/train/checkpoint/seed-24382-basic.pth\n",
      "Find op_level-use_pretrain/train/seed-24382-last-info.pth exist, delete is at first before saving\n",
      "save checkpoint into op_level-use_pretrain/train/seed-24382-last-info.pth\n",
      "\n",
      "[Search the 025-200-th epoch] Time Left: [01:47:17], LR=0.09619397662556434\n"
     ]
    },
    {
     "name": "stdout",
     "output_type": "stream",
     "text": [
      "*SEARCH* [2022-11-07 09:36:05] [025-200][000/196] Time 0.55 (0.55) Data 0.38 (0.38) Base [Loss 0.491 (0.491)  Prec@1 82.81 (82.81) Prec@5 99.22 (99.22)]\n",
      "*SEARCH* [2022-11-07 09:36:40] [025-200][195/196] Time 0.14 (0.18) Data 0.00 (0.00) Base [Loss 0.446 (0.465)  Prec@1 83.75 (83.97) Prec@5 100.00 (99.33)]\n",
      "[025-200] searching : loss=0.46, accuracy@1=83.97%, accuracy@5=99.33%, time-cost=881.9 s\n",
      "[025-200] evaluate  : loss=0.84, accuracy@1=73.33%, accuracy@5=98.16%\n",
      "Find op_level-use_pretrain/train/checkpoint/seed-24382-basic.pth exist, delete is at first before saving\n",
      "save checkpoint into op_level-use_pretrain/train/checkpoint/seed-24382-basic.pth\n",
      "Find op_level-use_pretrain/train/seed-24382-last-info.pth exist, delete is at first before saving\n",
      "save checkpoint into op_level-use_pretrain/train/seed-24382-last-info.pth\n",
      "\n",
      "[Search the 026-200-th epoch] Time Left: [01:53:43], LR=0.09588773128419906\n",
      "*SEARCH* [2022-11-07 09:36:44] [026-200][000/196] Time 0.49 (0.49) Data 0.34 (0.34) Base [Loss 0.428 (0.428)  Prec@1 85.94 (85.94) Prec@5 100.00 (100.00)]\n",
      "*SEARCH* [2022-11-07 09:37:19] [026-200][195/196] Time 0.10 (0.18) Data 0.00 (0.00) Base [Loss 0.533 (0.468)  Prec@1 82.50 (83.78) Prec@5 98.75 (99.32)]\n",
      "[026-200] searching : loss=0.47, accuracy@1=83.78%, accuracy@5=99.32%, time-cost=917.3 s\n",
      "[026-200] evaluate  : loss=1.05, accuracy@1=69.58%, accuracy@5=95.54%\n",
      "Find op_level-use_pretrain/train/checkpoint/seed-24382-basic.pth exist, delete is at first before saving\n",
      "save checkpoint into op_level-use_pretrain/train/checkpoint/seed-24382-basic.pth\n",
      "Find op_level-use_pretrain/train/seed-24382-last-info.pth exist, delete is at first before saving\n",
      "save checkpoint into op_level-use_pretrain/train/seed-24382-last-info.pth\n",
      "\n",
      "[Search the 027-200-th epoch] Time Left: [01:54:24], LR=0.09557016383177226\n",
      "*SEARCH* [2022-11-07 09:37:24] [027-200][000/196] Time 0.56 (0.56) Data 0.36 (0.36) Base [Loss 0.415 (0.415)  Prec@1 85.94 (85.94) Prec@5 99.61 (99.61)]\n",
      "*SEARCH* [2022-11-07 09:37:56] [027-200][195/196] Time 0.19 (0.17) Data 0.00 (0.00) Base [Loss 0.444 (0.462)  Prec@1 86.25 (84.10) Prec@5 100.00 (99.36)]\n",
      "[027-200] searching : loss=0.46, accuracy@1=84.10%, accuracy@5=99.36%, time-cost=950.5 s\n",
      "[027-200] evaluate  : loss=0.86, accuracy@1=73.04%, accuracy@5=97.36%\n",
      "Find op_level-use_pretrain/train/checkpoint/seed-24382-basic.pth exist, delete is at first before saving\n",
      "save checkpoint into op_level-use_pretrain/train/checkpoint/seed-24382-basic.pth\n",
      "Find op_level-use_pretrain/train/seed-24382-last-info.pth exist, delete is at first before saving\n",
      "save checkpoint into op_level-use_pretrain/train/seed-24382-last-info.pth\n",
      "\n",
      "[Search the 028-200-th epoch] Time Left: [01:45:26], LR=0.09524135262330098\n",
      "*SEARCH* [2022-11-07 09:38:00] [028-200][000/196] Time 0.63 (0.63) Data 0.33 (0.33) Base [Loss 0.494 (0.494)  Prec@1 82.81 (82.81) Prec@5 99.22 (99.22)]\n",
      "*SEARCH* [2022-11-07 09:38:34] [028-200][195/196] Time 0.09 (0.18) Data 0.00 (0.00) Base [Loss 0.378 (0.459)  Prec@1 83.75 (84.18) Prec@5 100.00 (99.32)]\n",
      "[028-200] searching : loss=0.46, accuracy@1=84.18%, accuracy@5=99.32%, time-cost=985.3 s\n",
      "[028-200] evaluate  : loss=1.07, accuracy@1=66.56%, accuracy@5=96.67%\n",
      "Find op_level-use_pretrain/train/checkpoint/seed-24382-basic.pth exist, delete is at first before saving\n",
      "save checkpoint into op_level-use_pretrain/train/checkpoint/seed-24382-basic.pth\n",
      "Find op_level-use_pretrain/train/seed-24382-last-info.pth exist, delete is at first before saving\n",
      "save checkpoint into op_level-use_pretrain/train/seed-24382-last-info.pth\n",
      "\n",
      "[Search the 029-200-th epoch] Time Left: [01:50:52], LR=0.09490137878803079\n",
      "*SEARCH* [2022-11-07 09:38:39] [029-200][000/196] Time 0.59 (0.59) Data 0.41 (0.41) Base [Loss 0.518 (0.518)  Prec@1 81.25 (81.25) Prec@5 99.22 (99.22)]\n",
      "*SEARCH* [2022-11-07 09:39:15] [029-200][195/196] Time 0.10 (0.18) Data 0.00 (0.00) Base [Loss 0.468 (0.453)  Prec@1 80.00 (84.42) Prec@5 97.50 (99.36)]\n",
      "[029-200] searching : loss=0.45, accuracy@1=84.42%, accuracy@5=99.36%, time-cost=1021.6 s\n",
      "[029-200] evaluate  : loss=0.97, accuracy@1=70.81%, accuracy@5=98.05%\n",
      "Find op_level-use_pretrain/train/checkpoint/seed-24382-basic.pth exist, delete is at first before saving\n",
      "save checkpoint into op_level-use_pretrain/train/checkpoint/seed-24382-basic.pth\n",
      "Find op_level-use_pretrain/train/seed-24382-last-info.pth exist, delete is at first before saving\n",
      "save checkpoint into op_level-use_pretrain/train/seed-24382-last-info.pth\n",
      "\n",
      "[Search the 030-200-th epoch] Time Left: [01:52:55], LR=0.09455032620941839\n",
      "*SEARCH* [2022-11-07 09:39:19] [030-200][000/196] Time 0.56 (0.56) Data 0.41 (0.41) Base [Loss 0.337 (0.337)  Prec@1 90.62 (90.62) Prec@5 99.22 (99.22)]\n",
      "*SEARCH* [2022-11-07 09:39:51] [030-200][195/196] Time 0.13 (0.17) Data 0.00 (0.00) Base [Loss 0.580 (0.445)  Prec@1 80.00 (84.65) Prec@5 100.00 (99.39)]\n",
      "[030-200] searching : loss=0.44, accuracy@1=84.65%, accuracy@5=99.39%, time-cost=1054.6 s\n",
      "[030-200] evaluate  : loss=2.08, accuracy@1=51.26%, accuracy@5=92.06%\n",
      "Find op_level-use_pretrain/train/checkpoint/seed-24382-basic.pth exist, delete is at first before saving\n",
      "save checkpoint into op_level-use_pretrain/train/checkpoint/seed-24382-basic.pth\n",
      "Find op_level-use_pretrain/train/seed-24382-last-info.pth exist, delete is at first before saving\n",
      "save checkpoint into op_level-use_pretrain/train/seed-24382-last-info.pth\n",
      "\n",
      "[Search the 031-200-th epoch] Time Left: [01:45:43], LR=0.09418828150443469\n",
      "*SEARCH* [2022-11-07 09:39:57] [031-200][000/196] Time 0.56 (0.56) Data 0.41 (0.41) Base [Loss 0.413 (0.413)  Prec@1 85.94 (85.94) Prec@5 99.61 (99.61)]\n",
      "*SEARCH* [2022-11-07 09:40:29] [031-200][195/196] Time 0.26 (0.17) Data 0.00 (0.00) Base [Loss 0.588 (0.447)  Prec@1 78.75 (84.62) Prec@5 100.00 (99.39)]\n",
      "[031-200] searching : loss=0.45, accuracy@1=84.62%, accuracy@5=99.39%, time-cost=1087.7 s\n",
      "[031-200] evaluate  : loss=1.16, accuracy@1=64.09%, accuracy@5=98.00%\n",
      "Find op_level-use_pretrain/train/checkpoint/seed-24382-basic.pth exist, delete is at first before saving\n",
      "save checkpoint into op_level-use_pretrain/train/checkpoint/seed-24382-basic.pth\n",
      "Find op_level-use_pretrain/train/seed-24382-last-info.pth exist, delete is at first before saving\n",
      "save checkpoint into op_level-use_pretrain/train/seed-24382-last-info.pth\n",
      "\n",
      "[Search the 032-200-th epoch] Time Left: [01:44:12], LR=0.09381533400219318\n",
      "*SEARCH* [2022-11-07 09:40:34] [032-200][000/196] Time 0.49 (0.49) Data 0.33 (0.33) Base [Loss 0.576 (0.576)  Prec@1 80.86 (80.86) Prec@5 99.61 (99.61)]\n",
      "*SEARCH* [2022-11-07 09:41:06] [032-200][195/196] Time 0.12 (0.17) Data 0.00 (0.00) Base [Loss 0.413 (0.440)  Prec@1 85.00 (84.87) Prec@5 98.75 (99.44)]\n",
      "[032-200] searching : loss=0.44, accuracy@1=84.87%, accuracy@5=99.44%, time-cost=1120.8 s\n",
      "[032-200] evaluate  : loss=0.81, accuracy@1=73.51%, accuracy@5=98.21%\n",
      "Find op_level-use_pretrain/train/checkpoint/seed-24382-basic.pth exist, delete is at first before saving\n",
      "save checkpoint into op_level-use_pretrain/train/checkpoint/seed-24382-basic.pth\n",
      "Find op_level-use_pretrain/train/seed-24382-last-info.pth exist, delete is at first before saving\n",
      "save checkpoint into op_level-use_pretrain/train/seed-24382-last-info.pth\n",
      "\n",
      "[Search the 033-200-th epoch] Time Left: [01:45:43], LR=0.09343157572190958\n",
      "*SEARCH* [2022-11-07 09:41:12] [033-200][000/196] Time 0.58 (0.58) Data 0.38 (0.38) Base [Loss 0.493 (0.493)  Prec@1 83.59 (83.59) Prec@5 100.00 (100.00)]\n",
      "*SEARCH* [2022-11-07 09:41:43] [033-200][195/196] Time 0.12 (0.16) Data 0.00 (0.00) Base [Loss 0.439 (0.439)  Prec@1 82.50 (84.80) Prec@5 100.00 (99.43)]\n",
      "[033-200] searching : loss=0.44, accuracy@1=84.80%, accuracy@5=99.43%, time-cost=1152.8 s\n",
      "[033-200] evaluate  : loss=0.93, accuracy@1=71.92%, accuracy@5=98.40%\n",
      "Find op_level-use_pretrain/train/checkpoint/seed-24382-basic.pth exist, delete is at first before saving\n",
      "save checkpoint into op_level-use_pretrain/train/checkpoint/seed-24382-basic.pth\n",
      "Find op_level-use_pretrain/train/seed-24382-last-info.pth exist, delete is at first before saving\n",
      "save checkpoint into op_level-use_pretrain/train/seed-24382-last-info.pth\n",
      "\n",
      "[Search the 034-200-th epoch] Time Left: [01:37:49], LR=0.09303710135019719\n",
      "*SEARCH* [2022-11-07 09:41:47] [034-200][000/196] Time 0.52 (0.52) Data 0.35 (0.35) Base [Loss 0.453 (0.453)  Prec@1 83.98 (83.98) Prec@5 98.83 (98.83)]\n"
     ]
    },
    {
     "name": "stdout",
     "output_type": "stream",
     "text": [
      "*SEARCH* [2022-11-07 09:42:21] [034-200][195/196] Time 0.10 (0.17) Data 0.00 (0.00) Base [Loss 0.332 (0.432)  Prec@1 86.25 (85.15) Prec@5 100.00 (99.38)]\n",
      "[034-200] searching : loss=0.43, accuracy@1=85.15%, accuracy@5=99.38%, time-cost=1187.0 s\n",
      "[034-200] evaluate  : loss=0.91, accuracy@1=71.60%, accuracy@5=97.40%\n",
      "Find op_level-use_pretrain/train/checkpoint/seed-24382-basic.pth exist, delete is at first before saving\n",
      "save checkpoint into op_level-use_pretrain/train/checkpoint/seed-24382-basic.pth\n",
      "Find op_level-use_pretrain/train/seed-24382-last-info.pth exist, delete is at first before saving\n",
      "save checkpoint into op_level-use_pretrain/train/seed-24382-last-info.pth\n",
      "\n",
      "[Search the 035-200-th epoch] Time Left: [01:44:57], LR=0.09263200821770462\n",
      "*SEARCH* [2022-11-07 09:42:25] [035-200][000/196] Time 0.65 (0.65) Data 0.46 (0.46) Base [Loss 0.411 (0.411)  Prec@1 87.89 (87.89) Prec@5 99.61 (99.61)]\n",
      "*SEARCH* [2022-11-07 09:42:56] [035-200][195/196] Time 0.08 (0.16) Data 0.00 (0.00) Base [Loss 0.544 (0.428)  Prec@1 77.50 (85.14) Prec@5 100.00 (99.43)]\n",
      "[035-200] searching : loss=0.43, accuracy@1=85.14%, accuracy@5=99.43%, time-cost=1218.3 s\n",
      "[035-200] evaluate  : loss=0.77, accuracy@1=74.72%, accuracy@5=98.32%\n",
      "Find op_level-use_pretrain/train/checkpoint/seed-24382-basic.pth exist, delete is at first before saving\n",
      "save checkpoint into op_level-use_pretrain/train/checkpoint/seed-24382-basic.pth\n",
      "Find op_level-use_pretrain/train/seed-24382-last-info.pth exist, delete is at first before saving\n",
      "save checkpoint into op_level-use_pretrain/train/seed-24382-last-info.pth\n",
      "\n",
      "[Search the 036-200-th epoch] Time Left: [01:37:40], LR=0.09221639627510075\n",
      "*SEARCH* [2022-11-07 09:43:01] [036-200][000/196] Time 0.57 (0.57) Data 0.40 (0.40) Base [Loss 0.402 (0.402)  Prec@1 85.55 (85.55) Prec@5 100.00 (100.00)]\n",
      "*SEARCH* [2022-11-07 09:43:32] [036-200][195/196] Time 0.13 (0.16) Data 0.00 (0.00) Base [Loss 0.436 (0.428)  Prec@1 82.50 (85.24) Prec@5 100.00 (99.46)]\n",
      "[036-200] searching : loss=0.43, accuracy@1=85.24%, accuracy@5=99.46%, time-cost=1249.9 s\n",
      "[036-200] evaluate  : loss=0.92, accuracy@1=71.13%, accuracy@5=98.80%\n",
      "Find op_level-use_pretrain/train/checkpoint/seed-24382-basic.pth exist, delete is at first before saving\n",
      "save checkpoint into op_level-use_pretrain/train/checkpoint/seed-24382-basic.pth\n",
      "Find op_level-use_pretrain/train/seed-24382-last-info.pth exist, delete is at first before saving\n",
      "save checkpoint into op_level-use_pretrain/train/seed-24382-last-info.pth\n",
      "\n",
      "[Search the 037-200-th epoch] Time Left: [01:35:52], LR=0.09179036806841352\n",
      "*SEARCH* [2022-11-07 09:43:36] [037-200][000/196] Time 0.56 (0.56) Data 0.40 (0.40) Base [Loss 0.449 (0.449)  Prec@1 84.38 (84.38) Prec@5 99.22 (99.22)]\n",
      "*SEARCH* [2022-11-07 09:44:09] [037-200][195/196] Time 0.20 (0.17) Data 0.00 (0.00) Base [Loss 0.406 (0.420)  Prec@1 86.25 (85.39) Prec@5 100.00 (99.45)]\n",
      "[037-200] searching : loss=0.42, accuracy@1=85.39%, accuracy@5=99.45%, time-cost=1283.5 s\n",
      "[037-200] evaluate  : loss=0.97, accuracy@1=70.21%, accuracy@5=97.19%\n",
      "Find op_level-use_pretrain/train/checkpoint/seed-24382-basic.pth exist, delete is at first before saving\n",
      "save checkpoint into op_level-use_pretrain/train/checkpoint/seed-24382-basic.pth\n",
      "Find op_level-use_pretrain/train/seed-24382-last-info.pth exist, delete is at first before saving\n",
      "save checkpoint into op_level-use_pretrain/train/seed-24382-last-info.pth\n",
      "\n",
      "[Search the 038-200-th epoch] Time Left: [01:40:17], LR=0.0913540287137281\n",
      "*SEARCH* [2022-11-07 09:44:13] [038-200][000/196] Time 0.56 (0.56) Data 0.40 (0.40) Base [Loss 0.463 (0.463)  Prec@1 83.59 (83.59) Prec@5 98.83 (98.83)]\n",
      "*SEARCH* [2022-11-07 09:44:46] [038-200][195/196] Time 0.11 (0.17) Data 0.00 (0.00) Base [Loss 0.560 (0.422)  Prec@1 73.75 (85.42) Prec@5 100.00 (99.43)]\n",
      "[038-200] searching : loss=0.42, accuracy@1=85.42%, accuracy@5=99.43%, time-cost=1316.9 s\n",
      "[038-200] evaluate  : loss=1.00, accuracy@1=71.89%, accuracy@5=95.97%\n",
      "Find op_level-use_pretrain/train/checkpoint/seed-24382-basic.pth exist, delete is at first before saving\n",
      "save checkpoint into op_level-use_pretrain/train/checkpoint/seed-24382-basic.pth\n",
      "Find op_level-use_pretrain/train/seed-24382-last-info.pth exist, delete is at first before saving\n",
      "save checkpoint into op_level-use_pretrain/train/seed-24382-last-info.pth\n",
      "\n",
      "[Search the 039-200-th epoch] Time Left: [01:42:03], LR=0.09090748587125118\n",
      "*SEARCH* [2022-11-07 09:44:51] [039-200][000/196] Time 0.48 (0.48) Data 0.34 (0.34) Base [Loss 0.447 (0.447)  Prec@1 85.94 (85.94) Prec@5 98.83 (98.83)]\n",
      "*SEARCH* [2022-11-07 09:45:26] [039-200][195/196] Time 0.17 (0.18) Data 0.00 (0.00) Base [Loss 0.487 (0.418)  Prec@1 83.75 (85.68) Prec@5 97.50 (99.43)]\n",
      "[039-200] searching : loss=0.42, accuracy@1=85.68%, accuracy@5=99.43%, time-cost=1352.3 s\n",
      "[039-200] evaluate  : loss=0.61, accuracy@1=79.51%, accuracy@5=99.03%\n",
      "Find op_level-use_pretrain/train/checkpoint/seed-24382-basic.pth exist, delete is at first before saving\n",
      "save checkpoint into op_level-use_pretrain/train/checkpoint/seed-24382-basic.pth\n",
      "Find op_level-use_pretrain/train/seed-24382-last-info.pth exist, delete is at first before saving\n",
      "save checkpoint into op_level-use_pretrain/train/seed-24382-last-info.pth\n",
      "<<<--->>> The 039-200-th epoch : find the highest validation accuracy : 79.51%.\n",
      "Find op_level-use_pretrain/train/checkpoint/seed-24382-best.pth exist, delete is at first before saving\n",
      "copy the file from op_level-use_pretrain/train/checkpoint/seed-24382-basic.pth into op_level-use_pretrain/train/checkpoint/seed-24382-best.pth\n",
      "\n",
      "[Search the 040-200-th epoch] Time Left: [01:44:12], LR=0.09045084971874738\n",
      "*SEARCH* [2022-11-07 09:45:31] [040-200][000/196] Time 0.70 (0.70) Data 0.40 (0.40) Base [Loss 0.334 (0.334)  Prec@1 89.45 (89.45) Prec@5 99.61 (99.61)]\n",
      "*SEARCH* [2022-11-07 09:46:04] [040-200][195/196] Time 0.09 (0.17) Data 0.00 (0.00) Base [Loss 0.481 (0.413)  Prec@1 81.25 (85.64) Prec@5 98.75 (99.45)]\n",
      "[040-200] searching : loss=0.41, accuracy@1=85.64%, accuracy@5=99.45%, time-cost=1386.6 s\n",
      "[040-200] evaluate  : loss=0.81, accuracy@1=73.99%, accuracy@5=97.94%\n",
      "Find op_level-use_pretrain/train/checkpoint/seed-24382-basic.pth exist, delete is at first before saving\n",
      "save checkpoint into op_level-use_pretrain/train/checkpoint/seed-24382-basic.pth\n",
      "Find op_level-use_pretrain/train/seed-24382-last-info.pth exist, delete is at first before saving\n",
      "save checkpoint into op_level-use_pretrain/train/seed-24382-last-info.pth\n",
      "\n",
      "[Search the 041-200-th epoch] Time Left: [01:44:03], LR=0.08998423292435453\n",
      "*SEARCH* [2022-11-07 09:46:10] [041-200][000/196] Time 0.47 (0.47) Data 0.35 (0.35) Base [Loss 0.423 (0.423)  Prec@1 85.55 (85.55) Prec@5 99.22 (99.22)]\n",
      "*SEARCH* [2022-11-07 09:46:42] [041-200][195/196] Time 0.17 (0.17) Data 0.00 (0.00) Base [Loss 0.401 (0.412)  Prec@1 87.50 (85.80) Prec@5 98.75 (99.46)]\n",
      "[041-200] searching : loss=0.41, accuracy@1=85.80%, accuracy@5=99.46%, time-cost=1419.6 s\n",
      "[041-200] evaluate  : loss=0.98, accuracy@1=70.77%, accuracy@5=97.53%\n",
      "Find op_level-use_pretrain/train/checkpoint/seed-24382-basic.pth exist, delete is at first before saving\n",
      "save checkpoint into op_level-use_pretrain/train/checkpoint/seed-24382-basic.pth\n",
      "Find op_level-use_pretrain/train/seed-24382-last-info.pth exist, delete is at first before saving\n",
      "save checkpoint into op_level-use_pretrain/train/seed-24382-last-info.pth\n",
      "\n",
      "[Search the 042-200-th epoch] Time Left: [01:38:02], LR=0.08950775061878452\n",
      "*SEARCH* [2022-11-07 09:46:47] [042-200][000/196] Time 0.52 (0.52) Data 0.34 (0.34) Base [Loss 0.459 (0.459)  Prec@1 86.33 (86.33) Prec@5 99.22 (99.22)]\n",
      "*SEARCH* [2022-11-07 09:47:19] [042-200][195/196] Time 0.12 (0.17) Data 0.00 (0.00) Base [Loss 0.311 (0.406)  Prec@1 90.00 (85.91) Prec@5 100.00 (99.49)]\n",
      "[042-200] searching : loss=0.41, accuracy@1=85.91%, accuracy@5=99.49%, time-cost=1452.6 s\n",
      "[042-200] evaluate  : loss=0.54, accuracy@1=81.16%, accuracy@5=99.27%\n",
      "Find op_level-use_pretrain/train/checkpoint/seed-24382-basic.pth exist, delete is at first before saving\n",
      "save checkpoint into op_level-use_pretrain/train/checkpoint/seed-24382-basic.pth\n",
      "Find op_level-use_pretrain/train/seed-24382-last-info.pth exist, delete is at first before saving\n",
      "save checkpoint into op_level-use_pretrain/train/seed-24382-last-info.pth\n",
      "<<<--->>> The 042-200-th epoch : find the highest validation accuracy : 81.16%.\n",
      "Find op_level-use_pretrain/train/checkpoint/seed-24382-best.pth exist, delete is at first before saving\n",
      "copy the file from op_level-use_pretrain/train/checkpoint/seed-24382-basic.pth into op_level-use_pretrain/train/checkpoint/seed-24382-best.pth\n",
      "\n",
      "[Search the 043-200-th epoch] Time Left: [01:37:58], LR=0.08902152036691649\n"
     ]
    },
    {
     "name": "stdout",
     "output_type": "stream",
     "text": [
      "*SEARCH* [2022-11-07 09:47:25] [043-200][000/196] Time 0.55 (0.55) Data 0.37 (0.37) Base [Loss 0.413 (0.413)  Prec@1 87.50 (87.50) Prec@5 99.22 (99.22)]\n",
      "*SEARCH* [2022-11-07 09:47:57] [043-200][195/196] Time 0.10 (0.17) Data 0.00 (0.00) Base [Loss 0.594 (0.405)  Prec@1 80.00 (86.05) Prec@5 98.75 (99.46)]\n",
      "[043-200] searching : loss=0.41, accuracy@1=86.05%, accuracy@5=99.46%, time-cost=1485.9 s\n",
      "[043-200] evaluate  : loss=0.58, accuracy@1=80.78%, accuracy@5=98.77%\n",
      "Find op_level-use_pretrain/train/checkpoint/seed-24382-basic.pth exist, delete is at first before saving\n",
      "save checkpoint into op_level-use_pretrain/train/checkpoint/seed-24382-basic.pth\n",
      "Find op_level-use_pretrain/train/seed-24382-last-info.pth exist, delete is at first before saving\n",
      "save checkpoint into op_level-use_pretrain/train/seed-24382-last-info.pth\n",
      "\n",
      "[Search the 044-200-th epoch] Time Left: [01:38:04], LR=0.08852566213878947\n",
      "*SEARCH* [2022-11-07 09:48:02] [044-200][000/196] Time 0.57 (0.57) Data 0.38 (0.38) Base [Loss 0.353 (0.353)  Prec@1 87.89 (87.89) Prec@5 99.61 (99.61)]\n",
      "*SEARCH* [2022-11-07 09:48:35] [044-200][195/196] Time 0.10 (0.17) Data 0.00 (0.00) Base [Loss 0.476 (0.402)  Prec@1 87.50 (86.17) Prec@5 97.50 (99.48)]\n",
      "[044-200] searching : loss=0.40, accuracy@1=86.17%, accuracy@5=99.48%, time-cost=1519.5 s\n",
      "[044-200] evaluate  : loss=0.91, accuracy@1=73.38%, accuracy@5=97.52%\n",
      "Find op_level-use_pretrain/train/checkpoint/seed-24382-basic.pth exist, delete is at first before saving\n",
      "save checkpoint into op_level-use_pretrain/train/checkpoint/seed-24382-basic.pth\n",
      "Find op_level-use_pretrain/train/seed-24382-last-info.pth exist, delete is at first before saving\n",
      "save checkpoint into op_level-use_pretrain/train/seed-24382-last-info.pth\n",
      "\n",
      "[Search the 045-200-th epoch] Time Left: [01:37:33], LR=0.08802029828000156\n",
      "*SEARCH* [2022-11-07 09:48:40] [045-200][000/196] Time 0.60 (0.60) Data 0.43 (0.43) Base [Loss 0.398 (0.398)  Prec@1 87.11 (87.11) Prec@5 100.00 (100.00)]\n",
      "*SEARCH* [2022-11-07 09:49:14] [045-200][195/196] Time 0.10 (0.17) Data 0.00 (0.00) Base [Loss 0.586 (0.399)  Prec@1 75.00 (86.40) Prec@5 100.00 (99.49)]\n",
      "[045-200] searching : loss=0.40, accuracy@1=86.40%, accuracy@5=99.49%, time-cost=1553.7 s\n",
      "[045-200] evaluate  : loss=0.71, accuracy@1=77.45%, accuracy@5=98.87%\n",
      "Find op_level-use_pretrain/train/checkpoint/seed-24382-basic.pth exist, delete is at first before saving\n",
      "save checkpoint into op_level-use_pretrain/train/checkpoint/seed-24382-basic.pth\n",
      "Find op_level-use_pretrain/train/seed-24382-last-info.pth exist, delete is at first before saving\n",
      "save checkpoint into op_level-use_pretrain/train/seed-24382-last-info.pth\n",
      "\n",
      "[Search the 046-200-th epoch] Time Left: [01:38:32], LR=0.08750555348152299\n",
      "*SEARCH* [2022-11-07 09:49:18] [046-200][000/196] Time 0.51 (0.51) Data 0.39 (0.39) Base [Loss 0.418 (0.418)  Prec@1 86.33 (86.33) Prec@5 99.22 (99.22)]\n",
      "*SEARCH* [2022-11-07 09:49:52] [046-200][195/196] Time 0.12 (0.18) Data 0.00 (0.00) Base [Loss 0.322 (0.396)  Prec@1 86.25 (86.42) Prec@5 100.00 (99.50)]\n",
      "[046-200] searching : loss=0.40, accuracy@1=86.42%, accuracy@5=99.50%, time-cost=1588.2 s\n",
      "[046-200] evaluate  : loss=0.66, accuracy@1=78.38%, accuracy@5=98.75%\n",
      "Find op_level-use_pretrain/train/checkpoint/seed-24382-basic.pth exist, delete is at first before saving\n",
      "save checkpoint into op_level-use_pretrain/train/checkpoint/seed-24382-basic.pth\n",
      "Find op_level-use_pretrain/train/seed-24382-last-info.pth exist, delete is at first before saving\n",
      "save checkpoint into op_level-use_pretrain/train/seed-24382-last-info.pth\n",
      "\n",
      "[Search the 047-200-th epoch] Time Left: [01:38:43], LR=0.08698155474893049\n",
      "*SEARCH* [2022-11-07 09:49:57] [047-200][000/196] Time 0.53 (0.53) Data 0.34 (0.34) Base [Loss 0.439 (0.439)  Prec@1 85.94 (85.94) Prec@5 100.00 (100.00)]\n",
      "*SEARCH* [2022-11-07 09:50:31] [047-200][195/196] Time 0.20 (0.18) Data 0.00 (0.00) Base [Loss 0.608 (0.394)  Prec@1 78.75 (86.53) Prec@5 97.50 (99.47)]\n",
      "[047-200] searching : loss=0.39, accuracy@1=86.53%, accuracy@5=99.47%, time-cost=1623.0 s\n",
      "[047-200] evaluate  : loss=0.73, accuracy@1=76.40%, accuracy@5=98.81%\n",
      "Find op_level-use_pretrain/train/checkpoint/seed-24382-basic.pth exist, delete is at first before saving\n",
      "save checkpoint into op_level-use_pretrain/train/checkpoint/seed-24382-basic.pth\n",
      "Find op_level-use_pretrain/train/seed-24382-last-info.pth exist, delete is at first before saving\n",
      "save checkpoint into op_level-use_pretrain/train/seed-24382-last-info.pth\n",
      "\n",
      "[Search the 048-200-th epoch] Time Left: [01:38:57], LR=0.08644843137107058\n",
      "*SEARCH* [2022-11-07 09:50:36] [048-200][000/196] Time 0.59 (0.59) Data 0.37 (0.37) Base [Loss 0.385 (0.385)  Prec@1 86.33 (86.33) Prec@5 99.22 (99.22)]\n",
      "*SEARCH* [2022-11-07 09:51:07] [048-200][195/196] Time 0.08 (0.16) Data 0.00 (0.00) Base [Loss 0.494 (0.394)  Prec@1 82.50 (86.41) Prec@5 98.75 (99.49)]\n",
      "[048-200] searching : loss=0.39, accuracy@1=86.41%, accuracy@5=99.49%, time-cost=1654.6 s\n",
      "[048-200] evaluate  : loss=0.74, accuracy@1=75.84%, accuracy@5=98.55%\n",
      "Find op_level-use_pretrain/train/checkpoint/seed-24382-basic.pth exist, delete is at first before saving\n",
      "save checkpoint into op_level-use_pretrain/train/checkpoint/seed-24382-basic.pth\n",
      "Find op_level-use_pretrain/train/seed-24382-last-info.pth exist, delete is at first before saving\n",
      "save checkpoint into op_level-use_pretrain/train/seed-24382-last-info.pth\n",
      "\n",
      "[Search the 049-200-th epoch] Time Left: [01:28:51], LR=0.08590631488815945\n",
      "*SEARCH* [2022-11-07 09:51:12] [049-200][000/196] Time 0.65 (0.65) Data 0.38 (0.38) Base [Loss 0.323 (0.323)  Prec@1 89.84 (89.84) Prec@5 100.00 (100.00)]\n",
      "*SEARCH* [2022-11-07 09:51:45] [049-200][195/196] Time 0.15 (0.17) Data 0.00 (0.00) Base [Loss 0.491 (0.389)  Prec@1 87.50 (86.70) Prec@5 98.75 (99.52)]\n",
      "[049-200] searching : loss=0.39, accuracy@1=86.70%, accuracy@5=99.52%, time-cost=1688.3 s\n",
      "[049-200] evaluate  : loss=0.85, accuracy@1=75.43%, accuracy@5=98.47%\n",
      "Find op_level-use_pretrain/train/checkpoint/seed-24382-basic.pth exist, delete is at first before saving\n",
      "save checkpoint into op_level-use_pretrain/train/checkpoint/seed-24382-basic.pth\n",
      "Find op_level-use_pretrain/train/seed-24382-last-info.pth exist, delete is at first before saving\n",
      "save checkpoint into op_level-use_pretrain/train/seed-24382-last-info.pth\n",
      "\n",
      "[Search the 050-200-th epoch] Time Left: [01:35:06], LR=0.08535533905932738\n",
      "*SEARCH* [2022-11-07 09:51:50] [050-200][000/196] Time 0.58 (0.58) Data 0.42 (0.42) Base [Loss 0.326 (0.326)  Prec@1 85.94 (85.94) Prec@5 100.00 (100.00)]\n",
      "*SEARCH* [2022-11-07 09:52:25] [050-200][195/196] Time 0.14 (0.18) Data 0.00 (0.00) Base [Loss 0.483 (0.387)  Prec@1 81.25 (86.65) Prec@5 100.00 (99.51)]\n",
      "[050-200] searching : loss=0.39, accuracy@1=86.65%, accuracy@5=99.51%, time-cost=1724.4 s\n",
      "[050-200] evaluate  : loss=0.50, accuracy@1=82.69%, accuracy@5=99.21%\n",
      "Find op_level-use_pretrain/train/checkpoint/seed-24382-basic.pth exist, delete is at first before saving\n",
      "save checkpoint into op_level-use_pretrain/train/checkpoint/seed-24382-basic.pth\n",
      "Find op_level-use_pretrain/train/seed-24382-last-info.pth exist, delete is at first before saving\n",
      "save checkpoint into op_level-use_pretrain/train/seed-24382-last-info.pth\n",
      "<<<--->>> The 050-200-th epoch : find the highest validation accuracy : 82.69%.\n",
      "Find op_level-use_pretrain/train/checkpoint/seed-24382-best.pth exist, delete is at first before saving\n",
      "copy the file from op_level-use_pretrain/train/checkpoint/seed-24382-basic.pth into op_level-use_pretrain/train/checkpoint/seed-24382-best.pth\n",
      "\n",
      "[Search the 051-200-th epoch] Time Left: [01:38:51], LR=0.08479563982961572\n",
      "*SEARCH* [2022-11-07 09:52:29] [051-200][000/196] Time 0.55 (0.55) Data 0.40 (0.40) Base [Loss 0.346 (0.346)  Prec@1 88.67 (88.67) Prec@5 99.61 (99.61)]\n",
      "*SEARCH* [2022-11-07 09:53:02] [051-200][195/196] Time 0.26 (0.17) Data 0.00 (0.00) Base [Loss 0.480 (0.382)  Prec@1 85.00 (86.75) Prec@5 100.00 (99.51)]\n",
      "[051-200] searching : loss=0.38, accuracy@1=86.75%, accuracy@5=99.51%, time-cost=1757.3 s\n",
      "[051-200] evaluate  : loss=0.69, accuracy@1=78.21%, accuracy@5=98.44%\n",
      "Find op_level-use_pretrain/train/checkpoint/seed-24382-basic.pth exist, delete is at first before saving\n",
      "save checkpoint into op_level-use_pretrain/train/checkpoint/seed-24382-basic.pth\n",
      "Find op_level-use_pretrain/train/seed-24382-last-info.pth exist, delete is at first before saving\n",
      "save checkpoint into op_level-use_pretrain/train/seed-24382-last-info.pth\n",
      "\n",
      "[Search the 052-200-th epoch] Time Left: [01:30:39], LR=0.08422735529643444\n"
     ]
    },
    {
     "name": "stdout",
     "output_type": "stream",
     "text": [
      "*SEARCH* [2022-11-07 09:53:06] [052-200][000/196] Time 0.76 (0.76) Data 0.43 (0.43) Base [Loss 0.268 (0.268)  Prec@1 91.02 (91.02) Prec@5 100.00 (100.00)]\n",
      "*SEARCH* [2022-11-07 09:53:41] [052-200][195/196] Time 0.17 (0.18) Data 0.00 (0.00) Base [Loss 0.219 (0.383)  Prec@1 92.50 (86.74) Prec@5 100.00 (99.54)]\n",
      "[052-200] searching : loss=0.38, accuracy@1=86.74%, accuracy@5=99.54%, time-cost=1792.5 s\n",
      "[052-200] evaluate  : loss=0.60, accuracy@1=80.19%, accuracy@5=99.19%\n",
      "Find op_level-use_pretrain/train/checkpoint/seed-24382-basic.pth exist, delete is at first before saving\n",
      "save checkpoint into op_level-use_pretrain/train/checkpoint/seed-24382-basic.pth\n",
      "Find op_level-use_pretrain/train/seed-24382-last-info.pth exist, delete is at first before saving\n",
      "save checkpoint into op_level-use_pretrain/train/seed-24382-last-info.pth\n",
      "\n",
      "[Search the 053-200-th epoch] Time Left: [01:37:29], LR=0.08365062567548867\n",
      "*SEARCH* [2022-11-07 09:53:46] [053-200][000/196] Time 0.56 (0.56) Data 0.45 (0.45) Base [Loss 0.382 (0.382)  Prec@1 85.94 (85.94) Prec@5 98.83 (98.83)]\n",
      "*SEARCH* [2022-11-07 09:54:21] [053-200][195/196] Time 0.08 (0.18) Data 0.00 (0.00) Base [Loss 0.392 (0.373)  Prec@1 90.00 (87.05) Prec@5 100.00 (99.55)]\n",
      "[053-200] searching : loss=0.37, accuracy@1=87.05%, accuracy@5=99.55%, time-cost=1828.6 s\n",
      "[053-200] evaluate  : loss=0.62, accuracy@1=79.86%, accuracy@5=98.38%\n",
      "Find op_level-use_pretrain/train/checkpoint/seed-24382-basic.pth exist, delete is at first before saving\n",
      "save checkpoint into op_level-use_pretrain/train/checkpoint/seed-24382-basic.pth\n",
      "Find op_level-use_pretrain/train/seed-24382-last-info.pth exist, delete is at first before saving\n",
      "save checkpoint into op_level-use_pretrain/train/seed-24382-last-info.pth\n",
      "\n",
      "[Search the 054-200-th epoch] Time Left: [01:36:12], LR=0.0830655932661826\n",
      "*SEARCH* [2022-11-07 09:54:25] [054-200][000/196] Time 0.50 (0.50) Data 0.34 (0.34) Base [Loss 0.347 (0.347)  Prec@1 87.50 (87.50) Prec@5 99.61 (99.61)]\n",
      "*SEARCH* [2022-11-07 09:54:59] [054-200][195/196] Time 0.16 (0.17) Data 0.00 (0.00) Base [Loss 0.455 (0.377)  Prec@1 85.00 (86.90) Prec@5 98.75 (99.57)]\n",
      "[054-200] searching : loss=0.38, accuracy@1=86.90%, accuracy@5=99.57%, time-cost=1862.7 s\n",
      "[054-200] evaluate  : loss=0.99, accuracy@1=71.81%, accuracy@5=96.75%\n",
      "Find op_level-use_pretrain/train/checkpoint/seed-24382-basic.pth exist, delete is at first before saving\n",
      "save checkpoint into op_level-use_pretrain/train/checkpoint/seed-24382-basic.pth\n",
      "Find op_level-use_pretrain/train/seed-24382-last-info.pth exist, delete is at first before saving\n",
      "save checkpoint into op_level-use_pretrain/train/seed-24382-last-info.pth\n",
      "\n",
      "[Search the 055-200-th epoch] Time Left: [01:31:22], LR=0.08247240241650919\n",
      "*SEARCH* [2022-11-07 09:55:03] [055-200][000/196] Time 0.52 (0.52) Data 0.35 (0.35) Base [Loss 0.468 (0.468)  Prec@1 82.42 (82.42) Prec@5 99.22 (99.22)]\n",
      "*SEARCH* [2022-11-07 09:55:36] [055-200][195/196] Time 0.10 (0.17) Data 0.00 (0.00) Base [Loss 0.607 (0.374)  Prec@1 82.50 (87.13) Prec@5 98.75 (99.60)]\n",
      "[055-200] searching : loss=0.37, accuracy@1=87.13%, accuracy@5=99.60%, time-cost=1895.7 s\n",
      "[055-200] evaluate  : loss=0.64, accuracy@1=78.38%, accuracy@5=98.94%\n",
      "Find op_level-use_pretrain/train/checkpoint/seed-24382-basic.pth exist, delete is at first before saving\n",
      "save checkpoint into op_level-use_pretrain/train/checkpoint/seed-24382-basic.pth\n",
      "Find op_level-use_pretrain/train/seed-24382-last-info.pth exist, delete is at first before saving\n",
      "save checkpoint into op_level-use_pretrain/train/seed-24382-last-info.pth\n",
      "\n",
      "[Search the 056-200-th epoch] Time Left: [01:28:12], LR=0.08187119948743449\n",
      "*SEARCH* [2022-11-07 09:55:40] [056-200][000/196] Time 0.59 (0.59) Data 0.41 (0.41) Base [Loss 0.329 (0.329)  Prec@1 90.23 (90.23) Prec@5 99.61 (99.61)]\n",
      "*SEARCH* [2022-11-07 09:56:13] [056-200][195/196] Time 0.11 (0.17) Data 0.00 (0.00) Base [Loss 0.424 (0.374)  Prec@1 83.75 (86.98) Prec@5 100.00 (99.57)]\n",
      "[056-200] searching : loss=0.37, accuracy@1=86.98%, accuracy@5=99.57%, time-cost=1929.4 s\n",
      "[056-200] evaluate  : loss=1.30, accuracy@1=66.59%, accuracy@5=96.64%\n",
      "Find op_level-use_pretrain/train/checkpoint/seed-24382-basic.pth exist, delete is at first before saving\n",
      "save checkpoint into op_level-use_pretrain/train/checkpoint/seed-24382-basic.pth\n",
      "Find op_level-use_pretrain/train/seed-24382-last-info.pth exist, delete is at first before saving\n",
      "save checkpoint into op_level-use_pretrain/train/seed-24382-last-info.pth\n",
      "\n",
      "[Search the 057-200-th epoch] Time Left: [01:32:15], LR=0.08126213281678528\n",
      "*SEARCH* [2022-11-07 09:56:19] [057-200][000/196] Time 0.55 (0.55) Data 0.43 (0.43) Base [Loss 0.420 (0.420)  Prec@1 85.55 (85.55) Prec@5 99.61 (99.61)]\n",
      "*SEARCH* [2022-11-07 09:56:52] [057-200][195/196] Time 0.12 (0.18) Data 0.00 (0.00) Base [Loss 0.441 (0.370)  Prec@1 82.50 (87.12) Prec@5 100.00 (99.56)]\n",
      "[057-200] searching : loss=0.37, accuracy@1=87.12%, accuracy@5=99.56%, time-cost=1963.8 s\n",
      "[057-200] evaluate  : loss=0.50, accuracy@1=83.73%, accuracy@5=99.25%\n",
      "Find op_level-use_pretrain/train/checkpoint/seed-24382-basic.pth exist, delete is at first before saving\n",
      "save checkpoint into op_level-use_pretrain/train/checkpoint/seed-24382-basic.pth\n",
      "Find op_level-use_pretrain/train/seed-24382-last-info.pth exist, delete is at first before saving\n",
      "save checkpoint into op_level-use_pretrain/train/seed-24382-last-info.pth\n",
      "<<<--->>> The 057-200-th epoch : find the highest validation accuracy : 83.73%.\n",
      "Find op_level-use_pretrain/train/checkpoint/seed-24382-best.pth exist, delete is at first before saving\n",
      "copy the file from op_level-use_pretrain/train/checkpoint/seed-24382-basic.pth into op_level-use_pretrain/train/checkpoint/seed-24382-best.pth\n",
      "\n",
      "[Search the 058-200-th epoch] Time Left: [01:29:50], LR=0.08064535268264883\n",
      "*SEARCH* [2022-11-07 09:56:57] [058-200][000/196] Time 0.46 (0.46) Data 0.34 (0.34) Base [Loss 0.318 (0.318)  Prec@1 89.84 (89.84) Prec@5 99.61 (99.61)]\n",
      "*SEARCH* [2022-11-07 09:57:30] [058-200][195/196] Time 0.11 (0.17) Data 0.00 (0.00) Base [Loss 0.598 (0.364)  Prec@1 87.50 (87.47) Prec@5 97.50 (99.58)]\n",
      "[058-200] searching : loss=0.36, accuracy@1=87.47%, accuracy@5=99.58%, time-cost=1997.6 s\n",
      "[058-200] evaluate  : loss=0.76, accuracy@1=76.92%, accuracy@5=98.20%\n",
      "Find op_level-use_pretrain/train/checkpoint/seed-24382-basic.pth exist, delete is at first before saving\n",
      "save checkpoint into op_level-use_pretrain/train/checkpoint/seed-24382-basic.pth\n",
      "Find op_level-use_pretrain/train/seed-24382-last-info.pth exist, delete is at first before saving\n",
      "save checkpoint into op_level-use_pretrain/train/seed-24382-last-info.pth\n",
      "\n",
      "[Search the 059-200-th epoch] Time Left: [01:28:38], LR=0.08002101126629421\n",
      "*SEARCH* [2022-11-07 09:57:34] [059-200][000/196] Time 0.53 (0.53) Data 0.35 (0.35) Base [Loss 0.434 (0.434)  Prec@1 83.20 (83.20) Prec@5 99.61 (99.61)]\n",
      "*SEARCH* [2022-11-07 09:58:07] [059-200][195/196] Time 0.12 (0.17) Data 0.00 (0.00) Base [Loss 0.534 (0.367)  Prec@1 76.25 (87.29) Prec@5 100.00 (99.59)]\n",
      "[059-200] searching : loss=0.37, accuracy@1=87.29%, accuracy@5=99.59%, time-cost=2030.8 s\n",
      "[059-200] evaluate  : loss=0.77, accuracy@1=75.97%, accuracy@5=98.49%\n",
      "Find op_level-use_pretrain/train/checkpoint/seed-24382-basic.pth exist, delete is at first before saving\n",
      "save checkpoint into op_level-use_pretrain/train/checkpoint/seed-24382-basic.pth\n",
      "Find op_level-use_pretrain/train/seed-24382-last-info.pth exist, delete is at first before saving\n",
      "save checkpoint into op_level-use_pretrain/train/seed-24382-last-info.pth\n",
      "\n",
      "[Search the 060-200-th epoch] Time Left: [01:27:27], LR=0.07938926261462367\n",
      "*SEARCH* [2022-11-07 09:58:12] [060-200][000/196] Time 0.59 (0.59) Data 0.43 (0.43) Base [Loss 0.395 (0.395)  Prec@1 85.16 (85.16) Prec@5 99.61 (99.61)]\n",
      "*SEARCH* [2022-11-07 09:58:45] [060-200][195/196] Time 0.16 (0.17) Data 0.00 (0.00) Base [Loss 0.487 (0.372)  Prec@1 83.75 (87.17) Prec@5 98.75 (99.57)]\n",
      "[060-200] searching : loss=0.37, accuracy@1=87.17%, accuracy@5=99.57%, time-cost=2064.3 s\n",
      "[060-200] evaluate  : loss=1.15, accuracy@1=67.61%, accuracy@5=96.29%\n",
      "Find op_level-use_pretrain/train/checkpoint/seed-24382-basic.pth exist, delete is at first before saving\n",
      "save checkpoint into op_level-use_pretrain/train/checkpoint/seed-24382-basic.pth\n",
      "Find op_level-use_pretrain/train/seed-24382-last-info.pth exist, delete is at first before saving\n",
      "save checkpoint into op_level-use_pretrain/train/seed-24382-last-info.pth\n",
      "\n",
      "[Search the 061-200-th epoch] Time Left: [01:27:42], LR=0.07875026260216395\n"
     ]
    },
    {
     "name": "stdout",
     "output_type": "stream",
     "text": [
      "*SEARCH* [2022-11-07 09:58:50] [061-200][000/196] Time 0.67 (0.67) Data 0.38 (0.38) Base [Loss 0.413 (0.413)  Prec@1 85.55 (85.55) Prec@5 99.61 (99.61)]\n",
      "*SEARCH* [2022-11-07 09:59:22] [061-200][195/196] Time 0.12 (0.17) Data 0.00 (0.00) Base [Loss 0.402 (0.360)  Prec@1 82.50 (87.40) Prec@5 100.00 (99.58)]\n",
      "[061-200] searching : loss=0.36, accuracy@1=87.40%, accuracy@5=99.58%, time-cost=2097.5 s\n",
      "[061-200] evaluate  : loss=0.76, accuracy@1=75.76%, accuracy@5=98.37%\n",
      "Find op_level-use_pretrain/train/checkpoint/seed-24382-basic.pth exist, delete is at first before saving\n",
      "save checkpoint into op_level-use_pretrain/train/checkpoint/seed-24382-basic.pth\n",
      "Find op_level-use_pretrain/train/seed-24382-last-info.pth exist, delete is at first before saving\n",
      "save checkpoint into op_level-use_pretrain/train/seed-24382-last-info.pth\n",
      "\n",
      "[Search the 062-200-th epoch] Time Left: [01:24:46], LR=0.07810416889260655\n",
      "*SEARCH* [2022-11-07 09:59:27] [062-200][000/196] Time 0.63 (0.63) Data 0.40 (0.40) Base [Loss 0.359 (0.359)  Prec@1 85.55 (85.55) Prec@5 99.22 (99.22)]\n",
      "*SEARCH* [2022-11-07 09:59:59] [062-200][195/196] Time 0.10 (0.17) Data 0.00 (0.00) Base [Loss 0.264 (0.362)  Prec@1 87.50 (87.57) Prec@5 100.00 (99.59)]\n",
      "[062-200] searching : loss=0.36, accuracy@1=87.57%, accuracy@5=99.59%, time-cost=2130.3 s\n",
      "[062-200] evaluate  : loss=0.68, accuracy@1=78.84%, accuracy@5=98.57%\n",
      "Find op_level-use_pretrain/train/checkpoint/seed-24382-basic.pth exist, delete is at first before saving\n",
      "save checkpoint into op_level-use_pretrain/train/checkpoint/seed-24382-basic.pth\n",
      "Find op_level-use_pretrain/train/seed-24382-last-info.pth exist, delete is at first before saving\n",
      "save checkpoint into op_level-use_pretrain/train/seed-24382-last-info.pth\n",
      "\n",
      "[Search the 063-200-th epoch] Time Left: [01:23:19], LR=0.0774511408999066\n",
      "*SEARCH* [2022-11-07 10:00:03] [063-200][000/196] Time 0.54 (0.54) Data 0.38 (0.38) Base [Loss 0.383 (0.383)  Prec@1 87.50 (87.50) Prec@5 100.00 (100.00)]\n",
      "*SEARCH* [2022-11-07 10:00:38] [063-200][195/196] Time 0.17 (0.18) Data 0.00 (0.00) Base [Loss 0.463 (0.354)  Prec@1 87.50 (87.69) Prec@5 98.75 (99.61)]\n",
      "[063-200] searching : loss=0.35, accuracy@1=87.69%, accuracy@5=99.61%, time-cost=2166.1 s\n",
      "[063-200] evaluate  : loss=0.87, accuracy@1=72.33%, accuracy@5=98.19%\n",
      "Find op_level-use_pretrain/train/checkpoint/seed-24382-basic.pth exist, delete is at first before saving\n",
      "save checkpoint into op_level-use_pretrain/train/checkpoint/seed-24382-basic.pth\n",
      "Find op_level-use_pretrain/train/seed-24382-last-info.pth exist, delete is at first before saving\n",
      "save checkpoint into op_level-use_pretrain/train/seed-24382-last-info.pth\n",
      "\n",
      "[Search the 064-200-th epoch] Time Left: [01:31:28], LR=0.07679133974894983\n",
      "*SEARCH* [2022-11-07 10:00:43] [064-200][000/196] Time 0.52 (0.52) Data 0.34 (0.34) Base [Loss 0.289 (0.289)  Prec@1 90.62 (90.62) Prec@5 100.00 (100.00)]\n",
      "*SEARCH* [2022-11-07 10:01:17] [064-200][195/196] Time 0.11 (0.17) Data 0.00 (0.00) Base [Loss 0.456 (0.357)  Prec@1 83.75 (87.75) Prec@5 100.00 (99.59)]\n",
      "[064-200] searching : loss=0.36, accuracy@1=87.75%, accuracy@5=99.59%, time-cost=2199.8 s\n",
      "[064-200] evaluate  : loss=1.24, accuracy@1=66.49%, accuracy@5=95.64%\n",
      "Find op_level-use_pretrain/train/checkpoint/seed-24382-basic.pth exist, delete is at first before saving\n",
      "save checkpoint into op_level-use_pretrain/train/checkpoint/seed-24382-basic.pth\n",
      "Find op_level-use_pretrain/train/seed-24382-last-info.pth exist, delete is at first before saving\n",
      "save checkpoint into op_level-use_pretrain/train/seed-24382-last-info.pth\n",
      "\n",
      "[Search the 065-200-th epoch] Time Left: [01:26:42], LR=0.07612492823579745\n",
      "*SEARCH* [2022-11-07 10:01:22] [065-200][000/196] Time 0.65 (0.65) Data 0.33 (0.33) Base [Loss 0.366 (0.366)  Prec@1 86.33 (86.33) Prec@5 100.00 (100.00)]\n",
      "*SEARCH* [2022-11-07 10:01:55] [065-200][195/196] Time 0.15 (0.17) Data 0.00 (0.00) Base [Loss 0.307 (0.353)  Prec@1 86.25 (87.73) Prec@5 100.00 (99.64)]\n",
      "[065-200] searching : loss=0.35, accuracy@1=87.73%, accuracy@5=99.64%, time-cost=2233.6 s\n",
      "[065-200] evaluate  : loss=0.54, accuracy@1=82.20%, accuracy@5=99.18%\n",
      "Find op_level-use_pretrain/train/checkpoint/seed-24382-basic.pth exist, delete is at first before saving\n",
      "save checkpoint into op_level-use_pretrain/train/checkpoint/seed-24382-basic.pth\n",
      "Find op_level-use_pretrain/train/seed-24382-last-info.pth exist, delete is at first before saving\n",
      "save checkpoint into op_level-use_pretrain/train/seed-24382-last-info.pth\n",
      "\n",
      "[Search the 066-200-th epoch] Time Left: [01:26:01], LR=0.07545207078751857\n",
      "*SEARCH* [2022-11-07 10:02:00] [066-200][000/196] Time 0.53 (0.53) Data 0.39 (0.39) Base [Loss 0.359 (0.359)  Prec@1 86.72 (86.72) Prec@5 99.61 (99.61)]\n",
      "*SEARCH* [2022-11-07 10:02:33] [066-200][195/196] Time 0.10 (0.17) Data 0.00 (0.00) Base [Loss 0.464 (0.347)  Prec@1 85.00 (88.05) Prec@5 100.00 (99.64)]\n",
      "[066-200] searching : loss=0.35, accuracy@1=88.05%, accuracy@5=99.64%, time-cost=2266.8 s\n",
      "[066-200] evaluate  : loss=0.86, accuracy@1=74.17%, accuracy@5=97.81%\n",
      "Find op_level-use_pretrain/train/checkpoint/seed-24382-basic.pth exist, delete is at first before saving\n",
      "save checkpoint into op_level-use_pretrain/train/checkpoint/seed-24382-basic.pth\n",
      "Find op_level-use_pretrain/train/seed-24382-last-info.pth exist, delete is at first before saving\n",
      "save checkpoint into op_level-use_pretrain/train/seed-24382-last-info.pth\n",
      "\n",
      "[Search the 067-200-th epoch] Time Left: [01:21:57], LR=0.07477293342162038\n",
      "*SEARCH* [2022-11-07 10:02:37] [067-200][000/196] Time 0.52 (0.52) Data 0.35 (0.35) Base [Loss 0.352 (0.352)  Prec@1 89.45 (89.45) Prec@5 99.22 (99.22)]\n",
      "*SEARCH* [2022-11-07 10:03:13] [067-200][195/196] Time 0.26 (0.18) Data 0.00 (0.00) Base [Loss 0.359 (0.352)  Prec@1 87.50 (87.86) Prec@5 100.00 (99.59)]\n",
      "[067-200] searching : loss=0.35, accuracy@1=87.86%, accuracy@5=99.59%, time-cost=2302.4 s\n",
      "[067-200] evaluate  : loss=0.67, accuracy@1=79.14%, accuracy@5=98.69%\n",
      "Find op_level-use_pretrain/train/checkpoint/seed-24382-basic.pth exist, delete is at first before saving\n",
      "save checkpoint into op_level-use_pretrain/train/checkpoint/seed-24382-basic.pth\n",
      "Find op_level-use_pretrain/train/seed-24382-last-info.pth exist, delete is at first before saving\n",
      "save checkpoint into op_level-use_pretrain/train/seed-24382-last-info.pth\n",
      "\n",
      "[Search the 068-200-th epoch] Time Left: [01:26:36], LR=0.07408768370508577\n",
      "*SEARCH* [2022-11-07 10:03:17] [068-200][000/196] Time 0.55 (0.55) Data 0.37 (0.37) Base [Loss 0.366 (0.366)  Prec@1 86.33 (86.33) Prec@5 100.00 (100.00)]\n",
      "*SEARCH* [2022-11-07 10:03:51] [068-200][195/196] Time 0.12 (0.18) Data 0.00 (0.00) Base [Loss 0.403 (0.345)  Prec@1 85.00 (87.97) Prec@5 98.75 (99.65)]\n",
      "[068-200] searching : loss=0.34, accuracy@1=87.97%, accuracy@5=99.65%, time-cost=2337.5 s\n",
      "[068-200] evaluate  : loss=0.71, accuracy@1=78.45%, accuracy@5=98.85%\n",
      "Find op_level-use_pretrain/train/checkpoint/seed-24382-basic.pth exist, delete is at first before saving\n",
      "save checkpoint into op_level-use_pretrain/train/checkpoint/seed-24382-basic.pth\n",
      "Find op_level-use_pretrain/train/seed-24382-last-info.pth exist, delete is at first before saving\n",
      "save checkpoint into op_level-use_pretrain/train/seed-24382-last-info.pth\n",
      "\n",
      "[Search the 069-200-th epoch] Time Left: [01:25:38], LR=0.07339649071302867\n",
      "*SEARCH* [2022-11-07 10:03:56] [069-200][000/196] Time 0.59 (0.59) Data 0.39 (0.39) Base [Loss 0.396 (0.396)  Prec@1 86.72 (86.72) Prec@5 99.22 (99.22)]\n",
      "*SEARCH* [2022-11-07 10:04:29] [069-200][195/196] Time 0.11 (0.17) Data 0.00 (0.00) Base [Loss 0.394 (0.346)  Prec@1 86.25 (88.21) Prec@5 98.75 (99.62)]\n",
      "[069-200] searching : loss=0.35, accuracy@1=88.21%, accuracy@5=99.62%, time-cost=2371.1 s\n",
      "[069-200] evaluate  : loss=0.74, accuracy@1=78.44%, accuracy@5=98.29%\n",
      "Find op_level-use_pretrain/train/checkpoint/seed-24382-basic.pth exist, delete is at first before saving\n",
      "save checkpoint into op_level-use_pretrain/train/checkpoint/seed-24382-basic.pth\n",
      "Find op_level-use_pretrain/train/seed-24382-last-info.pth exist, delete is at first before saving\n",
      "save checkpoint into op_level-use_pretrain/train/seed-24382-last-info.pth\n",
      "\n",
      "[Search the 070-200-th epoch] Time Left: [01:20:42], LR=0.07269952498697733\n",
      "*SEARCH* [2022-11-07 10:04:33] [070-200][000/196] Time 0.54 (0.54) Data 0.37 (0.37) Base [Loss 0.237 (0.237)  Prec@1 92.58 (92.58) Prec@5 100.00 (100.00)]\n"
     ]
    },
    {
     "name": "stdout",
     "output_type": "stream",
     "text": [
      "*SEARCH* [2022-11-07 10:05:08] [070-200][195/196] Time 0.13 (0.18) Data 0.00 (0.00) Base [Loss 0.497 (0.344)  Prec@1 83.75 (88.16) Prec@5 100.00 (99.67)]\n",
      "[070-200] searching : loss=0.34, accuracy@1=88.16%, accuracy@5=99.67%, time-cost=2406.1 s\n",
      "[070-200] evaluate  : loss=0.85, accuracy@1=73.45%, accuracy@5=98.44%\n",
      "Find op_level-use_pretrain/train/checkpoint/seed-24382-basic.pth exist, delete is at first before saving\n",
      "save checkpoint into op_level-use_pretrain/train/checkpoint/seed-24382-basic.pth\n",
      "Find op_level-use_pretrain/train/seed-24382-last-info.pth exist, delete is at first before saving\n",
      "save checkpoint into op_level-use_pretrain/train/seed-24382-last-info.pth\n",
      "\n",
      "[Search the 071-200-th epoch] Time Left: [01:23:48], LR=0.07199695849279575\n",
      "*SEARCH* [2022-11-07 10:05:12] [071-200][000/196] Time 0.54 (0.54) Data 0.40 (0.40) Base [Loss 0.341 (0.341)  Prec@1 89.06 (89.06) Prec@5 99.22 (99.22)]\n",
      "*SEARCH* [2022-11-07 10:05:47] [071-200][195/196] Time 0.09 (0.18) Data 0.00 (0.00) Base [Loss 0.598 (0.338)  Prec@1 78.75 (88.43) Prec@5 98.75 (99.65)]\n",
      "[071-200] searching : loss=0.34, accuracy@1=88.43%, accuracy@5=99.65%, time-cost=2441.4 s\n",
      "[071-200] evaluate  : loss=0.73, accuracy@1=77.59%, accuracy@5=98.52%\n",
      "Find op_level-use_pretrain/train/checkpoint/seed-24382-basic.pth exist, delete is at first before saving\n",
      "save checkpoint into op_level-use_pretrain/train/checkpoint/seed-24382-basic.pth\n",
      "Find op_level-use_pretrain/train/seed-24382-last-info.pth exist, delete is at first before saving\n",
      "save checkpoint into op_level-use_pretrain/train/seed-24382-last-info.pth\n",
      "\n",
      "[Search the 072-200-th epoch] Time Left: [01:22:45], LR=0.07128896457825364\n",
      "*SEARCH* [2022-11-07 10:05:51] [072-200][000/196] Time 0.53 (0.53) Data 0.40 (0.40) Base [Loss 0.344 (0.344)  Prec@1 87.50 (87.50) Prec@5 99.22 (99.22)]\n",
      "*SEARCH* [2022-11-07 10:06:25] [072-200][195/196] Time 0.09 (0.18) Data 0.00 (0.00) Base [Loss 0.467 (0.334)  Prec@1 85.00 (88.42) Prec@5 100.00 (99.69)]\n",
      "[072-200] searching : loss=0.33, accuracy@1=88.42%, accuracy@5=99.69%, time-cost=2476.4 s\n",
      "[072-200] evaluate  : loss=0.52, accuracy@1=83.17%, accuracy@5=98.73%\n",
      "Find op_level-use_pretrain/train/checkpoint/seed-24382-basic.pth exist, delete is at first before saving\n",
      "save checkpoint into op_level-use_pretrain/train/checkpoint/seed-24382-basic.pth\n",
      "Find op_level-use_pretrain/train/seed-24382-last-info.pth exist, delete is at first before saving\n",
      "save checkpoint into op_level-use_pretrain/train/seed-24382-last-info.pth\n",
      "\n",
      "[Search the 073-200-th epoch] Time Left: [01:22:45], LR=0.07057571793025545\n",
      "*SEARCH* [2022-11-07 10:06:30] [073-200][000/196] Time 0.59 (0.59) Data 0.39 (0.39) Base [Loss 0.385 (0.385)  Prec@1 83.98 (83.98) Prec@5 99.61 (99.61)]\n",
      "*SEARCH* [2022-11-07 10:07:03] [073-200][195/196] Time 0.25 (0.17) Data 0.00 (0.00) Base [Loss 0.257 (0.339)  Prec@1 91.25 (88.32) Prec@5 100.00 (99.67)]\n",
      "[073-200] searching : loss=0.34, accuracy@1=88.32%, accuracy@5=99.67%, time-cost=2510.2 s\n",
      "[073-200] evaluate  : loss=0.51, accuracy@1=82.99%, accuracy@5=99.31%\n",
      "Find op_level-use_pretrain/train/checkpoint/seed-24382-basic.pth exist, delete is at first before saving\n",
      "save checkpoint into op_level-use_pretrain/train/checkpoint/seed-24382-basic.pth\n",
      "Find op_level-use_pretrain/train/seed-24382-last-info.pth exist, delete is at first before saving\n",
      "save checkpoint into op_level-use_pretrain/train/seed-24382-last-info.pth\n",
      "\n",
      "[Search the 074-200-th epoch] Time Left: [01:19:10], LR=0.06985739453173903\n",
      "*SEARCH* [2022-11-07 10:07:08] [074-200][000/196] Time 0.61 (0.61) Data 0.42 (0.42) Base [Loss 0.292 (0.292)  Prec@1 90.62 (90.62) Prec@5 100.00 (100.00)]\n",
      "*SEARCH* [2022-11-07 10:07:42] [074-200][195/196] Time 0.15 (0.17) Data 0.00 (0.00) Base [Loss 0.378 (0.334)  Prec@1 86.25 (88.51) Prec@5 98.75 (99.64)]\n",
      "[074-200] searching : loss=0.33, accuracy@1=88.51%, accuracy@5=99.64%, time-cost=2544.5 s\n",
      "[074-200] evaluate  : loss=0.59, accuracy@1=81.36%, accuracy@5=98.60%\n",
      "Find op_level-use_pretrain/train/checkpoint/seed-24382-basic.pth exist, delete is at first before saving\n",
      "save checkpoint into op_level-use_pretrain/train/checkpoint/seed-24382-basic.pth\n",
      "Find op_level-use_pretrain/train/seed-24382-last-info.pth exist, delete is at first before saving\n",
      "save checkpoint into op_level-use_pretrain/train/seed-24382-last-info.pth\n",
      "\n",
      "[Search the 075-200-th epoch] Time Left: [01:21:35], LR=0.0691341716182545\n",
      "*SEARCH* [2022-11-07 10:07:47] [075-200][000/196] Time 0.54 (0.54) Data 0.35 (0.35) Base [Loss 0.354 (0.354)  Prec@1 87.50 (87.50) Prec@5 100.00 (100.00)]\n",
      "*SEARCH* [2022-11-07 10:08:21] [075-200][195/196] Time 0.12 (0.18) Data 0.00 (0.00) Base [Loss 0.446 (0.329)  Prec@1 86.25 (88.59) Prec@5 100.00 (99.67)]\n",
      "[075-200] searching : loss=0.33, accuracy@1=88.59%, accuracy@5=99.67%, time-cost=2579.1 s\n",
      "[075-200] evaluate  : loss=0.59, accuracy@1=81.13%, accuracy@5=98.71%\n",
      "Find op_level-use_pretrain/train/checkpoint/seed-24382-basic.pth exist, delete is at first before saving\n",
      "save checkpoint into op_level-use_pretrain/train/checkpoint/seed-24382-basic.pth\n",
      "Find op_level-use_pretrain/train/seed-24382-last-info.pth exist, delete is at first before saving\n",
      "save checkpoint into op_level-use_pretrain/train/seed-24382-last-info.pth\n",
      "\n",
      "[Search the 076-200-th epoch] Time Left: [01:20:46], LR=0.06840622763423392\n",
      "*SEARCH* [2022-11-07 10:08:26] [076-200][000/196] Time 0.59 (0.59) Data 0.36 (0.36) Base [Loss 0.300 (0.300)  Prec@1 89.45 (89.45) Prec@5 99.61 (99.61)]\n",
      "*SEARCH* [2022-11-07 10:08:59] [076-200][195/196] Time 0.11 (0.17) Data 0.00 (0.00) Base [Loss 0.269 (0.328)  Prec@1 90.00 (88.73) Prec@5 100.00 (99.64)]\n",
      "[076-200] searching : loss=0.33, accuracy@1=88.73%, accuracy@5=99.64%, time-cost=2613.0 s\n",
      "[076-200] evaluate  : loss=0.50, accuracy@1=83.21%, accuracy@5=99.08%\n",
      "Find op_level-use_pretrain/train/checkpoint/seed-24382-basic.pth exist, delete is at first before saving\n",
      "save checkpoint into op_level-use_pretrain/train/checkpoint/seed-24382-basic.pth\n",
      "Find op_level-use_pretrain/train/seed-24382-last-info.pth exist, delete is at first before saving\n",
      "save checkpoint into op_level-use_pretrain/train/seed-24382-last-info.pth\n",
      "\n",
      "[Search the 077-200-th epoch] Time Left: [01:18:03], LR=0.06767374218896287\n",
      "*SEARCH* [2022-11-07 10:09:04] [077-200][000/196] Time 0.51 (0.51) Data 0.34 (0.34) Base [Loss 0.393 (0.393)  Prec@1 85.94 (85.94) Prec@5 99.22 (99.22)]\n",
      "*SEARCH* [2022-11-07 10:09:37] [077-200][195/196] Time 0.14 (0.17) Data 0.00 (0.00) Base [Loss 0.339 (0.329)  Prec@1 87.50 (88.62) Prec@5 100.00 (99.66)]\n",
      "[077-200] searching : loss=0.33, accuracy@1=88.62%, accuracy@5=99.66%, time-cost=2646.0 s\n",
      "[077-200] evaluate  : loss=0.64, accuracy@1=79.63%, accuracy@5=98.81%\n",
      "Find op_level-use_pretrain/train/checkpoint/seed-24382-basic.pth exist, delete is at first before saving\n",
      "save checkpoint into op_level-use_pretrain/train/checkpoint/seed-24382-basic.pth\n",
      "Find op_level-use_pretrain/train/seed-24382-last-info.pth exist, delete is at first before saving\n",
      "save checkpoint into op_level-use_pretrain/train/seed-24382-last-info.pth\n",
      "\n",
      "[Search the 078-200-th epoch] Time Left: [01:15:22], LR=0.06693689601226459\n",
      "*SEARCH* [2022-11-07 10:09:41] [078-200][000/196] Time 0.51 (0.51) Data 0.34 (0.34) Base [Loss 0.363 (0.363)  Prec@1 88.28 (88.28) Prec@5 100.00 (100.00)]\n",
      "*SEARCH* [2022-11-07 10:10:15] [078-200][195/196] Time 0.14 (0.17) Data 0.00 (0.00) Base [Loss 0.536 (0.325)  Prec@1 82.50 (88.68) Prec@5 98.75 (99.65)]\n",
      "[078-200] searching : loss=0.32, accuracy@1=88.68%, accuracy@5=99.65%, time-cost=2680.1 s\n",
      "[078-200] evaluate  : loss=0.62, accuracy@1=79.38%, accuracy@5=98.92%\n",
      "Find op_level-use_pretrain/train/checkpoint/seed-24382-basic.pth exist, delete is at first before saving\n",
      "save checkpoint into op_level-use_pretrain/train/checkpoint/seed-24382-basic.pth\n",
      "Find op_level-use_pretrain/train/seed-24382-last-info.pth exist, delete is at first before saving\n",
      "save checkpoint into op_level-use_pretrain/train/seed-24382-last-info.pth\n",
      "\n",
      "[Search the 079-200-th epoch] Time Left: [01:17:29], LR=0.06619587090990747\n",
      "*SEARCH* [2022-11-07 10:10:20] [079-200][000/196] Time 0.56 (0.56) Data 0.36 (0.36) Base [Loss 0.271 (0.271)  Prec@1 91.41 (91.41) Prec@5 100.00 (100.00)]\n",
      "*SEARCH* [2022-11-07 10:10:52] [079-200][195/196] Time 0.14 (0.17) Data 0.00 (0.00) Base [Loss 0.524 (0.325)  Prec@1 88.75 (88.77) Prec@5 100.00 (99.68)]\n",
      "[079-200] searching : loss=0.32, accuracy@1=88.77%, accuracy@5=99.68%, time-cost=2713.1 s\n"
     ]
    },
    {
     "name": "stdout",
     "output_type": "stream",
     "text": [
      "[079-200] evaluate  : loss=0.73, accuracy@1=78.18%, accuracy@5=98.06%\n",
      "Find op_level-use_pretrain/train/checkpoint/seed-24382-basic.pth exist, delete is at first before saving\n",
      "save checkpoint into op_level-use_pretrain/train/checkpoint/seed-24382-basic.pth\n",
      "Find op_level-use_pretrain/train/seed-24382-last-info.pth exist, delete is at first before saving\n",
      "save checkpoint into op_level-use_pretrain/train/seed-24382-last-info.pth\n",
      "\n",
      "[Search the 080-200-th epoch] Time Left: [01:15:46], LR=0.06545084971874737\n",
      "*SEARCH* [2022-11-07 10:10:58] [080-200][000/196] Time 0.58 (0.58) Data 0.38 (0.38) Base [Loss 0.317 (0.317)  Prec@1 90.23 (90.23) Prec@5 99.61 (99.61)]\n",
      "*SEARCH* [2022-11-07 10:11:32] [080-200][195/196] Time 0.19 (0.18) Data 0.00 (0.00) Base [Loss 0.381 (0.317)  Prec@1 91.25 (89.08) Prec@5 97.50 (99.66)]\n",
      "[080-200] searching : loss=0.32, accuracy@1=89.08%, accuracy@5=99.66%, time-cost=2748.2 s\n",
      "[080-200] evaluate  : loss=0.63, accuracy@1=79.45%, accuracy@5=99.06%\n",
      "Find op_level-use_pretrain/train/checkpoint/seed-24382-basic.pth exist, delete is at first before saving\n",
      "save checkpoint into op_level-use_pretrain/train/checkpoint/seed-24382-basic.pth\n",
      "Find op_level-use_pretrain/train/seed-24382-last-info.pth exist, delete is at first before saving\n",
      "save checkpoint into op_level-use_pretrain/train/seed-24382-last-info.pth\n",
      "\n",
      "[Search the 081-200-th epoch] Time Left: [01:18:48], LR=0.0647020162616152\n",
      "*SEARCH* [2022-11-07 10:11:37] [081-200][000/196] Time 0.55 (0.55) Data 0.36 (0.36) Base [Loss 0.305 (0.305)  Prec@1 89.06 (89.06) Prec@5 100.00 (100.00)]\n",
      "*SEARCH* [2022-11-07 10:12:12] [081-200][195/196] Time 0.18 (0.18) Data 0.00 (0.00) Base [Loss 0.462 (0.320)  Prec@1 83.75 (88.83) Prec@5 98.75 (99.69)]\n",
      "[081-200] searching : loss=0.32, accuracy@1=88.83%, accuracy@5=99.69%, time-cost=2783.5 s\n",
      "[081-200] evaluate  : loss=0.70, accuracy@1=78.73%, accuracy@5=98.60%\n",
      "Find op_level-use_pretrain/train/checkpoint/seed-24382-basic.pth exist, delete is at first before saving\n",
      "save checkpoint into op_level-use_pretrain/train/checkpoint/seed-24382-basic.pth\n",
      "Find op_level-use_pretrain/train/seed-24382-last-info.pth exist, delete is at first before saving\n",
      "save checkpoint into op_level-use_pretrain/train/seed-24382-last-info.pth\n",
      "\n",
      "[Search the 082-200-th epoch] Time Left: [01:16:43], LR=0.06394955530196147\n",
      "*SEARCH* [2022-11-07 10:12:16] [082-200][000/196] Time 0.59 (0.59) Data 0.35 (0.35) Base [Loss 0.262 (0.262)  Prec@1 92.19 (92.19) Prec@5 100.00 (100.00)]\n",
      "*SEARCH* [2022-11-07 10:12:52] [082-200][195/196] Time 0.12 (0.18) Data 0.00 (0.00) Base [Loss 0.291 (0.315)  Prec@1 88.75 (89.14) Prec@5 100.00 (99.72)]\n",
      "[082-200] searching : loss=0.31, accuracy@1=89.14%, accuracy@5=99.72%, time-cost=2819.5 s\n",
      "[082-200] evaluate  : loss=0.66, accuracy@1=79.65%, accuracy@5=98.80%\n",
      "Find op_level-use_pretrain/train/checkpoint/seed-24382-basic.pth exist, delete is at first before saving\n",
      "save checkpoint into op_level-use_pretrain/train/checkpoint/seed-24382-basic.pth\n",
      "Find op_level-use_pretrain/train/seed-24382-last-info.pth exist, delete is at first before saving\n",
      "save checkpoint into op_level-use_pretrain/train/seed-24382-last-info.pth\n",
      "\n",
      "[Search the 083-200-th epoch] Time Left: [01:18:18], LR=0.06319365249826864\n",
      "*SEARCH* [2022-11-07 10:12:56] [083-200][000/196] Time 0.48 (0.48) Data 0.34 (0.34) Base [Loss 0.283 (0.283)  Prec@1 89.84 (89.84) Prec@5 99.61 (99.61)]\n",
      "*SEARCH* [2022-11-07 10:13:31] [083-200][195/196] Time 0.14 (0.18) Data 0.00 (0.00) Base [Loss 0.408 (0.311)  Prec@1 83.75 (89.21) Prec@5 98.75 (99.69)]\n",
      "[083-200] searching : loss=0.31, accuracy@1=89.21%, accuracy@5=99.69%, time-cost=2854.9 s\n",
      "[083-200] evaluate  : loss=0.84, accuracy@1=75.47%, accuracy@5=98.68%\n",
      "Find op_level-use_pretrain/train/checkpoint/seed-24382-basic.pth exist, delete is at first before saving\n",
      "save checkpoint into op_level-use_pretrain/train/checkpoint/seed-24382-basic.pth\n",
      "Find op_level-use_pretrain/train/seed-24382-last-info.pth exist, delete is at first before saving\n",
      "save checkpoint into op_level-use_pretrain/train/seed-24382-last-info.pth\n",
      "\n",
      "[Search the 084-200-th epoch] Time Left: [01:15:53], LR=0.062434494358242734\n",
      "*SEARCH* [2022-11-07 10:13:36] [084-200][000/196] Time 0.57 (0.57) Data 0.39 (0.39) Base [Loss 0.265 (0.265)  Prec@1 91.80 (91.80) Prec@5 99.61 (99.61)]\n",
      "*SEARCH* [2022-11-07 10:14:10] [084-200][195/196] Time 0.14 (0.18) Data 0.00 (0.00) Base [Loss 0.444 (0.316)  Prec@1 82.50 (89.23) Prec@5 98.75 (99.68)]\n",
      "[084-200] searching : loss=0.32, accuracy@1=89.23%, accuracy@5=99.68%, time-cost=2890.2 s\n",
      "[084-200] evaluate  : loss=0.57, accuracy@1=81.90%, accuracy@5=99.05%\n",
      "Find op_level-use_pretrain/train/checkpoint/seed-24382-basic.pth exist, delete is at first before saving\n",
      "save checkpoint into op_level-use_pretrain/train/checkpoint/seed-24382-basic.pth\n",
      "Find op_level-use_pretrain/train/seed-24382-last-info.pth exist, delete is at first before saving\n",
      "save checkpoint into op_level-use_pretrain/train/seed-24382-last-info.pth\n",
      "\n",
      "[Search the 085-200-th epoch] Time Left: [01:17:02], LR=0.06167226819279528\n",
      "*SEARCH* [2022-11-07 10:14:16] [085-200][000/196] Time 0.66 (0.66) Data 0.43 (0.43) Base [Loss 0.329 (0.329)  Prec@1 87.50 (87.50) Prec@5 100.00 (100.00)]\n",
      "*SEARCH* [2022-11-07 10:14:50] [085-200][195/196] Time 0.12 (0.18) Data 0.00 (0.00) Base [Loss 0.383 (0.313)  Prec@1 86.25 (89.19) Prec@5 100.00 (99.71)]\n",
      "[085-200] searching : loss=0.31, accuracy@1=89.19%, accuracy@5=99.71%, time-cost=2925.3 s\n",
      "[085-200] evaluate  : loss=0.44, accuracy@1=85.47%, accuracy@5=99.24%\n",
      "Find op_level-use_pretrain/train/checkpoint/seed-24382-basic.pth exist, delete is at first before saving\n",
      "save checkpoint into op_level-use_pretrain/train/checkpoint/seed-24382-basic.pth\n",
      "Find op_level-use_pretrain/train/seed-24382-last-info.pth exist, delete is at first before saving\n",
      "save checkpoint into op_level-use_pretrain/train/seed-24382-last-info.pth\n",
      "<<<--->>> The 085-200-th epoch : find the highest validation accuracy : 85.47%.\n",
      "Find op_level-use_pretrain/train/checkpoint/seed-24382-best.pth exist, delete is at first before saving\n",
      "copy the file from op_level-use_pretrain/train/checkpoint/seed-24382-basic.pth into op_level-use_pretrain/train/checkpoint/seed-24382-best.pth\n",
      "\n",
      "[Search the 086-200-th epoch] Time Left: [01:13:43], LR=0.06090716206982714\n",
      "*SEARCH* [2022-11-07 10:14:55] [086-200][000/196] Time 0.55 (0.55) Data 0.35 (0.35) Base [Loss 0.388 (0.388)  Prec@1 89.06 (89.06) Prec@5 99.22 (99.22)]\n",
      "*SEARCH* [2022-11-07 10:15:29] [086-200][195/196] Time 0.16 (0.18) Data 0.00 (0.00) Base [Loss 0.360 (0.305)  Prec@1 90.00 (89.56) Prec@5 97.50 (99.71)]\n",
      "[086-200] searching : loss=0.31, accuracy@1=89.56%, accuracy@5=99.71%, time-cost=2959.9 s\n",
      "[086-200] evaluate  : loss=0.57, accuracy@1=81.71%, accuracy@5=99.06%\n",
      "Find op_level-use_pretrain/train/checkpoint/seed-24382-basic.pth exist, delete is at first before saving\n",
      "save checkpoint into op_level-use_pretrain/train/checkpoint/seed-24382-basic.pth\n",
      "Find op_level-use_pretrain/train/seed-24382-last-info.pth exist, delete is at first before saving\n",
      "save checkpoint into op_level-use_pretrain/train/seed-24382-last-info.pth\n",
      "\n",
      "[Search the 087-200-th epoch] Time Left: [01:12:02], LR=0.06013936476782564\n",
      "*SEARCH* [2022-11-07 10:15:33] [087-200][000/196] Time 0.53 (0.53) Data 0.35 (0.35) Base [Loss 0.276 (0.276)  Prec@1 90.23 (90.23) Prec@5 99.61 (99.61)]\n",
      "*SEARCH* [2022-11-07 10:16:07] [087-200][195/196] Time 0.12 (0.17) Data 0.00 (0.00) Base [Loss 0.332 (0.301)  Prec@1 92.50 (89.66) Prec@5 100.00 (99.73)]\n",
      "[087-200] searching : loss=0.30, accuracy@1=89.66%, accuracy@5=99.73%, time-cost=2994.2 s\n",
      "[087-200] evaluate  : loss=0.46, accuracy@1=84.89%, accuracy@5=99.25%\n",
      "Find op_level-use_pretrain/train/checkpoint/seed-24382-basic.pth exist, delete is at first before saving\n",
      "save checkpoint into op_level-use_pretrain/train/checkpoint/seed-24382-basic.pth\n",
      "Find op_level-use_pretrain/train/seed-24382-last-info.pth exist, delete is at first before saving\n",
      "save checkpoint into op_level-use_pretrain/train/seed-24382-last-info.pth\n",
      "\n",
      "[Search the 088-200-th epoch] Time Left: [01:12:09], LR=0.05936906572928624\n",
      "*SEARCH* [2022-11-07 10:16:12] [088-200][000/196] Time 0.54 (0.54) Data 0.34 (0.34) Base [Loss 0.285 (0.285)  Prec@1 88.28 (88.28) Prec@5 100.00 (100.00)]\n"
     ]
    },
    {
     "name": "stdout",
     "output_type": "stream",
     "text": [
      "*SEARCH* [2022-11-07 10:16:46] [088-200][195/196] Time 0.15 (0.18) Data 0.00 (0.00) Base [Loss 0.395 (0.301)  Prec@1 91.25 (89.66) Prec@5 98.75 (99.74)]\n",
      "[088-200] searching : loss=0.30, accuracy@1=89.66%, accuracy@5=99.74%, time-cost=3028.9 s\n",
      "[088-200] evaluate  : loss=0.51, accuracy@1=83.31%, accuracy@5=99.23%\n",
      "Find op_level-use_pretrain/train/checkpoint/seed-24382-basic.pth exist, delete is at first before saving\n",
      "save checkpoint into op_level-use_pretrain/train/checkpoint/seed-24382-basic.pth\n",
      "Find op_level-use_pretrain/train/seed-24382-last-info.pth exist, delete is at first before saving\n",
      "save checkpoint into op_level-use_pretrain/train/seed-24382-last-info.pth\n",
      "\n",
      "[Search the 089-200-th epoch] Time Left: [01:12:40], LR=0.058596455013970476\n",
      "*SEARCH* [2022-11-07 10:16:51] [089-200][000/196] Time 0.51 (0.51) Data 0.33 (0.33) Base [Loss 0.267 (0.267)  Prec@1 91.41 (91.41) Prec@5 99.61 (99.61)]\n",
      "*SEARCH* [2022-11-07 10:17:25] [089-200][195/196] Time 0.12 (0.17) Data 0.00 (0.00) Base [Loss 0.255 (0.307)  Prec@1 92.50 (89.55) Prec@5 100.00 (99.70)]\n",
      "[089-200] searching : loss=0.31, accuracy@1=89.55%, accuracy@5=99.70%, time-cost=3063.2 s\n",
      "[089-200] evaluate  : loss=0.58, accuracy@1=81.68%, accuracy@5=99.19%\n",
      "Find op_level-use_pretrain/train/checkpoint/seed-24382-basic.pth exist, delete is at first before saving\n",
      "save checkpoint into op_level-use_pretrain/train/checkpoint/seed-24382-basic.pth\n",
      "Find op_level-use_pretrain/train/seed-24382-last-info.pth exist, delete is at first before saving\n",
      "save checkpoint into op_level-use_pretrain/train/seed-24382-last-info.pth\n",
      "\n",
      "[Search the 090-200-th epoch] Time Left: [01:09:26], LR=0.05782172325201155\n",
      "*SEARCH* [2022-11-07 10:17:29] [090-200][000/196] Time 0.56 (0.56) Data 0.38 (0.38) Base [Loss 0.223 (0.223)  Prec@1 91.80 (91.80) Prec@5 100.00 (100.00)]\n",
      "*SEARCH* [2022-11-07 10:18:03] [090-200][195/196] Time 0.16 (0.18) Data 0.00 (0.00) Base [Loss 0.215 (0.297)  Prec@1 92.50 (89.73) Prec@5 100.00 (99.70)]\n",
      "[090-200] searching : loss=0.30, accuracy@1=89.73%, accuracy@5=99.70%, time-cost=3097.7 s\n",
      "[090-200] evaluate  : loss=0.52, accuracy@1=83.38%, accuracy@5=99.33%\n",
      "Find op_level-use_pretrain/train/checkpoint/seed-24382-basic.pth exist, delete is at first before saving\n",
      "save checkpoint into op_level-use_pretrain/train/checkpoint/seed-24382-basic.pth\n",
      "Find op_level-use_pretrain/train/seed-24382-last-info.pth exist, delete is at first before saving\n",
      "save checkpoint into op_level-use_pretrain/train/seed-24382-last-info.pth\n",
      "\n",
      "[Search the 091-200-th epoch] Time Left: [01:09:56], LR=0.057045061596879144\n",
      "*SEARCH* [2022-11-07 10:18:07] [091-200][000/196] Time 0.71 (0.71) Data 0.44 (0.44) Base [Loss 0.246 (0.246)  Prec@1 92.97 (92.97) Prec@5 99.22 (99.22)]\n",
      "*SEARCH* [2022-11-07 10:18:42] [091-200][195/196] Time 0.14 (0.18) Data 0.00 (0.00) Base [Loss 0.427 (0.297)  Prec@1 85.00 (89.78) Prec@5 100.00 (99.72)]\n",
      "[091-200] searching : loss=0.30, accuracy@1=89.78%, accuracy@5=99.72%, time-cost=3133.0 s\n",
      "[091-200] evaluate  : loss=0.75, accuracy@1=77.97%, accuracy@5=98.40%\n",
      "Find op_level-use_pretrain/train/checkpoint/seed-24382-basic.pth exist, delete is at first before saving\n",
      "save checkpoint into op_level-use_pretrain/train/checkpoint/seed-24382-basic.pth\n",
      "Find op_level-use_pretrain/train/seed-24382-last-info.pth exist, delete is at first before saving\n",
      "save checkpoint into op_level-use_pretrain/train/seed-24382-last-info.pth\n",
      "\n",
      "[Search the 092-200-th epoch] Time Left: [01:10:26], LR=0.05626666167821523\n",
      "*SEARCH* [2022-11-07 10:18:46] [092-200][000/196] Time 0.49 (0.49) Data 0.36 (0.36) Base [Loss 0.261 (0.261)  Prec@1 89.45 (89.45) Prec@5 100.00 (100.00)]\n",
      "*SEARCH* [2022-11-07 10:19:19] [092-200][195/196] Time 0.14 (0.17) Data 0.00 (0.00) Base [Loss 0.368 (0.293)  Prec@1 87.50 (89.85) Prec@5 98.75 (99.74)]\n",
      "[092-200] searching : loss=0.29, accuracy@1=89.85%, accuracy@5=99.74%, time-cost=3166.4 s\n",
      "[092-200] evaluate  : loss=0.59, accuracy@1=81.52%, accuracy@5=98.98%\n",
      "Find op_level-use_pretrain/train/checkpoint/seed-24382-basic.pth exist, delete is at first before saving\n",
      "save checkpoint into op_level-use_pretrain/train/checkpoint/seed-24382-basic.pth\n",
      "Find op_level-use_pretrain/train/seed-24382-last-info.pth exist, delete is at first before saving\n",
      "save checkpoint into op_level-use_pretrain/train/seed-24382-last-info.pth\n",
      "\n",
      "[Search the 093-200-th epoch] Time Left: [01:06:41], LR=0.05548671555455227\n",
      "*SEARCH* [2022-11-07 10:19:24] [093-200][000/196] Time 0.52 (0.52) Data 0.37 (0.37) Base [Loss 0.280 (0.280)  Prec@1 91.41 (91.41) Prec@5 100.00 (100.00)]\n",
      "*SEARCH* [2022-11-07 10:19:56] [093-200][195/196] Time 0.10 (0.16) Data 0.00 (0.00) Base [Loss 0.480 (0.290)  Prec@1 87.50 (90.01) Prec@5 100.00 (99.77)]\n",
      "[093-200] searching : loss=0.29, accuracy@1=90.01%, accuracy@5=99.77%, time-cost=3198.8 s\n",
      "[093-200] evaluate  : loss=0.84, accuracy@1=75.53%, accuracy@5=97.78%\n",
      "Find op_level-use_pretrain/train/checkpoint/seed-24382-basic.pth exist, delete is at first before saving\n",
      "save checkpoint into op_level-use_pretrain/train/checkpoint/seed-24382-basic.pth\n",
      "Find op_level-use_pretrain/train/seed-24382-last-info.pth exist, delete is at first before saving\n",
      "save checkpoint into op_level-use_pretrain/train/seed-24382-last-info.pth\n",
      "\n",
      "[Search the 094-200-th epoch] Time Left: [01:04:48], LR=0.05470541566592572\n",
      "*SEARCH* [2022-11-07 10:20:01] [094-200][000/196] Time 0.61 (0.61) Data 0.42 (0.42) Base [Loss 0.437 (0.437)  Prec@1 88.67 (88.67) Prec@5 98.83 (98.83)]\n",
      "*SEARCH* [2022-11-07 10:20:35] [094-200][195/196] Time 0.14 (0.18) Data 0.00 (0.00) Base [Loss 0.329 (0.298)  Prec@1 86.25 (89.63) Prec@5 98.75 (99.71)]\n",
      "[094-200] searching : loss=0.30, accuracy@1=89.63%, accuracy@5=99.71%, time-cost=3233.4 s\n",
      "[094-200] evaluate  : loss=0.43, accuracy@1=85.44%, accuracy@5=99.53%\n",
      "Find op_level-use_pretrain/train/checkpoint/seed-24382-basic.pth exist, delete is at first before saving\n",
      "save checkpoint into op_level-use_pretrain/train/checkpoint/seed-24382-basic.pth\n",
      "Find op_level-use_pretrain/train/seed-24382-last-info.pth exist, delete is at first before saving\n",
      "save checkpoint into op_level-use_pretrain/train/seed-24382-last-info.pth\n",
      "\n",
      "[Search the 095-200-th epoch] Time Left: [01:07:03], LR=0.05392295478639225\n",
      "*SEARCH* [2022-11-07 10:20:39] [095-200][000/196] Time 0.61 (0.61) Data 0.40 (0.40) Base [Loss 0.227 (0.227)  Prec@1 91.80 (91.80) Prec@5 99.61 (99.61)]\n",
      "*SEARCH* [2022-11-07 10:21:14] [095-200][195/196] Time 0.11 (0.18) Data 0.00 (0.00) Base [Loss 0.252 (0.283)  Prec@1 92.50 (90.21) Prec@5 100.00 (99.74)]\n",
      "[095-200] searching : loss=0.28, accuracy@1=90.21%, accuracy@5=99.74%, time-cost=3269.3 s\n",
      "[095-200] evaluate  : loss=0.52, accuracy@1=83.01%, accuracy@5=99.38%\n",
      "Find op_level-use_pretrain/train/checkpoint/seed-24382-basic.pth exist, delete is at first before saving\n",
      "save checkpoint into op_level-use_pretrain/train/checkpoint/seed-24382-basic.pth\n",
      "Find op_level-use_pretrain/train/seed-24382-last-info.pth exist, delete is at first before saving\n",
      "save checkpoint into op_level-use_pretrain/train/seed-24382-last-info.pth\n",
      "\n",
      "[Search the 096-200-th epoch] Time Left: [01:10:15], LR=0.05313952597646568\n",
      "*SEARCH* [2022-11-07 10:21:19] [096-200][000/196] Time 0.54 (0.54) Data 0.35 (0.35) Base [Loss 0.273 (0.273)  Prec@1 90.23 (90.23) Prec@5 100.00 (100.00)]\n",
      "*SEARCH* [2022-11-07 10:21:53] [096-200][195/196] Time 0.12 (0.17) Data 0.00 (0.00) Base [Loss 0.357 (0.285)  Prec@1 87.50 (90.17) Prec@5 100.00 (99.74)]\n",
      "[096-200] searching : loss=0.29, accuracy@1=90.17%, accuracy@5=99.74%, time-cost=3303.4 s\n",
      "[096-200] evaluate  : loss=0.59, accuracy@1=80.82%, accuracy@5=99.19%\n",
      "Find op_level-use_pretrain/train/checkpoint/seed-24382-basic.pth exist, delete is at first before saving\n",
      "save checkpoint into op_level-use_pretrain/train/checkpoint/seed-24382-basic.pth\n",
      "Find op_level-use_pretrain/train/seed-24382-last-info.pth exist, delete is at first before saving\n",
      "save checkpoint into op_level-use_pretrain/train/seed-24382-last-info.pth\n",
      "\n",
      "[Search the 097-200-th epoch] Time Left: [01:06:04], LR=0.052355322535482134\n",
      "*SEARCH* [2022-11-07 10:21:58] [097-200][000/196] Time 0.46 (0.46) Data 0.34 (0.34) Base [Loss 0.254 (0.254)  Prec@1 91.02 (91.02) Prec@5 100.00 (100.00)]\n",
      "*SEARCH* [2022-11-07 10:22:30] [097-200][195/196] Time 0.16 (0.17) Data 0.00 (0.00) Base [Loss 0.176 (0.283)  Prec@1 93.75 (90.23) Prec@5 100.00 (99.76)]\n",
      "[097-200] searching : loss=0.28, accuracy@1=90.23%, accuracy@5=99.76%, time-cost=3336.3 s\n"
     ]
    },
    {
     "name": "stdout",
     "output_type": "stream",
     "text": [
      "[097-200] evaluate  : loss=0.53, accuracy@1=82.90%, accuracy@5=99.13%\n",
      "Find op_level-use_pretrain/train/checkpoint/seed-24382-basic.pth exist, delete is at first before saving\n",
      "save checkpoint into op_level-use_pretrain/train/checkpoint/seed-24382-basic.pth\n",
      "Find op_level-use_pretrain/train/seed-24382-last-info.pth exist, delete is at first before saving\n",
      "save checkpoint into op_level-use_pretrain/train/seed-24382-last-info.pth\n",
      "\n",
      "[Search the 098-200-th epoch] Time Left: [01:03:34], LR=0.05157053795390642\n",
      "*SEARCH* [2022-11-07 10:22:35] [098-200][000/196] Time 0.55 (0.55) Data 0.37 (0.37) Base [Loss 0.287 (0.287)  Prec@1 89.06 (89.06) Prec@5 100.00 (100.00)]\n",
      "*SEARCH* [2022-11-07 10:23:07] [098-200][195/196] Time 0.13 (0.17) Data 0.00 (0.00) Base [Loss 0.373 (0.276)  Prec@1 87.50 (90.53) Prec@5 98.75 (99.74)]\n",
      "[098-200] searching : loss=0.28, accuracy@1=90.53%, accuracy@5=99.74%, time-cost=3368.7 s\n",
      "[098-200] evaluate  : loss=0.60, accuracy@1=81.64%, accuracy@5=98.82%\n",
      "Find op_level-use_pretrain/train/checkpoint/seed-24382-basic.pth exist, delete is at first before saving\n",
      "save checkpoint into op_level-use_pretrain/train/checkpoint/seed-24382-basic.pth\n",
      "Find op_level-use_pretrain/train/seed-24382-last-info.pth exist, delete is at first before saving\n",
      "save checkpoint into op_level-use_pretrain/train/seed-24382-last-info.pth\n",
      "\n",
      "[Search the 099-200-th epoch] Time Left: [01:01:07], LR=0.05078536586559104\n",
      "*SEARCH* [2022-11-07 10:23:12] [099-200][000/196] Time 0.53 (0.53) Data 0.34 (0.34) Base [Loss 0.317 (0.317)  Prec@1 88.67 (88.67) Prec@5 100.00 (100.00)]\n",
      "*SEARCH* [2022-11-07 10:23:43] [099-200][195/196] Time 0.19 (0.16) Data 0.00 (0.00) Base [Loss 0.476 (0.278)  Prec@1 82.50 (90.49) Prec@5 98.75 (99.74)]\n",
      "[099-200] searching : loss=0.28, accuracy@1=90.49%, accuracy@5=99.74%, time-cost=3400.4 s\n",
      "[099-200] evaluate  : loss=0.64, accuracy@1=79.49%, accuracy@5=97.92%\n",
      "Find op_level-use_pretrain/train/checkpoint/seed-24382-basic.pth exist, delete is at first before saving\n",
      "save checkpoint into op_level-use_pretrain/train/checkpoint/seed-24382-basic.pth\n",
      "Find op_level-use_pretrain/train/seed-24382-last-info.pth exist, delete is at first before saving\n",
      "save checkpoint into op_level-use_pretrain/train/seed-24382-last-info.pth\n",
      "\n",
      "[Search the 100-200-th epoch] Time Left: [01:00:21], LR=0.05\n",
      "*SEARCH* [2022-11-07 10:23:48] [100-200][000/196] Time 0.66 (0.66) Data 0.43 (0.43) Base [Loss 0.284 (0.284)  Prec@1 90.62 (90.62) Prec@5 100.00 (100.00)]\n",
      "*SEARCH* [2022-11-07 10:24:17] [100-200][195/196] Time 0.10 (0.15) Data 0.00 (0.00) Base [Loss 0.306 (0.275)  Prec@1 87.50 (90.43) Prec@5 100.00 (99.77)]\n",
      "[100-200] searching : loss=0.27, accuracy@1=90.43%, accuracy@5=99.77%, time-cost=3430.0 s\n",
      "[100-200] evaluate  : loss=0.69, accuracy@1=78.98%, accuracy@5=98.62%\n",
      "Find op_level-use_pretrain/train/checkpoint/seed-24382-basic.pth exist, delete is at first before saving\n",
      "save checkpoint into op_level-use_pretrain/train/checkpoint/seed-24382-basic.pth\n",
      "Find op_level-use_pretrain/train/seed-24382-last-info.pth exist, delete is at first before saving\n",
      "save checkpoint into op_level-use_pretrain/train/seed-24382-last-info.pth\n",
      "\n",
      "[Search the 101-200-th epoch] Time Left: [00:56:32], LR=0.04921463413440898\n",
      "*SEARCH* [2022-11-07 10:24:22] [101-200][000/196] Time 0.50 (0.50) Data 0.37 (0.37) Base [Loss 0.326 (0.326)  Prec@1 88.67 (88.67) Prec@5 99.61 (99.61)]\n",
      "*SEARCH* [2022-11-07 10:24:51] [101-200][195/196] Time 0.08 (0.15) Data 0.00 (0.00) Base [Loss 0.233 (0.272)  Prec@1 92.50 (90.59) Prec@5 100.00 (99.77)]\n",
      "[101-200] searching : loss=0.27, accuracy@1=90.59%, accuracy@5=99.77%, time-cost=3459.9 s\n",
      "[101-200] evaluate  : loss=0.80, accuracy@1=76.43%, accuracy@5=98.81%\n",
      "Find op_level-use_pretrain/train/checkpoint/seed-24382-basic.pth exist, delete is at first before saving\n",
      "save checkpoint into op_level-use_pretrain/train/checkpoint/seed-24382-basic.pth\n",
      "Find op_level-use_pretrain/train/seed-24382-last-info.pth exist, delete is at first before saving\n",
      "save checkpoint into op_level-use_pretrain/train/seed-24382-last-info.pth\n",
      "\n",
      "[Search the 102-200-th epoch] Time Left: [00:54:18], LR=0.04842946204609359\n",
      "*SEARCH* [2022-11-07 10:24:55] [102-200][000/196] Time 0.57 (0.57) Data 0.39 (0.39) Base [Loss 0.231 (0.231)  Prec@1 91.41 (91.41) Prec@5 100.00 (100.00)]\n",
      "*SEARCH* [2022-11-07 10:25:22] [102-200][195/196] Time 0.10 (0.14) Data 0.00 (0.00) Base [Loss 0.125 (0.267)  Prec@1 96.25 (90.60) Prec@5 100.00 (99.77)]\n",
      "[102-200] searching : loss=0.27, accuracy@1=90.60%, accuracy@5=99.77%, time-cost=3487.4 s\n",
      "[102-200] evaluate  : loss=0.68, accuracy@1=80.12%, accuracy@5=98.91%\n",
      "Find op_level-use_pretrain/train/checkpoint/seed-24382-basic.pth exist, delete is at first before saving\n",
      "save checkpoint into op_level-use_pretrain/train/checkpoint/seed-24382-basic.pth\n",
      "Find op_level-use_pretrain/train/seed-24382-last-info.pth exist, delete is at first before saving\n",
      "save checkpoint into op_level-use_pretrain/train/seed-24382-last-info.pth\n",
      "\n",
      "[Search the 103-200-th epoch] Time Left: [00:49:32], LR=0.04764467746451787\n",
      "*SEARCH* [2022-11-07 10:25:26] [103-200][000/196] Time 0.73 (0.73) Data 0.39 (0.39) Base [Loss 0.298 (0.298)  Prec@1 89.06 (89.06) Prec@5 100.00 (100.00)]\n",
      "*SEARCH* [2022-11-07 10:25:52] [103-200][195/196] Time 0.10 (0.13) Data 0.00 (0.00) Base [Loss 0.295 (0.271)  Prec@1 88.75 (90.72) Prec@5 100.00 (99.76)]\n",
      "[103-200] searching : loss=0.27, accuracy@1=90.72%, accuracy@5=99.76%, time-cost=3513.8 s\n",
      "[103-200] evaluate  : loss=0.46, accuracy@1=84.30%, accuracy@5=99.35%\n",
      "Find op_level-use_pretrain/train/checkpoint/seed-24382-basic.pth exist, delete is at first before saving\n",
      "save checkpoint into op_level-use_pretrain/train/checkpoint/seed-24382-basic.pth\n",
      "Find op_level-use_pretrain/train/seed-24382-last-info.pth exist, delete is at first before saving\n",
      "save checkpoint into op_level-use_pretrain/train/seed-24382-last-info.pth\n",
      "\n",
      "[Search the 104-200-th epoch] Time Left: [00:48:45], LR=0.04686047402353433\n",
      "*SEARCH* [2022-11-07 10:25:56] [104-200][000/196] Time 0.58 (0.58) Data 0.38 (0.38) Base [Loss 0.272 (0.272)  Prec@1 89.84 (89.84) Prec@5 100.00 (100.00)]\n",
      "*SEARCH* [2022-11-07 10:26:23] [104-200][195/196] Time 0.10 (0.14) Data 0.00 (0.00) Base [Loss 0.314 (0.261)  Prec@1 90.00 (90.98) Prec@5 100.00 (99.78)]\n",
      "[104-200] searching : loss=0.26, accuracy@1=90.98%, accuracy@5=99.78%, time-cost=3541.4 s\n",
      "[104-200] evaluate  : loss=0.79, accuracy@1=76.95%, accuracy@5=98.34%\n",
      "Find op_level-use_pretrain/train/checkpoint/seed-24382-basic.pth exist, delete is at first before saving\n",
      "save checkpoint into op_level-use_pretrain/train/checkpoint/seed-24382-basic.pth\n",
      "Find op_level-use_pretrain/train/seed-24382-last-info.pth exist, delete is at first before saving\n",
      "save checkpoint into op_level-use_pretrain/train/seed-24382-last-info.pth\n",
      "\n",
      "[Search the 105-200-th epoch] Time Left: [00:49:53], LR=0.04607704521360776\n",
      "*SEARCH* [2022-11-07 10:26:28] [105-200][000/196] Time 0.62 (0.62) Data 0.44 (0.44) Base [Loss 0.280 (0.280)  Prec@1 92.19 (92.19) Prec@5 99.61 (99.61)]\n",
      "*SEARCH* [2022-11-07 10:27:00] [105-200][195/196] Time 0.15 (0.17) Data 0.00 (0.00) Base [Loss 0.217 (0.265)  Prec@1 92.50 (90.60) Prec@5 98.75 (99.80)]\n",
      "[105-200] searching : loss=0.26, accuracy@1=90.60%, accuracy@5=99.80%, time-cost=3573.8 s\n",
      "[105-200] evaluate  : loss=0.48, accuracy@1=84.69%, accuracy@5=99.49%\n",
      "Find op_level-use_pretrain/train/checkpoint/seed-24382-basic.pth exist, delete is at first before saving\n",
      "save checkpoint into op_level-use_pretrain/train/checkpoint/seed-24382-basic.pth\n",
      "Find op_level-use_pretrain/train/seed-24382-last-info.pth exist, delete is at first before saving\n",
      "save checkpoint into op_level-use_pretrain/train/seed-24382-last-info.pth\n",
      "\n",
      "[Search the 106-200-th epoch] Time Left: [00:58:06], LR=0.04529458433407429\n",
      "*SEARCH* [2022-11-07 10:27:05] [106-200][000/196] Time 0.50 (0.50) Data 0.37 (0.37) Base [Loss 0.300 (0.300)  Prec@1 88.67 (88.67) Prec@5 100.00 (100.00)]\n",
      "*SEARCH* [2022-11-07 10:27:32] [106-200][195/196] Time 0.14 (0.14) Data 0.00 (0.00) Base [Loss 0.235 (0.258)  Prec@1 90.00 (91.01) Prec@5 100.00 (99.80)]\n",
      "[106-200] searching : loss=0.26, accuracy@1=91.01%, accuracy@5=99.80%, time-cost=3601.4 s\n",
      "[106-200] evaluate  : loss=0.53, accuracy@1=83.32%, accuracy@5=99.10%\n",
      "Find op_level-use_pretrain/train/checkpoint/seed-24382-basic.pth exist, delete is at first before saving\n",
      "save checkpoint into op_level-use_pretrain/train/checkpoint/seed-24382-basic.pth\n",
      "Find op_level-use_pretrain/train/seed-24382-last-info.pth exist, delete is at first before saving\n",
      "save checkpoint into op_level-use_pretrain/train/seed-24382-last-info.pth\n",
      "\n",
      "[Search the 107-200-th epoch] Time Left: [00:47:50], LR=0.04451328444544774\n"
     ]
    },
    {
     "name": "stdout",
     "output_type": "stream",
     "text": [
      "*SEARCH* [2022-11-07 10:27:36] [107-200][000/196] Time 0.54 (0.54) Data 0.34 (0.34) Base [Loss 0.258 (0.258)  Prec@1 91.02 (91.02) Prec@5 100.00 (100.00)]\n",
      "*SEARCH* [2022-11-07 10:28:03] [107-200][195/196] Time 0.14 (0.14) Data 0.00 (0.00) Base [Loss 0.184 (0.256)  Prec@1 93.75 (91.23) Prec@5 100.00 (99.80)]\n",
      "[107-200] searching : loss=0.26, accuracy@1=91.23%, accuracy@5=99.80%, time-cost=3629.6 s\n",
      "[107-200] evaluate  : loss=0.60, accuracy@1=80.78%, accuracy@5=99.02%\n",
      "Find op_level-use_pretrain/train/checkpoint/seed-24382-basic.pth exist, delete is at first before saving\n",
      "save checkpoint into op_level-use_pretrain/train/checkpoint/seed-24382-basic.pth\n",
      "Find op_level-use_pretrain/train/seed-24382-last-info.pth exist, delete is at first before saving\n",
      "save checkpoint into op_level-use_pretrain/train/seed-24382-last-info.pth\n",
      "\n",
      "[Search the 108-200-th epoch] Time Left: [00:48:07], LR=0.0437333383217848\n",
      "*SEARCH* [2022-11-07 10:28:07] [108-200][000/196] Time 0.45 (0.45) Data 0.34 (0.34) Base [Loss 0.165 (0.165)  Prec@1 95.70 (95.70) Prec@5 100.00 (100.00)]\n",
      "*SEARCH* [2022-11-07 10:28:34] [108-200][195/196] Time 0.11 (0.14) Data 0.00 (0.00) Base [Loss 0.325 (0.256)  Prec@1 91.25 (91.11) Prec@5 98.75 (99.83)]\n",
      "[108-200] searching : loss=0.26, accuracy@1=91.11%, accuracy@5=99.83%, time-cost=3657.2 s\n",
      "[108-200] evaluate  : loss=0.55, accuracy@1=82.83%, accuracy@5=98.93%\n",
      "Find op_level-use_pretrain/train/checkpoint/seed-24382-basic.pth exist, delete is at first before saving\n",
      "save checkpoint into op_level-use_pretrain/train/checkpoint/seed-24382-basic.pth\n",
      "Find op_level-use_pretrain/train/seed-24382-last-info.pth exist, delete is at first before saving\n",
      "save checkpoint into op_level-use_pretrain/train/seed-24382-last-info.pth\n",
      "\n",
      "[Search the 109-200-th epoch] Time Left: [00:47:30], LR=0.04295493840312088\n",
      "*SEARCH* [2022-11-07 10:28:39] [109-200][000/196] Time 0.53 (0.53) Data 0.40 (0.40) Base [Loss 0.375 (0.375)  Prec@1 85.94 (85.94) Prec@5 99.61 (99.61)]\n",
      "*SEARCH* [2022-11-07 10:29:06] [109-200][195/196] Time 0.08 (0.14) Data 0.00 (0.00) Base [Loss 0.381 (0.251)  Prec@1 85.00 (91.26) Prec@5 98.75 (99.84)]\n",
      "[109-200] searching : loss=0.25, accuracy@1=91.26%, accuracy@5=99.84%, time-cost=3685.5 s\n",
      "[109-200] evaluate  : loss=0.56, accuracy@1=82.02%, accuracy@5=99.20%\n",
      "Find op_level-use_pretrain/train/checkpoint/seed-24382-basic.pth exist, delete is at first before saving\n",
      "save checkpoint into op_level-use_pretrain/train/checkpoint/seed-24382-basic.pth\n",
      "Find op_level-use_pretrain/train/seed-24382-last-info.pth exist, delete is at first before saving\n",
      "save checkpoint into op_level-use_pretrain/train/seed-24382-last-info.pth\n",
      "\n",
      "[Search the 110-200-th epoch] Time Left: [00:48:12], LR=0.042178276747988463\n",
      "*SEARCH* [2022-11-07 10:29:11] [110-200][000/196] Time 0.54 (0.54) Data 0.39 (0.39) Base [Loss 0.259 (0.259)  Prec@1 90.62 (90.62) Prec@5 100.00 (100.00)]\n",
      "*SEARCH* [2022-11-07 10:29:40] [110-200][195/196] Time 0.18 (0.15) Data 0.00 (0.00) Base [Loss 0.293 (0.248)  Prec@1 88.75 (91.42) Prec@5 100.00 (99.84)]\n",
      "[110-200] searching : loss=0.25, accuracy@1=91.42%, accuracy@5=99.84%, time-cost=3715.0 s\n",
      "[110-200] evaluate  : loss=0.62, accuracy@1=81.28%, accuracy@5=98.75%\n",
      "Find op_level-use_pretrain/train/checkpoint/seed-24382-basic.pth exist, delete is at first before saving\n",
      "save checkpoint into op_level-use_pretrain/train/checkpoint/seed-24382-basic.pth\n",
      "Find op_level-use_pretrain/train/seed-24382-last-info.pth exist, delete is at first before saving\n",
      "save checkpoint into op_level-use_pretrain/train/seed-24382-last-info.pth\n",
      "\n",
      "[Search the 111-200-th epoch] Time Left: [00:48:32], LR=0.04140354498602952\n",
      "*SEARCH* [2022-11-07 10:29:43] [111-200][000/196] Time 0.58 (0.58) Data 0.39 (0.39) Base [Loss 0.236 (0.236)  Prec@1 93.75 (93.75) Prec@5 99.61 (99.61)]\n",
      "*SEARCH* [2022-11-07 10:30:10] [111-200][195/196] Time 0.08 (0.14) Data 0.00 (0.00) Base [Loss 0.232 (0.247)  Prec@1 91.25 (91.47) Prec@5 100.00 (99.84)]\n",
      "[111-200] searching : loss=0.25, accuracy@1=91.47%, accuracy@5=99.84%, time-cost=3742.5 s\n",
      "[111-200] evaluate  : loss=0.75, accuracy@1=79.54%, accuracy@5=98.70%\n",
      "Find op_level-use_pretrain/train/checkpoint/seed-24382-basic.pth exist, delete is at first before saving\n",
      "save checkpoint into op_level-use_pretrain/train/checkpoint/seed-24382-basic.pth\n",
      "Find op_level-use_pretrain/train/seed-24382-last-info.pth exist, delete is at first before saving\n",
      "save checkpoint into op_level-use_pretrain/train/seed-24382-last-info.pth\n",
      "\n",
      "[Search the 112-200-th epoch] Time Left: [00:44:58], LR=0.04063093427071377\n",
      "*SEARCH* [2022-11-07 10:30:14] [112-200][000/196] Time 0.46 (0.46) Data 0.33 (0.33) Base [Loss 0.263 (0.263)  Prec@1 91.80 (91.80) Prec@5 99.22 (99.22)]\n",
      "*SEARCH* [2022-11-07 10:30:43] [112-200][195/196] Time 0.09 (0.15) Data 0.00 (0.00) Base [Loss 0.364 (0.241)  Prec@1 90.00 (91.57) Prec@5 100.00 (99.84)]\n",
      "[112-200] searching : loss=0.24, accuracy@1=91.57%, accuracy@5=99.84%, time-cost=3772.0 s\n",
      "[112-200] evaluate  : loss=0.60, accuracy@1=81.86%, accuracy@5=98.93%\n",
      "Find op_level-use_pretrain/train/checkpoint/seed-24382-basic.pth exist, delete is at first before saving\n",
      "save checkpoint into op_level-use_pretrain/train/checkpoint/seed-24382-basic.pth\n",
      "Find op_level-use_pretrain/train/seed-24382-last-info.pth exist, delete is at first before saving\n",
      "save checkpoint into op_level-use_pretrain/train/seed-24382-last-info.pth\n",
      "\n",
      "[Search the 113-200-th epoch] Time Left: [00:49:21], LR=0.03986063523217438\n",
      "*SEARCH* [2022-11-07 10:30:48] [113-200][000/196] Time 0.49 (0.49) Data 0.38 (0.38) Base [Loss 0.175 (0.175)  Prec@1 94.14 (94.14) Prec@5 100.00 (100.00)]\n",
      "*SEARCH* [2022-11-07 10:31:16] [113-200][195/196] Time 0.15 (0.14) Data 0.00 (0.00) Base [Loss 0.250 (0.240)  Prec@1 91.25 (91.73) Prec@5 100.00 (99.84)]\n",
      "[113-200] searching : loss=0.24, accuracy@1=91.73%, accuracy@5=99.84%, time-cost=3800.0 s\n",
      "[113-200] evaluate  : loss=0.44, accuracy@1=86.03%, accuracy@5=99.50%\n",
      "Find op_level-use_pretrain/train/checkpoint/seed-24382-basic.pth exist, delete is at first before saving\n",
      "save checkpoint into op_level-use_pretrain/train/checkpoint/seed-24382-basic.pth\n",
      "Find op_level-use_pretrain/train/seed-24382-last-info.pth exist, delete is at first before saving\n",
      "save checkpoint into op_level-use_pretrain/train/seed-24382-last-info.pth\n",
      "<<<--->>> The 113-200-th epoch : find the highest validation accuracy : 86.03%.\n",
      "Find op_level-use_pretrain/train/checkpoint/seed-24382-best.pth exist, delete is at first before saving\n",
      "copy the file from op_level-use_pretrain/train/checkpoint/seed-24382-basic.pth into op_level-use_pretrain/train/checkpoint/seed-24382-best.pth\n",
      "\n",
      "[Search the 114-200-th epoch] Time Left: [00:45:45], LR=0.03909283793017289\n",
      "*SEARCH* [2022-11-07 10:31:20] [114-200][000/196] Time 0.49 (0.49) Data 0.35 (0.35) Base [Loss 0.201 (0.201)  Prec@1 93.75 (93.75) Prec@5 100.00 (100.00)]\n",
      "*SEARCH* [2022-11-07 10:31:48] [114-200][195/196] Time 0.08 (0.15) Data 0.00 (0.00) Base [Loss 0.306 (0.236)  Prec@1 87.50 (91.84) Prec@5 100.00 (99.80)]\n",
      "[114-200] searching : loss=0.24, accuracy@1=91.84%, accuracy@5=99.80%, time-cost=3829.0 s\n",
      "[114-200] evaluate  : loss=0.60, accuracy@1=81.82%, accuracy@5=99.09%\n",
      "Find op_level-use_pretrain/train/checkpoint/seed-24382-basic.pth exist, delete is at first before saving\n",
      "save checkpoint into op_level-use_pretrain/train/checkpoint/seed-24382-basic.pth\n",
      "Find op_level-use_pretrain/train/seed-24382-last-info.pth exist, delete is at first before saving\n",
      "save checkpoint into op_level-use_pretrain/train/seed-24382-last-info.pth\n",
      "\n",
      "[Search the 115-200-th epoch] Time Left: [00:47:02], LR=0.038327731807204724\n",
      "*SEARCH* [2022-11-07 10:31:53] [115-200][000/196] Time 0.60 (0.60) Data 0.40 (0.40) Base [Loss 0.212 (0.212)  Prec@1 92.58 (92.58) Prec@5 99.61 (99.61)]\n",
      "*SEARCH* [2022-11-07 10:32:22] [115-200][195/196] Time 0.14 (0.15) Data 0.00 (0.00) Base [Loss 0.317 (0.232)  Prec@1 87.50 (91.97) Prec@5 100.00 (99.85)]\n",
      "[115-200] searching : loss=0.23, accuracy@1=91.97%, accuracy@5=99.85%, time-cost=3858.4 s\n",
      "[115-200] evaluate  : loss=0.43, accuracy@1=86.15%, accuracy@5=99.53%\n",
      "Find op_level-use_pretrain/train/checkpoint/seed-24382-basic.pth exist, delete is at first before saving\n",
      "save checkpoint into op_level-use_pretrain/train/checkpoint/seed-24382-basic.pth\n",
      "Find op_level-use_pretrain/train/seed-24382-last-info.pth exist, delete is at first before saving\n",
      "save checkpoint into op_level-use_pretrain/train/seed-24382-last-info.pth\n",
      "<<<--->>> The 115-200-th epoch : find the highest validation accuracy : 86.15%.\n",
      "Find op_level-use_pretrain/train/checkpoint/seed-24382-best.pth exist, delete is at first before saving\n",
      "copy the file from op_level-use_pretrain/train/checkpoint/seed-24382-basic.pth into op_level-use_pretrain/train/checkpoint/seed-24382-best.pth\n",
      "\n",
      "[Search the 116-200-th epoch] Time Left: [00:46:47], LR=0.03756550564175726\n"
     ]
    },
    {
     "name": "stdout",
     "output_type": "stream",
     "text": [
      "*SEARCH* [2022-11-07 10:32:27] [116-200][000/196] Time 0.62 (0.62) Data 0.43 (0.43) Base [Loss 0.224 (0.224)  Prec@1 92.97 (92.97) Prec@5 100.00 (100.00)]\n",
      "*SEARCH* [2022-11-07 10:32:57] [116-200][195/196] Time 0.17 (0.16) Data 0.00 (0.00) Base [Loss 0.246 (0.234)  Prec@1 91.25 (91.88) Prec@5 100.00 (99.85)]\n",
      "[116-200] searching : loss=0.23, accuracy@1=91.88%, accuracy@5=99.85%, time-cost=3889.5 s\n",
      "[116-200] evaluate  : loss=0.46, accuracy@1=85.58%, accuracy@5=99.37%\n",
      "Find op_level-use_pretrain/train/checkpoint/seed-24382-basic.pth exist, delete is at first before saving\n",
      "save checkpoint into op_level-use_pretrain/train/checkpoint/seed-24382-basic.pth\n",
      "Find op_level-use_pretrain/train/seed-24382-last-info.pth exist, delete is at first before saving\n",
      "save checkpoint into op_level-use_pretrain/train/seed-24382-last-info.pth\n",
      "\n",
      "[Search the 117-200-th epoch] Time Left: [00:47:28], LR=0.03680634750173136\n",
      "*SEARCH* [2022-11-07 10:33:01] [117-200][000/196] Time 0.67 (0.67) Data 0.33 (0.33) Base [Loss 0.180 (0.180)  Prec@1 94.14 (94.14) Prec@5 100.00 (100.00)]\n",
      "*SEARCH* [2022-11-07 10:33:28] [117-200][195/196] Time 0.14 (0.14) Data 0.00 (0.00) Base [Loss 0.273 (0.228)  Prec@1 88.75 (92.03) Prec@5 100.00 (99.84)]\n",
      "[117-200] searching : loss=0.23, accuracy@1=92.03%, accuracy@5=99.84%, time-cost=3917.0 s\n",
      "[117-200] evaluate  : loss=0.52, accuracy@1=84.06%, accuracy@5=99.35%\n",
      "Find op_level-use_pretrain/train/checkpoint/seed-24382-basic.pth exist, delete is at first before saving\n",
      "save checkpoint into op_level-use_pretrain/train/checkpoint/seed-24382-basic.pth\n",
      "Find op_level-use_pretrain/train/seed-24382-last-info.pth exist, delete is at first before saving\n",
      "save checkpoint into op_level-use_pretrain/train/seed-24382-last-info.pth\n",
      "\n",
      "[Search the 118-200-th epoch] Time Left: [00:42:09], LR=0.036050444698038545\n",
      "*SEARCH* [2022-11-07 10:33:32] [118-200][000/196] Time 0.51 (0.51) Data 0.39 (0.39) Base [Loss 0.207 (0.207)  Prec@1 92.97 (92.97) Prec@5 100.00 (100.00)]\n",
      "*SEARCH* [2022-11-07 10:34:01] [118-200][195/196] Time 0.15 (0.15) Data 0.00 (0.00) Base [Loss 0.231 (0.226)  Prec@1 91.25 (92.15) Prec@5 100.00 (99.86)]\n",
      "[118-200] searching : loss=0.23, accuracy@1=92.15%, accuracy@5=99.86%, time-cost=3946.5 s\n",
      "[118-200] evaluate  : loss=0.52, accuracy@1=83.80%, accuracy@5=99.45%\n",
      "Find op_level-use_pretrain/train/checkpoint/seed-24382-basic.pth exist, delete is at first before saving\n",
      "save checkpoint into op_level-use_pretrain/train/checkpoint/seed-24382-basic.pth\n",
      "Find op_level-use_pretrain/train/seed-24382-last-info.pth exist, delete is at first before saving\n",
      "save checkpoint into op_level-use_pretrain/train/seed-24382-last-info.pth\n",
      "\n",
      "[Search the 119-200-th epoch] Time Left: [00:46:05], LR=0.03529798373838481\n",
      "*SEARCH* [2022-11-07 10:34:06] [119-200][000/196] Time 0.54 (0.54) Data 0.39 (0.39) Base [Loss 0.211 (0.211)  Prec@1 94.14 (94.14) Prec@5 99.61 (99.61)]\n",
      "*SEARCH* [2022-11-07 10:34:38] [119-200][195/196] Time 0.08 (0.17) Data 0.00 (0.00) Base [Loss 0.308 (0.221)  Prec@1 88.75 (92.29) Prec@5 100.00 (99.84)]\n",
      "[119-200] searching : loss=0.22, accuracy@1=92.29%, accuracy@5=99.84%, time-cost=3979.1 s\n",
      "[119-200] evaluate  : loss=0.45, accuracy@1=86.11%, accuracy@5=99.46%\n",
      "Find op_level-use_pretrain/train/checkpoint/seed-24382-basic.pth exist, delete is at first before saving\n",
      "save checkpoint into op_level-use_pretrain/train/checkpoint/seed-24382-basic.pth\n",
      "Find op_level-use_pretrain/train/seed-24382-last-info.pth exist, delete is at first before saving\n",
      "save checkpoint into op_level-use_pretrain/train/seed-24382-last-info.pth\n",
      "\n",
      "[Search the 120-200-th epoch] Time Left: [00:49:24], LR=0.03454915028125265\n",
      "*SEARCH* [2022-11-07 10:34:43] [120-200][000/196] Time 0.59 (0.59) Data 0.40 (0.40) Base [Loss 0.215 (0.215)  Prec@1 92.58 (92.58) Prec@5 100.00 (100.00)]\n",
      "*SEARCH* [2022-11-07 10:35:15] [120-200][195/196] Time 0.11 (0.17) Data 0.00 (0.00) Base [Loss 0.358 (0.222)  Prec@1 90.00 (92.28) Prec@5 100.00 (99.86)]\n",
      "[120-200] searching : loss=0.22, accuracy@1=92.28%, accuracy@5=99.86%, time-cost=4011.6 s\n",
      "[120-200] evaluate  : loss=0.61, accuracy@1=80.82%, accuracy@5=98.36%\n",
      "Find op_level-use_pretrain/train/checkpoint/seed-24382-basic.pth exist, delete is at first before saving\n",
      "save checkpoint into op_level-use_pretrain/train/checkpoint/seed-24382-basic.pth\n",
      "Find op_level-use_pretrain/train/seed-24382-last-info.pth exist, delete is at first before saving\n",
      "save checkpoint into op_level-use_pretrain/train/seed-24382-last-info.pth\n",
      "\n",
      "[Search the 121-200-th epoch] Time Left: [00:47:39], LR=0.033804129090092526\n",
      "*SEARCH* [2022-11-07 10:35:19] [121-200][000/196] Time 0.70 (0.70) Data 0.38 (0.38) Base [Loss 0.198 (0.198)  Prec@1 95.31 (95.31) Prec@5 100.00 (100.00)]\n",
      "*SEARCH* [2022-11-07 10:35:49] [121-200][195/196] Time 0.10 (0.15) Data 0.00 (0.00) Base [Loss 0.184 (0.223)  Prec@1 96.25 (92.26) Prec@5 100.00 (99.85)]\n",
      "[121-200] searching : loss=0.22, accuracy@1=92.26%, accuracy@5=99.85%, time-cost=4041.5 s\n",
      "[121-200] evaluate  : loss=0.50, accuracy@1=84.25%, accuracy@5=99.02%\n",
      "Find op_level-use_pretrain/train/checkpoint/seed-24382-basic.pth exist, delete is at first before saving\n",
      "save checkpoint into op_level-use_pretrain/train/checkpoint/seed-24382-basic.pth\n",
      "Find op_level-use_pretrain/train/seed-24382-last-info.pth exist, delete is at first before saving\n",
      "save checkpoint into op_level-use_pretrain/train/seed-24382-last-info.pth\n",
      "\n",
      "[Search the 122-200-th epoch] Time Left: [00:43:14], LR=0.03306310398773543\n",
      "*SEARCH* [2022-11-07 10:35:53] [122-200][000/196] Time 0.62 (0.62) Data 0.43 (0.43) Base [Loss 0.202 (0.202)  Prec@1 91.80 (91.80) Prec@5 100.00 (100.00)]\n",
      "*SEARCH* [2022-11-07 10:36:23] [122-200][195/196] Time 0.15 (0.16) Data 0.00 (0.00) Base [Loss 0.297 (0.216)  Prec@1 90.00 (92.57) Prec@5 100.00 (99.90)]\n",
      "[122-200] searching : loss=0.22, accuracy@1=92.57%, accuracy@5=99.90%, time-cost=4072.4 s\n",
      "[122-200] evaluate  : loss=0.53, accuracy@1=83.55%, accuracy@5=99.16%\n",
      "Find op_level-use_pretrain/train/checkpoint/seed-24382-basic.pth exist, delete is at first before saving\n",
      "save checkpoint into op_level-use_pretrain/train/checkpoint/seed-24382-basic.pth\n",
      "Find op_level-use_pretrain/train/seed-24382-last-info.pth exist, delete is at first before saving\n",
      "save checkpoint into op_level-use_pretrain/train/seed-24382-last-info.pth\n",
      "\n",
      "[Search the 123-200-th epoch] Time Left: [00:44:08], LR=0.03232625781103715\n",
      "*SEARCH* [2022-11-07 10:36:27] [123-200][000/196] Time 0.47 (0.47) Data 0.33 (0.33) Base [Loss 0.259 (0.259)  Prec@1 91.02 (91.02) Prec@5 100.00 (100.00)]\n",
      "*SEARCH* [2022-11-07 10:36:53] [123-200][195/196] Time 0.23 (0.14) Data 0.00 (0.00) Base [Loss 0.361 (0.213)  Prec@1 90.00 (92.47) Prec@5 100.00 (99.88)]\n",
      "[123-200] searching : loss=0.21, accuracy@1=92.47%, accuracy@5=99.88%, time-cost=4099.6 s\n",
      "[123-200] evaluate  : loss=0.73, accuracy@1=79.07%, accuracy@5=99.02%\n",
      "Find op_level-use_pretrain/train/checkpoint/seed-24382-basic.pth exist, delete is at first before saving\n",
      "save checkpoint into op_level-use_pretrain/train/checkpoint/seed-24382-basic.pth\n",
      "Find op_level-use_pretrain/train/seed-24382-last-info.pth exist, delete is at first before saving\n",
      "save checkpoint into op_level-use_pretrain/train/seed-24382-last-info.pth\n",
      "\n",
      "[Search the 124-200-th epoch] Time Left: [00:40:19], LR=0.03159377236576612\n",
      "*SEARCH* [2022-11-07 10:36:59] [124-200][000/196] Time 0.50 (0.50) Data 0.37 (0.37) Base [Loss 0.195 (0.195)  Prec@1 93.75 (93.75) Prec@5 100.00 (100.00)]\n",
      "*SEARCH* [2022-11-07 10:37:26] [124-200][195/196] Time 0.10 (0.14) Data 0.00 (0.00) Base [Loss 0.268 (0.207)  Prec@1 91.25 (92.81) Prec@5 100.00 (99.90)]\n",
      "[124-200] searching : loss=0.21, accuracy@1=92.81%, accuracy@5=99.90%, time-cost=4127.7 s\n",
      "[124-200] evaluate  : loss=0.41, accuracy@1=87.07%, accuracy@5=99.32%\n",
      "Find op_level-use_pretrain/train/checkpoint/seed-24382-basic.pth exist, delete is at first before saving\n",
      "save checkpoint into op_level-use_pretrain/train/checkpoint/seed-24382-basic.pth\n",
      "Find op_level-use_pretrain/train/seed-24382-last-info.pth exist, delete is at first before saving\n",
      "save checkpoint into op_level-use_pretrain/train/seed-24382-last-info.pth\n",
      "<<<--->>> The 124-200-th epoch : find the highest validation accuracy : 87.07%.\n",
      "Find op_level-use_pretrain/train/checkpoint/seed-24382-best.pth exist, delete is at first before saving\n",
      "copy the file from op_level-use_pretrain/train/checkpoint/seed-24382-basic.pth into op_level-use_pretrain/train/checkpoint/seed-24382-best.pth\n",
      "\n",
      "[Search the 125-200-th epoch] Time Left: [00:39:09], LR=0.030865828381745525\n"
     ]
    },
    {
     "name": "stdout",
     "output_type": "stream",
     "text": [
      "*SEARCH* [2022-11-07 10:37:30] [125-200][000/196] Time 0.56 (0.56) Data 0.35 (0.35) Base [Loss 0.191 (0.191)  Prec@1 94.14 (94.14) Prec@5 99.61 (99.61)]\n",
      "*SEARCH* [2022-11-07 10:37:57] [125-200][195/196] Time 0.16 (0.14) Data 0.00 (0.00) Base [Loss 0.324 (0.208)  Prec@1 87.50 (92.79) Prec@5 100.00 (99.87)]\n",
      "[125-200] searching : loss=0.21, accuracy@1=92.79%, accuracy@5=99.87%, time-cost=4155.5 s\n",
      "[125-200] evaluate  : loss=0.39, accuracy@1=87.40%, accuracy@5=99.39%\n",
      "Find op_level-use_pretrain/train/checkpoint/seed-24382-basic.pth exist, delete is at first before saving\n",
      "save checkpoint into op_level-use_pretrain/train/checkpoint/seed-24382-basic.pth\n",
      "Find op_level-use_pretrain/train/seed-24382-last-info.pth exist, delete is at first before saving\n",
      "save checkpoint into op_level-use_pretrain/train/seed-24382-last-info.pth\n",
      "<<<--->>> The 125-200-th epoch : find the highest validation accuracy : 87.40%.\n",
      "Find op_level-use_pretrain/train/checkpoint/seed-24382-best.pth exist, delete is at first before saving\n",
      "copy the file from op_level-use_pretrain/train/checkpoint/seed-24382-basic.pth into op_level-use_pretrain/train/checkpoint/seed-24382-best.pth\n",
      "\n",
      "[Search the 126-200-th epoch] Time Left: [00:39:52], LR=0.030142605468260964\n",
      "*SEARCH* [2022-11-07 10:38:02] [126-200][000/196] Time 0.56 (0.56) Data 0.42 (0.42) Base [Loss 0.180 (0.180)  Prec@1 94.14 (94.14) Prec@5 100.00 (100.00)]\n",
      "*SEARCH* [2022-11-07 10:38:29] [126-200][195/196] Time 0.11 (0.14) Data 0.00 (0.00) Base [Loss 0.212 (0.203)  Prec@1 91.25 (92.88) Prec@5 100.00 (99.92)]\n",
      "[126-200] searching : loss=0.20, accuracy@1=92.88%, accuracy@5=99.92%, time-cost=4182.7 s\n",
      "[126-200] evaluate  : loss=0.48, accuracy@1=85.69%, accuracy@5=99.20%\n",
      "Find op_level-use_pretrain/train/checkpoint/seed-24382-basic.pth exist, delete is at first before saving\n",
      "save checkpoint into op_level-use_pretrain/train/checkpoint/seed-24382-basic.pth\n",
      "Find op_level-use_pretrain/train/seed-24382-last-info.pth exist, delete is at first before saving\n",
      "save checkpoint into op_level-use_pretrain/train/seed-24382-last-info.pth\n",
      "\n",
      "[Search the 127-200-th epoch] Time Left: [00:38:39], LR=0.029424282069744564\n",
      "*SEARCH* [2022-11-07 10:38:34] [127-200][000/196] Time 0.56 (0.56) Data 0.43 (0.43) Base [Loss 0.267 (0.267)  Prec@1 89.84 (89.84) Prec@5 100.00 (100.00)]\n",
      "*SEARCH* [2022-11-07 10:39:00] [127-200][195/196] Time 0.10 (0.14) Data 0.00 (0.00) Base [Loss 0.130 (0.200)  Prec@1 96.25 (92.99) Prec@5 100.00 (99.91)]\n",
      "[127-200] searching : loss=0.20, accuracy@1=92.99%, accuracy@5=99.91%, time-cost=4209.4 s\n",
      "[127-200] evaluate  : loss=0.47, accuracy@1=85.13%, accuracy@5=99.29%\n",
      "Find op_level-use_pretrain/train/checkpoint/seed-24382-basic.pth exist, delete is at first before saving\n",
      "save checkpoint into op_level-use_pretrain/train/checkpoint/seed-24382-basic.pth\n",
      "Find op_level-use_pretrain/train/seed-24382-last-info.pth exist, delete is at first before saving\n",
      "save checkpoint into op_level-use_pretrain/train/seed-24382-last-info.pth\n",
      "\n",
      "[Search the 128-200-th epoch] Time Left: [00:36:20], LR=0.02871103542174637\n",
      "*SEARCH* [2022-11-07 10:39:04] [128-200][000/196] Time 0.54 (0.54) Data 0.41 (0.41) Base [Loss 0.252 (0.252)  Prec@1 90.23 (90.23) Prec@5 100.00 (100.00)]\n",
      "*SEARCH* [2022-11-07 10:39:31] [128-200][195/196] Time 0.10 (0.14) Data 0.00 (0.00) Base [Loss 0.294 (0.196)  Prec@1 91.25 (93.18) Prec@5 100.00 (99.87)]\n",
      "[128-200] searching : loss=0.20, accuracy@1=93.18%, accuracy@5=99.87%, time-cost=4236.5 s\n",
      "[128-200] evaluate  : loss=0.43, accuracy@1=86.75%, accuracy@5=99.49%\n",
      "Find op_level-use_pretrain/train/checkpoint/seed-24382-basic.pth exist, delete is at first before saving\n",
      "save checkpoint into op_level-use_pretrain/train/checkpoint/seed-24382-basic.pth\n",
      "Find op_level-use_pretrain/train/seed-24382-last-info.pth exist, delete is at first before saving\n",
      "save checkpoint into op_level-use_pretrain/train/seed-24382-last-info.pth\n",
      "\n",
      "[Search the 129-200-th epoch] Time Left: [00:36:53], LR=0.028003041507204243\n",
      "*SEARCH* [2022-11-07 10:39:36] [129-200][000/196] Time 0.46 (0.46) Data 0.33 (0.33) Base [Loss 0.230 (0.230)  Prec@1 92.19 (92.19) Prec@5 100.00 (100.00)]\n",
      "*SEARCH* [2022-11-07 10:40:03] [129-200][195/196] Time 0.10 (0.14) Data 0.00 (0.00) Base [Loss 0.325 (0.194)  Prec@1 87.50 (93.26) Prec@5 100.00 (99.88)]\n",
      "[129-200] searching : loss=0.19, accuracy@1=93.26%, accuracy@5=99.88%, time-cost=4264.2 s\n",
      "[129-200] evaluate  : loss=0.65, accuracy@1=81.29%, accuracy@5=98.23%\n",
      "Find op_level-use_pretrain/train/checkpoint/seed-24382-basic.pth exist, delete is at first before saving\n",
      "save checkpoint into op_level-use_pretrain/train/checkpoint/seed-24382-basic.pth\n",
      "Find op_level-use_pretrain/train/seed-24382-last-info.pth exist, delete is at first before saving\n",
      "save checkpoint into op_level-use_pretrain/train/seed-24382-last-info.pth\n",
      "\n",
      "[Search the 130-200-th epoch] Time Left: [00:36:01], LR=0.027300475013022664\n",
      "*SEARCH* [2022-11-07 10:40:07] [130-200][000/196] Time 0.51 (0.51) Data 0.32 (0.32) Base [Loss 0.200 (0.200)  Prec@1 92.19 (92.19) Prec@5 100.00 (100.00)]\n",
      "*SEARCH* [2022-11-07 10:40:34] [130-200][195/196] Time 0.10 (0.14) Data 0.00 (0.00) Base [Loss 0.225 (0.191)  Prec@1 92.50 (93.36) Prec@5 98.75 (99.91)]\n",
      "[130-200] searching : loss=0.19, accuracy@1=93.36%, accuracy@5=99.91%, time-cost=4292.5 s\n",
      "[130-200] evaluate  : loss=0.45, accuracy@1=85.59%, accuracy@5=99.53%\n",
      "Find op_level-use_pretrain/train/checkpoint/seed-24382-basic.pth exist, delete is at first before saving\n",
      "save checkpoint into op_level-use_pretrain/train/checkpoint/seed-24382-basic.pth\n",
      "Find op_level-use_pretrain/train/seed-24382-last-info.pth exist, delete is at first before saving\n",
      "save checkpoint into op_level-use_pretrain/train/seed-24382-last-info.pth\n",
      "\n",
      "[Search the 131-200-th epoch] Time Left: [00:37:07], LR=0.02660350928697134\n",
      "*SEARCH* [2022-11-07 10:40:39] [131-200][000/196] Time 0.53 (0.53) Data 0.33 (0.33) Base [Loss 0.166 (0.166)  Prec@1 94.14 (94.14) Prec@5 100.00 (100.00)]\n",
      "*SEARCH* [2022-11-07 10:41:05] [131-200][195/196] Time 0.09 (0.13) Data 0.00 (0.00) Base [Loss 0.141 (0.187)  Prec@1 96.25 (93.43) Prec@5 100.00 (99.90)]\n",
      "[131-200] searching : loss=0.19, accuracy@1=93.43%, accuracy@5=99.90%, time-cost=4318.9 s\n",
      "[131-200] evaluate  : loss=0.40, accuracy@1=87.77%, accuracy@5=99.38%\n",
      "Find op_level-use_pretrain/train/checkpoint/seed-24382-basic.pth exist, delete is at first before saving\n",
      "save checkpoint into op_level-use_pretrain/train/checkpoint/seed-24382-basic.pth\n",
      "Find op_level-use_pretrain/train/seed-24382-last-info.pth exist, delete is at first before saving\n",
      "save checkpoint into op_level-use_pretrain/train/seed-24382-last-info.pth\n",
      "<<<--->>> The 131-200-th epoch : find the highest validation accuracy : 87.77%.\n",
      "Find op_level-use_pretrain/train/checkpoint/seed-24382-best.pth exist, delete is at first before saving\n",
      "copy the file from op_level-use_pretrain/train/checkpoint/seed-24382-basic.pth into op_level-use_pretrain/train/checkpoint/seed-24382-best.pth\n",
      "\n",
      "[Search the 132-200-th epoch] Time Left: [00:35:07], LR=0.02591231629491423\n",
      "*SEARCH* [2022-11-07 10:41:10] [132-200][000/196] Time 0.55 (0.55) Data 0.44 (0.44) Base [Loss 0.152 (0.152)  Prec@1 93.75 (93.75) Prec@5 100.00 (100.00)]\n",
      "*SEARCH* [2022-11-07 10:41:39] [132-200][195/196] Time 0.08 (0.15) Data 0.00 (0.00) Base [Loss 0.173 (0.185)  Prec@1 92.50 (93.56) Prec@5 100.00 (99.91)]\n",
      "[132-200] searching : loss=0.19, accuracy@1=93.56%, accuracy@5=99.91%, time-cost=4348.7 s\n",
      "[132-200] evaluate  : loss=0.47, accuracy@1=85.56%, accuracy@5=99.22%\n",
      "Find op_level-use_pretrain/train/checkpoint/seed-24382-basic.pth exist, delete is at first before saving\n",
      "save checkpoint into op_level-use_pretrain/train/checkpoint/seed-24382-basic.pth\n",
      "Find op_level-use_pretrain/train/seed-24382-last-info.pth exist, delete is at first before saving\n",
      "save checkpoint into op_level-use_pretrain/train/seed-24382-last-info.pth\n",
      "\n",
      "[Search the 133-200-th epoch] Time Left: [00:37:08], LR=0.02522706657837962\n",
      "*SEARCH* [2022-11-07 10:41:43] [133-200][000/196] Time 0.51 (0.51) Data 0.36 (0.36) Base [Loss 0.200 (0.200)  Prec@1 92.58 (92.58) Prec@5 99.61 (99.61)]\n",
      "*SEARCH* [2022-11-07 10:42:11] [133-200][195/196] Time 0.09 (0.14) Data 0.00 (0.00) Base [Loss 0.288 (0.179)  Prec@1 87.50 (93.69) Prec@5 100.00 (99.93)]\n",
      "[133-200] searching : loss=0.18, accuracy@1=93.69%, accuracy@5=99.93%, time-cost=4377.2 s\n"
     ]
    },
    {
     "name": "stdout",
     "output_type": "stream",
     "text": [
      "[133-200] evaluate  : loss=0.38, accuracy@1=88.10%, accuracy@5=99.60%\n",
      "Find op_level-use_pretrain/train/checkpoint/seed-24382-basic.pth exist, delete is at first before saving\n",
      "save checkpoint into op_level-use_pretrain/train/checkpoint/seed-24382-basic.pth\n",
      "Find op_level-use_pretrain/train/seed-24382-last-info.pth exist, delete is at first before saving\n",
      "save checkpoint into op_level-use_pretrain/train/seed-24382-last-info.pth\n",
      "<<<--->>> The 133-200-th epoch : find the highest validation accuracy : 88.10%.\n",
      "Find op_level-use_pretrain/train/checkpoint/seed-24382-best.pth exist, delete is at first before saving\n",
      "copy the file from op_level-use_pretrain/train/checkpoint/seed-24382-basic.pth into op_level-use_pretrain/train/checkpoint/seed-24382-best.pth\n",
      "\n",
      "[Search the 134-200-th epoch] Time Left: [00:34:57], LR=0.024547929212481435\n",
      "*SEARCH* [2022-11-07 10:42:15] [134-200][000/196] Time 0.50 (0.50) Data 0.38 (0.38) Base [Loss 0.173 (0.173)  Prec@1 94.92 (94.92) Prec@5 100.00 (100.00)]\n",
      "*SEARCH* [2022-11-07 10:42:44] [134-200][195/196] Time 0.10 (0.15) Data 0.00 (0.00) Base [Loss 0.222 (0.180)  Prec@1 92.50 (93.78) Prec@5 100.00 (99.90)]\n",
      "[134-200] searching : loss=0.18, accuracy@1=93.78%, accuracy@5=99.90%, time-cost=4406.7 s\n",
      "[134-200] evaluate  : loss=0.39, accuracy@1=87.93%, accuracy@5=99.53%\n",
      "Find op_level-use_pretrain/train/checkpoint/seed-24382-basic.pth exist, delete is at first before saving\n",
      "save checkpoint into op_level-use_pretrain/train/checkpoint/seed-24382-basic.pth\n",
      "Find op_level-use_pretrain/train/seed-24382-last-info.pth exist, delete is at first before saving\n",
      "save checkpoint into op_level-use_pretrain/train/seed-24382-last-info.pth\n",
      "\n",
      "[Search the 135-200-th epoch] Time Left: [00:35:36], LR=0.02387507176420256\n",
      "*SEARCH* [2022-11-07 10:42:48] [135-200][000/196] Time 0.47 (0.47) Data 0.36 (0.36) Base [Loss 0.223 (0.223)  Prec@1 91.41 (91.41) Prec@5 100.00 (100.00)]\n",
      "*SEARCH* [2022-11-07 10:43:15] [135-200][195/196] Time 0.10 (0.14) Data 0.00 (0.00) Base [Loss 0.290 (0.178)  Prec@1 90.00 (93.68) Prec@5 100.00 (99.95)]\n",
      "[135-200] searching : loss=0.18, accuracy@1=93.68%, accuracy@5=99.95%, time-cost=4434.5 s\n",
      "[135-200] evaluate  : loss=0.49, accuracy@1=85.83%, accuracy@5=99.18%\n",
      "Find op_level-use_pretrain/train/checkpoint/seed-24382-basic.pth exist, delete is at first before saving\n",
      "save checkpoint into op_level-use_pretrain/train/checkpoint/seed-24382-basic.pth\n",
      "Find op_level-use_pretrain/train/seed-24382-last-info.pth exist, delete is at first before saving\n",
      "save checkpoint into op_level-use_pretrain/train/seed-24382-last-info.pth\n",
      "\n",
      "[Search the 136-200-th epoch] Time Left: [00:33:39], LR=0.02320866025105016\n",
      "*SEARCH* [2022-11-07 10:43:19] [136-200][000/196] Time 0.53 (0.53) Data 0.38 (0.38) Base [Loss 0.146 (0.146)  Prec@1 94.92 (94.92) Prec@5 100.00 (100.00)]\n",
      "*SEARCH* [2022-11-07 10:43:48] [136-200][195/196] Time 0.24 (0.15) Data 0.00 (0.00) Base [Loss 0.222 (0.171)  Prec@1 92.50 (94.16) Prec@5 100.00 (99.92)]\n",
      "[136-200] searching : loss=0.17, accuracy@1=94.16%, accuracy@5=99.92%, time-cost=4463.4 s\n",
      "[136-200] evaluate  : loss=0.45, accuracy@1=86.43%, accuracy@5=99.19%\n",
      "Find op_level-use_pretrain/train/checkpoint/seed-24382-basic.pth exist, delete is at first before saving\n",
      "save checkpoint into op_level-use_pretrain/train/checkpoint/seed-24382-basic.pth\n",
      "Find op_level-use_pretrain/train/seed-24382-last-info.pth exist, delete is at first before saving\n",
      "save checkpoint into op_level-use_pretrain/train/seed-24382-last-info.pth\n",
      "\n",
      "[Search the 137-200-th epoch] Time Left: [00:33:54], LR=0.022548859100093407\n",
      "*SEARCH* [2022-11-07 10:43:52] [137-200][000/196] Time 0.56 (0.56) Data 0.33 (0.33) Base [Loss 0.182 (0.182)  Prec@1 93.36 (93.36) Prec@5 99.61 (99.61)]\n",
      "*SEARCH* [2022-11-07 10:44:17] [137-200][195/196] Time 0.08 (0.13) Data 0.00 (0.00) Base [Loss 0.219 (0.170)  Prec@1 92.50 (94.08) Prec@5 100.00 (99.92)]\n",
      "[137-200] searching : loss=0.17, accuracy@1=94.08%, accuracy@5=99.92%, time-cost=4489.5 s\n",
      "[137-200] evaluate  : loss=0.45, accuracy@1=86.36%, accuracy@5=99.51%\n",
      "Find op_level-use_pretrain/train/checkpoint/seed-24382-basic.pth exist, delete is at first before saving\n",
      "save checkpoint into op_level-use_pretrain/train/checkpoint/seed-24382-basic.pth\n",
      "Find op_level-use_pretrain/train/seed-24382-last-info.pth exist, delete is at first before saving\n",
      "save checkpoint into op_level-use_pretrain/train/seed-24382-last-info.pth\n",
      "\n",
      "[Search the 138-200-th epoch] Time Left: [00:30:28], LR=0.021895831107393467\n",
      "*SEARCH* [2022-11-07 10:44:21] [138-200][000/196] Time 0.54 (0.54) Data 0.40 (0.40) Base [Loss 0.156 (0.156)  Prec@1 94.92 (94.92) Prec@5 100.00 (100.00)]\n",
      "*SEARCH* [2022-11-07 10:44:47] [138-200][195/196] Time 0.24 (0.13) Data 0.00 (0.00) Base [Loss 0.281 (0.167)  Prec@1 87.50 (94.14) Prec@5 100.00 (99.93)]\n",
      "[138-200] searching : loss=0.17, accuracy@1=94.14%, accuracy@5=99.93%, time-cost=4515.9 s\n",
      "[138-200] evaluate  : loss=0.45, accuracy@1=86.33%, accuracy@5=99.57%\n",
      "Find op_level-use_pretrain/train/checkpoint/seed-24382-basic.pth exist, delete is at first before saving\n",
      "save checkpoint into op_level-use_pretrain/train/checkpoint/seed-24382-basic.pth\n",
      "Find op_level-use_pretrain/train/seed-24382-last-info.pth exist, delete is at first before saving\n",
      "save checkpoint into op_level-use_pretrain/train/seed-24382-last-info.pth\n",
      "\n",
      "[Search the 139-200-th epoch] Time Left: [00:31:24], LR=0.021249737397836074\n",
      "*SEARCH* [2022-11-07 10:44:52] [139-200][000/196] Time 0.56 (0.56) Data 0.43 (0.43) Base [Loss 0.201 (0.201)  Prec@1 94.53 (94.53) Prec@5 100.00 (100.00)]\n",
      "*SEARCH* [2022-11-07 10:45:19] [139-200][195/196] Time 0.09 (0.14) Data 0.00 (0.00) Base [Loss 0.241 (0.162)  Prec@1 90.00 (94.29) Prec@5 100.00 (99.95)]\n",
      "[139-200] searching : loss=0.16, accuracy@1=94.29%, accuracy@5=99.95%, time-cost=4543.8 s\n",
      "[139-200] evaluate  : loss=0.44, accuracy@1=86.89%, accuracy@5=99.37%\n",
      "Find op_level-use_pretrain/train/checkpoint/seed-24382-basic.pth exist, delete is at first before saving\n",
      "save checkpoint into op_level-use_pretrain/train/checkpoint/seed-24382-basic.pth\n",
      "Find op_level-use_pretrain/train/seed-24382-last-info.pth exist, delete is at first before saving\n",
      "save checkpoint into op_level-use_pretrain/train/seed-24382-last-info.pth\n",
      "\n",
      "[Search the 140-200-th epoch] Time Left: [00:31:22], LR=0.02061073738537635\n",
      "*SEARCH* [2022-11-07 10:45:23] [140-200][000/196] Time 0.55 (0.55) Data 0.42 (0.42) Base [Loss 0.131 (0.131)  Prec@1 95.70 (95.70) Prec@5 100.00 (100.00)]\n",
      "*SEARCH* [2022-11-07 10:45:52] [140-200][195/196] Time 0.10 (0.15) Data 0.00 (0.00) Base [Loss 0.099 (0.157)  Prec@1 96.25 (94.57) Prec@5 100.00 (99.93)]\n",
      "[140-200] searching : loss=0.16, accuracy@1=94.57%, accuracy@5=99.93%, time-cost=4572.9 s\n",
      "[140-200] evaluate  : loss=0.35, accuracy@1=89.31%, accuracy@5=99.72%\n",
      "Find op_level-use_pretrain/train/checkpoint/seed-24382-basic.pth exist, delete is at first before saving\n",
      "save checkpoint into op_level-use_pretrain/train/checkpoint/seed-24382-basic.pth\n",
      "Find op_level-use_pretrain/train/seed-24382-last-info.pth exist, delete is at first before saving\n",
      "save checkpoint into op_level-use_pretrain/train/seed-24382-last-info.pth\n",
      "<<<--->>> The 140-200-th epoch : find the highest validation accuracy : 89.31%.\n",
      "Find op_level-use_pretrain/train/checkpoint/seed-24382-best.pth exist, delete is at first before saving\n",
      "copy the file from op_level-use_pretrain/train/checkpoint/seed-24382-basic.pth into op_level-use_pretrain/train/checkpoint/seed-24382-best.pth\n",
      "\n",
      "[Search the 141-200-th epoch] Time Left: [00:31:44], LR=0.019978988733705808\n",
      "*SEARCH* [2022-11-07 10:45:56] [141-200][000/196] Time 0.66 (0.66) Data 0.44 (0.44) Base [Loss 0.121 (0.121)  Prec@1 96.88 (96.88) Prec@5 100.00 (100.00)]\n",
      "*SEARCH* [2022-11-07 10:46:24] [141-200][195/196] Time 0.15 (0.15) Data 0.00 (0.00) Base [Loss 0.122 (0.153)  Prec@1 95.00 (94.62) Prec@5 100.00 (99.95)]\n",
      "[141-200] searching : loss=0.15, accuracy@1=94.62%, accuracy@5=99.95%, time-cost=4601.8 s\n",
      "[141-200] evaluate  : loss=0.42, accuracy@1=86.99%, accuracy@5=99.50%\n",
      "Find op_level-use_pretrain/train/checkpoint/seed-24382-basic.pth exist, delete is at first before saving\n",
      "save checkpoint into op_level-use_pretrain/train/checkpoint/seed-24382-basic.pth\n",
      "Find op_level-use_pretrain/train/seed-24382-last-info.pth exist, delete is at first before saving\n",
      "save checkpoint into op_level-use_pretrain/train/seed-24382-last-info.pth\n",
      "\n",
      "[Search the 142-200-th epoch] Time Left: [00:31:25], LR=0.019354647317351172\n"
     ]
    },
    {
     "name": "stdout",
     "output_type": "stream",
     "text": [
      "*SEARCH* [2022-11-07 10:46:28] [142-200][000/196] Time 0.58 (0.58) Data 0.33 (0.33) Base [Loss 0.190 (0.190)  Prec@1 93.36 (93.36) Prec@5 100.00 (100.00)]\n",
      "*SEARCH* [2022-11-07 10:46:55] [142-200][195/196] Time 0.14 (0.14) Data 0.00 (0.00) Base [Loss 0.199 (0.151)  Prec@1 92.50 (94.73) Prec@5 100.00 (99.94)]\n",
      "[142-200] searching : loss=0.15, accuracy@1=94.73%, accuracy@5=99.94%, time-cost=4629.6 s\n",
      "[142-200] evaluate  : loss=0.44, accuracy@1=87.03%, accuracy@5=99.43%\n",
      "Find op_level-use_pretrain/train/checkpoint/seed-24382-basic.pth exist, delete is at first before saving\n",
      "save checkpoint into op_level-use_pretrain/train/checkpoint/seed-24382-basic.pth\n",
      "Find op_level-use_pretrain/train/seed-24382-last-info.pth exist, delete is at first before saving\n",
      "save checkpoint into op_level-use_pretrain/train/seed-24382-last-info.pth\n",
      "\n",
      "[Search the 143-200-th epoch] Time Left: [00:30:42], LR=0.01873786718321474\n",
      "*SEARCH* [2022-11-07 10:47:00] [143-200][000/196] Time 0.56 (0.56) Data 0.37 (0.37) Base [Loss 0.173 (0.173)  Prec@1 94.92 (94.92) Prec@5 100.00 (100.00)]\n",
      "*SEARCH* [2022-11-07 10:47:27] [143-200][195/196] Time 0.11 (0.14) Data 0.00 (0.00) Base [Loss 0.346 (0.146)  Prec@1 92.50 (95.03) Prec@5 98.75 (99.94)]\n",
      "[143-200] searching : loss=0.15, accuracy@1=95.03%, accuracy@5=99.94%, time-cost=4657.1 s\n",
      "[143-200] evaluate  : loss=0.43, accuracy@1=87.58%, accuracy@5=99.49%\n",
      "Find op_level-use_pretrain/train/checkpoint/seed-24382-basic.pth exist, delete is at first before saving\n",
      "save checkpoint into op_level-use_pretrain/train/checkpoint/seed-24382-basic.pth\n",
      "Find op_level-use_pretrain/train/seed-24382-last-info.pth exist, delete is at first before saving\n",
      "save checkpoint into op_level-use_pretrain/train/seed-24382-last-info.pth\n",
      "\n",
      "[Search the 144-200-th epoch] Time Left: [00:29:05], LR=0.018128800512565515\n",
      "*SEARCH* [2022-11-07 10:47:32] [144-200][000/196] Time 0.55 (0.55) Data 0.42 (0.42) Base [Loss 0.183 (0.183)  Prec@1 93.75 (93.75) Prec@5 99.61 (99.61)]\n",
      "*SEARCH* [2022-11-07 10:47:59] [144-200][195/196] Time 0.15 (0.14) Data 0.00 (0.00) Base [Loss 0.160 (0.142)  Prec@1 96.25 (95.11) Prec@5 98.75 (99.94)]\n",
      "[144-200] searching : loss=0.14, accuracy@1=95.11%, accuracy@5=99.94%, time-cost=4684.6 s\n",
      "[144-200] evaluate  : loss=0.43, accuracy@1=87.25%, accuracy@5=99.51%\n",
      "Find op_level-use_pretrain/train/checkpoint/seed-24382-basic.pth exist, delete is at first before saving\n",
      "save checkpoint into op_level-use_pretrain/train/checkpoint/seed-24382-basic.pth\n",
      "Find op_level-use_pretrain/train/seed-24382-last-info.pth exist, delete is at first before saving\n",
      "save checkpoint into op_level-use_pretrain/train/seed-24382-last-info.pth\n",
      "\n",
      "[Search the 145-200-th epoch] Time Left: [00:28:14], LR=0.017527597583490824\n",
      "*SEARCH* [2022-11-07 10:48:02] [145-200][000/196] Time 0.47 (0.47) Data 0.34 (0.34) Base [Loss 0.162 (0.162)  Prec@1 94.92 (94.92) Prec@5 100.00 (100.00)]\n",
      "*SEARCH* [2022-11-07 10:48:30] [145-200][195/196] Time 0.08 (0.14) Data 0.00 (0.00) Base [Loss 0.092 (0.139)  Prec@1 97.50 (95.16) Prec@5 100.00 (99.94)]\n",
      "[145-200] searching : loss=0.14, accuracy@1=95.16%, accuracy@5=99.94%, time-cost=4712.7 s\n",
      "[145-200] evaluate  : loss=0.38, accuracy@1=88.02%, accuracy@5=99.46%\n",
      "Find op_level-use_pretrain/train/checkpoint/seed-24382-basic.pth exist, delete is at first before saving\n",
      "save checkpoint into op_level-use_pretrain/train/checkpoint/seed-24382-basic.pth\n",
      "Find op_level-use_pretrain/train/seed-24382-last-info.pth exist, delete is at first before saving\n",
      "save checkpoint into op_level-use_pretrain/train/seed-24382-last-info.pth\n",
      "\n",
      "[Search the 146-200-th epoch] Time Left: [00:28:15], LR=0.016934406733817416\n",
      "*SEARCH* [2022-11-07 10:48:34] [146-200][000/196] Time 0.60 (0.60) Data 0.38 (0.38) Base [Loss 0.143 (0.143)  Prec@1 94.92 (94.92) Prec@5 100.00 (100.00)]\n",
      "*SEARCH* [2022-11-07 10:49:02] [146-200][195/196] Time 0.08 (0.15) Data 0.00 (0.00) Base [Loss 0.117 (0.136)  Prec@1 93.75 (95.25) Prec@5 100.00 (99.95)]\n",
      "[146-200] searching : loss=0.14, accuracy@1=95.25%, accuracy@5=99.95%, time-cost=4741.5 s\n",
      "[146-200] evaluate  : loss=0.39, accuracy@1=88.29%, accuracy@5=99.52%\n",
      "Find op_level-use_pretrain/train/checkpoint/seed-24382-basic.pth exist, delete is at first before saving\n",
      "save checkpoint into op_level-use_pretrain/train/checkpoint/seed-24382-basic.pth\n",
      "Find op_level-use_pretrain/train/seed-24382-last-info.pth exist, delete is at first before saving\n",
      "save checkpoint into op_level-use_pretrain/train/seed-24382-last-info.pth\n",
      "\n",
      "[Search the 147-200-th epoch] Time Left: [00:28:17], LR=0.01634937432451133\n",
      "*SEARCH* [2022-11-07 10:49:06] [147-200][000/196] Time 0.48 (0.48) Data 0.34 (0.34) Base [Loss 0.105 (0.105)  Prec@1 96.88 (96.88) Prec@5 100.00 (100.00)]\n",
      "*SEARCH* [2022-11-07 10:49:35] [147-200][195/196] Time 0.10 (0.15) Data 0.00 (0.00) Base [Loss 0.167 (0.135)  Prec@1 95.00 (95.32) Prec@5 100.00 (99.95)]\n",
      "[147-200] searching : loss=0.14, accuracy@1=95.32%, accuracy@5=99.95%, time-cost=4771.2 s\n",
      "[147-200] evaluate  : loss=0.41, accuracy@1=87.96%, accuracy@5=99.48%\n",
      "Find op_level-use_pretrain/train/checkpoint/seed-24382-basic.pth exist, delete is at first before saving\n",
      "save checkpoint into op_level-use_pretrain/train/checkpoint/seed-24382-basic.pth\n",
      "Find op_level-use_pretrain/train/seed-24382-last-info.pth exist, delete is at first before saving\n",
      "save checkpoint into op_level-use_pretrain/train/seed-24382-last-info.pth\n",
      "\n",
      "[Search the 148-200-th epoch] Time Left: [00:28:34], LR=0.015772644703565566\n",
      "*SEARCH* [2022-11-07 10:49:39] [148-200][000/196] Time 0.51 (0.51) Data 0.33 (0.33) Base [Loss 0.129 (0.129)  Prec@1 95.70 (95.70) Prec@5 100.00 (100.00)]\n",
      "*SEARCH* [2022-11-07 10:50:06] [148-200][195/196] Time 0.18 (0.14) Data 0.00 (0.00) Base [Loss 0.160 (0.131)  Prec@1 96.25 (95.43) Prec@5 100.00 (99.95)]\n",
      "[148-200] searching : loss=0.13, accuracy@1=95.43%, accuracy@5=99.95%, time-cost=4798.9 s\n",
      "[148-200] evaluate  : loss=0.35, accuracy@1=89.41%, accuracy@5=99.61%\n",
      "Find op_level-use_pretrain/train/checkpoint/seed-24382-basic.pth exist, delete is at first before saving\n",
      "save checkpoint into op_level-use_pretrain/train/checkpoint/seed-24382-basic.pth\n",
      "Find op_level-use_pretrain/train/seed-24382-last-info.pth exist, delete is at first before saving\n",
      "save checkpoint into op_level-use_pretrain/train/seed-24382-last-info.pth\n",
      "<<<--->>> The 148-200-th epoch : find the highest validation accuracy : 89.41%.\n",
      "Find op_level-use_pretrain/train/checkpoint/seed-24382-best.pth exist, delete is at first before saving\n",
      "copy the file from op_level-use_pretrain/train/checkpoint/seed-24382-basic.pth into op_level-use_pretrain/train/checkpoint/seed-24382-best.pth\n",
      "\n",
      "[Search the 149-200-th epoch] Time Left: [00:26:09], LR=0.015204360170384285\n",
      "*SEARCH* [2022-11-07 10:50:10] [149-200][000/196] Time 0.48 (0.48) Data 0.37 (0.37) Base [Loss 0.130 (0.130)  Prec@1 96.09 (96.09) Prec@5 100.00 (100.00)]\n",
      "*SEARCH* [2022-11-07 10:50:38] [149-200][195/196] Time 0.14 (0.15) Data 0.00 (0.00) Base [Loss 0.182 (0.125)  Prec@1 91.25 (95.65) Prec@5 100.00 (99.97)]\n",
      "[149-200] searching : loss=0.12, accuracy@1=95.65%, accuracy@5=99.97%, time-cost=4827.5 s\n",
      "[149-200] evaluate  : loss=0.44, accuracy@1=86.94%, accuracy@5=99.65%\n",
      "Find op_level-use_pretrain/train/checkpoint/seed-24382-basic.pth exist, delete is at first before saving\n",
      "save checkpoint into op_level-use_pretrain/train/checkpoint/seed-24382-basic.pth\n",
      "Find op_level-use_pretrain/train/seed-24382-last-info.pth exist, delete is at first before saving\n",
      "save checkpoint into op_level-use_pretrain/train/seed-24382-last-info.pth\n",
      "\n",
      "[Search the 150-200-th epoch] Time Left: [00:27:15], LR=0.014644660940672627\n",
      "*SEARCH* [2022-11-07 10:50:42] [150-200][000/196] Time 0.43 (0.43) Data 0.32 (0.32) Base [Loss 0.148 (0.148)  Prec@1 92.97 (92.97) Prec@5 100.00 (100.00)]\n",
      "*SEARCH* [2022-11-07 10:51:08] [150-200][195/196] Time 0.14 (0.13) Data 0.00 (0.00) Base [Loss 0.156 (0.123)  Prec@1 93.75 (95.68) Prec@5 100.00 (99.97)]\n",
      "[150-200] searching : loss=0.12, accuracy@1=95.68%, accuracy@5=99.97%, time-cost=4853.7 s\n",
      "[150-200] evaluate  : loss=0.45, accuracy@1=86.90%, accuracy@5=99.57%\n",
      "Find op_level-use_pretrain/train/checkpoint/seed-24382-basic.pth exist, delete is at first before saving\n",
      "save checkpoint into op_level-use_pretrain/train/checkpoint/seed-24382-basic.pth\n",
      "Find op_level-use_pretrain/train/seed-24382-last-info.pth exist, delete is at first before saving\n",
      "save checkpoint into op_level-use_pretrain/train/seed-24382-last-info.pth\n",
      "\n",
      "[Search the 151-200-th epoch] Time Left: [00:24:44], LR=0.014093685111840566\n"
     ]
    },
    {
     "name": "stdout",
     "output_type": "stream",
     "text": [
      "*SEARCH* [2022-11-07 10:51:13] [151-200][000/196] Time 0.57 (0.57) Data 0.42 (0.42) Base [Loss 0.112 (0.112)  Prec@1 95.31 (95.31) Prec@5 100.00 (100.00)]\n",
      "*SEARCH* [2022-11-07 10:51:38] [151-200][195/196] Time 0.10 (0.13) Data 0.00 (0.00) Base [Loss 0.077 (0.116)  Prec@1 98.75 (95.98) Prec@5 100.00 (99.96)]\n",
      "[151-200] searching : loss=0.12, accuracy@1=95.98%, accuracy@5=99.96%, time-cost=4879.9 s\n",
      "[151-200] evaluate  : loss=0.39, accuracy@1=88.50%, accuracy@5=99.57%\n",
      "Find op_level-use_pretrain/train/checkpoint/seed-24382-basic.pth exist, delete is at first before saving\n",
      "save checkpoint into op_level-use_pretrain/train/checkpoint/seed-24382-basic.pth\n",
      "Find op_level-use_pretrain/train/seed-24382-last-info.pth exist, delete is at first before saving\n",
      "save checkpoint into op_level-use_pretrain/train/seed-24382-last-info.pth\n",
      "\n",
      "[Search the 152-200-th epoch] Time Left: [00:23:32], LR=0.013551568628929435\n",
      "*SEARCH* [2022-11-07 10:51:42] [152-200][000/196] Time 0.45 (0.45) Data 0.33 (0.33) Base [Loss 0.144 (0.144)  Prec@1 95.70 (95.70) Prec@5 100.00 (100.00)]\n",
      "*SEARCH* [2022-11-07 10:52:11] [152-200][195/196] Time 0.14 (0.15) Data 0.00 (0.00) Base [Loss 0.114 (0.114)  Prec@1 97.50 (95.98) Prec@5 100.00 (99.97)]\n",
      "[152-200] searching : loss=0.11, accuracy@1=95.98%, accuracy@5=99.97%, time-cost=4909.1 s\n",
      "[152-200] evaluate  : loss=0.37, accuracy@1=89.07%, accuracy@5=99.63%\n",
      "Find op_level-use_pretrain/train/checkpoint/seed-24382-basic.pth exist, delete is at first before saving\n",
      "save checkpoint into op_level-use_pretrain/train/checkpoint/seed-24382-basic.pth\n",
      "Find op_level-use_pretrain/train/seed-24382-last-info.pth exist, delete is at first before saving\n",
      "save checkpoint into op_level-use_pretrain/train/seed-24382-last-info.pth\n",
      "\n",
      "[Search the 153-200-th epoch] Time Left: [00:26:24], LR=0.01301844525106951\n",
      "*SEARCH* [2022-11-07 10:52:16] [153-200][000/196] Time 0.56 (0.56) Data 0.38 (0.38) Base [Loss 0.127 (0.127)  Prec@1 96.09 (96.09) Prec@5 100.00 (100.00)]\n",
      "*SEARCH* [2022-11-07 10:52:45] [153-200][195/196] Time 0.09 (0.15) Data 0.00 (0.00) Base [Loss 0.089 (0.113)  Prec@1 96.25 (96.13) Prec@5 100.00 (99.97)]\n",
      "[153-200] searching : loss=0.11, accuracy@1=96.13%, accuracy@5=99.97%, time-cost=4939.1 s\n",
      "[153-200] evaluate  : loss=0.38, accuracy@1=88.99%, accuracy@5=99.66%\n",
      "Find op_level-use_pretrain/train/checkpoint/seed-24382-basic.pth exist, delete is at first before saving\n",
      "save checkpoint into op_level-use_pretrain/train/checkpoint/seed-24382-basic.pth\n",
      "Find op_level-use_pretrain/train/seed-24382-last-info.pth exist, delete is at first before saving\n",
      "save checkpoint into op_level-use_pretrain/train/seed-24382-last-info.pth\n",
      "\n",
      "[Search the 154-200-th epoch] Time Left: [00:25:31], LR=0.012494446518477021\n",
      "*SEARCH* [2022-11-07 10:52:49] [154-200][000/196] Time 0.47 (0.47) Data 0.33 (0.33) Base [Loss 0.082 (0.082)  Prec@1 96.48 (96.48) Prec@5 100.00 (100.00)]\n",
      "*SEARCH* [2022-11-07 10:53:17] [154-200][195/196] Time 0.10 (0.15) Data 0.00 (0.00) Base [Loss 0.181 (0.106)  Prec@1 96.25 (96.35) Prec@5 100.00 (99.98)]\n",
      "[154-200] searching : loss=0.11, accuracy@1=96.35%, accuracy@5=99.98%, time-cost=4967.6 s\n",
      "[154-200] evaluate  : loss=0.36, accuracy@1=89.73%, accuracy@5=99.69%\n",
      "Find op_level-use_pretrain/train/checkpoint/seed-24382-basic.pth exist, delete is at first before saving\n",
      "save checkpoint into op_level-use_pretrain/train/checkpoint/seed-24382-basic.pth\n",
      "Find op_level-use_pretrain/train/seed-24382-last-info.pth exist, delete is at first before saving\n",
      "save checkpoint into op_level-use_pretrain/train/seed-24382-last-info.pth\n",
      "<<<--->>> The 154-200-th epoch : find the highest validation accuracy : 89.73%.\n",
      "Find op_level-use_pretrain/train/checkpoint/seed-24382-best.pth exist, delete is at first before saving\n",
      "copy the file from op_level-use_pretrain/train/checkpoint/seed-24382-basic.pth into op_level-use_pretrain/train/checkpoint/seed-24382-best.pth\n",
      "\n",
      "[Search the 155-200-th epoch] Time Left: [00:24:49], LR=0.011979701719998454\n",
      "*SEARCH* [2022-11-07 10:53:22] [155-200][000/196] Time 0.57 (0.57) Data 0.38 (0.38) Base [Loss 0.156 (0.156)  Prec@1 95.31 (95.31) Prec@5 100.00 (100.00)]\n",
      "*SEARCH* [2022-11-07 10:53:51] [155-200][195/196] Time 0.15 (0.15) Data 0.00 (0.00) Base [Loss 0.069 (0.101)  Prec@1 97.50 (96.52) Prec@5 100.00 (99.97)]\n",
      "[155-200] searching : loss=0.10, accuracy@1=96.52%, accuracy@5=99.97%, time-cost=4997.3 s\n",
      "[155-200] evaluate  : loss=0.36, accuracy@1=89.23%, accuracy@5=99.64%\n",
      "Find op_level-use_pretrain/train/checkpoint/seed-24382-basic.pth exist, delete is at first before saving\n",
      "save checkpoint into op_level-use_pretrain/train/checkpoint/seed-24382-basic.pth\n",
      "Find op_level-use_pretrain/train/seed-24382-last-info.pth exist, delete is at first before saving\n",
      "save checkpoint into op_level-use_pretrain/train/seed-24382-last-info.pth\n",
      "\n",
      "[Search the 156-200-th epoch] Time Left: [00:24:16], LR=0.011474337861210543\n",
      "*SEARCH* [2022-11-07 10:53:55] [156-200][000/196] Time 0.57 (0.57) Data 0.42 (0.42) Base [Loss 0.108 (0.108)  Prec@1 95.70 (95.70) Prec@5 100.00 (100.00)]\n",
      "*SEARCH* [2022-11-07 10:54:23] [156-200][195/196] Time 0.17 (0.14) Data 0.00 (0.00) Base [Loss 0.105 (0.097)  Prec@1 96.25 (96.67) Prec@5 100.00 (99.97)]\n",
      "[156-200] searching : loss=0.10, accuracy@1=96.67%, accuracy@5=99.97%, time-cost=5025.4 s\n",
      "[156-200] evaluate  : loss=0.37, accuracy@1=89.47%, accuracy@5=99.61%\n",
      "Find op_level-use_pretrain/train/checkpoint/seed-24382-basic.pth exist, delete is at first before saving\n",
      "save checkpoint into op_level-use_pretrain/train/checkpoint/seed-24382-basic.pth\n",
      "Find op_level-use_pretrain/train/seed-24382-last-info.pth exist, delete is at first before saving\n",
      "save checkpoint into op_level-use_pretrain/train/seed-24382-last-info.pth\n",
      "\n",
      "[Search the 157-200-th epoch] Time Left: [00:22:20], LR=0.010978479633083522\n",
      "*SEARCH* [2022-11-07 10:54:27] [157-200][000/196] Time 0.68 (0.68) Data 0.34 (0.34) Base [Loss 0.097 (0.097)  Prec@1 97.27 (97.27) Prec@5 100.00 (100.00)]\n",
      "*SEARCH* [2022-11-07 10:54:54] [157-200][195/196] Time 0.08 (0.14) Data 0.00 (0.00) Base [Loss 0.108 (0.095)  Prec@1 93.75 (96.77) Prec@5 100.00 (99.99)]\n",
      "[157-200] searching : loss=0.09, accuracy@1=96.77%, accuracy@5=99.99%, time-cost=5053.2 s\n",
      "[157-200] evaluate  : loss=0.46, accuracy@1=87.40%, accuracy@5=99.59%\n",
      "Find op_level-use_pretrain/train/checkpoint/seed-24382-basic.pth exist, delete is at first before saving\n",
      "save checkpoint into op_level-use_pretrain/train/checkpoint/seed-24382-basic.pth\n",
      "Find op_level-use_pretrain/train/seed-24382-last-info.pth exist, delete is at first before saving\n",
      "save checkpoint into op_level-use_pretrain/train/seed-24382-last-info.pth\n",
      "\n",
      "[Search the 158-200-th epoch] Time Left: [00:22:33], LR=0.01049224938121548\n",
      "*SEARCH* [2022-11-07 10:54:59] [158-200][000/196] Time 0.52 (0.52) Data 0.37 (0.37) Base [Loss 0.111 (0.111)  Prec@1 95.31 (95.31) Prec@5 100.00 (100.00)]\n",
      "*SEARCH* [2022-11-07 10:55:28] [158-200][195/196] Time 0.09 (0.15) Data 0.00 (0.00) Base [Loss 0.065 (0.092)  Prec@1 96.25 (96.83) Prec@5 100.00 (99.97)]\n",
      "[158-200] searching : loss=0.09, accuracy@1=96.83%, accuracy@5=99.97%, time-cost=5083.0 s\n",
      "[158-200] evaluate  : loss=0.39, accuracy@1=89.05%, accuracy@5=99.46%\n",
      "Find op_level-use_pretrain/train/checkpoint/seed-24382-basic.pth exist, delete is at first before saving\n",
      "save checkpoint into op_level-use_pretrain/train/checkpoint/seed-24382-basic.pth\n",
      "Find op_level-use_pretrain/train/seed-24382-last-info.pth exist, delete is at first before saving\n",
      "save checkpoint into op_level-use_pretrain/train/seed-24382-last-info.pth\n",
      "\n",
      "[Search the 159-200-th epoch] Time Left: [00:22:33], LR=0.01001576707564547\n",
      "*SEARCH* [2022-11-07 10:55:32] [159-200][000/196] Time 0.60 (0.60) Data 0.39 (0.39) Base [Loss 0.079 (0.079)  Prec@1 96.88 (96.88) Prec@5 100.00 (100.00)]\n",
      "*SEARCH* [2022-11-07 10:56:00] [159-200][195/196] Time 0.09 (0.14) Data 0.00 (0.00) Base [Loss 0.088 (0.087)  Prec@1 96.25 (97.02) Prec@5 100.00 (99.99)]\n",
      "[159-200] searching : loss=0.09, accuracy@1=97.02%, accuracy@5=99.99%, time-cost=5111.5 s\n",
      "[159-200] evaluate  : loss=0.42, accuracy@1=88.46%, accuracy@5=99.43%\n",
      "Find op_level-use_pretrain/train/checkpoint/seed-24382-basic.pth exist, delete is at first before saving\n",
      "save checkpoint into op_level-use_pretrain/train/checkpoint/seed-24382-basic.pth\n",
      "Find op_level-use_pretrain/train/seed-24382-last-info.pth exist, delete is at first before saving\n",
      "save checkpoint into op_level-use_pretrain/train/seed-24382-last-info.pth\n",
      "\n",
      "[Search the 160-200-th epoch] Time Left: [00:21:55], LR=0.009549150281252633\n"
     ]
    },
    {
     "name": "stdout",
     "output_type": "stream",
     "text": [
      "*SEARCH* [2022-11-07 10:56:05] [160-200][000/196] Time 0.59 (0.59) Data 0.37 (0.37) Base [Loss 0.087 (0.087)  Prec@1 97.27 (97.27) Prec@5 100.00 (100.00)]\n",
      "*SEARCH* [2022-11-07 10:56:30] [160-200][195/196] Time 0.09 (0.13) Data 0.00 (0.00) Base [Loss 0.164 (0.084)  Prec@1 96.25 (97.11) Prec@5 100.00 (99.98)]\n",
      "[160-200] searching : loss=0.08, accuracy@1=97.11%, accuracy@5=99.98%, time-cost=5137.6 s\n",
      "[160-200] evaluate  : loss=0.37, accuracy@1=89.64%, accuracy@5=99.59%\n",
      "Find op_level-use_pretrain/train/checkpoint/seed-24382-basic.pth exist, delete is at first before saving\n",
      "save checkpoint into op_level-use_pretrain/train/checkpoint/seed-24382-basic.pth\n",
      "Find op_level-use_pretrain/train/seed-24382-last-info.pth exist, delete is at first before saving\n",
      "save checkpoint into op_level-use_pretrain/train/seed-24382-last-info.pth\n",
      "\n",
      "[Search the 161-200-th epoch] Time Left: [00:19:55], LR=0.009092514128748836\n",
      "*SEARCH* [2022-11-07 10:56:35] [161-200][000/196] Time 0.55 (0.55) Data 0.43 (0.43) Base [Loss 0.102 (0.102)  Prec@1 95.70 (95.70) Prec@5 100.00 (100.00)]\n",
      "*SEARCH* [2022-11-07 10:57:04] [161-200][195/196] Time 0.11 (0.15) Data 0.00 (0.00) Base [Loss 0.147 (0.080)  Prec@1 95.00 (97.30) Prec@5 100.00 (99.99)]\n",
      "[161-200] searching : loss=0.08, accuracy@1=97.30%, accuracy@5=99.99%, time-cost=5166.6 s\n",
      "[161-200] evaluate  : loss=0.39, accuracy@1=89.04%, accuracy@5=99.51%\n",
      "Find op_level-use_pretrain/train/checkpoint/seed-24382-basic.pth exist, delete is at first before saving\n",
      "save checkpoint into op_level-use_pretrain/train/checkpoint/seed-24382-basic.pth\n",
      "Find op_level-use_pretrain/train/seed-24382-last-info.pth exist, delete is at first before saving\n",
      "save checkpoint into op_level-use_pretrain/train/seed-24382-last-info.pth\n",
      "\n",
      "[Search the 162-200-th epoch] Time Left: [00:20:41], LR=0.008645971286271915\n",
      "*SEARCH* [2022-11-07 10:57:08] [162-200][000/196] Time 0.48 (0.48) Data 0.34 (0.34) Base [Loss 0.070 (0.070)  Prec@1 96.88 (96.88) Prec@5 100.00 (100.00)]\n",
      "*SEARCH* [2022-11-07 10:57:36] [162-200][195/196] Time 0.14 (0.15) Data 0.00 (0.00) Base [Loss 0.118 (0.077)  Prec@1 93.75 (97.37) Prec@5 100.00 (99.99)]\n",
      "[162-200] searching : loss=0.08, accuracy@1=97.37%, accuracy@5=99.99%, time-cost=5195.4 s\n",
      "[162-200] evaluate  : loss=0.36, accuracy@1=89.77%, accuracy@5=99.70%\n",
      "Find op_level-use_pretrain/train/checkpoint/seed-24382-basic.pth exist, delete is at first before saving\n",
      "save checkpoint into op_level-use_pretrain/train/checkpoint/seed-24382-basic.pth\n",
      "Find op_level-use_pretrain/train/seed-24382-last-info.pth exist, delete is at first before saving\n",
      "save checkpoint into op_level-use_pretrain/train/seed-24382-last-info.pth\n",
      "<<<--->>> The 162-200-th epoch : find the highest validation accuracy : 89.77%.\n",
      "Find op_level-use_pretrain/train/checkpoint/seed-24382-best.pth exist, delete is at first before saving\n",
      "copy the file from op_level-use_pretrain/train/checkpoint/seed-24382-basic.pth into op_level-use_pretrain/train/checkpoint/seed-24382-best.pth\n",
      "\n",
      "[Search the 163-200-th epoch] Time Left: [00:19:47], LR=0.008209631931586497\n",
      "*SEARCH* [2022-11-07 10:57:40] [163-200][000/196] Time 0.46 (0.46) Data 0.34 (0.34) Base [Loss 0.041 (0.041)  Prec@1 98.44 (98.44) Prec@5 100.00 (100.00)]\n",
      "*SEARCH* [2022-11-07 10:58:06] [163-200][195/196] Time 0.08 (0.13) Data 0.00 (0.00) Base [Loss 0.083 (0.070)  Prec@1 97.50 (97.63) Prec@5 100.00 (99.99)]\n",
      "[163-200] searching : loss=0.07, accuracy@1=97.63%, accuracy@5=99.99%, time-cost=5221.7 s\n",
      "[163-200] evaluate  : loss=0.34, accuracy@1=90.43%, accuracy@5=99.66%\n",
      "Find op_level-use_pretrain/train/checkpoint/seed-24382-basic.pth exist, delete is at first before saving\n",
      "save checkpoint into op_level-use_pretrain/train/checkpoint/seed-24382-basic.pth\n",
      "Find op_level-use_pretrain/train/seed-24382-last-info.pth exist, delete is at first before saving\n",
      "save checkpoint into op_level-use_pretrain/train/seed-24382-last-info.pth\n",
      "<<<--->>> The 163-200-th epoch : find the highest validation accuracy : 90.43%.\n",
      "Find op_level-use_pretrain/train/checkpoint/seed-24382-best.pth exist, delete is at first before saving\n",
      "copy the file from op_level-use_pretrain/train/checkpoint/seed-24382-basic.pth into op_level-use_pretrain/train/checkpoint/seed-24382-best.pth\n",
      "\n",
      "[Search the 164-200-th epoch] Time Left: [00:18:36], LR=0.007783603724899258\n",
      "*SEARCH* [2022-11-07 10:58:11] [164-200][000/196] Time 0.53 (0.53) Data 0.39 (0.39) Base [Loss 0.085 (0.085)  Prec@1 97.66 (97.66) Prec@5 100.00 (100.00)]\n",
      "*SEARCH* [2022-11-07 10:58:42] [164-200][195/196] Time 0.14 (0.16) Data 0.00 (0.00) Base [Loss 0.092 (0.070)  Prec@1 97.50 (97.60) Prec@5 100.00 (99.98)]\n",
      "[164-200] searching : loss=0.07, accuracy@1=97.60%, accuracy@5=99.98%, time-cost=5252.8 s\n",
      "[164-200] evaluate  : loss=0.38, accuracy@1=89.71%, accuracy@5=99.65%\n",
      "Find op_level-use_pretrain/train/checkpoint/seed-24382-basic.pth exist, delete is at first before saving\n",
      "save checkpoint into op_level-use_pretrain/train/checkpoint/seed-24382-basic.pth\n",
      "Find op_level-use_pretrain/train/seed-24382-last-info.pth exist, delete is at first before saving\n",
      "save checkpoint into op_level-use_pretrain/train/seed-24382-last-info.pth\n",
      "\n",
      "[Search the 165-200-th epoch] Time Left: [00:20:06], LR=0.007367991782295403\n",
      "*SEARCH* [2022-11-07 10:58:46] [165-200][000/196] Time 0.59 (0.59) Data 0.39 (0.39) Base [Loss 0.066 (0.066)  Prec@1 96.48 (96.48) Prec@5 100.00 (100.00)]\n",
      "*SEARCH* [2022-11-07 10:59:13] [165-200][195/196] Time 0.08 (0.14) Data 0.00 (0.00) Base [Loss 0.121 (0.064)  Prec@1 96.25 (97.85) Prec@5 100.00 (100.00)]\n",
      "[165-200] searching : loss=0.06, accuracy@1=97.85%, accuracy@5=100.00%, time-cost=5281.1 s\n",
      "[165-200] evaluate  : loss=0.40, accuracy@1=89.06%, accuracy@5=99.69%\n",
      "Find op_level-use_pretrain/train/checkpoint/seed-24382-basic.pth exist, delete is at first before saving\n",
      "save checkpoint into op_level-use_pretrain/train/checkpoint/seed-24382-basic.pth\n",
      "Find op_level-use_pretrain/train/seed-24382-last-info.pth exist, delete is at first before saving\n",
      "save checkpoint into op_level-use_pretrain/train/seed-24382-last-info.pth\n",
      "\n",
      "[Search the 166-200-th epoch] Time Left: [00:17:54], LR=0.006962898649802813\n",
      "*SEARCH* [2022-11-07 10:59:17] [166-200][000/196] Time 0.54 (0.54) Data 0.41 (0.41) Base [Loss 0.067 (0.067)  Prec@1 97.66 (97.66) Prec@5 100.00 (100.00)]\n",
      "*SEARCH* [2022-11-07 10:59:45] [166-200][195/196] Time 0.09 (0.15) Data 0.00 (0.00) Base [Loss 0.074 (0.063)  Prec@1 97.50 (97.95) Prec@5 100.00 (99.99)]\n",
      "[166-200] searching : loss=0.06, accuracy@1=97.95%, accuracy@5=99.99%, time-cost=5309.9 s\n",
      "[166-200] evaluate  : loss=0.37, accuracy@1=89.87%, accuracy@5=99.64%\n",
      "Find op_level-use_pretrain/train/checkpoint/seed-24382-basic.pth exist, delete is at first before saving\n",
      "save checkpoint into op_level-use_pretrain/train/checkpoint/seed-24382-basic.pth\n",
      "Find op_level-use_pretrain/train/seed-24382-last-info.pth exist, delete is at first before saving\n",
      "save checkpoint into op_level-use_pretrain/train/seed-24382-last-info.pth\n",
      "\n",
      "[Search the 167-200-th epoch] Time Left: [00:18:23], LR=0.006568424278090435\n",
      "*SEARCH* [2022-11-07 10:59:51] [167-200][000/196] Time 0.59 (0.59) Data 0.39 (0.39) Base [Loss 0.044 (0.044)  Prec@1 98.44 (98.44) Prec@5 100.00 (100.00)]\n",
      "*SEARCH* [2022-11-07 11:00:20] [167-200][195/196] Time 0.17 (0.15) Data 0.00 (0.00) Base [Loss 0.061 (0.057)  Prec@1 98.75 (98.08) Prec@5 100.00 (99.99)]\n",
      "[167-200] searching : loss=0.06, accuracy@1=98.08%, accuracy@5=99.99%, time-cost=5339.8 s\n",
      "[167-200] evaluate  : loss=0.36, accuracy@1=90.43%, accuracy@5=99.65%\n",
      "Find op_level-use_pretrain/train/checkpoint/seed-24382-basic.pth exist, delete is at first before saving\n",
      "save checkpoint into op_level-use_pretrain/train/checkpoint/seed-24382-basic.pth\n",
      "Find op_level-use_pretrain/train/seed-24382-last-info.pth exist, delete is at first before saving\n",
      "save checkpoint into op_level-use_pretrain/train/seed-24382-last-info.pth\n",
      "\n",
      "[Search the 168-200-th epoch] Time Left: [00:17:54], LR=0.006184665997806821\n",
      "*SEARCH* [2022-11-07 11:00:24] [168-200][000/196] Time 0.56 (0.56) Data 0.38 (0.38) Base [Loss 0.039 (0.039)  Prec@1 98.83 (98.83) Prec@5 100.00 (100.00)]\n",
      "*SEARCH* [2022-11-07 11:00:52] [168-200][195/196] Time 0.10 (0.15) Data 0.00 (0.00) Base [Loss 0.099 (0.055)  Prec@1 96.25 (98.14) Prec@5 100.00 (100.00)]\n",
      "[168-200] searching : loss=0.05, accuracy@1=98.14%, accuracy@5=100.00%, time-cost=5368.7 s\n"
     ]
    },
    {
     "name": "stdout",
     "output_type": "stream",
     "text": [
      "[168-200] evaluate  : loss=0.36, accuracy@1=90.50%, accuracy@5=99.71%\n",
      "Find op_level-use_pretrain/train/checkpoint/seed-24382-basic.pth exist, delete is at first before saving\n",
      "save checkpoint into op_level-use_pretrain/train/checkpoint/seed-24382-basic.pth\n",
      "Find op_level-use_pretrain/train/seed-24382-last-info.pth exist, delete is at first before saving\n",
      "save checkpoint into op_level-use_pretrain/train/seed-24382-last-info.pth\n",
      "<<<--->>> The 168-200-th epoch : find the highest validation accuracy : 90.50%.\n",
      "Find op_level-use_pretrain/train/checkpoint/seed-24382-best.pth exist, delete is at first before saving\n",
      "copy the file from op_level-use_pretrain/train/checkpoint/seed-24382-basic.pth into op_level-use_pretrain/train/checkpoint/seed-24382-best.pth\n",
      "\n",
      "[Search the 169-200-th epoch] Time Left: [00:17:02], LR=0.005811718495565327\n",
      "*SEARCH* [2022-11-07 11:00:57] [169-200][000/196] Time 0.55 (0.55) Data 0.41 (0.41) Base [Loss 0.044 (0.044)  Prec@1 98.44 (98.44) Prec@5 100.00 (100.00)]\n",
      "*SEARCH* [2022-11-07 11:01:22] [169-200][195/196] Time 0.08 (0.13) Data 0.00 (0.00) Base [Loss 0.087 (0.053)  Prec@1 96.25 (98.19) Prec@5 100.00 (100.00)]\n",
      "[169-200] searching : loss=0.05, accuracy@1=98.19%, accuracy@5=100.00%, time-cost=5394.4 s\n",
      "[169-200] evaluate  : loss=0.34, accuracy@1=90.86%, accuracy@5=99.74%\n",
      "Find op_level-use_pretrain/train/checkpoint/seed-24382-basic.pth exist, delete is at first before saving\n",
      "save checkpoint into op_level-use_pretrain/train/checkpoint/seed-24382-basic.pth\n",
      "Find op_level-use_pretrain/train/seed-24382-last-info.pth exist, delete is at first before saving\n",
      "save checkpoint into op_level-use_pretrain/train/seed-24382-last-info.pth\n",
      "<<<--->>> The 169-200-th epoch : find the highest validation accuracy : 90.86%.\n",
      "Find op_level-use_pretrain/train/checkpoint/seed-24382-best.pth exist, delete is at first before saving\n",
      "copy the file from op_level-use_pretrain/train/checkpoint/seed-24382-basic.pth into op_level-use_pretrain/train/checkpoint/seed-24382-best.pth\n",
      "\n",
      "[Search the 170-200-th epoch] Time Left: [00:15:03], LR=0.005449673790581611\n",
      "*SEARCH* [2022-11-07 11:01:27] [170-200][000/196] Time 0.46 (0.46) Data 0.34 (0.34) Base [Loss 0.041 (0.041)  Prec@1 98.83 (98.83) Prec@5 100.00 (100.00)]\n",
      "*SEARCH* [2022-11-07 11:01:57] [170-200][195/196] Time 0.23 (0.15) Data 0.00 (0.00) Base [Loss 0.140 (0.049)  Prec@1 95.00 (98.41) Prec@5 100.00 (100.00)]\n",
      "[170-200] searching : loss=0.05, accuracy@1=98.41%, accuracy@5=100.00%, time-cost=5424.7 s\n",
      "[170-200] evaluate  : loss=0.35, accuracy@1=90.55%, accuracy@5=99.75%\n",
      "Find op_level-use_pretrain/train/checkpoint/seed-24382-basic.pth exist, delete is at first before saving\n",
      "save checkpoint into op_level-use_pretrain/train/checkpoint/seed-24382-basic.pth\n",
      "Find op_level-use_pretrain/train/seed-24382-last-info.pth exist, delete is at first before saving\n",
      "save checkpoint into op_level-use_pretrain/train/seed-24382-last-info.pth\n",
      "\n",
      "[Search the 171-200-th epoch] Time Left: [00:16:11], LR=0.005098621211969224\n",
      "*SEARCH* [2022-11-07 11:02:01] [171-200][000/196] Time 0.55 (0.55) Data 0.33 (0.33) Base [Loss 0.030 (0.030)  Prec@1 99.22 (99.22) Prec@5 100.00 (100.00)]\n",
      "*SEARCH* [2022-11-07 11:02:31] [171-200][195/196] Time 0.15 (0.15) Data 0.00 (0.00) Base [Loss 0.056 (0.045)  Prec@1 97.50 (98.58) Prec@5 100.00 (100.00)]\n",
      "[171-200] searching : loss=0.05, accuracy@1=98.58%, accuracy@5=100.00%, time-cost=5455.1 s\n",
      "[171-200] evaluate  : loss=0.35, accuracy@1=90.88%, accuracy@5=99.75%\n",
      "Find op_level-use_pretrain/train/checkpoint/seed-24382-basic.pth exist, delete is at first before saving\n",
      "save checkpoint into op_level-use_pretrain/train/checkpoint/seed-24382-basic.pth\n",
      "Find op_level-use_pretrain/train/seed-24382-last-info.pth exist, delete is at first before saving\n",
      "save checkpoint into op_level-use_pretrain/train/seed-24382-last-info.pth\n",
      "<<<--->>> The 171-200-th epoch : find the highest validation accuracy : 90.88%.\n",
      "Find op_level-use_pretrain/train/checkpoint/seed-24382-best.pth exist, delete is at first before saving\n",
      "copy the file from op_level-use_pretrain/train/checkpoint/seed-24382-basic.pth into op_level-use_pretrain/train/checkpoint/seed-24382-best.pth\n",
      "\n",
      "[Search the 172-200-th epoch] Time Left: [00:15:45], LR=0.004758647376699033\n",
      "*SEARCH* [2022-11-07 11:02:35] [172-200][000/196] Time 0.63 (0.63) Data 0.41 (0.41) Base [Loss 0.043 (0.043)  Prec@1 98.44 (98.44) Prec@5 100.00 (100.00)]\n",
      "*SEARCH* [2022-11-07 11:03:03] [172-200][195/196] Time 0.10 (0.15) Data 0.00 (0.00) Base [Loss 0.071 (0.042)  Prec@1 97.50 (98.66) Prec@5 100.00 (100.00)]\n",
      "[172-200] searching : loss=0.04, accuracy@1=98.66%, accuracy@5=100.00%, time-cost=5483.9 s\n",
      "[172-200] evaluate  : loss=0.35, accuracy@1=90.80%, accuracy@5=99.72%\n",
      "Find op_level-use_pretrain/train/checkpoint/seed-24382-basic.pth exist, delete is at first before saving\n",
      "save checkpoint into op_level-use_pretrain/train/checkpoint/seed-24382-basic.pth\n",
      "Find op_level-use_pretrain/train/seed-24382-last-info.pth exist, delete is at first before saving\n",
      "save checkpoint into op_level-use_pretrain/train/seed-24382-last-info.pth\n",
      "\n",
      "[Search the 173-200-th epoch] Time Left: [00:14:57], LR=0.004429836168227746\n",
      "*SEARCH* [2022-11-07 11:03:08] [173-200][000/196] Time 0.53 (0.53) Data 0.38 (0.38) Base [Loss 0.049 (0.049)  Prec@1 98.05 (98.05) Prec@5 100.00 (100.00)]\n",
      "*SEARCH* [2022-11-07 11:03:33] [173-200][195/196] Time 0.16 (0.13) Data 0.00 (0.00) Base [Loss 0.113 (0.040)  Prec@1 96.25 (98.73) Prec@5 100.00 (100.00)]\n",
      "[173-200] searching : loss=0.04, accuracy@1=98.73%, accuracy@5=100.00%, time-cost=5509.7 s\n",
      "[173-200] evaluate  : loss=0.34, accuracy@1=91.10%, accuracy@5=99.65%\n",
      "Find op_level-use_pretrain/train/checkpoint/seed-24382-basic.pth exist, delete is at first before saving\n",
      "save checkpoint into op_level-use_pretrain/train/checkpoint/seed-24382-basic.pth\n",
      "Find op_level-use_pretrain/train/seed-24382-last-info.pth exist, delete is at first before saving\n",
      "save checkpoint into op_level-use_pretrain/train/seed-24382-last-info.pth\n",
      "<<<--->>> The 173-200-th epoch : find the highest validation accuracy : 91.10%.\n",
      "Find op_level-use_pretrain/train/checkpoint/seed-24382-best.pth exist, delete is at first before saving\n",
      "copy the file from op_level-use_pretrain/train/checkpoint/seed-24382-basic.pth into op_level-use_pretrain/train/checkpoint/seed-24382-best.pth\n",
      "\n",
      "[Search the 174-200-th epoch] Time Left: [00:13:01], LR=0.004112268715800955\n",
      "*SEARCH* [2022-11-07 11:03:38] [174-200][000/196] Time 0.48 (0.48) Data 0.33 (0.33) Base [Loss 0.027 (0.027)  Prec@1 98.83 (98.83) Prec@5 100.00 (100.00)]\n",
      "*SEARCH* [2022-11-07 11:04:04] [174-200][195/196] Time 0.10 (0.13) Data 0.00 (0.00) Base [Loss 0.096 (0.037)  Prec@1 96.25 (98.86) Prec@5 100.00 (100.00)]\n",
      "[174-200] searching : loss=0.04, accuracy@1=98.86%, accuracy@5=100.00%, time-cost=5536.1 s\n",
      "[174-200] evaluate  : loss=0.36, accuracy@1=90.93%, accuracy@5=99.79%\n",
      "Find op_level-use_pretrain/train/checkpoint/seed-24382-basic.pth exist, delete is at first before saving\n",
      "save checkpoint into op_level-use_pretrain/train/checkpoint/seed-24382-basic.pth\n",
      "Find op_level-use_pretrain/train/seed-24382-last-info.pth exist, delete is at first before saving\n",
      "save checkpoint into op_level-use_pretrain/train/seed-24382-last-info.pth\n",
      "\n",
      "[Search the 175-200-th epoch] Time Left: [00:12:34], LR=0.0038060233744356743\n",
      "*SEARCH* [2022-11-07 11:04:08] [175-200][000/196] Time 0.51 (0.51) Data 0.34 (0.34) Base [Loss 0.026 (0.026)  Prec@1 99.22 (99.22) Prec@5 100.00 (100.00)]\n",
      "*SEARCH* [2022-11-07 11:04:35] [175-200][195/196] Time 0.10 (0.14) Data 0.00 (0.00) Base [Loss 0.034 (0.034)  Prec@1 98.75 (98.92) Prec@5 100.00 (100.00)]\n",
      "[175-200] searching : loss=0.03, accuracy@1=98.92%, accuracy@5=100.00%, time-cost=5563.5 s\n",
      "[175-200] evaluate  : loss=0.33, accuracy@1=91.36%, accuracy@5=99.76%\n",
      "Find op_level-use_pretrain/train/checkpoint/seed-24382-basic.pth exist, delete is at first before saving\n",
      "save checkpoint into op_level-use_pretrain/train/checkpoint/seed-24382-basic.pth\n",
      "Find op_level-use_pretrain/train/seed-24382-last-info.pth exist, delete is at first before saving\n",
      "save checkpoint into op_level-use_pretrain/train/seed-24382-last-info.pth\n",
      "<<<--->>> The 175-200-th epoch : find the highest validation accuracy : 91.36%.\n",
      "Find op_level-use_pretrain/train/checkpoint/seed-24382-best.pth exist, delete is at first before saving\n",
      "copy the file from op_level-use_pretrain/train/checkpoint/seed-24382-basic.pth into op_level-use_pretrain/train/checkpoint/seed-24382-best.pth\n",
      "\n",
      "[Search the 176-200-th epoch] Time Left: [00:12:43], LR=0.0035111757055874327\n"
     ]
    },
    {
     "name": "stdout",
     "output_type": "stream",
     "text": [
      "*SEARCH* [2022-11-07 11:04:40] [176-200][000/196] Time 0.55 (0.55) Data 0.42 (0.42) Base [Loss 0.034 (0.034)  Prec@1 99.22 (99.22) Prec@5 100.00 (100.00)]\n",
      "*SEARCH* [2022-11-07 11:05:11] [176-200][195/196] Time 0.13 (0.16) Data 0.00 (0.00) Base [Loss 0.133 (0.032)  Prec@1 96.25 (99.04) Prec@5 100.00 (100.00)]\n",
      "[176-200] searching : loss=0.03, accuracy@1=99.04%, accuracy@5=100.00%, time-cost=5595.3 s\n",
      "[176-200] evaluate  : loss=0.35, accuracy@1=91.41%, accuracy@5=99.73%\n",
      "Find op_level-use_pretrain/train/checkpoint/seed-24382-basic.pth exist, delete is at first before saving\n",
      "save checkpoint into op_level-use_pretrain/train/checkpoint/seed-24382-basic.pth\n",
      "Find op_level-use_pretrain/train/seed-24382-last-info.pth exist, delete is at first before saving\n",
      "save checkpoint into op_level-use_pretrain/train/seed-24382-last-info.pth\n",
      "<<<--->>> The 176-200-th epoch : find the highest validation accuracy : 91.41%.\n",
      "Find op_level-use_pretrain/train/checkpoint/seed-24382-best.pth exist, delete is at first before saving\n",
      "copy the file from op_level-use_pretrain/train/checkpoint/seed-24382-basic.pth into op_level-use_pretrain/train/checkpoint/seed-24382-best.pth\n",
      "\n",
      "[Search the 177-200-th epoch] Time Left: [00:13:29], LR=0.003227798458506631\n",
      "*SEARCH* [2022-11-07 11:05:15] [177-200][000/196] Time 0.54 (0.54) Data 0.42 (0.42) Base [Loss 0.033 (0.033)  Prec@1 98.44 (98.44) Prec@5 100.00 (100.00)]\n",
      "*SEARCH* [2022-11-07 11:05:40] [177-200][195/196] Time 0.16 (0.13) Data 0.00 (0.00) Base [Loss 0.026 (0.031)  Prec@1 98.75 (99.09) Prec@5 100.00 (100.00)]\n",
      "[177-200] searching : loss=0.03, accuracy@1=99.09%, accuracy@5=100.00%, time-cost=5621.1 s\n",
      "[177-200] evaluate  : loss=0.34, accuracy@1=91.24%, accuracy@5=99.77%\n",
      "Find op_level-use_pretrain/train/checkpoint/seed-24382-basic.pth exist, delete is at first before saving\n",
      "save checkpoint into op_level-use_pretrain/train/checkpoint/seed-24382-basic.pth\n",
      "Find op_level-use_pretrain/train/seed-24382-last-info.pth exist, delete is at first before saving\n",
      "save checkpoint into op_level-use_pretrain/train/seed-24382-last-info.pth\n",
      "\n",
      "[Search the 178-200-th epoch] Time Left: [00:10:38], LR=0.0029559615522887273\n",
      "*SEARCH* [2022-11-07 11:05:44] [178-200][000/196] Time 0.58 (0.58) Data 0.34 (0.34) Base [Loss 0.036 (0.036)  Prec@1 98.83 (98.83) Prec@5 100.00 (100.00)]\n",
      "*SEARCH* [2022-11-07 11:06:13] [178-200][195/196] Time 0.10 (0.15) Data 0.00 (0.00) Base [Loss 0.040 (0.028)  Prec@1 98.75 (99.14) Prec@5 100.00 (100.00)]\n",
      "[178-200] searching : loss=0.03, accuracy@1=99.14%, accuracy@5=100.00%, time-cost=5650.5 s\n",
      "[178-200] evaluate  : loss=0.34, accuracy@1=91.63%, accuracy@5=99.74%\n",
      "Find op_level-use_pretrain/train/checkpoint/seed-24382-basic.pth exist, delete is at first before saving\n",
      "save checkpoint into op_level-use_pretrain/train/checkpoint/seed-24382-basic.pth\n",
      "Find op_level-use_pretrain/train/seed-24382-last-info.pth exist, delete is at first before saving\n",
      "save checkpoint into op_level-use_pretrain/train/seed-24382-last-info.pth\n",
      "<<<--->>> The 178-200-th epoch : find the highest validation accuracy : 91.63%.\n",
      "Find op_level-use_pretrain/train/checkpoint/seed-24382-best.pth exist, delete is at first before saving\n",
      "copy the file from op_level-use_pretrain/train/checkpoint/seed-24382-basic.pth into op_level-use_pretrain/train/checkpoint/seed-24382-best.pth\n",
      "\n",
      "[Search the 179-200-th epoch] Time Left: [00:11:45], LR=0.0026957320586227353\n",
      "*SEARCH* [2022-11-07 11:06:18] [179-200][000/196] Time 0.50 (0.50) Data 0.39 (0.39) Base [Loss 0.054 (0.054)  Prec@1 97.66 (97.66) Prec@5 100.00 (100.00)]\n",
      "*SEARCH* [2022-11-07 11:06:45] [179-200][195/196] Time 0.15 (0.14) Data 0.00 (0.00) Base [Loss 0.111 (0.026)  Prec@1 95.00 (99.23) Prec@5 100.00 (100.00)]\n",
      "[179-200] searching : loss=0.03, accuracy@1=99.23%, accuracy@5=100.00%, time-cost=5678.6 s\n",
      "[179-200] evaluate  : loss=0.34, accuracy@1=91.79%, accuracy@5=99.76%\n",
      "Find op_level-use_pretrain/train/checkpoint/seed-24382-basic.pth exist, delete is at first before saving\n",
      "save checkpoint into op_level-use_pretrain/train/checkpoint/seed-24382-basic.pth\n",
      "Find op_level-use_pretrain/train/seed-24382-last-info.pth exist, delete is at first before saving\n",
      "save checkpoint into op_level-use_pretrain/train/seed-24382-last-info.pth\n",
      "<<<--->>> The 179-200-th epoch : find the highest validation accuracy : 91.79%.\n",
      "Find op_level-use_pretrain/train/checkpoint/seed-24382-best.pth exist, delete is at first before saving\n",
      "copy the file from op_level-use_pretrain/train/checkpoint/seed-24382-basic.pth into op_level-use_pretrain/train/checkpoint/seed-24382-best.pth\n",
      "\n",
      "[Search the 180-200-th epoch] Time Left: [00:10:25], LR=0.0024471741852423235\n",
      "*SEARCH* [2022-11-07 11:06:49] [180-200][000/196] Time 0.58 (0.58) Data 0.40 (0.40) Base [Loss 0.020 (0.020)  Prec@1 100.00 (100.00) Prec@5 100.00 (100.00)]\n",
      "*SEARCH* [2022-11-07 11:07:17] [180-200][195/196] Time 0.15 (0.14) Data 0.00 (0.00) Base [Loss 0.037 (0.025)  Prec@1 97.50 (99.31) Prec@5 100.00 (100.00)]\n",
      "[180-200] searching : loss=0.02, accuracy@1=99.31%, accuracy@5=100.00%, time-cost=5706.9 s\n",
      "[180-200] evaluate  : loss=0.33, accuracy@1=91.91%, accuracy@5=99.77%\n",
      "Find op_level-use_pretrain/train/checkpoint/seed-24382-basic.pth exist, delete is at first before saving\n",
      "save checkpoint into op_level-use_pretrain/train/checkpoint/seed-24382-basic.pth\n",
      "Find op_level-use_pretrain/train/seed-24382-last-info.pth exist, delete is at first before saving\n",
      "save checkpoint into op_level-use_pretrain/train/seed-24382-last-info.pth\n",
      "<<<--->>> The 180-200-th epoch : find the highest validation accuracy : 91.91%.\n",
      "Find op_level-use_pretrain/train/checkpoint/seed-24382-best.pth exist, delete is at first before saving\n",
      "copy the file from op_level-use_pretrain/train/checkpoint/seed-24382-basic.pth into op_level-use_pretrain/train/checkpoint/seed-24382-best.pth\n",
      "\n",
      "[Search the 181-200-th epoch] Time Left: [00:09:58], LR=0.002210349260083494\n",
      "*SEARCH* [2022-11-07 11:07:20] [181-200][000/196] Time 0.50 (0.50) Data 0.34 (0.34) Base [Loss 0.015 (0.015)  Prec@1 99.61 (99.61) Prec@5 100.00 (100.00)]\n",
      "*SEARCH* [2022-11-07 11:07:52] [181-200][195/196] Time 0.10 (0.16) Data 0.00 (0.00) Base [Loss 0.040 (0.023)  Prec@1 98.75 (99.41) Prec@5 100.00 (100.00)]\n",
      "[181-200] searching : loss=0.02, accuracy@1=99.41%, accuracy@5=100.00%, time-cost=5739.1 s\n",
      "[181-200] evaluate  : loss=0.34, accuracy@1=91.71%, accuracy@5=99.74%\n",
      "Find op_level-use_pretrain/train/checkpoint/seed-24382-basic.pth exist, delete is at first before saving\n",
      "save checkpoint into op_level-use_pretrain/train/checkpoint/seed-24382-basic.pth\n",
      "Find op_level-use_pretrain/train/seed-24382-last-info.pth exist, delete is at first before saving\n",
      "save checkpoint into op_level-use_pretrain/train/seed-24382-last-info.pth\n",
      "\n",
      "[Search the 182-200-th epoch] Time Left: [00:10:41], LR=0.0019853157161528524\n",
      "*SEARCH* [2022-11-07 11:07:56] [182-200][000/196] Time 0.58 (0.58) Data 0.34 (0.34) Base [Loss 0.021 (0.021)  Prec@1 99.22 (99.22) Prec@5 100.00 (100.00)]\n",
      "*SEARCH* [2022-11-07 11:08:21] [182-200][195/196] Time 0.10 (0.13) Data 0.00 (0.00) Base [Loss 0.046 (0.023)  Prec@1 98.75 (99.34) Prec@5 100.00 (100.00)]\n",
      "[182-200] searching : loss=0.02, accuracy@1=99.34%, accuracy@5=100.00%, time-cost=5764.7 s\n",
      "[182-200] evaluate  : loss=0.33, accuracy@1=91.69%, accuracy@5=99.74%\n",
      "Find op_level-use_pretrain/train/checkpoint/seed-24382-basic.pth exist, delete is at first before saving\n",
      "save checkpoint into op_level-use_pretrain/train/checkpoint/seed-24382-basic.pth\n",
      "Find op_level-use_pretrain/train/seed-24382-last-info.pth exist, delete is at first before saving\n",
      "save checkpoint into op_level-use_pretrain/train/seed-24382-last-info.pth\n",
      "\n",
      "[Search the 183-200-th epoch] Time Left: [00:08:10], LR=0.0017721290771101018\n",
      "*SEARCH* [2022-11-07 11:08:25] [183-200][000/196] Time 0.51 (0.51) Data 0.39 (0.39) Base [Loss 0.037 (0.037)  Prec@1 98.05 (98.05) Prec@5 100.00 (100.00)]\n",
      "*SEARCH* [2022-11-07 11:08:49] [183-200][195/196] Time 0.08 (0.13) Data 0.00 (0.00) Base [Loss 0.017 (0.019)  Prec@1 100.00 (99.47) Prec@5 100.00 (100.00)]\n",
      "[183-200] searching : loss=0.02, accuracy@1=99.47%, accuracy@5=100.00%, time-cost=5789.7 s\n",
      "[183-200] evaluate  : loss=0.34, accuracy@1=91.69%, accuracy@5=99.76%\n",
      "Find op_level-use_pretrain/train/checkpoint/seed-24382-basic.pth exist, delete is at first before saving\n",
      "save checkpoint into op_level-use_pretrain/train/checkpoint/seed-24382-basic.pth\n",
      "Find op_level-use_pretrain/train/seed-24382-last-info.pth exist, delete is at first before saving\n",
      "save checkpoint into op_level-use_pretrain/train/seed-24382-last-info.pth\n",
      "\n",
      "[Search the 184-200-th epoch] Time Left: [00:07:32], LR=0.0015708419435684518\n"
     ]
    },
    {
     "name": "stdout",
     "output_type": "stream",
     "text": [
      "*SEARCH* [2022-11-07 11:08:53] [184-200][000/196] Time 0.44 (0.44) Data 0.32 (0.32) Base [Loss 0.025 (0.025)  Prec@1 99.22 (99.22) Prec@5 100.00 (100.00)]\n",
      "*SEARCH* [2022-11-07 11:09:20] [184-200][195/196] Time 0.16 (0.14) Data 0.00 (0.00) Base [Loss 0.022 (0.020)  Prec@1 100.00 (99.46) Prec@5 100.00 (100.00)]\n",
      "[184-200] searching : loss=0.02, accuracy@1=99.46%, accuracy@5=100.00%, time-cost=5816.6 s\n",
      "[184-200] evaluate  : loss=0.33, accuracy@1=92.03%, accuracy@5=99.72%\n",
      "Find op_level-use_pretrain/train/checkpoint/seed-24382-basic.pth exist, delete is at first before saving\n",
      "save checkpoint into op_level-use_pretrain/train/checkpoint/seed-24382-basic.pth\n",
      "Find op_level-use_pretrain/train/seed-24382-last-info.pth exist, delete is at first before saving\n",
      "save checkpoint into op_level-use_pretrain/train/seed-24382-last-info.pth\n",
      "<<<--->>> The 184-200-th epoch : find the highest validation accuracy : 92.03%.\n",
      "Find op_level-use_pretrain/train/checkpoint/seed-24382-best.pth exist, delete is at first before saving\n",
      "copy the file from op_level-use_pretrain/train/checkpoint/seed-24382-basic.pth into op_level-use_pretrain/train/checkpoint/seed-24382-best.pth\n",
      "\n",
      "[Search the 185-200-th epoch] Time Left: [00:07:32], LR=0.0013815039801161723\n",
      "*SEARCH* [2022-11-07 11:09:23] [185-200][000/196] Time 0.54 (0.54) Data 0.42 (0.42) Base [Loss 0.011 (0.011)  Prec@1 100.00 (100.00) Prec@5 100.00 (100.00)]\n",
      "*SEARCH* [2022-11-07 11:09:50] [185-200][195/196] Time 0.08 (0.14) Data 0.00 (0.00) Base [Loss 0.016 (0.018)  Prec@1 100.00 (99.56) Prec@5 100.00 (100.00)]\n",
      "[185-200] searching : loss=0.02, accuracy@1=99.56%, accuracy@5=100.00%, time-cost=5843.4 s\n",
      "[185-200] evaluate  : loss=0.34, accuracy@1=91.85%, accuracy@5=99.74%\n",
      "Find op_level-use_pretrain/train/checkpoint/seed-24382-basic.pth exist, delete is at first before saving\n",
      "save checkpoint into op_level-use_pretrain/train/checkpoint/seed-24382-basic.pth\n",
      "Find op_level-use_pretrain/train/seed-24382-last-info.pth exist, delete is at first before saving\n",
      "save checkpoint into op_level-use_pretrain/train/seed-24382-last-info.pth\n",
      "\n",
      "[Search the 186-200-th epoch] Time Left: [00:07:00], LR=0.0012041619030626338\n",
      "*SEARCH* [2022-11-07 11:09:53] [186-200][000/196] Time 0.50 (0.50) Data 0.35 (0.35) Base [Loss 0.016 (0.016)  Prec@1 99.22 (99.22) Prec@5 100.00 (100.00)]\n",
      "*SEARCH* [2022-11-07 11:10:20] [186-200][195/196] Time 0.13 (0.14) Data 0.00 (0.00) Base [Loss 0.008 (0.018)  Prec@1 100.00 (99.56) Prec@5 100.00 (100.00)]\n",
      "[186-200] searching : loss=0.02, accuracy@1=99.56%, accuracy@5=100.00%, time-cost=5870.1 s\n",
      "[186-200] evaluate  : loss=0.33, accuracy@1=91.75%, accuracy@5=99.75%\n",
      "Find op_level-use_pretrain/train/checkpoint/seed-24382-basic.pth exist, delete is at first before saving\n",
      "save checkpoint into op_level-use_pretrain/train/checkpoint/seed-24382-basic.pth\n",
      "Find op_level-use_pretrain/train/seed-24382-last-info.pth exist, delete is at first before saving\n",
      "save checkpoint into op_level-use_pretrain/train/seed-24382-last-info.pth\n",
      "\n",
      "[Search the 187-200-th epoch] Time Left: [00:06:42], LR=0.001038859468911707\n",
      "*SEARCH* [2022-11-07 11:10:24] [187-200][000/196] Time 0.57 (0.57) Data 0.37 (0.37) Base [Loss 0.015 (0.015)  Prec@1 99.61 (99.61) Prec@5 100.00 (100.00)]\n",
      "*SEARCH* [2022-11-07 11:10:53] [187-200][195/196] Time 0.15 (0.15) Data 0.00 (0.00) Base [Loss 0.039 (0.017)  Prec@1 98.75 (99.57) Prec@5 100.00 (100.00)]\n",
      "[187-200] searching : loss=0.02, accuracy@1=99.57%, accuracy@5=100.00%, time-cost=5899.6 s\n",
      "[187-200] evaluate  : loss=0.34, accuracy@1=91.87%, accuracy@5=99.79%\n",
      "Find op_level-use_pretrain/train/checkpoint/seed-24382-basic.pth exist, delete is at first before saving\n",
      "save checkpoint into op_level-use_pretrain/train/checkpoint/seed-24382-basic.pth\n",
      "Find op_level-use_pretrain/train/seed-24382-last-info.pth exist, delete is at first before saving\n",
      "save checkpoint into op_level-use_pretrain/train/seed-24382-last-info.pth\n",
      "\n",
      "[Search the 188-200-th epoch] Time Left: [00:06:37], LR=0.000885637463565564\n",
      "*SEARCH* [2022-11-07 11:10:58] [188-200][000/196] Time 0.58 (0.58) Data 0.38 (0.38) Base [Loss 0.011 (0.011)  Prec@1 100.00 (100.00) Prec@5 100.00 (100.00)]\n",
      "*SEARCH* [2022-11-07 11:11:28] [188-200][195/196] Time 0.11 (0.16) Data 0.00 (0.00) Base [Loss 0.016 (0.016)  Prec@1 98.75 (99.61) Prec@5 100.00 (100.00)]\n",
      "[188-200] searching : loss=0.02, accuracy@1=99.61%, accuracy@5=100.00%, time-cost=5930.3 s\n",
      "[188-200] evaluate  : loss=0.33, accuracy@1=91.87%, accuracy@5=99.73%\n",
      "Find op_level-use_pretrain/train/checkpoint/seed-24382-basic.pth exist, delete is at first before saving\n",
      "save checkpoint into op_level-use_pretrain/train/checkpoint/seed-24382-basic.pth\n",
      "Find op_level-use_pretrain/train/seed-24382-last-info.pth exist, delete is at first before saving\n",
      "save checkpoint into op_level-use_pretrain/train/seed-24382-last-info.pth\n",
      "\n",
      "[Search the 189-200-th epoch] Time Left: [00:06:28], LR=0.0007445336922613067\n",
      "*SEARCH* [2022-11-07 11:11:33] [189-200][000/196] Time 0.55 (0.55) Data 0.37 (0.37) Base [Loss 0.010 (0.010)  Prec@1 100.00 (100.00) Prec@5 100.00 (100.00)]\n",
      "*SEARCH* [2022-11-07 11:12:01] [189-200][195/196] Time 0.24 (0.15) Data 0.00 (0.00) Base [Loss 0.056 (0.016)  Prec@1 98.75 (99.62) Prec@5 100.00 (100.00)]\n",
      "[189-200] searching : loss=0.02, accuracy@1=99.62%, accuracy@5=100.00%, time-cost=5959.1 s\n",
      "[189-200] evaluate  : loss=0.33, accuracy@1=91.85%, accuracy@5=99.72%\n",
      "Find op_level-use_pretrain/train/checkpoint/seed-24382-basic.pth exist, delete is at first before saving\n",
      "save checkpoint into op_level-use_pretrain/train/checkpoint/seed-24382-basic.pth\n",
      "Find op_level-use_pretrain/train/seed-24382-last-info.pth exist, delete is at first before saving\n",
      "save checkpoint into op_level-use_pretrain/train/seed-24382-last-info.pth\n",
      "\n",
      "[Search the 190-200-th epoch] Time Left: [00:05:30], LR=0.0006155829702431171\n",
      "*SEARCH* [2022-11-07 11:12:06] [190-200][000/196] Time 0.57 (0.57) Data 0.34 (0.34) Base [Loss 0.012 (0.012)  Prec@1 99.61 (99.61) Prec@5 100.00 (100.00)]\n",
      "*SEARCH* [2022-11-07 11:12:33] [190-200][195/196] Time 0.10 (0.14) Data 0.00 (0.00) Base [Loss 0.063 (0.016)  Prec@1 97.50 (99.64) Prec@5 100.00 (100.00)]\n",
      "[190-200] searching : loss=0.02, accuracy@1=99.64%, accuracy@5=100.00%, time-cost=5986.4 s\n",
      "[190-200] evaluate  : loss=0.33, accuracy@1=91.85%, accuracy@5=99.72%\n",
      "Find op_level-use_pretrain/train/checkpoint/seed-24382-basic.pth exist, delete is at first before saving\n",
      "save checkpoint into op_level-use_pretrain/train/checkpoint/seed-24382-basic.pth\n",
      "Find op_level-use_pretrain/train/seed-24382-last-info.pth exist, delete is at first before saving\n",
      "save checkpoint into op_level-use_pretrain/train/seed-24382-last-info.pth\n",
      "\n",
      "[Search the 191-200-th epoch] Time Left: [00:04:36], LR=0.0004988171141721232\n",
      "*SEARCH* [2022-11-07 11:12:37] [191-200][000/196] Time 0.53 (0.53) Data 0.34 (0.34) Base [Loss 0.011 (0.011)  Prec@1 99.61 (99.61) Prec@5 100.00 (100.00)]\n",
      "*SEARCH* [2022-11-07 11:13:02] [191-200][195/196] Time 0.10 (0.13) Data 0.00 (0.00) Base [Loss 0.033 (0.015)  Prec@1 97.50 (99.66) Prec@5 100.00 (100.00)]\n",
      "[191-200] searching : loss=0.01, accuracy@1=99.66%, accuracy@5=100.00%, time-cost=6012.2 s\n",
      "[191-200] evaluate  : loss=0.33, accuracy@1=91.89%, accuracy@5=99.75%\n",
      "Find op_level-use_pretrain/train/checkpoint/seed-24382-basic.pth exist, delete is at first before saving\n",
      "save checkpoint into op_level-use_pretrain/train/checkpoint/seed-24382-basic.pth\n",
      "Find op_level-use_pretrain/train/seed-24382-last-info.pth exist, delete is at first before saving\n",
      "save checkpoint into op_level-use_pretrain/train/seed-24382-last-info.pth\n",
      "\n",
      "[Search the 192-200-th epoch] Time Left: [00:03:53], LR=0.0003942649342761118\n",
      "*SEARCH* [2022-11-07 11:13:06] [192-200][000/196] Time 0.55 (0.55) Data 0.40 (0.40) Base [Loss 0.011 (0.011)  Prec@1 100.00 (100.00) Prec@5 100.00 (100.00)]\n",
      "*SEARCH* [2022-11-07 11:13:35] [192-200][195/196] Time 0.14 (0.15) Data 0.00 (0.00) Base [Loss 0.014 (0.016)  Prec@1 100.00 (99.62) Prec@5 100.00 (100.00)]\n",
      "[192-200] searching : loss=0.02, accuracy@1=99.62%, accuracy@5=100.00%, time-cost=6041.9 s\n",
      "[192-200] evaluate  : loss=0.33, accuracy@1=91.81%, accuracy@5=99.73%\n",
      "Find op_level-use_pretrain/train/checkpoint/seed-24382-basic.pth exist, delete is at first before saving\n",
      "save checkpoint into op_level-use_pretrain/train/checkpoint/seed-24382-basic.pth\n",
      "Find op_level-use_pretrain/train/seed-24382-last-info.pth exist, delete is at first before saving\n",
      "save checkpoint into op_level-use_pretrain/train/seed-24382-last-info.pth\n",
      "\n",
      "[Search the 193-200-th epoch] Time Left: [00:03:50], LR=0.00030195222724102024\n"
     ]
    },
    {
     "name": "stdout",
     "output_type": "stream",
     "text": [
      "*SEARCH* [2022-11-07 11:13:39] [193-200][000/196] Time 0.59 (0.59) Data 0.35 (0.35) Base [Loss 0.038 (0.038)  Prec@1 98.44 (98.44) Prec@5 100.00 (100.00)]\n",
      "*SEARCH* [2022-11-07 11:14:04] [193-200][195/196] Time 0.12 (0.13) Data 0.00 (0.00) Base [Loss 0.023 (0.015)  Prec@1 100.00 (99.68) Prec@5 100.00 (100.00)]\n",
      "[193-200] searching : loss=0.01, accuracy@1=99.68%, accuracy@5=100.00%, time-cost=6067.7 s\n",
      "[193-200] evaluate  : loss=0.33, accuracy@1=91.87%, accuracy@5=99.73%\n",
      "Find op_level-use_pretrain/train/checkpoint/seed-24382-basic.pth exist, delete is at first before saving\n",
      "save checkpoint into op_level-use_pretrain/train/checkpoint/seed-24382-basic.pth\n",
      "Find op_level-use_pretrain/train/seed-24382-last-info.pth exist, delete is at first before saving\n",
      "save checkpoint into op_level-use_pretrain/train/seed-24382-last-info.pth\n",
      "\n",
      "[Search the 194-200-th epoch] Time Left: [00:02:54], LR=0.0002219017698460002\n",
      "*SEARCH* [2022-11-07 11:14:08] [194-200][000/196] Time 0.51 (0.51) Data 0.36 (0.36) Base [Loss 0.012 (0.012)  Prec@1 99.61 (99.61) Prec@5 100.00 (100.00)]\n",
      "*SEARCH* [2022-11-07 11:14:34] [194-200][195/196] Time 0.10 (0.13) Data 0.00 (0.00) Base [Loss 0.042 (0.015)  Prec@1 98.75 (99.68) Prec@5 100.00 (100.00)]\n",
      "[194-200] searching : loss=0.01, accuracy@1=99.68%, accuracy@5=100.00%, time-cost=6093.9 s\n",
      "[194-200] evaluate  : loss=0.33, accuracy@1=91.86%, accuracy@5=99.77%\n",
      "Find op_level-use_pretrain/train/checkpoint/seed-24382-basic.pth exist, delete is at first before saving\n",
      "save checkpoint into op_level-use_pretrain/train/checkpoint/seed-24382-basic.pth\n",
      "Find op_level-use_pretrain/train/seed-24382-last-info.pth exist, delete is at first before saving\n",
      "save checkpoint into op_level-use_pretrain/train/seed-24382-last-info.pth\n",
      "\n",
      "[Search the 195-200-th epoch] Time Left: [00:02:27], LR=0.0001541333133436018\n",
      "*SEARCH* [2022-11-07 11:14:37] [195-200][000/196] Time 0.55 (0.55) Data 0.40 (0.40) Base [Loss 0.012 (0.012)  Prec@1 100.00 (100.00) Prec@5 100.00 (100.00)]\n",
      "*SEARCH* [2022-11-07 11:15:06] [195-200][195/196] Time 0.10 (0.15) Data 0.00 (0.00) Base [Loss 0.061 (0.014)  Prec@1 98.75 (99.73) Prec@5 100.00 (100.00)]\n",
      "[195-200] searching : loss=0.01, accuracy@1=99.73%, accuracy@5=100.00%, time-cost=6122.7 s\n",
      "[195-200] evaluate  : loss=0.33, accuracy@1=91.99%, accuracy@5=99.74%\n",
      "Find op_level-use_pretrain/train/checkpoint/seed-24382-basic.pth exist, delete is at first before saving\n",
      "save checkpoint into op_level-use_pretrain/train/checkpoint/seed-24382-basic.pth\n",
      "Find op_level-use_pretrain/train/seed-24382-last-info.pth exist, delete is at first before saving\n",
      "save checkpoint into op_level-use_pretrain/train/seed-24382-last-info.pth\n",
      "\n",
      "[Search the 196-200-th epoch] Time Left: [00:02:13], LR=9.866357858642206e-05\n",
      "*SEARCH* [2022-11-07 11:15:11] [196-200][000/196] Time 0.54 (0.54) Data 0.42 (0.42) Base [Loss 0.022 (0.022)  Prec@1 99.61 (99.61) Prec@5 100.00 (100.00)]\n",
      "*SEARCH* [2022-11-07 11:15:37] [196-200][195/196] Time 0.10 (0.13) Data 0.00 (0.00) Base [Loss 0.137 (0.014)  Prec@1 95.00 (99.68) Prec@5 98.75 (100.00)]\n",
      "[196-200] searching : loss=0.01, accuracy@1=99.68%, accuracy@5=100.00%, time-cost=6149.1 s\n",
      "[196-200] evaluate  : loss=0.33, accuracy@1=91.81%, accuracy@5=99.75%\n",
      "Find op_level-use_pretrain/train/checkpoint/seed-24382-basic.pth exist, delete is at first before saving\n",
      "save checkpoint into op_level-use_pretrain/train/checkpoint/seed-24382-basic.pth\n",
      "Find op_level-use_pretrain/train/seed-24382-last-info.pth exist, delete is at first before saving\n",
      "save checkpoint into op_level-use_pretrain/train/seed-24382-last-info.pth\n",
      "\n",
      "[Search the 197-200-th epoch] Time Left: [00:01:31], LR=5.550625190150482e-05\n",
      "*SEARCH* [2022-11-07 11:15:41] [197-200][000/196] Time 0.58 (0.58) Data 0.43 (0.43) Base [Loss 0.005 (0.005)  Prec@1 100.00 (100.00) Prec@5 100.00 (100.00)]\n",
      "*SEARCH* [2022-11-07 11:16:10] [197-200][195/196] Time 0.10 (0.15) Data 0.00 (0.00) Base [Loss 0.057 (0.013)  Prec@1 98.75 (99.71) Prec@5 100.00 (100.00)]\n",
      "[197-200] searching : loss=0.01, accuracy@1=99.71%, accuracy@5=100.00%, time-cost=6178.5 s\n",
      "[197-200] evaluate  : loss=0.33, accuracy@1=91.90%, accuracy@5=99.77%\n",
      "Find op_level-use_pretrain/train/checkpoint/seed-24382-basic.pth exist, delete is at first before saving\n",
      "save checkpoint into op_level-use_pretrain/train/checkpoint/seed-24382-basic.pth\n",
      "Find op_level-use_pretrain/train/seed-24382-last-info.pth exist, delete is at first before saving\n",
      "save checkpoint into op_level-use_pretrain/train/seed-24382-last-info.pth\n",
      "\n",
      "[Search the 198-200-th epoch] Time Left: [00:01:05], LR=2.467198171342e-05\n",
      "*SEARCH* [2022-11-07 11:16:14] [198-200][000/196] Time 0.65 (0.65) Data 0.34 (0.34) Base [Loss 0.013 (0.013)  Prec@1 99.61 (99.61) Prec@5 100.00 (100.00)]\n",
      "*SEARCH* [2022-11-07 11:16:42] [198-200][195/196] Time 0.13 (0.15) Data 0.00 (0.00) Base [Loss 0.007 (0.014)  Prec@1 100.00 (99.68) Prec@5 100.00 (100.00)]\n",
      "[198-200] searching : loss=0.01, accuracy@1=99.68%, accuracy@5=100.00%, time-cost=6207.4 s\n",
      "[198-200] evaluate  : loss=0.33, accuracy@1=91.92%, accuracy@5=99.75%\n",
      "Find op_level-use_pretrain/train/checkpoint/seed-24382-basic.pth exist, delete is at first before saving\n",
      "save checkpoint into op_level-use_pretrain/train/checkpoint/seed-24382-basic.pth\n",
      "Find op_level-use_pretrain/train/seed-24382-last-info.pth exist, delete is at first before saving\n",
      "save checkpoint into op_level-use_pretrain/train/seed-24382-last-info.pth\n",
      "\n",
      "[Search the 199-200-th epoch] Time Left: [00:00:32], LR=6.168375916970615e-06\n",
      "*SEARCH* [2022-11-07 11:16:47] [199-200][000/196] Time 0.55 (0.55) Data 0.38 (0.38) Base [Loss 0.012 (0.012)  Prec@1 100.00 (100.00) Prec@5 100.00 (100.00)]\n",
      "*SEARCH* [2022-11-07 11:17:15] [199-200][195/196] Time 0.14 (0.14) Data 0.00 (0.00) Base [Loss 0.033 (0.013)  Prec@1 98.75 (99.72) Prec@5 100.00 (100.00)]\n",
      "[199-200] searching : loss=0.01, accuracy@1=99.72%, accuracy@5=100.00%, time-cost=6235.7 s\n",
      "[199-200] evaluate  : loss=0.33, accuracy@1=91.87%, accuracy@5=99.77%\n",
      "Find op_level-use_pretrain/train/checkpoint/seed-24382-basic.pth exist, delete is at first before saving\n",
      "save checkpoint into op_level-use_pretrain/train/checkpoint/seed-24382-basic.pth\n",
      "Find op_level-use_pretrain/train/seed-24382-last-info.pth exist, delete is at first before saving\n",
      "save checkpoint into op_level-use_pretrain/train/seed-24382-last-info.pth\n"
     ]
    }
   ],
   "source": [
    "start_time, search_time, epoch_time, total_epoch = (\n",
    "    time.time(),\n",
    "    AverageMeter(),\n",
    "    AverageMeter(),\n",
    "    config.epochs + config.warmup,\n",
    ")\n",
    "for epoch in range(0, total_epoch):\n",
    "    w_scheduler.update(epoch, 0.0)\n",
    "    need_time = \"Time Left: {:}\".format(\n",
    "        convert_secs2time(epoch_time.val * (total_epoch - epoch), True)\n",
    "    )\n",
    "    epoch_str = \"{:03d}-{:03d}\".format(epoch, total_epoch)\n",
    "    logger.log(\n",
    "        \"\\n[Search the {:}-th epoch] {:}, LR={:}\".format(\n",
    "            epoch_str, need_time, min(w_scheduler.get_lr())\n",
    "        )\n",
    "    )\n",
    "\n",
    "    # selected_arch = search_find_best(valid_loader, network, criterion, xargs.select_num)\n",
    "    search_w_loss, search_w_top1, search_w_top5 = train_func_one_arch(\n",
    "        train_loader,\n",
    "        network,\n",
    "        criterion,\n",
    "        w_scheduler,\n",
    "        w_optimizer,\n",
    "        epoch_str,\n",
    "        xargs.print_freq,\n",
    "        logger,\n",
    "    )\n",
    "    search_time.update(time.time() - start_time)\n",
    "    logger.log(\n",
    "        \"[{:}] searching : loss={:.2f}, accuracy@1={:.2f}%, accuracy@5={:.2f}%, time-cost={:.1f} s\".format(\n",
    "            epoch_str, search_w_loss, search_w_top1, search_w_top5, search_time.sum\n",
    "        )\n",
    "    )\n",
    "    valid_a_loss, valid_a_top1, valid_a_top5 = valid_func_one_arch(\n",
    "        test_loader, network, criterion\n",
    "    )\n",
    "    logger.log(\n",
    "        \"[{:}] evaluate  : loss={:.2f}, accuracy@1={:.2f}%, accuracy@5={:.2f}%\".format(\n",
    "            epoch_str, valid_a_loss, valid_a_top1, valid_a_top5\n",
    "        )\n",
    "    )\n",
    "    \n",
    "    # check the best accuracy\n",
    "    valid_accuracies[epoch] = valid_a_top1\n",
    "    if valid_a_top1 > valid_accuracies[\"best\"]:\n",
    "        valid_accuracies[\"best\"] = valid_a_top1\n",
    "        find_best = True\n",
    "    else:\n",
    "        find_best = False\n",
    "\n",
    "    # save checkpoint\n",
    "    save_path = save_checkpoint(\n",
    "        {\n",
    "            \"epoch\": epoch + 1,\n",
    "            \"args\": deepcopy(xargs),\n",
    "            \"search_model\": search_model.state_dict(),\n",
    "            \"w_optimizer\": w_optimizer.state_dict(),\n",
    "            \"w_scheduler\": w_scheduler.state_dict(),\n",
    "            \"genotypes\": genotypes,\n",
    "            \"valid_accuracies\": valid_accuracies,\n",
    "        },\n",
    "        model_base_path,\n",
    "        logger,\n",
    "    )\n",
    "    last_info = save_checkpoint(\n",
    "        {\n",
    "            \"epoch\": epoch + 1,\n",
    "            \"args\": deepcopy(args),\n",
    "            \"last_checkpoint\": save_path,\n",
    "        },\n",
    "        logger.path(\"info\"),\n",
    "        logger,\n",
    "    )\n",
    "    if find_best:\n",
    "        logger.log(\n",
    "            \"<<<--->>> The {:}-th epoch : find the highest validation accuracy : {:.2f}%.\".format(\n",
    "                epoch_str, valid_a_top1\n",
    "            )\n",
    "        )\n",
    "        copy_checkpoint(model_base_path, model_best_path, logger)\n",
    "    if api is not None:\n",
    "        logger.log(\"{:}\".format(api.query_by_arch(genotypes[epoch], \"200\")))\n",
    "    # measure elapsed time\n",
    "    epoch_time.update(time.time() - start_time)\n",
    "    start_time = time.time()\n",
    "\n",
    "logger.close()"
   ]
  },
  {
   "cell_type": "code",
   "execution_count": 14,
   "id": "08d00afb",
   "metadata": {},
   "outputs": [
    {
     "data": {
      "text/plain": [
       "[Structure(4 nodes with |nor_conv_3x3~0|+|nor_conv_3x3~0|nor_conv_1x1~1|+|nor_conv_3x3~0|nor_conv_1x1~1|skip_connect~2|),\n",
       " Structure(4 nodes with |skip_connect~0|+|nor_conv_1x1~0|skip_connect~1|+|nor_conv_3x3~0|avg_pool_3x3~1|nor_conv_1x1~2|),\n",
       " Structure(4 nodes with |nor_conv_1x1~0|+|skip_connect~0|nor_conv_3x3~1|+|skip_connect~0|avg_pool_3x3~1|nor_conv_3x3~2|),\n",
       " Structure(4 nodes with |nor_conv_1x1~0|+|none~0|avg_pool_3x3~1|+|skip_connect~0|nor_conv_3x3~1|nor_conv_1x1~2|),\n",
       " Structure(4 nodes with |nor_conv_3x3~0|+|none~0|nor_conv_3x3~1|+|nor_conv_3x3~0|skip_connect~1|nor_conv_3x3~2|),\n",
       " Structure(4 nodes with |skip_connect~0|+|nor_conv_3x3~0|nor_conv_1x1~1|+|none~0|avg_pool_3x3~1|skip_connect~2|),\n",
       " Structure(4 nodes with |avg_pool_3x3~0|+|nor_conv_3x3~0|nor_conv_3x3~1|+|nor_conv_1x1~0|skip_connect~1|avg_pool_3x3~2|),\n",
       " Structure(4 nodes with |avg_pool_3x3~0|+|nor_conv_3x3~0|skip_connect~1|+|nor_conv_3x3~0|nor_conv_3x3~1|nor_conv_1x1~2|),\n",
       " Structure(4 nodes with |nor_conv_3x3~0|+|avg_pool_3x3~0|skip_connect~1|+|nor_conv_3x3~0|none~1|nor_conv_1x1~2|),\n",
       " Structure(4 nodes with |nor_conv_1x1~0|+|nor_conv_3x3~0|avg_pool_3x3~1|+|nor_conv_3x3~0|avg_pool_3x3~1|nor_conv_3x3~2|),\n",
       " Structure(4 nodes with |nor_conv_1x1~0|+|avg_pool_3x3~0|nor_conv_1x1~1|+|avg_pool_3x3~0|none~1|skip_connect~2|),\n",
       " Structure(4 nodes with |nor_conv_1x1~0|+|nor_conv_1x1~0|nor_conv_1x1~1|+|skip_connect~0|skip_connect~1|avg_pool_3x3~2|),\n",
       " Structure(4 nodes with |nor_conv_3x3~0|+|nor_conv_3x3~0|avg_pool_3x3~1|+|skip_connect~0|none~1|avg_pool_3x3~2|),\n",
       " Structure(4 nodes with |nor_conv_3x3~0|+|avg_pool_3x3~0|nor_conv_3x3~1|+|nor_conv_3x3~0|nor_conv_3x3~1|skip_connect~2|),\n",
       " Structure(4 nodes with |avg_pool_3x3~0|+|nor_conv_3x3~0|skip_connect~1|+|nor_conv_1x1~0|skip_connect~1|nor_conv_3x3~2|)]"
      ]
     },
     "execution_count": 14,
     "metadata": {},
     "output_type": "execute_result"
    }
   ],
   "source": [
    "best_archs"
   ]
  }
 ],
 "metadata": {
  "kernelspec": {
   "display_name": "Python 3 (ipykernel)",
   "language": "python",
   "name": "python3"
  },
  "language_info": {
   "codemirror_mode": {
    "name": "ipython",
    "version": 3
   },
   "file_extension": ".py",
   "mimetype": "text/x-python",
   "name": "python",
   "nbconvert_exporter": "python",
   "pygments_lexer": "ipython3",
   "version": "3.7.13"
  }
 },
 "nbformat": 4,
 "nbformat_minor": 5
}
