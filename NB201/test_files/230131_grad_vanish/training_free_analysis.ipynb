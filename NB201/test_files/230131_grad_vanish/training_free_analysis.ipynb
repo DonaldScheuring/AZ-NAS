{
 "cells": [
  {
   "cell_type": "code",
   "execution_count": 1,
   "id": "15198afc",
   "metadata": {},
   "outputs": [],
   "source": [
    "import os, sys, time, glob, random, argparse\n",
    "import numpy as np\n",
    "from copy import deepcopy\n",
    "import torch\n",
    "import torch.nn as nn\n",
    "import time\n",
    "\n",
    "# XAutoDL \n",
    "from xautodl.config_utils import load_config, dict2config, configure2str\n",
    "from xautodl.datasets import get_datasets, get_nas_search_loaders\n",
    "from xautodl.procedures import (\n",
    "    prepare_seed,\n",
    "    prepare_logger,\n",
    "    save_checkpoint,\n",
    "    copy_checkpoint,\n",
    "    get_optim_scheduler,\n",
    ")\n",
    "from xautodl.utils import get_model_infos, obtain_accuracy\n",
    "from xautodl.log_utils import AverageMeter, time_string, convert_secs2time\n",
    "from xautodl.models import get_search_spaces\n",
    "\n",
    "# NB201\n",
    "from nas_201_api import NASBench201API as API\n",
    "\n",
    "from ntk import get_ntk_n\n",
    "from linear_region_counter import Linear_Region_Collector\n",
    "\n",
    "import scipy.stats as stats\n",
    "import matplotlib.pyplot as plt\n",
    "\n",
    "import tqdm\n",
    "\n",
    "# custom\n",
    "from custom_models import get_cell_based_tiny_net\n",
    "\n",
    "os.environ[\"CUDA_VISIBLE_DEVICES\"] = \"0\""
   ]
  },
  {
   "cell_type": "code",
   "execution_count": 2,
   "id": "392dc080",
   "metadata": {},
   "outputs": [
    {
     "name": "stdout",
     "output_type": "stream",
     "text": [
      "13443\n",
      "Namespace(arch_nas_dataset='../../NAS-Bench-201-v1_1-096897.pth', channel=16, config_path='../../configs/nas-benchmark/algos/RANDOM.config', data_path='../../cifar.python', dataset='cifar10', max_nodes=4, num_cells=5, print_freq=200, rand_seed=13443, save_dir='./results/tmp', search_space_name='nas-bench-201', select_num=100, track_running_stats=0, workers=0)\n"
     ]
    }
   ],
   "source": [
    "parser = argparse.ArgumentParser(\"Random search for NAS.\")\n",
    "parser.add_argument(\"--data_path\", type=str, default='../../cifar.python', help=\"The path to dataset\")\n",
    "parser.add_argument(\"--dataset\", type=str, default='cifar10',choices=[\"cifar10\", \"cifar100\", \"ImageNet16-120\"], help=\"Choose between Cifar10/100 and ImageNet-16.\")\n",
    "\n",
    "# channels and number-of-cells\n",
    "parser.add_argument(\"--search_space_name\", type=str, default='nas-bench-201', help=\"The search space name.\")\n",
    "parser.add_argument(\"--config_path\", type=str, default='../../configs/nas-benchmark/algos/RANDOM.config', help=\"The path to the configuration.\")\n",
    "parser.add_argument(\"--max_nodes\", type=int, default=4, help=\"The maximum number of nodes.\")\n",
    "parser.add_argument(\"--channel\", type=int, default=16, help=\"The number of channels.\")\n",
    "parser.add_argument(\"--num_cells\", type=int, default=5, help=\"The number of cells in one stage.\")\n",
    "# parser.add_argument(\"--channel\", type=int, default=3, help=\"The number of channels.\")\n",
    "# parser.add_argument(\"--num_cells\", type=int, default=1, help=\"The number of cells in one stage.\")\n",
    "parser.add_argument(\"--select_num\", type=int, default=100, help=\"The number of selected architectures to evaluate.\")\n",
    "parser.add_argument(\"--track_running_stats\", type=int, default=0, choices=[0, 1], help=\"Whether use track_running_stats or not in the BN layer.\")\n",
    "# log\n",
    "parser.add_argument(\"--workers\", type=int, default=0, help=\"number of data loading workers\")\n",
    "parser.add_argument(\"--save_dir\", type=str, default='./results/tmp', help=\"Folder to save checkpoints and log.\")\n",
    "parser.add_argument(\"--arch_nas_dataset\", type=str, default='../../NAS-Bench-201-v1_1-096897.pth', help=\"The path to load the architecture dataset (tiny-nas-benchmark).\")\n",
    "parser.add_argument(\"--print_freq\", type=int, default=200, help=\"print frequency (default: 200)\")\n",
    "parser.add_argument(\"--rand_seed\", type=int, default=None, help=\"manual seed\")\n",
    "args = parser.parse_args(args=[])\n",
    "if args.rand_seed is None or args.rand_seed < 0:\n",
    "    args.rand_seed = random.randint(1, 100000)\n",
    "\n",
    "    \n",
    "print(args.rand_seed)\n",
    "print(args)\n",
    "xargs=args"
   ]
  },
  {
   "cell_type": "code",
   "execution_count": 3,
   "id": "c1f83abf",
   "metadata": {},
   "outputs": [
    {
     "name": "stdout",
     "output_type": "stream",
     "text": [
      "Main Function with logger : Logger(dir=results/tmp, use-tf=False, writer=None)\n",
      "Arguments : -------------------------------\n",
      "arch_nas_dataset : ../../NAS-Bench-201-v1_1-096897.pth\n",
      "channel          : 16\n",
      "config_path      : ../../configs/nas-benchmark/algos/RANDOM.config\n",
      "data_path        : ../../cifar.python\n",
      "dataset          : cifar10\n",
      "max_nodes        : 4\n",
      "num_cells        : 5\n",
      "print_freq       : 200\n",
      "rand_seed        : 13443\n",
      "save_dir         : ./results/tmp\n",
      "search_space_name : nas-bench-201\n",
      "select_num       : 100\n",
      "track_running_stats : 0\n",
      "workers          : 0\n",
      "Python  Version  : 3.8.8 (default, Feb 24 2021, 21:46:12)  [GCC 7.3.0]\n",
      "Pillow  Version  : 8.1.2\n",
      "PyTorch Version  : 1.8.1\n",
      "cuDNN   Version  : 8005\n",
      "CUDA available   : True\n",
      "CUDA GPU numbers : 1\n",
      "CUDA_VISIBLE_DEVICES : 0\n"
     ]
    }
   ],
   "source": [
    "assert torch.cuda.is_available(), \"CUDA is not available.\"\n",
    "torch.backends.cudnn.enabled = True\n",
    "torch.backends.cudnn.benchmark = False\n",
    "torch.backends.cudnn.deterministic = True\n",
    "# torch.set_num_threads(xargs.workers)\n",
    "prepare_seed(xargs.rand_seed)\n",
    "logger = prepare_logger(args)"
   ]
  },
  {
   "cell_type": "code",
   "execution_count": 4,
   "id": "259c78b9",
   "metadata": {},
   "outputs": [],
   "source": [
    "def kaiming_normal_fanin_init(m):\n",
    "    if isinstance(m, nn.Conv2d) or isinstance(m, nn.Linear):\n",
    "        nn.init.kaiming_normal_(m.weight, mode='fan_in', nonlinearity='relu')\n",
    "        if hasattr(m, 'bias') and m.bias is not None:\n",
    "            nn.init.zeros_(m.bias)\n",
    "    elif isinstance(m, nn.BatchNorm2d):\n",
    "        if m.affine:\n",
    "            nn.init.ones_(m.weight.data)\n",
    "            nn.init.constant_(m.bias.data, 0.0)\n",
    "\n",
    "\n",
    "def kaiming_normal_fanout_init(m):\n",
    "    if isinstance(m, nn.Conv2d) or isinstance(m, nn.Linear):\n",
    "        nn.init.kaiming_normal_(m.weight, mode='fan_out', nonlinearity='relu')\n",
    "        if hasattr(m, 'bias') and m.bias is not None:\n",
    "            nn.init.zeros_(m.bias)\n",
    "    elif isinstance(m, nn.BatchNorm2d):\n",
    "        if m.affine:\n",
    "            nn.init.ones_(m.weight.data)\n",
    "            nn.init.constant_(m.bias.data, 0.0)\n",
    "\n",
    "\n",
    "def init_model(model, method='kaiming_norm_fanin'):\n",
    "    if method == 'kaiming_norm_fanin':\n",
    "        model.apply(kaiming_normal_fanin_init)\n",
    "    elif method == 'kaiming_norm_fanout':\n",
    "        model.apply(kaiming_normal_fanout_init)\n",
    "    return model\n",
    "\n",
    "####### original\n",
    "def pca_eig_diag(xloader, network, num_batch=1):\n",
    "    device = torch.cuda.current_device()\n",
    "    network.train()\n",
    "    \n",
    "    with torch.no_grad():\n",
    "        feat_list = []\n",
    "        for i, (inputs, targets) in enumerate(xloader):\n",
    "            if num_batch > 0 and i >= num_batch: break\n",
    "\n",
    "            inputs = inputs.cuda(device=device, non_blocking=True)\n",
    "            network.zero_grad()\n",
    "            inputs_ = torch.randn_like(inputs)\n",
    "            _ = network(inputs_)\n",
    "            feat = network.last_feature_map.detach().clone()\n",
    "            b,c,h,w = feat.size()\n",
    "            feat_list.append(feat.permute(0,2,3,1).contiguous().view(b*h*w,c))\n",
    "\n",
    "        feat = torch.cat(feat_list, dim=0)\n",
    "        m = feat.mean(dim=0, keepdim=True)\n",
    "        feat = feat - m\n",
    "        sigma = torch.mm(feat.transpose(1,0),feat) / (feat.size(0))\n",
    "        u, s, v = torch.svd(sigma)\n",
    "        prob_s = s / s.sum()\n",
    "        score = (-prob_s)*torch.log(prob_s+1e-8)\n",
    "        score = score.sum()\n",
    "            \n",
    "        torch.cuda.empty_cache()\n",
    "    \n",
    "    return score.item()\n",
    "\n",
    "def fwrd_norm_preserving(xloader, network):\n",
    "    device = torch.cuda.current_device()\n",
    "    network.train()\n",
    "    \n",
    "    with torch.no_grad():\n",
    "        for i, (inputs, targets) in enumerate(xloader):\n",
    "            inputs = inputs.cuda(device=device, non_blocking=True)\n",
    "            network.zero_grad()\n",
    "            inputs_ = torch.randn_like(inputs)\n",
    "            _ = network(inputs_)\n",
    "            break\n",
    "\n",
    "        cell_features = network.cell_features\n",
    "        scores = []\n",
    "        for i in range(1, len(cell_features)):\n",
    "            f_out = cell_features[i]\n",
    "            f_in = cell_features[i-1]\n",
    "            \n",
    "            if (f_out.size() == f_in.size()) and (torch.all(f_in == f_out)):\n",
    "                scores.append(-np.inf)\n",
    "            else:\n",
    "                s = f_out.norm(dim=(1)).mean() / (f_in.norm(dim=(1)).mean()+1e-6)\n",
    "                scores.append((-torch.abs(s-1)).item())\n",
    "        score = np.mean(scores)\n",
    "        \n",
    "        torch.cuda.empty_cache()\n",
    "    \n",
    "    return score.item()\n",
    "\n",
    "def grad_vanish(xloader, network, criterion, num_batch=1):\n",
    "    device = torch.cuda.current_device()\n",
    "    network.train()\n",
    "    \n",
    "    for i, (inputs, targets) in enumerate(xloader):\n",
    "        if num_batch > 0 and i >= num_batch: break\n",
    "\n",
    "        inputs = inputs.cuda(device=device, non_blocking=True)\n",
    "        targets = targets.cuda(device=device, non_blocking=True)\n",
    "        \n",
    "        network.zero_grad()\n",
    "#         inputs_ = inputs\n",
    "        inputs_ = torch.randn_like(inputs)\n",
    "        _, logits = network(inputs_)\n",
    "\n",
    "\n",
    "################### std\n",
    "#         cell_features = network.cell_features\n",
    "    \n",
    "#         loss = criterion(logits, targets)\n",
    "#         loss.backward()\n",
    "\n",
    "#         scores = []\n",
    "#         for i in reversed(range(1, len(cell_features))):\n",
    "#             f_out = cell_features[i]\n",
    "#             f_in = cell_features[i-1]\n",
    "\n",
    "#             if f_out.size() == f_in.size():\n",
    "#                 if torch.all(f_in.grad == f_out.grad) or torch.all(f_in == f_out):\n",
    "#                     scores.append(-1)\n",
    "#             else:\n",
    "#                 s = f_in.grad.view(-1).std() / (f_out.grad.view(-1).std()+1e-6)\n",
    "# #                 scores.append(s.item())\n",
    "#                 scores.append(-((1-s.item())**2))\n",
    "#         score = np.mean(scores)\n",
    "################### weight grad\n",
    "#         loss = criterion(logits, targets)\n",
    "#         loss.backward()\n",
    "\n",
    "# #         g = torch.randn_like(network.last_feature_map)\n",
    "# #         g = g / (g.norm(dim=(1),keepdim=True)+1e-6)\n",
    "# #         network.last_feature_map.backward(g)\n",
    "#         w_g = network.stem[0].weight.grad\n",
    "#         c_out,c_in,kh,kw = w_g.size()\n",
    "#         score = w_g.view(c_out,-1).norm(dim=1).mean()\n",
    "################### using a CE loss\n",
    "#         loss = criterion(logits, targets)\n",
    "#         loss.backward()\n",
    "#         cell_features = network.cell_features\n",
    "\n",
    "#         scores = []\n",
    "#         for i in reversed(range(1, len(cell_features))):\n",
    "#             f_out = cell_features[i]\n",
    "#             f_in = cell_features[i-1]\n",
    "        \n",
    "#             s = f_in.grad.norm(dim=(1)).mean() / (f_out.grad.norm(dim=(1)).mean()+1e-6)\n",
    "# #             s = f_in.grad.norm() / (f_out.grad.norm()+1e-6)\n",
    "# #             print(s)\n",
    "# #             scores.append(s.item())\n",
    "#             scores.append(-np.abs(1-s.item()))\n",
    "#         score = np.mean(scores)  \n",
    "################### # feature vector norm 0.42\n",
    "#         g = torch.randn_like(network.last_feature_map)\n",
    "#         g = g / (g.norm(dim=(1),keepdim=True)+1e-6)\n",
    "#         network.last_feature_map.backward(g)\n",
    "        \n",
    "#         s_grad_norm = network.first_feature_map.grad.norm(dim=(1))\n",
    "#         score = s_grad_norm.mean()\n",
    "################### traverse all cell features\n",
    "#         cell_features = network.cell_features\n",
    "#         f_last = cell_features[-1]\n",
    "#         g = torch.randn_like(f_last)\n",
    "#         g = g / (g.norm(dim=(1),keepdim=True)+1e-6)\n",
    "#         f_last.backward(g)\n",
    "        \n",
    "#         scores = []\n",
    "#         for i in reversed(range(1, len(cell_features))):\n",
    "# #         for i in reversed(range(1, 5)):\n",
    "#             f_out = cell_features[i]\n",
    "#             f_in = cell_features[i-1]\n",
    "        \n",
    "#             s = f_in.grad.norm(dim=(1)).mean() / (f_out.grad.norm(dim=(1)).mean()+1e-6)\n",
    "# #             scores.append(s.item())\n",
    "#             scores.append(-np.abs(1-s.item()))\n",
    "#         score = np.mean(scores)\n",
    "################### channel norm\n",
    "#         g = torch.randn_like(network.last_feature_map)\n",
    "#         g = g / (g.norm(dim=(2,3),keepdim=True)+1e-6)\n",
    "#         network.last_feature_map.backward(g)\n",
    "        \n",
    "#         s_grad_norm = network.first_feature_map.grad.norm(dim=(2,3))\n",
    "#         score = s_grad_norm.mean()\n",
    "################### entire norm\n",
    "#         g = torch.randn_like(network.last_feature_map)\n",
    "#         g = g / (g.norm()+1e-6)\n",
    "#         network.last_feature_map.backward(g)\n",
    "        \n",
    "#         s_grad_norm = network.first_feature_map.grad.norm()\n",
    "#         score = s_grad_norm\n",
    "################### # batch-wise norm\n",
    "#         g = torch.randn_like(network.last_feature_map)\n",
    "#         b,c,h,w = g.size()\n",
    "#         g = g.view(b, -1)\n",
    "#         g = g / (g.norm(dim=(1),keepdim=True)+1e-6)\n",
    "#         g = g.view(b,c,h,w)\n",
    "#         network.last_feature_map.backward(g)\n",
    "        \n",
    "#         g = network.first_feature_map.grad\n",
    "#         b,c,h,w = g.size()\n",
    "#         g = g.view(b, -1)\n",
    "#         s_grad_norm = g.norm(dim=(1))\n",
    "#         score = s_grad_norm.mean()\n",
    "# ################### traverse cell features in a stage\n",
    "#         cell_features = network.cell_features\n",
    "    \n",
    "#         loss = criterion(logits, targets)\n",
    "#         loss.backward()\n",
    "        \n",
    "# #         f_last = cell_features[-1]\n",
    "# #         g = torch.randn_like(f_last)\n",
    "# #         g = g / (g.norm(dim=(1),keepdim=True)+1e-6)\n",
    "# #         f_last.backward(g)\n",
    "        \n",
    "#         scores = []\n",
    "#         for i in reversed(range(1, len(cell_features))):\n",
    "#             f_out = cell_features[i]\n",
    "#             f_in = cell_features[i-1]\n",
    "            \n",
    "#             if (f_out.size() == f_in.size()) and torch.all(f_in.grad == f_out.grad):\n",
    "#                 scores.append(-np.inf)\n",
    "#             else:\n",
    "#                 s1 = f_in.grad.norm(dim=(1)).mean() / (f_out.grad.norm(dim=(1)).mean()+1e-6)\n",
    "#                 scores.append((-torch.abs(s1-1)).item())\n",
    "#         score = np.mean(scores)\n",
    "################### traverse cell features in a stage\n",
    "        cell_features = network.cell_features\n",
    "    \n",
    "#         loss = criterion(logits, targets)\n",
    "#         loss.backward()\n",
    "        \n",
    "        f_last = cell_features[-1]\n",
    "        g = torch.ones_like(f_last)\n",
    "        g = g / (g.norm(dim=(1),keepdim=True)+1e-6)\n",
    "        f_last.backward(g)\n",
    "        \n",
    "        scores = []\n",
    "        for i in reversed(range(1, len(cell_features))):\n",
    "            f_out = cell_features[i]\n",
    "            f_in = cell_features[i-1]\n",
    "            \n",
    "            if (f_out.size() == f_in.size()) and torch.all(f_in.grad == f_out.grad):\n",
    "                scores.append(-np.inf)\n",
    "            else:\n",
    "#                 s1 = f_in.grad.max(dim=(1))[0].mean() / (f_out.grad.max(dim=(1))[0].mean()+1e-6)\n",
    "                s1 = f_in.grad.abs().max() / (f_out.grad.abs().max()+1e-6)\n",
    "#                 s1 = f_in.grad.std() / (f_out.grad.std()+1e-6)\n",
    "#                 s1 = f_in.grad.norm() / (f_out.grad.norm()+1e-6)\n",
    "                scores.append((-torch.abs(s1-1)).item())\n",
    "        score = np.mean(scores)\n",
    "###################\n",
    "    torch.cuda.empty_cache()\n",
    "    \n",
    "    return score.item()\n",
    "\n",
    "def search_find_best(xloader, network, criterion, lrc_model, n_samples):\n",
    "    start = torch.cuda.Event(enable_timing=True)\n",
    "    end = torch.cuda.Event(enable_timing=True)\n",
    "    \n",
    "    network.train()\n",
    "    archs, pca_scores, fnorm_scores, grad_scores, ntk_scores, lr_scores = [], [], [], [], [], []\n",
    "    \n",
    "    for i in tqdm.tqdm(range(n_samples)):\n",
    "        # random sampling\n",
    "        arch = network.random_genotype(True)\n",
    "    \n",
    "        pca_score_tmp, grad_score_tmp, fnorm_score_tmp, ntk_score_tmp, lr_score_tmp = [], [], [], [], []\n",
    "        pca_time, grad_time, fnorm_time, ntk_time, lr_time = [], [], [], [], []\n",
    "        pca_mem, grad_mem, fnorm_mem, ntk_mem, lr_mem = [], [], [], [], []\n",
    "        \n",
    "        for _ in range(1):\n",
    "            init_model(network)\n",
    "            \n",
    "            # pca score\n",
    "            start.record()\n",
    "            torch.cuda.reset_peak_memory_stats()\n",
    "            score = pca_eig_diag(xloader, network)\n",
    "            pca_score_tmp.append(score)\n",
    "            end.record()\n",
    "            torch.cuda.synchronize()\n",
    "            pca_time.append(start.elapsed_time(end))\n",
    "            pca_mem.append(torch.cuda.max_memory_reserved())\n",
    "            torch.cuda.empty_cache()\n",
    "                                                  \n",
    "            # fnorm score\n",
    "            start.record()\n",
    "            torch.cuda.reset_peak_memory_stats()\n",
    "            score = fwrd_norm_preserving(xloader, network)\n",
    "            fnorm_score_tmp.append(score)\n",
    "            end.record()\n",
    "            torch.cuda.synchronize()\n",
    "            fnorm_time.append(start.elapsed_time(end))\n",
    "            fnorm_mem.append(torch.cuda.max_memory_reserved())\n",
    "            torch.cuda.empty_cache()\n",
    "            \n",
    "            # grad score\n",
    "            start.record()\n",
    "            torch.cuda.reset_peak_memory_stats()\n",
    "            score = grad_vanish(xloader, network, criterion)\n",
    "            grad_score_tmp.append(score)\n",
    "            end.record()\n",
    "            torch.cuda.synchronize()\n",
    "            grad_time.append(start.elapsed_time(end))\n",
    "            grad_mem.append(torch.cuda.max_memory_reserved())\n",
    "            torch.cuda.empty_cache()\n",
    "            \n",
    "            # ntk score        \n",
    "            start.record()\n",
    "            torch.cuda.reset_peak_memory_stats()\n",
    "            score = -get_ntk_n(xloader, [network], recalbn=0, train_mode=True, num_batch=1)[0]\n",
    "            end.record()\n",
    "            torch.cuda.synchronize()\n",
    "            ntk_time.append(start.elapsed_time(end))\n",
    "            ntk_mem.append(torch.cuda.max_memory_reserved())\n",
    "            torch.cuda.empty_cache()\n",
    "            ntk_score_tmp.append(score)\n",
    "            \n",
    "            # lr score\n",
    "            start.record()\n",
    "            torch.cuda.reset_peak_memory_stats()\n",
    "            lrc_model.reinit(models=[network], seed=xargs.rand_seed)\n",
    "            score = lrc_model.forward_batch_sample()\n",
    "            end.record()\n",
    "            torch.cuda.synchronize()\n",
    "            lr_time.append(start.elapsed_time(end))\n",
    "            lr_mem.append(torch.cuda.max_memory_reserved())\n",
    "            lr_score_tmp.append(score)\n",
    "            lrc_model.clear()\n",
    "        \n",
    "        archs.append(arch)\n",
    "        pca_scores.append(np.mean(pca_score_tmp))\n",
    "        fnorm_scores.append(np.mean(fnorm_score_tmp))\n",
    "        grad_scores.append(np.mean(grad_score_tmp))\n",
    "        ntk_scores.append(np.mean(ntk_score_tmp))\n",
    "        lr_scores.append(np.mean(lr_score_tmp))\n",
    "        \n",
    "        print(arch)\n",
    "        print(\"-----------------\")\n",
    "        print(\"PCA: {:.5f} ms\".format(np.mean(pca_time)))\n",
    "        print(\"FNorm: {:.5f} ms\".format(np.mean(fnorm_time)))\n",
    "        print(\"Grad: {:.5f} ms\".format(np.mean(grad_time)))\n",
    "        print(\"NTK: {:.5f} ms\".format(np.mean(ntk_time)))\n",
    "        print(\"LR: {:.5f} ms\".format(np.mean(lr_time)))\n",
    "        print(\"-----------------\")\n",
    "        print(\"PCA: {:.5f} GB\".format(np.mean(pca_mem)/1e9))\n",
    "        print(\"FNorm: {:.5f} GB\".format(np.mean(fnorm_mem)/1e9))\n",
    "        print(\"Grad: {:.5f} GB\".format(np.mean(grad_mem)/1e9))\n",
    "        print(\"NTK: {:.5f} GB\".format(np.mean(ntk_mem)/1e9))\n",
    "        print(\"LR: {:.5f} GB\".format(np.mean(lr_mem)/1e9))\n",
    "        print(\"-----------------\\n\")\n",
    "    \n",
    "    pca_scores = np.nan_to_num(np.array(pca_scores), nan=-np.inf)\n",
    "    fnorm_scores = np.nan_to_num(np.array(fnorm_scores), nan=-np.inf)\n",
    "    grad_scores = np.nan_to_num(np.array(grad_scores), nan=-np.inf)\n",
    "    ntk_scores = np.nan_to_num(np.array(ntk_scores), nan=-np.inf)\n",
    "    lr_scores = np.nan_to_num(np.array(lr_scores), nan=-np.inf)\n",
    "        \n",
    "    return archs, pca_scores, fnorm_scores, grad_scores, ntk_scores, lr_scores"
   ]
  },
  {
   "cell_type": "markdown",
   "id": "67ad28c7",
   "metadata": {},
   "source": [
    "# Main"
   ]
  },
  {
   "cell_type": "code",
   "execution_count": 5,
   "id": "1bbfe256",
   "metadata": {},
   "outputs": [
    {
     "name": "stdout",
     "output_type": "stream",
     "text": [
      "Files already downloaded and verified\n",
      "Files already downloaded and verified\n",
      "../../configs/nas-benchmark/algos/RANDOM.config\n",
      "Configure(scheduler='cos', LR=0.025, eta_min=0.001, epochs=250, warmup=0, optim='SGD', decay=0.0005, momentum=0.9, nesterov=True, criterion='Softmax', batch_size=64, test_batch_size=512, class_num=10, xshape=(1, 3, 32, 32))\n",
      "||||||| cifar10    ||||||| Search-Loader-Num=391, Valid-Loader-Num=49, batch size=64\n",
      "||||||| cifar10    ||||||| Config=Configure(scheduler='cos', LR=0.025, eta_min=0.001, epochs=250, warmup=0, optim='SGD', decay=0.0005, momentum=0.9, nesterov=True, criterion='Softmax', batch_size=64, test_batch_size=512, class_num=10, xshape=(1, 3, 32, 32))\n",
      "try to create the NAS-Bench-201 api from ../../NAS-Bench-201-v1_1-096897.pth\n",
      "[2023-02-07 06:23:56] create API = NASBench201API(15625/15625 architectures, file=NAS-Bench-201-v1_1-096897.pth) done\n",
      "Files already downloaded and verified\n",
      "Files already downloaded and verified\n",
      "=> do not find the last-info file : results/tmp/seed-13443-last-info.pth\n"
     ]
    }
   ],
   "source": [
    "## data\n",
    "train_data, valid_data, xshape, class_num = get_datasets(xargs.dataset, xargs.data_path, -1)\n",
    "config = load_config(xargs.config_path, {\"class_num\": class_num, \"xshape\": xshape}, logger)\n",
    "search_loader, train_loader, valid_loader = get_nas_search_loaders(train_data,\n",
    "                                                        valid_data,\n",
    "                                                        xargs.dataset,\n",
    "                                                        \"../../configs/nas-benchmark/\",\n",
    "                                                        (config.batch_size, config.test_batch_size),\n",
    "                                                        xargs.workers)\n",
    "logger.log(\"||||||| {:10s} ||||||| Search-Loader-Num={:}, Valid-Loader-Num={:}, batch size={:}\".format(\n",
    "            xargs.dataset, len(search_loader), len(valid_loader), config.batch_size))\n",
    "logger.log(\"||||||| {:10s} ||||||| Config={:}\".format(xargs.dataset, config))\n",
    "\n",
    "\n",
    "## model\n",
    "search_space = get_search_spaces(\"cell\", xargs.search_space_name)\n",
    "model_config = dict2config(\n",
    "    {\n",
    "        \"name\": \"RANDOM\",\n",
    "        \"C\": xargs.channel,\n",
    "        \"N\": xargs.num_cells,\n",
    "        \"max_nodes\": xargs.max_nodes,\n",
    "        \"num_classes\": class_num,\n",
    "        \"space\": search_space,\n",
    "        \"affine\": False,\n",
    "        \"track_running_stats\": bool(xargs.track_running_stats),\n",
    "    },\n",
    "    None,\n",
    ")\n",
    "search_model = get_cell_based_tiny_net(model_config)\n",
    "\n",
    "_, _, criterion = get_optim_scheduler(search_model.parameters(), config)\n",
    "criterion = criterion.cuda()\n",
    "\n",
    "if \"api\" not in vars():\n",
    "    if xargs.arch_nas_dataset is None:\n",
    "        api = None\n",
    "    else:\n",
    "        api = API(xargs.arch_nas_dataset)\n",
    "    logger.log(\"{:} create API = {:} done\".format(time_string(), api))\n",
    "\n",
    "last_info, model_base_path, model_best_path = (\n",
    "    logger.path(\"info\"),\n",
    "    logger.path(\"model\"),\n",
    "    logger.path(\"best\"),\n",
    ")\n",
    "# network = torch.nn.DataParallel(search_model).cuda()\n",
    "network = search_model.cuda()\n",
    "\n",
    "## LRC\n",
    "if \"lrc_model\" not in vars():\n",
    "    lrc_model = Linear_Region_Collector(input_size=(333, 3, 3, 3), sample_batch=3, dataset=xargs.dataset, data_path=xargs.data_path, seed=xargs.rand_seed)\n",
    "\n",
    "\n",
    "## misc\n",
    "if last_info.exists():  # automatically resume from previous checkpoint\n",
    "    logger.log(\n",
    "        \"=> loading checkpoint of the last-info '{:}' start\".format(last_info)\n",
    "    )\n",
    "    last_info = torch.load(last_info)\n",
    "    start_epoch = last_info[\"epoch\"]\n",
    "    checkpoint = torch.load(last_info[\"last_checkpoint\"])\n",
    "    genotypes = checkpoint[\"genotypes\"]\n",
    "    valid_accuracies = checkpoint[\"valid_accuracies\"]\n",
    "    search_model.load_state_dict(checkpoint[\"search_model\"])\n",
    "    logger.log(\n",
    "        \"=> loading checkpoint of the last-info '{:}' start with {:}-th epoch.\".format(\n",
    "            last_info, start_epoch\n",
    "        )\n",
    "    )\n",
    "else:\n",
    "    logger.log(\"=> do not find the last-info file : {:}\".format(last_info))\n",
    "    start_epoch, valid_accuracies, genotypes = 0, {\"best\": -1}, {}"
   ]
  },
  {
   "cell_type": "code",
   "execution_count": 6,
   "id": "7a20052c",
   "metadata": {
    "scrolled": true
   },
   "outputs": [
    {
     "name": "stderr",
     "output_type": "stream",
     "text": [
      "  1%|          | 1/100 [00:01<02:09,  1.31s/it]"
     ]
    },
    {
     "name": "stdout",
     "output_type": "stream",
     "text": [
      "Structure(4 nodes with |none~0|+|avg_pool_3x3~0|avg_pool_3x3~1|+|none~0|none~1|none~2|)\n",
      "-----------------\n",
      "PCA: 651.01880 ms\n",
      "FNorm: 32.02234 ms\n",
      "Grad: 46.27248 ms\n",
      "NTK: 559.95160 ms\n",
      "LR: 13.80819 ms\n",
      "-----------------\n",
      "PCA: 0.08598 GB\n",
      "FNorm: 0.08598 GB\n",
      "Grad: 0.14051 GB\n",
      "NTK: 0.23278 GB\n",
      "LR: 0.19084 GB\n",
      "-----------------\n",
      "\n"
     ]
    },
    {
     "name": "stderr",
     "output_type": "stream",
     "text": [
      "\r",
      "  2%|▏         | 2/100 [00:03<02:19,  1.43s/it]"
     ]
    },
    {
     "name": "stdout",
     "output_type": "stream",
     "text": [
      "Structure(4 nodes with |nor_conv_1x1~0|+|avg_pool_3x3~0|nor_conv_3x3~1|+|nor_conv_1x1~0|avg_pool_3x3~1|skip_connect~2|)\n",
      "-----------------\n",
      "PCA: 47.17459 ms\n",
      "FNorm: 38.73018 ms\n",
      "Grad: 68.52259 ms\n",
      "NTK: 1473.72961 ms\n",
      "LR: 54.32691 ms\n",
      "-----------------\n",
      "PCA: 0.20762 GB\n",
      "FNorm: 0.32925 GB\n",
      "Grad: 0.60398 GB\n",
      "NTK: 0.99615 GB\n",
      "LR: 0.84306 GB\n",
      "-----------------\n",
      "\n"
     ]
    },
    {
     "name": "stderr",
     "output_type": "stream",
     "text": [
      "\r",
      "  3%|▎         | 3/100 [00:04<02:26,  1.51s/it]"
     ]
    },
    {
     "name": "stdout",
     "output_type": "stream",
     "text": [
      "Structure(4 nodes with |avg_pool_3x3~0|+|skip_connect~0|nor_conv_1x1~1|+|nor_conv_3x3~0|nor_conv_3x3~1|skip_connect~2|)\n",
      "-----------------\n",
      "PCA: 46.91209 ms\n",
      "FNorm: 41.00586 ms\n",
      "Grad: 68.53069 ms\n",
      "NTK: 1475.81299 ms\n",
      "LR: 69.66791 ms\n",
      "-----------------\n",
      "PCA: 0.20972 GB\n",
      "FNorm: 0.33135 GB\n",
      "Grad: 0.60398 GB\n",
      "NTK: 1.25619 GB\n",
      "LR: 0.95420 GB\n",
      "-----------------\n",
      "\n"
     ]
    },
    {
     "name": "stderr",
     "output_type": "stream",
     "text": [
      "\r",
      "  4%|▍         | 4/100 [00:07<03:07,  1.95s/it]"
     ]
    },
    {
     "name": "stdout",
     "output_type": "stream",
     "text": [
      "Structure(4 nodes with |nor_conv_1x1~0|+|nor_conv_3x3~0|avg_pool_3x3~1|+|nor_conv_3x3~0|none~1|none~2|)\n",
      "-----------------\n",
      "PCA: 1205.81482 ms\n",
      "FNorm: 39.11309 ms\n",
      "Grad: 68.65146 ms\n",
      "NTK: 1531.89246 ms\n",
      "LR: 129.52657 ms\n",
      "-----------------\n",
      "PCA: 0.21181 GB\n",
      "FNorm: 0.33345 GB\n",
      "Grad: 0.60817 GB\n",
      "NTK: 1.39880 GB\n",
      "LR: 1.10310 GB\n",
      "-----------------\n",
      "\n"
     ]
    },
    {
     "name": "stderr",
     "output_type": "stream",
     "text": [
      "\r",
      "  5%|▌         | 5/100 [00:09<03:09,  1.99s/it]"
     ]
    },
    {
     "name": "stdout",
     "output_type": "stream",
     "text": [
      "Structure(4 nodes with |avg_pool_3x3~0|+|nor_conv_3x3~0|nor_conv_3x3~1|+|nor_conv_3x3~0|none~1|skip_connect~2|)\n",
      "-----------------\n",
      "PCA: 96.39111 ms\n",
      "FNorm: 80.98294 ms\n",
      "Grad: 124.86563 ms\n",
      "NTK: 1609.38733 ms\n",
      "LR: 154.57808 ms\n",
      "-----------------\n",
      "PCA: 0.21391 GB\n",
      "FNorm: 0.33345 GB\n",
      "Grad: 0.60817 GB\n",
      "NTK: 1.40090 GB\n",
      "LR: 1.18699 GB\n",
      "-----------------\n",
      "\n"
     ]
    },
    {
     "name": "stderr",
     "output_type": "stream",
     "text": [
      "\r",
      "  6%|▌         | 6/100 [00:11<02:54,  1.86s/it]"
     ]
    },
    {
     "name": "stdout",
     "output_type": "stream",
     "text": [
      "Structure(4 nodes with |nor_conv_1x1~0|+|none~0|nor_conv_1x1~1|+|avg_pool_3x3~0|skip_connect~1|none~2|)\n",
      "-----------------\n",
      "PCA: 89.72451 ms\n",
      "FNorm: 73.79315 ms\n",
      "Grad: 108.83712 ms\n",
      "NTK: 1154.27905 ms\n",
      "LR: 105.78253 ms\n",
      "-----------------\n",
      "PCA: 0.16568 GB\n",
      "FNorm: 0.24117 GB\n",
      "Grad: 0.46347 GB\n",
      "NTK: 1.22893 GB\n",
      "LR: 0.96050 GB\n",
      "-----------------\n",
      "\n"
     ]
    },
    {
     "name": "stderr",
     "output_type": "stream",
     "text": [
      "\r",
      "  7%|▋         | 7/100 [00:14<03:27,  2.23s/it]"
     ]
    },
    {
     "name": "stdout",
     "output_type": "stream",
     "text": [
      "Structure(4 nodes with |skip_connect~0|+|skip_connect~0|nor_conv_3x3~1|+|nor_conv_3x3~0|nor_conv_1x1~1|nor_conv_3x3~2|)\n",
      "-----------------\n",
      "PCA: 99.96355 ms\n",
      "FNorm: 85.22794 ms\n",
      "Grad: 135.22125 ms\n",
      "NTK: 2530.21411 ms\n",
      "LR: 206.93817 ms\n",
      "-----------------\n",
      "PCA: 0.24117 GB\n",
      "FNorm: 0.40894 GB\n",
      "Grad: 0.78014 GB\n",
      "NTK: 1.79516 GB\n",
      "LR: 1.55818 GB\n",
      "-----------------\n",
      "\n"
     ]
    },
    {
     "name": "stderr",
     "output_type": "stream",
     "text": [
      "\r",
      "  8%|▊         | 8/100 [00:16<03:17,  2.14s/it]"
     ]
    },
    {
     "name": "stdout",
     "output_type": "stream",
     "text": [
      "Structure(4 nodes with |none~0|+|none~0|none~1|+|nor_conv_1x1~0|avg_pool_3x3~1|avg_pool_3x3~2|)\n",
      "-----------------\n",
      "PCA: 84.02794 ms\n",
      "FNorm: 70.84496 ms\n",
      "Grad: 107.92397 ms\n",
      "NTK: 1583.78833 ms\n",
      "LR: 83.15907 ms\n",
      "-----------------\n",
      "PCA: 0.14051 GB\n",
      "FNorm: 0.18874 GB\n",
      "Grad: 0.33974 GB\n",
      "NTK: 1.23522 GB\n",
      "LR: 0.73400 GB\n",
      "-----------------\n",
      "\n"
     ]
    },
    {
     "name": "stderr",
     "output_type": "stream",
     "text": [
      "\r",
      "  9%|▉         | 9/100 [00:21<04:29,  2.97s/it]"
     ]
    },
    {
     "name": "stdout",
     "output_type": "stream",
     "text": [
      "Structure(4 nodes with |avg_pool_3x3~0|+|nor_conv_1x1~0|nor_conv_3x3~1|+|nor_conv_3x3~0|avg_pool_3x3~1|nor_conv_3x3~2|)\n",
      "-----------------\n",
      "PCA: 1185.82434 ms\n",
      "FNorm: 89.12775 ms\n",
      "Grad: 151.05165 ms\n",
      "NTK: 3192.51074 ms\n",
      "LR: 243.54195 ms\n",
      "-----------------\n",
      "PCA: 0.24117 GB\n",
      "FNorm: 0.40894 GB\n",
      "Grad: 0.78014 GB\n",
      "NTK: 1.80145 GB\n",
      "LR: 1.81613 GB\n",
      "-----------------\n",
      "\n"
     ]
    },
    {
     "name": "stderr",
     "output_type": "stream",
     "text": [
      "\r",
      " 10%|█         | 10/100 [00:24<04:42,  3.14s/it]"
     ]
    },
    {
     "name": "stdout",
     "output_type": "stream",
     "text": [
      "Structure(4 nodes with |none~0|+|nor_conv_1x1~0|none~1|+|nor_conv_1x1~0|nor_conv_3x3~1|nor_conv_1x1~2|)\n",
      "-----------------\n",
      "PCA: 101.12659 ms\n",
      "FNorm: 85.14042 ms\n",
      "Grad: 144.49023 ms\n",
      "NTK: 2958.98975 ms\n",
      "LR: 244.36227 ms\n",
      "-----------------\n",
      "PCA: 0.24117 GB\n",
      "FNorm: 0.40894 GB\n",
      "Grad: 0.78014 GB\n",
      "NTK: 1.81194 GB\n",
      "LR: 1.94406 GB\n",
      "-----------------\n",
      "\n"
     ]
    },
    {
     "name": "stderr",
     "output_type": "stream",
     "text": [
      "\r",
      " 11%|█         | 11/100 [00:26<04:09,  2.80s/it]"
     ]
    },
    {
     "name": "stdout",
     "output_type": "stream",
     "text": [
      "Structure(4 nodes with |avg_pool_3x3~0|+|none~0|avg_pool_3x3~1|+|none~0|skip_connect~1|nor_conv_1x1~2|)\n",
      "-----------------\n",
      "PCA: 89.08989 ms\n",
      "FNorm: 73.13021 ms\n",
      "Grad: 109.49891 ms\n",
      "NTK: 1599.86475 ms\n",
      "LR: 101.62944 ms\n",
      "-----------------\n",
      "PCA: 0.14051 GB\n",
      "FNorm: 0.18874 GB\n",
      "Grad: 0.33974 GB\n",
      "NTK: 1.24990 GB\n",
      "LR: 0.88080 GB\n",
      "-----------------\n",
      "\n"
     ]
    },
    {
     "name": "stderr",
     "output_type": "stream",
     "text": [
      "\r",
      " 12%|█▏        | 12/100 [00:29<04:00,  2.73s/it]"
     ]
    },
    {
     "name": "stdout",
     "output_type": "stream",
     "text": [
      "Structure(4 nodes with |avg_pool_3x3~0|+|skip_connect~0|skip_connect~1|+|skip_connect~0|nor_conv_1x1~1|nor_conv_3x3~2|)\n",
      "-----------------\n",
      "PCA: 93.81370 ms\n",
      "FNorm: 78.54124 ms\n",
      "Grad: 120.06746 ms\n",
      "NTK: 2085.19678 ms\n",
      "LR: 158.74310 ms\n",
      "-----------------\n",
      "PCA: 0.16777 GB\n",
      "FNorm: 0.26214 GB\n",
      "Grad: 0.48654 GB\n",
      "NTK: 1.44284 GB\n",
      "LR: 1.23522 GB\n",
      "-----------------\n",
      "\n"
     ]
    },
    {
     "name": "stderr",
     "output_type": "stream",
     "text": [
      "\r",
      " 13%|█▎        | 13/100 [00:35<05:28,  3.78s/it]"
     ]
    },
    {
     "name": "stdout",
     "output_type": "stream",
     "text": [
      "Structure(4 nodes with |nor_conv_3x3~0|+|nor_conv_3x3~0|nor_conv_1x1~1|+|nor_conv_3x3~0|nor_conv_3x3~1|nor_conv_3x3~2|)\n",
      "-----------------\n",
      "PCA: 116.11050 ms\n",
      "FNorm: 100.58160 ms\n",
      "Grad: 1271.01221 ms\n",
      "NTK: 4284.07764 ms\n",
      "LR: 436.61801 ms\n",
      "-----------------\n",
      "PCA: 0.31667 GB\n",
      "FNorm: 0.55575 GB\n",
      "Grad: 1.07374 GB\n",
      "NTK: 2.26073 GB\n",
      "LR: 3.09540 GB\n",
      "-----------------\n",
      "\n"
     ]
    },
    {
     "name": "stderr",
     "output_type": "stream",
     "text": [
      "\r",
      " 14%|█▍        | 14/100 [00:38<05:13,  3.64s/it]"
     ]
    },
    {
     "name": "stdout",
     "output_type": "stream",
     "text": [
      "Structure(4 nodes with |nor_conv_3x3~0|+|avg_pool_3x3~0|skip_connect~1|+|avg_pool_3x3~0|nor_conv_1x1~1|nor_conv_3x3~2|)\n",
      "-----------------\n",
      "PCA: 99.33763 ms\n",
      "FNorm: 84.09328 ms\n",
      "Grad: 137.42886 ms\n",
      "NTK: 2718.14526 ms\n",
      "LR: 251.16724 ms\n",
      "-----------------\n",
      "PCA: 0.21601 GB\n",
      "FNorm: 0.33764 GB\n",
      "Grad: 0.63544 GB\n",
      "NTK: 1.69869 GB\n",
      "LR: 1.84549 GB\n",
      "-----------------\n",
      "\n"
     ]
    },
    {
     "name": "stderr",
     "output_type": "stream",
     "text": [
      "\r",
      " 15%|█▌        | 15/100 [00:42<05:01,  3.54s/it]"
     ]
    },
    {
     "name": "stdout",
     "output_type": "stream",
     "text": [
      "Structure(4 nodes with |none~0|+|nor_conv_3x3~0|nor_conv_3x3~1|+|nor_conv_1x1~0|skip_connect~1|none~2|)\n",
      "-----------------\n",
      "PCA: 100.06425 ms\n",
      "FNorm: 86.29395 ms\n",
      "Grad: 138.47655 ms\n",
      "NTK: 2705.87207 ms\n",
      "LR: 260.76370 ms\n",
      "-----------------\n",
      "PCA: 0.21601 GB\n",
      "FNorm: 0.33554 GB\n",
      "Grad: 0.61027 GB\n",
      "NTK: 1.65256 GB\n",
      "LR: 1.90421 GB\n",
      "-----------------\n",
      "\n"
     ]
    },
    {
     "name": "stderr",
     "output_type": "stream",
     "text": [
      "\r",
      " 16%|█▌        | 16/100 [00:45<04:54,  3.51s/it]"
     ]
    },
    {
     "name": "stdout",
     "output_type": "stream",
     "text": [
      "Structure(4 nodes with |skip_connect~0|+|avg_pool_3x3~0|avg_pool_3x3~1|+|nor_conv_3x3~0|nor_conv_3x3~1|nor_conv_3x3~2|)\n",
      "-----------------\n",
      "PCA: 97.28333 ms\n",
      "FNorm: 82.98909 ms\n",
      "Grad: 136.86061 ms\n",
      "NTK: 2811.34106 ms\n",
      "LR: 279.37497 ms\n",
      "-----------------\n",
      "PCA: 0.21601 GB\n",
      "FNorm: 0.33764 GB\n",
      "Grad: 0.63544 GB\n",
      "NTK: 1.70079 GB\n",
      "LR: 2.06360 GB\n",
      "-----------------\n",
      "\n"
     ]
    },
    {
     "name": "stderr",
     "output_type": "stream",
     "text": [
      "\r",
      " 17%|█▋        | 17/100 [00:47<04:18,  3.12s/it]"
     ]
    },
    {
     "name": "stdout",
     "output_type": "stream",
     "text": [
      "Structure(4 nodes with |none~0|+|nor_conv_3x3~0|none~1|+|none~0|avg_pool_3x3~1|skip_connect~2|)\n",
      "-----------------\n",
      "PCA: 87.63165 ms\n",
      "FNorm: 72.62477 ms\n",
      "Grad: 109.00064 ms\n",
      "NTK: 1766.57458 ms\n",
      "LR: 138.75430 ms\n",
      "-----------------\n",
      "PCA: 0.14261 GB\n",
      "FNorm: 0.16777 GB\n",
      "Grad: 0.31667 GB\n",
      "NTK: 1.30443 GB\n",
      "LR: 0.99824 GB\n",
      "-----------------\n",
      "\n"
     ]
    },
    {
     "name": "stderr",
     "output_type": "stream",
     "text": [
      "\r",
      " 18%|█▊        | 18/100 [00:51<04:33,  3.33s/it]"
     ]
    },
    {
     "name": "stdout",
     "output_type": "stream",
     "text": [
      "Structure(4 nodes with |none~0|+|avg_pool_3x3~0|avg_pool_3x3~1|+|nor_conv_1x1~0|nor_conv_3x3~1|none~2|)\n",
      "-----------------\n",
      "PCA: 93.80103 ms\n",
      "FNorm: 1180.03821 ms\n",
      "Grad: 122.40804 ms\n",
      "NTK: 2192.84106 ms\n",
      "LR: 215.02887 ms\n",
      "-----------------\n",
      "PCA: 0.16987 GB\n",
      "FNorm: 0.26424 GB\n",
      "Grad: 0.46347 GB\n",
      "NTK: 1.50156 GB\n",
      "LR: 1.59803 GB\n",
      "-----------------\n",
      "\n"
     ]
    },
    {
     "name": "stderr",
     "output_type": "stream",
     "text": [
      "\r",
      " 19%|█▉        | 19/100 [00:54<04:17,  3.18s/it]"
     ]
    },
    {
     "name": "stdout",
     "output_type": "stream",
     "text": [
      "Structure(4 nodes with |nor_conv_3x3~0|+|avg_pool_3x3~0|none~1|+|none~0|skip_connect~1|nor_conv_3x3~2|)\n",
      "-----------------\n",
      "PCA: 92.80042 ms\n",
      "FNorm: 76.37881 ms\n",
      "Grad: 121.76358 ms\n",
      "NTK: 2282.69385 ms\n",
      "LR: 227.20941 ms\n",
      "-----------------\n",
      "PCA: 0.16987 GB\n",
      "FNorm: 0.26214 GB\n",
      "Grad: 0.46347 GB\n",
      "NTK: 1.47849 GB\n",
      "LR: 1.65675 GB\n",
      "-----------------\n",
      "\n"
     ]
    },
    {
     "name": "stderr",
     "output_type": "stream",
     "text": [
      "\r",
      " 20%|██        | 20/100 [00:56<03:46,  2.83s/it]"
     ]
    },
    {
     "name": "stdout",
     "output_type": "stream",
     "text": [
      "Structure(4 nodes with |nor_conv_1x1~0|+|none~0|skip_connect~1|+|skip_connect~0|skip_connect~1|avg_pool_3x3~2|)\n",
      "-----------------\n",
      "PCA: 84.65888 ms\n",
      "FNorm: 68.89017 ms\n",
      "Grad: 103.18675 ms\n",
      "NTK: 1617.99902 ms\n",
      "LR: 135.76736 ms\n",
      "-----------------\n",
      "PCA: 0.12163 GB\n",
      "FNorm: 0.16777 GB\n",
      "Grad: 0.31667 GB\n",
      "NTK: 1.30653 GB\n",
      "LR: 1.08213 GB\n",
      "-----------------\n",
      "\n"
     ]
    },
    {
     "name": "stderr",
     "output_type": "stream",
     "text": [
      "\r",
      " 21%|██        | 21/100 [01:00<04:00,  3.04s/it]"
     ]
    },
    {
     "name": "stdout",
     "output_type": "stream",
     "text": [
      "Structure(4 nodes with |nor_conv_3x3~0|+|nor_conv_3x3~0|none~1|+|avg_pool_3x3~0|avg_pool_3x3~1|nor_conv_3x3~2|)\n",
      "-----------------\n",
      "PCA: 99.86035 ms\n",
      "FNorm: 83.35856 ms\n",
      "Grad: 137.88336 ms\n",
      "NTK: 2837.48730 ms\n",
      "LR: 347.30804 ms\n",
      "-----------------\n",
      "PCA: 0.21810 GB\n",
      "FNorm: 0.33764 GB\n",
      "Grad: 0.63544 GB\n",
      "NTK: 1.69869 GB\n",
      "LR: 2.43060 GB\n",
      "-----------------\n",
      "\n"
     ]
    },
    {
     "name": "stderr",
     "output_type": "stream",
     "text": [
      "\r",
      " 22%|██▏       | 22/100 [01:02<03:34,  2.75s/it]"
     ]
    },
    {
     "name": "stdout",
     "output_type": "stream",
     "text": [
      "Structure(4 nodes with |avg_pool_3x3~0|+|none~0|none~1|+|skip_connect~0|none~1|nor_conv_1x1~2|)\n",
      "-----------------\n",
      "PCA: 86.15091 ms\n",
      "FNorm: 67.80985 ms\n",
      "Grad: 102.23059 ms\n",
      "NTK: 1644.18396 ms\n",
      "LR: 148.89424 ms\n",
      "-----------------\n",
      "PCA: 0.14261 GB\n",
      "FNorm: 0.18874 GB\n",
      "Grad: 0.31667 GB\n",
      "NTK: 1.30862 GB\n",
      "LR: 1.20796 GB\n",
      "-----------------\n",
      "\n"
     ]
    },
    {
     "name": "stderr",
     "output_type": "stream",
     "text": [
      "\r",
      " 23%|██▎       | 23/100 [01:05<03:38,  2.83s/it]"
     ]
    },
    {
     "name": "stdout",
     "output_type": "stream",
     "text": [
      "Structure(4 nodes with |nor_conv_1x1~0|+|skip_connect~0|skip_connect~1|+|skip_connect~0|skip_connect~1|skip_connect~2|)\n",
      "-----------------\n",
      "PCA: 84.65613 ms\n",
      "FNorm: 1156.66895 ms\n",
      "Grad: 101.66183 ms\n",
      "NTK: 1544.18164 ms\n",
      "LR: 114.72160 ms\n",
      "-----------------\n",
      "PCA: 0.11954 GB\n",
      "FNorm: 0.16568 GB\n",
      "Grad: 0.29150 GB\n",
      "NTK: 1.25829 GB\n",
      "LR: 1.17021 GB\n",
      "-----------------\n",
      "\n"
     ]
    },
    {
     "name": "stderr",
     "output_type": "stream",
     "text": [
      "\r",
      " 24%|██▍       | 24/100 [01:07<03:33,  2.81s/it]"
     ]
    },
    {
     "name": "stdout",
     "output_type": "stream",
     "text": [
      "Structure(4 nodes with |nor_conv_3x3~0|+|skip_connect~0|none~1|+|nor_conv_3x3~0|none~1|nor_conv_1x1~2|)\n",
      "-----------------\n",
      "PCA: 52.46323 ms\n",
      "FNorm: 42.87222 ms\n",
      "Grad: 83.43280 ms\n",
      "NTK: 2291.65186 ms\n",
      "LR: 261.48724 ms\n",
      "-----------------\n",
      "PCA: 0.21810 GB\n",
      "FNorm: 0.33764 GB\n",
      "Grad: 0.61027 GB\n",
      "NTK: 1.67353 GB\n",
      "LR: 2.69065 GB\n",
      "-----------------\n",
      "\n"
     ]
    },
    {
     "name": "stderr",
     "output_type": "stream",
     "text": [
      "\r",
      " 25%|██▌       | 25/100 [01:10<03:16,  2.62s/it]"
     ]
    },
    {
     "name": "stdout",
     "output_type": "stream",
     "text": [
      "Structure(4 nodes with |nor_conv_1x1~0|+|avg_pool_3x3~0|avg_pool_3x3~1|+|nor_conv_3x3~0|none~1|none~2|)\n",
      "-----------------\n",
      "PCA: 45.93591 ms\n",
      "FNorm: 39.13433 ms\n",
      "Grad: 73.46614 ms\n",
      "NTK: 1807.59363 ms\n",
      "LR: 200.98701 ms\n",
      "-----------------\n",
      "PCA: 0.16987 GB\n",
      "FNorm: 0.26424 GB\n",
      "Grad: 0.46347 GB\n",
      "NTK: 1.50156 GB\n",
      "LR: 1.99649 GB\n",
      "-----------------\n",
      "\n"
     ]
    },
    {
     "name": "stderr",
     "output_type": "stream",
     "text": [
      "\r",
      " 26%|██▌       | 26/100 [01:12<03:14,  2.63s/it]"
     ]
    },
    {
     "name": "stdout",
     "output_type": "stream",
     "text": [
      "Structure(4 nodes with |avg_pool_3x3~0|+|skip_connect~0|nor_conv_3x3~1|+|nor_conv_1x1~0|nor_conv_1x1~1|avg_pool_3x3~2|)\n",
      "-----------------\n",
      "PCA: 48.69885 ms\n",
      "FNorm: 41.23526 ms\n",
      "Grad: 81.73788 ms\n",
      "NTK: 2189.21289 ms\n",
      "LR: 276.64587 ms\n",
      "-----------------\n",
      "PCA: 0.21810 GB\n",
      "FNorm: 0.33764 GB\n",
      "Grad: 0.63544 GB\n",
      "NTK: 1.69869 GB\n",
      "LR: 2.87310 GB\n",
      "-----------------\n",
      "\n"
     ]
    },
    {
     "name": "stderr",
     "output_type": "stream",
     "text": [
      "\r",
      " 27%|██▋       | 27/100 [01:15<03:14,  2.67s/it]"
     ]
    },
    {
     "name": "stdout",
     "output_type": "stream",
     "text": [
      "Structure(4 nodes with |nor_conv_1x1~0|+|skip_connect~0|nor_conv_3x3~1|+|nor_conv_3x3~0|none~1|none~2|)\n",
      "-----------------\n",
      "PCA: 49.46925 ms\n",
      "FNorm: 41.23363 ms\n",
      "Grad: 82.29305 ms\n",
      "NTK: 2289.28833 ms\n",
      "LR: 289.08887 ms\n",
      "-----------------\n",
      "PCA: 0.21810 GB\n",
      "FNorm: 0.33764 GB\n",
      "Grad: 0.61027 GB\n",
      "NTK: 1.67353 GB\n",
      "LR: 2.98425 GB\n",
      "-----------------\n",
      "\n"
     ]
    },
    {
     "name": "stderr",
     "output_type": "stream",
     "text": [
      "\r",
      " 28%|██▊       | 28/100 [01:19<03:34,  2.97s/it]"
     ]
    },
    {
     "name": "stdout",
     "output_type": "stream",
     "text": [
      "Structure(4 nodes with |none~0|+|skip_connect~0|avg_pool_3x3~1|+|nor_conv_3x3~0|nor_conv_1x1~1|nor_conv_3x3~2|)\n",
      "-----------------\n",
      "PCA: 939.68359 ms\n",
      "FNorm: 42.98330 ms\n",
      "Grad: 83.53536 ms\n",
      "NTK: 2297.85400 ms\n",
      "LR: 301.14560 ms\n",
      "-----------------\n",
      "PCA: 0.21601 GB\n",
      "FNorm: 0.33764 GB\n",
      "Grad: 0.63544 GB\n",
      "NTK: 1.70079 GB\n",
      "LR: 3.09120 GB\n",
      "-----------------\n",
      "\n"
     ]
    },
    {
     "name": "stderr",
     "output_type": "stream",
     "text": [
      "\r",
      " 29%|██▉       | 29/100 [01:21<03:16,  2.77s/it]"
     ]
    },
    {
     "name": "stdout",
     "output_type": "stream",
     "text": [
      "Structure(4 nodes with |nor_conv_3x3~0|+|avg_pool_3x3~0|skip_connect~1|+|nor_conv_3x3~0|none~1|avg_pool_3x3~2|)\n",
      "-----------------\n",
      "PCA: 47.42192 ms\n",
      "FNorm: 41.37411 ms\n",
      "Grad: 74.85904 ms\n",
      "NTK: 1878.42334 ms\n",
      "LR: 234.86650 ms\n",
      "-----------------\n",
      "PCA: 0.16987 GB\n",
      "FNorm: 0.26424 GB\n",
      "Grad: 0.46347 GB\n",
      "NTK: 1.47849 GB\n",
      "LR: 2.17055 GB\n",
      "-----------------\n",
      "\n"
     ]
    },
    {
     "name": "stderr",
     "output_type": "stream",
     "text": [
      "\r",
      " 30%|███       | 30/100 [01:23<02:58,  2.55s/it]"
     ]
    },
    {
     "name": "stdout",
     "output_type": "stream",
     "text": [
      "Structure(4 nodes with |skip_connect~0|+|nor_conv_1x1~0|skip_connect~1|+|skip_connect~0|none~1|nor_conv_1x1~2|)\n",
      "-----------------\n",
      "PCA: 46.83232 ms\n",
      "FNorm: 39.03309 ms\n",
      "Grad: 68.30759 ms\n",
      "NTK: 1625.30750 ms\n",
      "LR: 229.89664 ms\n",
      "-----------------\n",
      "PCA: 0.16987 GB\n",
      "FNorm: 0.26214 GB\n",
      "Grad: 0.46137 GB\n",
      "NTK: 1.47849 GB\n",
      "LR: 2.24605 GB\n",
      "-----------------\n",
      "\n"
     ]
    },
    {
     "name": "stderr",
     "output_type": "stream",
     "text": [
      "\r",
      " 31%|███       | 31/100 [01:25<02:48,  2.44s/it]"
     ]
    },
    {
     "name": "stdout",
     "output_type": "stream",
     "text": [
      "Structure(4 nodes with |nor_conv_1x1~0|+|none~0|avg_pool_3x3~1|+|none~0|nor_conv_3x3~1|skip_connect~2|)\n",
      "-----------------\n",
      "PCA: 49.02855 ms\n",
      "FNorm: 51.88925 ms\n",
      "Grad: 72.20467 ms\n",
      "NTK: 1752.55151 ms\n",
      "LR: 237.25731 ms\n",
      "-----------------\n",
      "PCA: 0.16987 GB\n",
      "FNorm: 0.26214 GB\n",
      "Grad: 0.46347 GB\n",
      "NTK: 1.48059 GB\n",
      "LR: 2.31316 GB\n",
      "-----------------\n",
      "\n"
     ]
    },
    {
     "name": "stderr",
     "output_type": "stream",
     "text": [
      "\r",
      " 32%|███▏      | 32/100 [01:28<02:45,  2.43s/it]"
     ]
    },
    {
     "name": "stdout",
     "output_type": "stream",
     "text": [
      "Structure(4 nodes with |nor_conv_1x1~0|+|avg_pool_3x3~0|skip_connect~1|+|skip_connect~0|avg_pool_3x3~1|none~2|)\n",
      "-----------------\n",
      "PCA: 44.52112 ms\n",
      "FNorm: 36.48288 ms\n",
      "Grad: 952.75391 ms\n",
      "NTK: 1233.62012 ms\n",
      "LR: 141.70381 ms\n",
      "-----------------\n",
      "PCA: 0.14261 GB\n",
      "FNorm: 0.16777 GB\n",
      "Grad: 0.31667 GB\n",
      "NTK: 1.30443 GB\n",
      "LR: 1.44284 GB\n",
      "-----------------\n",
      "\n"
     ]
    },
    {
     "name": "stderr",
     "output_type": "stream",
     "text": [
      "\r",
      " 33%|███▎      | 33/100 [01:31<03:00,  2.69s/it]"
     ]
    },
    {
     "name": "stdout",
     "output_type": "stream",
     "text": [
      "Structure(4 nodes with |nor_conv_1x1~0|+|avg_pool_3x3~0|nor_conv_1x1~1|+|nor_conv_1x1~0|nor_conv_3x3~1|avg_pool_3x3~2|)\n",
      "-----------------\n",
      "PCA: 50.28496 ms\n",
      "FNorm: 44.72000 ms\n",
      "Grad: 93.99293 ms\n",
      "NTK: 2648.76172 ms\n",
      "LR: 441.28397 ms\n",
      "-----------------\n",
      "PCA: 0.24327 GB\n",
      "FNorm: 0.41104 GB\n",
      "Grad: 0.78224 GB\n",
      "NTK: 1.87276 GB\n",
      "LR: 4.31804 GB\n",
      "-----------------\n",
      "\n"
     ]
    },
    {
     "name": "stderr",
     "output_type": "stream",
     "text": [
      "\r",
      " 34%|███▍      | 34/100 [01:33<02:44,  2.49s/it]"
     ]
    },
    {
     "name": "stdout",
     "output_type": "stream",
     "text": [
      "Structure(4 nodes with |nor_conv_1x1~0|+|avg_pool_3x3~0|skip_connect~1|+|nor_conv_1x1~0|none~1|skip_connect~2|)\n",
      "-----------------\n",
      "PCA: 44.38038 ms\n",
      "FNorm: 38.41718 ms\n",
      "Grad: 68.83645 ms\n",
      "NTK: 1616.28613 ms\n",
      "LR: 239.78957 ms\n",
      "-----------------\n",
      "PCA: 0.16987 GB\n",
      "FNorm: 0.24117 GB\n",
      "Grad: 0.43830 GB\n",
      "NTK: 1.45333 GB\n",
      "LR: 2.48932 GB\n",
      "-----------------\n",
      "\n"
     ]
    },
    {
     "name": "stderr",
     "output_type": "stream",
     "text": [
      "\r",
      " 35%|███▌      | 35/100 [01:36<02:57,  2.74s/it]"
     ]
    },
    {
     "name": "stdout",
     "output_type": "stream",
     "text": [
      "Structure(4 nodes with |none~0|+|nor_conv_3x3~0|nor_conv_3x3~1|+|skip_connect~0|nor_conv_1x1~1|nor_conv_1x1~2|)\n",
      "-----------------\n",
      "PCA: 52.70263 ms\n",
      "FNorm: 44.20915 ms\n",
      "Grad: 91.61337 ms\n",
      "NTK: 2655.00122 ms\n",
      "LR: 446.15543 ms\n",
      "-----------------\n",
      "PCA: 0.24327 GB\n",
      "FNorm: 0.40894 GB\n",
      "Grad: 0.78224 GB\n",
      "NTK: 1.89163 GB\n",
      "LR: 4.63261 GB\n",
      "-----------------\n",
      "\n"
     ]
    },
    {
     "name": "stderr",
     "output_type": "stream",
     "text": [
      "\r",
      " 36%|███▌      | 36/100 [01:38<02:38,  2.48s/it]"
     ]
    },
    {
     "name": "stdout",
     "output_type": "stream",
     "text": [
      "Structure(4 nodes with |avg_pool_3x3~0|+|avg_pool_3x3~0|skip_connect~1|+|avg_pool_3x3~0|none~1|avg_pool_3x3~2|)\n",
      "-----------------\n",
      "PCA: 41.56928 ms\n",
      "FNorm: 34.88503 ms\n",
      "Grad: 53.46448 ms\n",
      "NTK: 1685.76575 ms\n",
      "LR: 47.51894 ms\n",
      "-----------------\n",
      "PCA: 0.09647 GB\n",
      "FNorm: 0.11744 GB\n",
      "Grad: 0.16987 GB\n",
      "NTK: 1.11149 GB\n",
      "LR: 0.52639 GB\n",
      "-----------------\n",
      "\n"
     ]
    },
    {
     "name": "stderr",
     "output_type": "stream",
     "text": [
      "\r",
      " 37%|███▋      | 37/100 [01:41<02:42,  2.58s/it]"
     ]
    },
    {
     "name": "stdout",
     "output_type": "stream",
     "text": [
      "Structure(4 nodes with |avg_pool_3x3~0|+|nor_conv_1x1~0|nor_conv_3x3~1|+|avg_pool_3x3~0|nor_conv_3x3~1|skip_connect~2|)\n",
      "-----------------\n",
      "PCA: 53.14867 ms\n",
      "FNorm: 42.91958 ms\n",
      "Grad: 82.66563 ms\n",
      "NTK: 2250.24463 ms\n",
      "LR: 374.37808 ms\n",
      "-----------------\n",
      "PCA: 0.21601 GB\n",
      "FNorm: 0.33554 GB\n",
      "Grad: 0.61027 GB\n",
      "NTK: 1.67353 GB\n",
      "LR: 3.73922 GB\n",
      "-----------------\n",
      "\n"
     ]
    },
    {
     "name": "stderr",
     "output_type": "stream",
     "text": [
      "\r",
      " 38%|███▊      | 38/100 [01:43<02:35,  2.50s/it]"
     ]
    },
    {
     "name": "stdout",
     "output_type": "stream",
     "text": [
      "Structure(4 nodes with |skip_connect~0|+|nor_conv_3x3~0|nor_conv_3x3~1|+|avg_pool_3x3~0|avg_pool_3x3~1|none~2|)\n",
      "-----------------\n",
      "PCA: 47.96227 ms\n",
      "FNorm: 40.68311 ms\n",
      "Grad: 72.38544 ms\n",
      "NTK: 1871.66077 ms\n",
      "LR: 277.73196 ms\n",
      "-----------------\n",
      "PCA: 0.16987 GB\n",
      "FNorm: 0.26424 GB\n",
      "Grad: 0.46557 GB\n",
      "NTK: 1.47849 GB\n",
      "LR: 2.67597 GB\n",
      "-----------------\n",
      "\n"
     ]
    },
    {
     "name": "stderr",
     "output_type": "stream",
     "text": [
      "\r",
      " 39%|███▉      | 39/100 [01:47<02:49,  2.78s/it]"
     ]
    },
    {
     "name": "stdout",
     "output_type": "stream",
     "text": [
      "Structure(4 nodes with |nor_conv_1x1~0|+|skip_connect~0|nor_conv_3x3~1|+|avg_pool_3x3~0|nor_conv_1x1~1|nor_conv_3x3~2|)\n",
      "-----------------\n",
      "PCA: 54.14240 ms\n",
      "FNorm: 45.80138 ms\n",
      "Grad: 94.90998 ms\n",
      "NTK: 2729.06836 ms\n",
      "LR: 492.33127 ms\n",
      "-----------------\n",
      "PCA: 0.24327 GB\n",
      "FNorm: 0.41104 GB\n",
      "Grad: 0.78224 GB\n",
      "NTK: 1.89373 GB\n",
      "LR: 5.04784 GB\n",
      "-----------------\n",
      "\n"
     ]
    },
    {
     "name": "stderr",
     "output_type": "stream",
     "text": [
      "\r",
      " 40%|████      | 40/100 [01:48<02:25,  2.43s/it]"
     ]
    },
    {
     "name": "stdout",
     "output_type": "stream",
     "text": [
      "Structure(4 nodes with |avg_pool_3x3~0|+|none~0|avg_pool_3x3~1|+|skip_connect~0|nor_conv_1x1~1|none~2|)\n",
      "-----------------\n",
      "PCA: 45.78912 ms\n",
      "FNorm: 38.27722 ms\n",
      "Grad: 62.11850 ms\n",
      "NTK: 1262.70178 ms\n",
      "LR: 172.11533 ms\n",
      "-----------------\n",
      "PCA: 0.14261 GB\n",
      "FNorm: 0.18874 GB\n",
      "Grad: 0.33764 GB\n",
      "NTK: 1.30653 GB\n",
      "LR: 1.76790 GB\n",
      "-----------------\n",
      "\n"
     ]
    },
    {
     "name": "stderr",
     "output_type": "stream",
     "text": [
      "\r",
      " 41%|████      | 41/100 [01:51<02:23,  2.44s/it]"
     ]
    },
    {
     "name": "stdout",
     "output_type": "stream",
     "text": [
      "Structure(4 nodes with |avg_pool_3x3~0|+|avg_pool_3x3~0|nor_conv_1x1~1|+|skip_connect~0|none~1|skip_connect~2|)\n",
      "-----------------\n",
      "PCA: 44.49894 ms\n",
      "FNorm: 929.48303 ms\n",
      "Grad: 59.93578 ms\n",
      "NTK: 1234.84375 ms\n",
      "LR: 172.37328 ms\n",
      "-----------------\n",
      "PCA: 0.14051 GB\n",
      "FNorm: 0.16777 GB\n",
      "Grad: 0.33764 GB\n",
      "NTK: 1.30653 GB\n",
      "LR: 1.76370 GB\n",
      "-----------------\n",
      "\n"
     ]
    },
    {
     "name": "stderr",
     "output_type": "stream",
     "text": [
      "\r",
      " 42%|████▏     | 42/100 [01:53<02:19,  2.40s/it]"
     ]
    },
    {
     "name": "stdout",
     "output_type": "stream",
     "text": [
      "Structure(4 nodes with |skip_connect~0|+|nor_conv_3x3~0|nor_conv_1x1~1|+|none~0|avg_pool_3x3~1|none~2|)\n",
      "-----------------\n",
      "PCA: 49.00893 ms\n",
      "FNorm: 40.89030 ms\n",
      "Grad: 72.38173 ms\n",
      "NTK: 1830.58484 ms\n",
      "LR: 300.31482 ms\n",
      "-----------------\n",
      "PCA: 0.16987 GB\n",
      "FNorm: 0.26424 GB\n",
      "Grad: 0.46557 GB\n",
      "NTK: 1.47849 GB\n",
      "LR: 2.92762 GB\n",
      "-----------------\n",
      "\n"
     ]
    },
    {
     "name": "stderr",
     "output_type": "stream",
     "text": [
      "\r",
      " 43%|████▎     | 43/100 [01:55<02:12,  2.32s/it]"
     ]
    },
    {
     "name": "stdout",
     "output_type": "stream",
     "text": [
      "Structure(4 nodes with |none~0|+|none~0|nor_conv_1x1~1|+|none~0|none~1|nor_conv_1x1~2|)\n",
      "-----------------\n",
      "PCA: 47.23011 ms\n",
      "FNorm: 38.92710 ms\n",
      "Grad: 69.38416 ms\n",
      "NTK: 1654.88330 ms\n",
      "LR: 301.03970 ms\n",
      "-----------------\n",
      "PCA: 0.16987 GB\n",
      "FNorm: 0.26424 GB\n",
      "Grad: 0.48864 GB\n",
      "NTK: 1.52463 GB\n",
      "LR: 3.09330 GB\n",
      "-----------------\n",
      "\n"
     ]
    },
    {
     "name": "stderr",
     "output_type": "stream",
     "text": [
      "\r",
      " 44%|████▍     | 44/100 [01:57<02:09,  2.31s/it]"
     ]
    },
    {
     "name": "stdout",
     "output_type": "stream",
     "text": [
      "Structure(4 nodes with |nor_conv_3x3~0|+|skip_connect~0|skip_connect~1|+|nor_conv_3x3~0|none~1|skip_connect~2|)\n",
      "-----------------\n",
      "PCA: 47.25011 ms\n",
      "FNorm: 39.00298 ms\n",
      "Grad: 72.59968 ms\n",
      "NTK: 1809.80798 ms\n",
      "LR: 305.12134 ms\n",
      "-----------------\n",
      "PCA: 0.16987 GB\n",
      "FNorm: 0.24117 GB\n",
      "Grad: 0.43621 GB\n",
      "NTK: 1.45333 GB\n",
      "LR: 3.06604 GB\n",
      "-----------------\n",
      "\n"
     ]
    },
    {
     "name": "stderr",
     "output_type": "stream",
     "text": [
      "\r",
      " 45%|████▌     | 45/100 [02:01<02:19,  2.53s/it]"
     ]
    },
    {
     "name": "stdout",
     "output_type": "stream",
     "text": [
      "Structure(4 nodes with |avg_pool_3x3~0|+|nor_conv_1x1~0|nor_conv_1x1~1|+|none~0|none~1|avg_pool_3x3~2|)\n",
      "-----------------\n",
      "PCA: 47.33059 ms\n",
      "FNorm: 39.71242 ms\n",
      "Grad: 70.91578 ms\n",
      "NTK: 2568.88159 ms\n",
      "LR: 307.36325 ms\n",
      "-----------------\n",
      "PCA: 0.16987 GB\n",
      "FNorm: 0.26424 GB\n",
      "Grad: 0.51171 GB\n",
      "NTK: 1.52673 GB\n",
      "LR: 3.14363 GB\n",
      "-----------------\n",
      "\n"
     ]
    },
    {
     "name": "stderr",
     "output_type": "stream",
     "text": [
      "\r",
      " 46%|████▌     | 46/100 [02:01<01:51,  2.06s/it]"
     ]
    },
    {
     "name": "stdout",
     "output_type": "stream",
     "text": [
      "Structure(4 nodes with |avg_pool_3x3~0|+|none~0|skip_connect~1|+|skip_connect~0|skip_connect~1|avg_pool_3x3~2|)\n",
      "-----------------\n",
      "PCA: 40.95760 ms\n",
      "FNorm: 32.89289 ms\n",
      "Grad: 47.69690 ms\n",
      "NTK: 763.53894 ms\n",
      "LR: 55.33069 ms\n",
      "-----------------\n",
      "PCA: 0.09437 GB\n",
      "FNorm: 0.09437 GB\n",
      "Grad: 0.16987 GB\n",
      "NTK: 1.11149 GB\n",
      "LR: 0.64383 GB\n",
      "-----------------\n",
      "\n"
     ]
    },
    {
     "name": "stderr",
     "output_type": "stream",
     "text": [
      "\r",
      " 47%|████▋     | 47/100 [02:04<01:50,  2.08s/it]"
     ]
    },
    {
     "name": "stdout",
     "output_type": "stream",
     "text": [
      "Structure(4 nodes with |nor_conv_1x1~0|+|nor_conv_1x1~0|none~1|+|avg_pool_3x3~0|none~1|skip_connect~2|)\n",
      "-----------------\n",
      "PCA: 48.07811 ms\n",
      "FNorm: 42.12685 ms\n",
      "Grad: 71.56704 ms\n",
      "NTK: 1632.14160 ms\n",
      "LR: 308.34500 ms\n",
      "-----------------\n",
      "PCA: 0.16987 GB\n",
      "FNorm: 0.24117 GB\n",
      "Grad: 0.43830 GB\n",
      "NTK: 1.45333 GB\n",
      "LR: 3.22542 GB\n",
      "-----------------\n",
      "\n"
     ]
    },
    {
     "name": "stderr",
     "output_type": "stream",
     "text": [
      "\r",
      " 48%|████▊     | 48/100 [02:06<02:00,  2.31s/it]"
     ]
    },
    {
     "name": "stdout",
     "output_type": "stream",
     "text": [
      "Structure(4 nodes with |nor_conv_1x1~0|+|skip_connect~0|nor_conv_3x3~1|+|skip_connect~0|none~1|nor_conv_3x3~2|)\n",
      "-----------------\n",
      "PCA: 51.00563 ms\n",
      "FNorm: 42.71536 ms\n",
      "Grad: 83.31879 ms\n",
      "NTK: 2221.08887 ms\n",
      "LR: 458.40475 ms\n",
      "-----------------\n",
      "PCA: 0.21601 GB\n",
      "FNorm: 0.33554 GB\n",
      "Grad: 0.63544 GB\n",
      "NTK: 1.69869 GB\n",
      "LR: 4.68084 GB\n",
      "-----------------\n",
      "\n"
     ]
    },
    {
     "name": "stderr",
     "output_type": "stream",
     "text": [
      "\r",
      " 49%|████▉     | 49/100 [02:10<02:15,  2.66s/it]"
     ]
    },
    {
     "name": "stdout",
     "output_type": "stream",
     "text": [
      "Structure(4 nodes with |nor_conv_3x3~0|+|nor_conv_1x1~0|none~1|+|nor_conv_1x1~0|none~1|nor_conv_3x3~2|)\n",
      "-----------------\n",
      "PCA: 52.92525 ms\n",
      "FNorm: 47.22755 ms\n",
      "Grad: 92.69517 ms\n",
      "NTK: 2679.21729 ms\n",
      "LR: 574.29059 ms\n",
      "-----------------\n",
      "PCA: 0.24327 GB\n",
      "FNorm: 0.41104 GB\n",
      "Grad: 0.75707 GB\n",
      "NTK: 1.84549 GB\n",
      "LR: 6.03141 GB\n",
      "-----------------\n",
      "\n"
     ]
    },
    {
     "name": "stderr",
     "output_type": "stream",
     "text": [
      "\r",
      " 50%|█████     | 50/100 [02:14<02:31,  3.04s/it]"
     ]
    },
    {
     "name": "stdout",
     "output_type": "stream",
     "text": [
      "Structure(4 nodes with |none~0|+|none~0|avg_pool_3x3~1|+|nor_conv_3x3~0|nor_conv_3x3~1|nor_conv_3x3~2|)\n",
      "-----------------\n",
      "PCA: 50.41821 ms\n",
      "FNorm: 920.03900 ms\n",
      "Grad: 85.88669 ms\n",
      "NTK: 2377.38159 ms\n",
      "LR: 468.06729 ms\n",
      "-----------------\n",
      "PCA: 0.21601 GB\n",
      "FNorm: 0.33764 GB\n",
      "Grad: 0.63544 GB\n",
      "NTK: 1.69869 GB\n",
      "LR: 4.80038 GB\n",
      "-----------------\n",
      "\n"
     ]
    },
    {
     "name": "stderr",
     "output_type": "stream",
     "text": [
      "\r",
      " 51%|█████     | 51/100 [02:18<02:46,  3.39s/it]"
     ]
    },
    {
     "name": "stdout",
     "output_type": "stream",
     "text": [
      "Structure(4 nodes with |avg_pool_3x3~0|+|avg_pool_3x3~0|avg_pool_3x3~1|+|nor_conv_1x1~0|nor_conv_1x1~1|avg_pool_3x3~2|)\n",
      "-----------------\n",
      "PCA: 47.48854 ms\n",
      "FNorm: 40.89344 ms\n",
      "Grad: 71.35773 ms\n",
      "NTK: 1654.64783 ms\n",
      "LR: 2401.36865 ms\n",
      "-----------------\n",
      "PCA: 0.16987 GB\n",
      "FNorm: 0.26424 GB\n",
      "Grad: 0.48864 GB\n",
      "NTK: 1.50576 GB\n",
      "LR: 3.47288 GB\n",
      "-----------------\n",
      "\n"
     ]
    },
    {
     "name": "stderr",
     "output_type": "stream",
     "text": [
      "\r",
      " 52%|█████▏    | 52/100 [02:22<02:56,  3.68s/it]"
     ]
    },
    {
     "name": "stdout",
     "output_type": "stream",
     "text": [
      "Structure(4 nodes with |nor_conv_1x1~0|+|avg_pool_3x3~0|nor_conv_1x1~1|+|nor_conv_1x1~0|none~1|nor_conv_3x3~2|)\n",
      "-----------------\n",
      "PCA: 149.01260 ms\n",
      "FNorm: 99.63312 ms\n",
      "Grad: 161.78918 ms\n",
      "NTK: 3014.45923 ms\n",
      "LR: 903.73914 ms\n",
      "-----------------\n",
      "PCA: 0.24327 GB\n",
      "FNorm: 0.41104 GB\n",
      "Grad: 0.78224 GB\n",
      "NTK: 1.89163 GB\n",
      "LR: 6.36695 GB\n",
      "-----------------\n",
      "\n"
     ]
    },
    {
     "name": "stderr",
     "output_type": "stream",
     "text": [
      "\r",
      " 53%|█████▎    | 53/100 [02:25<02:43,  3.48s/it]"
     ]
    },
    {
     "name": "stdout",
     "output_type": "stream",
     "text": [
      "Structure(4 nodes with |none~0|+|nor_conv_1x1~0|avg_pool_3x3~1|+|skip_connect~0|nor_conv_3x3~1|none~2|)\n",
      "-----------------\n",
      "PCA: 96.87952 ms\n",
      "FNorm: 77.67645 ms\n",
      "Grad: 122.12000 ms\n",
      "NTK: 2150.22778 ms\n",
      "LR: 536.75952 ms\n",
      "-----------------\n",
      "PCA: 0.16987 GB\n",
      "FNorm: 0.26214 GB\n",
      "Grad: 0.46347 GB\n",
      "NTK: 1.50156 GB\n",
      "LR: 3.61549 GB\n",
      "-----------------\n",
      "\n"
     ]
    },
    {
     "name": "stderr",
     "output_type": "stream",
     "text": [
      "\r",
      " 54%|█████▍    | 54/100 [02:28<02:33,  3.33s/it]"
     ]
    },
    {
     "name": "stdout",
     "output_type": "stream",
     "text": [
      "Structure(4 nodes with |skip_connect~0|+|avg_pool_3x3~0|none~1|+|skip_connect~0|none~1|none~2|)\n",
      "-----------------\n",
      "PCA: 79.15111 ms\n",
      "FNorm: 1523.23279 ms\n",
      "Grad: 87.73133 ms\n",
      "NTK: 1171.29907 ms\n",
      "LR: 100.57139 ms\n",
      "-----------------\n",
      "PCA: 0.09647 GB\n",
      "FNorm: 0.09437 GB\n",
      "Grad: 0.17197 GB\n",
      "NTK: 1.08632 GB\n",
      "LR: 0.68157 GB\n",
      "-----------------\n",
      "\n"
     ]
    },
    {
     "name": "stderr",
     "output_type": "stream",
     "text": [
      "\r",
      " 55%|█████▌    | 55/100 [02:31<02:14,  2.99s/it]"
     ]
    },
    {
     "name": "stdout",
     "output_type": "stream",
     "text": [
      "Structure(4 nodes with |nor_conv_1x1~0|+|skip_connect~0|skip_connect~1|+|none~0|avg_pool_3x3~1|skip_connect~2|)\n",
      "-----------------\n",
      "PCA: 93.88355 ms\n",
      "FNorm: 70.13536 ms\n",
      "Grad: 105.15840 ms\n",
      "NTK: 1596.69312 ms\n",
      "LR: 304.43567 ms\n",
      "-----------------\n",
      "PCA: 0.14261 GB\n",
      "FNorm: 0.16777 GB\n",
      "Grad: 0.31667 GB\n",
      "NTK: 1.30653 GB\n",
      "LR: 2.23556 GB\n",
      "-----------------\n",
      "\n"
     ]
    },
    {
     "name": "stderr",
     "output_type": "stream",
     "text": [
      "\r",
      " 56%|█████▌    | 56/100 [02:33<02:03,  2.80s/it]"
     ]
    },
    {
     "name": "stdout",
     "output_type": "stream",
     "text": [
      "Structure(4 nodes with |none~0|+|nor_conv_3x3~0|avg_pool_3x3~1|+|none~0|skip_connect~1|none~2|)\n",
      "-----------------\n",
      "PCA: 86.56080 ms\n",
      "FNorm: 69.50919 ms\n",
      "Grad: 106.62909 ms\n",
      "NTK: 1734.31836 ms\n",
      "LR: 320.34836 ms\n",
      "-----------------\n",
      "PCA: 0.14261 GB\n",
      "FNorm: 0.16777 GB\n",
      "Grad: 0.31667 GB\n",
      "NTK: 1.30653 GB\n",
      "LR: 2.28170 GB\n",
      "-----------------\n",
      "\n"
     ]
    },
    {
     "name": "stderr",
     "output_type": "stream",
     "text": [
      "\r",
      " 57%|█████▋    | 57/100 [02:37<02:10,  3.03s/it]"
     ]
    },
    {
     "name": "stdout",
     "output_type": "stream",
     "text": [
      "Structure(4 nodes with |none~0|+|nor_conv_1x1~0|skip_connect~1|+|nor_conv_1x1~0|skip_connect~1|nor_conv_3x3~2|)\n",
      "-----------------\n",
      "PCA: 99.92186 ms\n",
      "FNorm: 86.51418 ms\n",
      "Grad: 136.39841 ms\n",
      "NTK: 2522.09180 ms\n",
      "LR: 723.09052 ms\n",
      "-----------------\n",
      "PCA: 0.21601 GB\n",
      "FNorm: 0.33554 GB\n",
      "Grad: 0.60817 GB\n",
      "NTK: 1.67353 GB\n",
      "LR: 5.29321 GB\n",
      "-----------------\n",
      "\n"
     ]
    },
    {
     "name": "stderr",
     "output_type": "stream",
     "text": [
      "\r",
      " 58%|█████▊    | 58/100 [02:40<02:16,  3.25s/it]"
     ]
    },
    {
     "name": "stdout",
     "output_type": "stream",
     "text": [
      "Structure(4 nodes with |nor_conv_1x1~0|+|nor_conv_3x3~0|skip_connect~1|+|nor_conv_3x3~0|avg_pool_3x3~1|skip_connect~2|)\n",
      "-----------------\n",
      "PCA: 104.53497 ms\n",
      "FNorm: 87.27094 ms\n",
      "Grad: 139.24692 ms\n",
      "NTK: 2649.55322 ms\n",
      "LR: 748.83313 ms\n",
      "-----------------\n",
      "PCA: 0.21601 GB\n",
      "FNorm: 0.31457 GB\n",
      "Grad: 0.60817 GB\n",
      "NTK: 1.67353 GB\n",
      "LR: 5.51341 GB\n",
      "-----------------\n",
      "\n"
     ]
    },
    {
     "name": "stderr",
     "output_type": "stream",
     "text": [
      "\r",
      " 59%|█████▉    | 59/100 [02:46<02:41,  3.94s/it]"
     ]
    },
    {
     "name": "stdout",
     "output_type": "stream",
     "text": [
      "Structure(4 nodes with |avg_pool_3x3~0|+|nor_conv_1x1~0|nor_conv_3x3~1|+|avg_pool_3x3~0|nor_conv_1x1~1|nor_conv_3x3~2|)\n",
      "-----------------\n",
      "PCA: 1226.44385 ms\n",
      "FNorm: 94.32643 ms\n",
      "Grad: 158.40900 ms\n",
      "NTK: 3120.75659 ms\n",
      "LR: 930.60388 ms\n",
      "-----------------\n",
      "PCA: 0.24327 GB\n",
      "FNorm: 0.41104 GB\n",
      "Grad: 0.78224 GB\n",
      "NTK: 1.89163 GB\n",
      "LR: 7.07999 GB\n",
      "-----------------\n",
      "\n"
     ]
    },
    {
     "name": "stderr",
     "output_type": "stream",
     "text": [
      "\r",
      " 60%|██████    | 60/100 [02:49<02:32,  3.81s/it]"
     ]
    },
    {
     "name": "stdout",
     "output_type": "stream",
     "text": [
      "Structure(4 nodes with |avg_pool_3x3~0|+|skip_connect~0|nor_conv_1x1~1|+|none~0|nor_conv_1x1~1|nor_conv_1x1~2|)\n",
      "-----------------\n",
      "PCA: 102.11808 ms\n",
      "FNorm: 85.93923 ms\n",
      "Grad: 136.86516 ms\n",
      "NTK: 2414.47656 ms\n",
      "LR: 751.30249 ms\n",
      "-----------------\n",
      "PCA: 0.21601 GB\n",
      "FNorm: 0.33764 GB\n",
      "Grad: 0.63544 GB\n",
      "NTK: 1.70079 GB\n",
      "LR: 5.66441 GB\n",
      "-----------------\n",
      "\n"
     ]
    },
    {
     "name": "stderr",
     "output_type": "stream",
     "text": [
      "\r",
      " 61%|██████    | 61/100 [02:51<02:02,  3.14s/it]"
     ]
    },
    {
     "name": "stdout",
     "output_type": "stream",
     "text": [
      "Structure(4 nodes with |avg_pool_3x3~0|+|avg_pool_3x3~0|none~1|+|none~0|skip_connect~1|avg_pool_3x3~2|)\n",
      "-----------------\n",
      "PCA: 81.05011 ms\n",
      "FNorm: 64.18224 ms\n",
      "Grad: 93.20589 ms\n",
      "NTK: 1207.61011 ms\n",
      "LR: 107.22576 ms\n",
      "-----------------\n",
      "PCA: 0.09647 GB\n",
      "FNorm: 0.09437 GB\n",
      "Grad: 0.19294 GB\n",
      "NTK: 1.11359 GB\n",
      "LR: 0.78014 GB\n",
      "-----------------\n",
      "\n"
     ]
    },
    {
     "name": "stderr",
     "output_type": "stream",
     "text": [
      "\r",
      " 62%|██████▏   | 62/100 [02:56<02:20,  3.69s/it]"
     ]
    },
    {
     "name": "stdout",
     "output_type": "stream",
     "text": [
      "Structure(4 nodes with |none~0|+|nor_conv_3x3~0|avg_pool_3x3~1|+|nor_conv_3x3~0|nor_conv_1x1~1|none~2|)\n",
      "-----------------\n",
      "PCA: 103.22541 ms\n",
      "FNorm: 89.95242 ms\n",
      "Grad: 144.00461 ms\n",
      "NTK: 3826.67725 ms\n",
      "LR: 776.47717 ms\n",
      "-----------------\n",
      "PCA: 0.21810 GB\n",
      "FNorm: 0.33764 GB\n",
      "Grad: 0.61027 GB\n",
      "NTK: 1.67353 GB\n",
      "LR: 5.73991 GB\n",
      "-----------------\n",
      "\n"
     ]
    },
    {
     "name": "stderr",
     "output_type": "stream",
     "text": [
      "\r",
      " 63%|██████▎   | 63/100 [02:58<02:00,  3.26s/it]"
     ]
    },
    {
     "name": "stdout",
     "output_type": "stream",
     "text": [
      "Structure(4 nodes with |skip_connect~0|+|none~0|avg_pool_3x3~1|+|skip_connect~0|nor_conv_1x1~1|avg_pool_3x3~2|)\n",
      "-----------------\n",
      "PCA: 87.20972 ms\n",
      "FNorm: 70.86221 ms\n",
      "Grad: 107.21437 ms\n",
      "NTK: 1637.14551 ms\n",
      "LR: 340.05728 ms\n",
      "-----------------\n",
      "PCA: 0.14261 GB\n",
      "FNorm: 0.18874 GB\n",
      "Grad: 0.36281 GB\n",
      "NTK: 1.33169 GB\n",
      "LR: 2.47883 GB\n",
      "-----------------\n",
      "\n"
     ]
    },
    {
     "name": "stderr",
     "output_type": "stream",
     "text": [
      "\r",
      " 64%|██████▍   | 64/100 [03:01<01:55,  3.20s/it]"
     ]
    },
    {
     "name": "stdout",
     "output_type": "stream",
     "text": [
      "Structure(4 nodes with |avg_pool_3x3~0|+|nor_conv_3x3~0|skip_connect~1|+|avg_pool_3x3~0|none~1|nor_conv_1x1~2|)\n",
      "-----------------\n",
      "PCA: 96.69299 ms\n",
      "FNorm: 80.95206 ms\n",
      "Grad: 124.58906 ms\n",
      "NTK: 2165.63159 ms\n",
      "LR: 570.99963 ms\n",
      "-----------------\n",
      "PCA: 0.16987 GB\n",
      "FNorm: 0.26424 GB\n",
      "Grad: 0.46347 GB\n",
      "NTK: 1.47849 GB\n",
      "LR: 4.18382 GB\n",
      "-----------------\n",
      "\n"
     ]
    },
    {
     "name": "stderr",
     "output_type": "stream",
     "text": [
      "\r",
      " 65%|██████▌   | 65/100 [03:04<01:43,  2.95s/it]"
     ]
    },
    {
     "name": "stdout",
     "output_type": "stream",
     "text": [
      "Structure(4 nodes with |skip_connect~0|+|none~0|none~1|+|skip_connect~0|none~1|nor_conv_3x3~2|)\n",
      "-----------------\n",
      "PCA: 89.01949 ms\n",
      "FNorm: 70.11568 ms\n",
      "Grad: 109.72067 ms\n",
      "NTK: 1706.42383 ms\n",
      "LR: 356.85754 ms\n",
      "-----------------\n",
      "PCA: 0.14261 GB\n",
      "FNorm: 0.18874 GB\n",
      "Grad: 0.31667 GB\n",
      "NTK: 1.30653 GB\n",
      "LR: 2.60047 GB\n",
      "-----------------\n",
      "\n"
     ]
    },
    {
     "name": "stderr",
     "output_type": "stream",
     "text": [
      "\r",
      " 66%|██████▌   | 66/100 [03:08<01:54,  3.37s/it]"
     ]
    },
    {
     "name": "stdout",
     "output_type": "stream",
     "text": [
      "Structure(4 nodes with |skip_connect~0|+|skip_connect~0|nor_conv_1x1~1|+|nor_conv_3x3~0|nor_conv_1x1~1|nor_conv_1x1~2|)\n",
      "-----------------\n",
      "PCA: 107.48896 ms\n",
      "FNorm: 95.24045 ms\n",
      "Grad: 153.67091 ms\n",
      "NTK: 2945.48291 ms\n",
      "LR: 1023.72595 ms\n",
      "-----------------\n",
      "PCA: 0.24327 GB\n",
      "FNorm: 0.41104 GB\n",
      "Grad: 0.78224 GB\n",
      "NTK: 1.87276 GB\n",
      "LR: 7.84545 GB\n",
      "-----------------\n",
      "\n"
     ]
    },
    {
     "name": "stderr",
     "output_type": "stream",
     "text": [
      "\r",
      " 67%|██████▋   | 67/100 [03:13<02:05,  3.80s/it]"
     ]
    },
    {
     "name": "stdout",
     "output_type": "stream",
     "text": [
      "Structure(4 nodes with |nor_conv_1x1~0|+|nor_conv_3x3~0|skip_connect~1|+|skip_connect~0|skip_connect~1|nor_conv_1x1~2|)\n",
      "-----------------\n",
      "PCA: 1227.25635 ms\n",
      "FNorm: 85.67965 ms\n",
      "Grad: 138.21677 ms\n",
      "NTK: 2527.21265 ms\n",
      "LR: 817.37579 ms\n",
      "-----------------\n",
      "PCA: 0.21601 GB\n",
      "FNorm: 0.31457 GB\n",
      "Grad: 0.60817 GB\n",
      "NTK: 1.67143 GB\n",
      "LR: 6.14675 GB\n",
      "-----------------\n",
      "\n"
     ]
    },
    {
     "name": "stderr",
     "output_type": "stream",
     "text": [
      "\r",
      " 68%|██████▊   | 68/100 [03:16<01:52,  3.52s/it]"
     ]
    },
    {
     "name": "stdout",
     "output_type": "stream",
     "text": [
      "Structure(4 nodes with |avg_pool_3x3~0|+|avg_pool_3x3~0|nor_conv_1x1~1|+|nor_conv_3x3~0|avg_pool_3x3~1|none~2|)\n",
      "-----------------\n",
      "PCA: 100.56758 ms\n",
      "FNorm: 81.79948 ms\n",
      "Grad: 125.57645 ms\n",
      "NTK: 2091.19751 ms\n",
      "LR: 440.31363 ms\n",
      "-----------------\n",
      "PCA: 0.16987 GB\n",
      "FNorm: 0.26424 GB\n",
      "Grad: 0.46557 GB\n",
      "NTK: 1.47849 GB\n",
      "LR: 4.44177 GB\n",
      "-----------------\n",
      "\n"
     ]
    },
    {
     "name": "stderr",
     "output_type": "stream",
     "text": [
      "\r",
      " 69%|██████▉   | 69/100 [03:19<01:44,  3.36s/it]"
     ]
    },
    {
     "name": "stdout",
     "output_type": "stream",
     "text": [
      "Structure(4 nodes with |skip_connect~0|+|nor_conv_1x1~0|nor_conv_3x3~1|+|none~0|avg_pool_3x3~1|nor_conv_1x1~2|)\n",
      "-----------------\n",
      "PCA: 50.94163 ms\n",
      "FNorm: 45.89811 ms\n",
      "Grad: 82.98234 ms\n",
      "NTK: 2168.01758 ms\n",
      "LR: 618.10187 ms\n",
      "-----------------\n",
      "PCA: 0.21810 GB\n",
      "FNorm: 0.33764 GB\n",
      "Grad: 0.63544 GB\n",
      "NTK: 1.70079 GB\n",
      "LR: 6.40051 GB\n",
      "-----------------\n",
      "\n"
     ]
    },
    {
     "name": "stderr",
     "output_type": "stream",
     "text": [
      "\r",
      " 70%|███████   | 70/100 [03:23<01:51,  3.72s/it]"
     ]
    },
    {
     "name": "stdout",
     "output_type": "stream",
     "text": [
      "Structure(4 nodes with |nor_conv_1x1~0|+|nor_conv_3x3~0|nor_conv_1x1~1|+|none~0|nor_conv_3x3~1|skip_connect~2|)\n",
      "-----------------\n",
      "PCA: 55.46624 ms\n",
      "FNorm: 49.83447 ms\n",
      "Grad: 94.23772 ms\n",
      "NTK: 2119.42529 ms\n",
      "LR: 2222.14282 ms\n",
      "-----------------\n",
      "PCA: 0.24327 GB\n",
      "FNorm: 0.40894 GB\n",
      "Grad: 0.75707 GB\n",
      "NTK: 1.84759 GB\n",
      "LR: 8.29004 GB\n",
      "-----------------\n",
      "\n"
     ]
    },
    {
     "name": "stderr",
     "output_type": "stream",
     "text": [
      "\r",
      " 71%|███████   | 71/100 [03:24<01:26,  2.99s/it]"
     ]
    },
    {
     "name": "stdout",
     "output_type": "stream",
     "text": [
      "Structure(4 nodes with |none~0|+|none~0|avg_pool_3x3~1|+|skip_connect~0|avg_pool_3x3~1|skip_connect~2|)\n",
      "-----------------\n",
      "PCA: 84.69366 ms\n",
      "FNorm: 65.41760 ms\n",
      "Grad: 88.99958 ms\n",
      "NTK: 920.28131 ms\n",
      "LR: 112.59434 ms\n",
      "-----------------\n",
      "PCA: 0.09437 GB\n",
      "FNorm: 0.09437 GB\n",
      "Grad: 0.16987 GB\n",
      "NTK: 1.11149 GB\n",
      "LR: 0.81369 GB\n",
      "-----------------\n",
      "\n"
     ]
    },
    {
     "name": "stderr",
     "output_type": "stream",
     "text": [
      "\r",
      " 72%|███████▏  | 72/100 [03:27<01:17,  2.78s/it]"
     ]
    },
    {
     "name": "stdout",
     "output_type": "stream",
     "text": [
      "Structure(4 nodes with |avg_pool_3x3~0|+|nor_conv_3x3~0|avg_pool_3x3~1|+|nor_conv_1x1~0|avg_pool_3x3~1|avg_pool_3x3~2|)\n",
      "-----------------\n",
      "PCA: 98.22742 ms\n",
      "FNorm: 81.38675 ms\n",
      "Grad: 124.39805 ms\n",
      "NTK: 1319.81592 ms\n",
      "LR: 638.19989 ms\n",
      "-----------------\n",
      "PCA: 0.16987 GB\n",
      "FNorm: 0.26424 GB\n",
      "Grad: 0.50961 GB\n",
      "NTK: 1.52463 GB\n",
      "LR: 4.71649 GB\n",
      "-----------------\n",
      "\n"
     ]
    },
    {
     "name": "stderr",
     "output_type": "stream",
     "text": [
      "\r",
      " 73%|███████▎  | 73/100 [03:30<01:20,  2.97s/it]"
     ]
    },
    {
     "name": "stdout",
     "output_type": "stream",
     "text": [
      "Structure(4 nodes with |avg_pool_3x3~0|+|nor_conv_1x1~0|nor_conv_1x1~1|+|none~0|nor_conv_3x3~1|nor_conv_1x1~2|)\n",
      "-----------------\n",
      "PCA: 112.26272 ms\n",
      "FNorm: 98.22845 ms\n",
      "Grad: 144.81715 ms\n",
      "NTK: 1887.76514 ms\n",
      "LR: 1150.18506 ms\n",
      "-----------------\n",
      "PCA: 0.24327 GB\n",
      "FNorm: 0.41104 GB\n",
      "Grad: 0.78224 GB\n",
      "NTK: 1.89373 GB\n",
      "LR: 8.57945 GB\n",
      "-----------------\n",
      "\n"
     ]
    },
    {
     "name": "stderr",
     "output_type": "stream",
     "text": [
      "\r",
      " 74%|███████▍  | 74/100 [03:35<01:32,  3.57s/it]"
     ]
    },
    {
     "name": "stdout",
     "output_type": "stream",
     "text": [
      "Structure(4 nodes with |nor_conv_1x1~0|+|skip_connect~0|nor_conv_1x1~1|+|nor_conv_1x1~0|nor_conv_1x1~1|nor_conv_1x1~2|)\n",
      "-----------------\n",
      "PCA: 117.37686 ms\n",
      "FNorm: 103.02262 ms\n",
      "Grad: 1281.31140 ms\n",
      "NTK: 2085.02686 ms\n",
      "LR: 1373.17310 ms\n",
      "-----------------\n",
      "PCA: 0.28941 GB\n",
      "FNorm: 0.48444 GB\n",
      "Grad: 0.92904 GB\n",
      "NTK: 2.06779 GB\n",
      "LR: 10.67870 GB\n",
      "-----------------\n",
      "\n"
     ]
    },
    {
     "name": "stderr",
     "output_type": "stream",
     "text": [
      "\r",
      " 75%|███████▌  | 75/100 [03:38<01:23,  3.34s/it]"
     ]
    },
    {
     "name": "stdout",
     "output_type": "stream",
     "text": [
      "Structure(4 nodes with |nor_conv_1x1~0|+|none~0|nor_conv_3x3~1|+|skip_connect~0|none~1|nor_conv_3x3~2|)\n",
      "-----------------\n",
      "PCA: 107.61475 ms\n",
      "FNorm: 89.82983 ms\n",
      "Grad: 133.18541 ms\n",
      "NTK: 1529.60535 ms\n",
      "LR: 920.84515 ms\n",
      "-----------------\n",
      "PCA: 0.21601 GB\n",
      "FNorm: 0.33554 GB\n",
      "Grad: 0.63544 GB\n",
      "NTK: 1.71966 GB\n",
      "LR: 6.90592 GB\n",
      "-----------------\n",
      "\n"
     ]
    },
    {
     "name": "stderr",
     "output_type": "stream",
     "text": [
      "\r",
      " 76%|███████▌  | 76/100 [03:41<01:16,  3.18s/it]"
     ]
    },
    {
     "name": "stdout",
     "output_type": "stream",
     "text": [
      "Structure(4 nodes with |none~0|+|avg_pool_3x3~0|none~1|+|nor_conv_1x1~0|nor_conv_1x1~1|nor_conv_3x3~2|)\n",
      "-----------------\n",
      "PCA: 106.28461 ms\n",
      "FNorm: 89.13242 ms\n",
      "Grad: 133.57756 ms\n",
      "NTK: 1538.22900 ms\n",
      "LR: 902.29126 ms\n",
      "-----------------\n",
      "PCA: 0.21810 GB\n",
      "FNorm: 0.33764 GB\n",
      "Grad: 0.63544 GB\n",
      "NTK: 1.69869 GB\n",
      "LR: 6.92060 GB\n",
      "-----------------\n",
      "\n"
     ]
    },
    {
     "name": "stderr",
     "output_type": "stream",
     "text": [
      "\r",
      " 77%|███████▋  | 77/100 [03:45<01:22,  3.58s/it]"
     ]
    },
    {
     "name": "stdout",
     "output_type": "stream",
     "text": [
      "Structure(4 nodes with |nor_conv_1x1~0|+|skip_connect~0|nor_conv_1x1~1|+|nor_conv_3x3~0|nor_conv_1x1~1|skip_connect~2|)\n",
      "-----------------\n",
      "PCA: 111.19136 ms\n",
      "FNorm: 97.14851 ms\n",
      "Grad: 142.10390 ms\n",
      "NTK: 2939.49219 ms\n",
      "LR: 1198.44690 ms\n",
      "-----------------\n",
      "PCA: 0.24327 GB\n",
      "FNorm: 0.40894 GB\n",
      "Grad: 0.75497 GB\n",
      "NTK: 1.86647 GB\n",
      "LR: 9.05760 GB\n",
      "-----------------\n",
      "\n"
     ]
    },
    {
     "name": "stderr",
     "output_type": "stream",
     "text": [
      "\r",
      " 78%|███████▊  | 78/100 [03:47<01:06,  3.04s/it]"
     ]
    },
    {
     "name": "stdout",
     "output_type": "stream",
     "text": [
      "Structure(4 nodes with |nor_conv_1x1~0|+|none~0|none~1|+|none~0|none~1|none~2|)\n",
      "-----------------\n",
      "PCA: 88.12925 ms\n",
      "FNorm: 71.16829 ms\n",
      "Grad: 100.93664 ms\n",
      "NTK: 1102.15576 ms\n",
      "LR: 400.02521 ms\n",
      "-----------------\n",
      "PCA: 0.14261 GB\n",
      "FNorm: 0.19084 GB\n",
      "Grad: 0.29360 GB\n",
      "NTK: 1.25829 GB\n",
      "LR: 2.93182 GB\n",
      "-----------------\n",
      "\n"
     ]
    },
    {
     "name": "stderr",
     "output_type": "stream",
     "text": [
      "\r",
      " 79%|███████▉  | 79/100 [03:51<01:10,  3.36s/it]"
     ]
    },
    {
     "name": "stdout",
     "output_type": "stream",
     "text": [
      "Structure(4 nodes with |nor_conv_1x1~0|+|nor_conv_1x1~0|nor_conv_3x3~1|+|nor_conv_3x3~0|skip_connect~1|nor_conv_1x1~2|)\n",
      "-----------------\n",
      "PCA: 123.02966 ms\n",
      "FNorm: 104.23046 ms\n",
      "Grad: 162.47418 ms\n",
      "NTK: 2233.23730 ms\n",
      "LR: 1459.09485 ms\n",
      "-----------------\n",
      "PCA: 0.28941 GB\n",
      "FNorm: 0.48234 GB\n",
      "Grad: 0.92904 GB\n",
      "NTK: 2.08457 GB\n",
      "LR: 11.32252 GB\n",
      "-----------------\n",
      "\n"
     ]
    },
    {
     "name": "stderr",
     "output_type": "stream",
     "text": [
      "\r",
      " 80%|████████  | 80/100 [03:55<01:08,  3.43s/it]"
     ]
    },
    {
     "name": "stdout",
     "output_type": "stream",
     "text": [
      "Structure(4 nodes with |nor_conv_1x1~0|+|avg_pool_3x3~0|nor_conv_3x3~1|+|nor_conv_3x3~0|nor_conv_3x3~1|avg_pool_3x3~2|)\n",
      "-----------------\n",
      "PCA: 110.38691 ms\n",
      "FNorm: 96.04707 ms\n",
      "Grad: 149.76903 ms\n",
      "NTK: 1994.02026 ms\n",
      "LR: 1222.50342 ms\n",
      "-----------------\n",
      "PCA: 0.24327 GB\n",
      "FNorm: 0.41104 GB\n",
      "Grad: 0.78224 GB\n",
      "NTK: 1.87485 GB\n",
      "LR: 9.29877 GB\n",
      "-----------------\n",
      "\n"
     ]
    },
    {
     "name": "stderr",
     "output_type": "stream",
     "text": [
      "\r",
      " 81%|████████  | 81/100 [03:57<00:59,  3.14s/it]"
     ]
    },
    {
     "name": "stdout",
     "output_type": "stream",
     "text": [
      "Structure(4 nodes with |avg_pool_3x3~0|+|none~0|none~1|+|skip_connect~0|avg_pool_3x3~1|avg_pool_3x3~2|)\n",
      "-----------------\n",
      "PCA: 81.25942 ms\n",
      "FNorm: 1190.46460 ms\n",
      "Grad: 89.90166 ms\n",
      "NTK: 932.39307 ms\n",
      "LR: 131.14778 ms\n",
      "-----------------\n",
      "PCA: 0.09647 GB\n",
      "FNorm: 0.09437 GB\n",
      "Grad: 0.21601 GB\n",
      "NTK: 1.15973 GB\n",
      "LR: 1.00454 GB\n",
      "-----------------\n",
      "\n"
     ]
    },
    {
     "name": "stderr",
     "output_type": "stream",
     "text": [
      "\r",
      " 82%|████████▏ | 82/100 [04:00<00:55,  3.07s/it]"
     ]
    },
    {
     "name": "stdout",
     "output_type": "stream",
     "text": [
      "Structure(4 nodes with |none~0|+|nor_conv_3x3~0|nor_conv_1x1~1|+|avg_pool_3x3~0|skip_connect~1|nor_conv_3x3~2|)\n",
      "-----------------\n",
      "PCA: 106.43312 ms\n",
      "FNorm: 91.92154 ms\n",
      "Grad: 134.51639 ms\n",
      "NTK: 1577.78113 ms\n",
      "LR: 998.59894 ms\n",
      "-----------------\n",
      "PCA: 0.21601 GB\n",
      "FNorm: 0.33554 GB\n",
      "Grad: 0.63544 GB\n",
      "NTK: 1.71757 GB\n",
      "LR: 7.50151 GB\n",
      "-----------------\n",
      "\n"
     ]
    },
    {
     "name": "stderr",
     "output_type": "stream",
     "text": [
      "\r",
      " 83%|████████▎ | 83/100 [04:03<00:51,  3.01s/it]"
     ]
    },
    {
     "name": "stdout",
     "output_type": "stream",
     "text": [
      "Structure(4 nodes with |nor_conv_1x1~0|+|none~0|nor_conv_1x1~1|+|avg_pool_3x3~0|none~1|nor_conv_3x3~2|)\n",
      "-----------------\n",
      "PCA: 107.12448 ms\n",
      "FNorm: 89.67325 ms\n",
      "Grad: 134.60684 ms\n",
      "NTK: 1536.42517 ms\n",
      "LR: 981.67627 ms\n",
      "-----------------\n",
      "PCA: 0.21810 GB\n",
      "FNorm: 0.33764 GB\n",
      "Grad: 0.63544 GB\n",
      "NTK: 1.69869 GB\n",
      "LR: 7.49522 GB\n",
      "-----------------\n",
      "\n"
     ]
    },
    {
     "name": "stderr",
     "output_type": "stream",
     "text": [
      "\r",
      " 84%|████████▍ | 84/100 [04:06<00:47,  2.99s/it]"
     ]
    },
    {
     "name": "stdout",
     "output_type": "stream",
     "text": [
      "Structure(4 nodes with |skip_connect~0|+|skip_connect~0|skip_connect~1|+|nor_conv_3x3~0|avg_pool_3x3~1|nor_conv_1x1~2|)\n",
      "-----------------\n",
      "PCA: 98.75191 ms\n",
      "FNorm: 83.40391 ms\n",
      "Grad: 118.16195 ms\n",
      "NTK: 1885.46619 ms\n",
      "LR: 727.91223 ms\n",
      "-----------------\n",
      "PCA: 0.16987 GB\n",
      "FNorm: 0.26424 GB\n",
      "Grad: 0.48864 GB\n",
      "NTK: 1.52882 GB\n",
      "LR: 5.40646 GB\n",
      "-----------------\n",
      "\n"
     ]
    },
    {
     "name": "stderr",
     "output_type": "stream",
     "text": [
      "\r",
      " 85%|████████▌ | 85/100 [04:10<00:47,  3.17s/it]"
     ]
    },
    {
     "name": "stdout",
     "output_type": "stream",
     "text": [
      "Structure(4 nodes with |avg_pool_3x3~0|+|skip_connect~0|none~1|+|nor_conv_3x3~0|none~1|none~2|)\n",
      "-----------------\n",
      "PCA: 94.67699 ms\n",
      "FNorm: 1206.51746 ms\n",
      "Grad: 113.16087 ms\n",
      "NTK: 1714.01147 ms\n",
      "LR: 442.09738 ms\n",
      "-----------------\n",
      "PCA: 0.14470 GB\n",
      "FNorm: 0.19084 GB\n",
      "Grad: 0.29150 GB\n",
      "NTK: 1.26039 GB\n",
      "LR: 3.15621 GB\n",
      "-----------------\n",
      "\n"
     ]
    },
    {
     "name": "stderr",
     "output_type": "stream",
     "text": [
      "\r",
      " 86%|████████▌ | 86/100 [04:13<00:46,  3.35s/it]"
     ]
    },
    {
     "name": "stdout",
     "output_type": "stream",
     "text": [
      "Structure(4 nodes with |nor_conv_3x3~0|+|avg_pool_3x3~0|none~1|+|nor_conv_3x3~0|none~1|nor_conv_3x3~2|)\n",
      "-----------------\n",
      "PCA: 110.43325 ms\n",
      "FNorm: 97.51347 ms\n",
      "Grad: 153.13197 ms\n",
      "NTK: 2636.80859 ms\n",
      "LR: 733.00745 ms\n",
      "-----------------\n",
      "PCA: 0.21601 GB\n",
      "FNorm: 0.33764 GB\n",
      "Grad: 0.61027 GB\n",
      "NTK: 1.67143 GB\n",
      "LR: 7.72381 GB\n",
      "-----------------\n",
      "\n"
     ]
    },
    {
     "name": "stderr",
     "output_type": "stream",
     "text": [
      "\r",
      " 87%|████████▋ | 87/100 [04:16<00:42,  3.24s/it]"
     ]
    },
    {
     "name": "stdout",
     "output_type": "stream",
     "text": [
      "Structure(4 nodes with |nor_conv_1x1~0|+|avg_pool_3x3~0|nor_conv_1x1~1|+|nor_conv_1x1~0|skip_connect~1|none~2|)\n",
      "-----------------\n",
      "PCA: 52.64816 ms\n",
      "FNorm: 47.94909 ms\n",
      "Grad: 83.76365 ms\n",
      "NTK: 2050.77002 ms\n",
      "LR: 744.94104 ms\n",
      "-----------------\n",
      "PCA: 0.21601 GB\n",
      "FNorm: 0.33764 GB\n",
      "Grad: 0.61027 GB\n",
      "NTK: 1.67562 GB\n",
      "LR: 7.81818 GB\n",
      "-----------------\n",
      "\n"
     ]
    },
    {
     "name": "stderr",
     "output_type": "stream",
     "text": [
      "\r",
      " 88%|████████▊ | 88/100 [04:20<00:41,  3.45s/it]"
     ]
    },
    {
     "name": "stdout",
     "output_type": "stream",
     "text": [
      "Structure(4 nodes with |nor_conv_1x1~0|+|nor_conv_1x1~0|nor_conv_1x1~1|+|none~0|none~1|none~2|)\n",
      "-----------------\n",
      "PCA: 52.73341 ms\n",
      "FNorm: 46.48989 ms\n",
      "Grad: 82.00249 ms\n",
      "NTK: 2986.67358 ms\n",
      "LR: 748.21698 ms\n",
      "-----------------\n",
      "PCA: 0.21810 GB\n",
      "FNorm: 0.33764 GB\n",
      "Grad: 0.61237 GB\n",
      "NTK: 1.67562 GB\n",
      "LR: 7.82447 GB\n",
      "-----------------\n",
      "\n"
     ]
    },
    {
     "name": "stderr",
     "output_type": "stream",
     "text": [
      "\r",
      " 89%|████████▉ | 89/100 [04:25<00:40,  3.72s/it]"
     ]
    },
    {
     "name": "stdout",
     "output_type": "stream",
     "text": [
      "Structure(4 nodes with |nor_conv_1x1~0|+|skip_connect~0|nor_conv_1x1~1|+|nor_conv_3x3~0|nor_conv_1x1~1|nor_conv_1x1~2|)\n",
      "-----------------\n",
      "PCA: 59.98825 ms\n",
      "FNorm: 54.27747 ms\n",
      "Grad: 107.42390 ms\n",
      "NTK: 2924.79785 ms\n",
      "LR: 1177.23486 ms\n",
      "-----------------\n",
      "PCA: 0.29150 GB\n",
      "FNorm: 0.48444 GB\n",
      "Grad: 0.92904 GB\n",
      "NTK: 2.06779 GB\n",
      "LR: 12.66890 GB\n",
      "-----------------\n",
      "\n"
     ]
    },
    {
     "name": "stderr",
     "output_type": "stream",
     "text": [
      "\r",
      " 90%|█████████ | 90/100 [04:28<00:37,  3.76s/it]"
     ]
    },
    {
     "name": "stdout",
     "output_type": "stream",
     "text": [
      "Structure(4 nodes with |nor_conv_1x1~0|+|nor_conv_3x3~0|none~1|+|skip_connect~0|nor_conv_1x1~1|nor_conv_3x3~2|)\n",
      "-----------------\n",
      "PCA: 57.30829 ms\n",
      "FNorm: 51.20301 ms\n",
      "Grad: 99.13542 ms\n",
      "NTK: 2670.24805 ms\n",
      "LR: 979.34558 ms\n",
      "-----------------\n",
      "PCA: 0.24117 GB\n",
      "FNorm: 0.40894 GB\n",
      "Grad: 0.78224 GB\n",
      "NTK: 1.89373 GB\n",
      "LR: 10.39349 GB\n",
      "-----------------\n",
      "\n"
     ]
    },
    {
     "name": "stderr",
     "output_type": "stream",
     "text": [
      "\r",
      " 91%|█████████ | 91/100 [04:32<00:33,  3.77s/it]"
     ]
    },
    {
     "name": "stdout",
     "output_type": "stream",
     "text": [
      "Structure(4 nodes with |nor_conv_1x1~0|+|nor_conv_3x3~0|avg_pool_3x3~1|+|none~0|avg_pool_3x3~1|none~2|)\n",
      "-----------------\n",
      "PCA: 51.07603 ms\n",
      "FNorm: 46.28755 ms\n",
      "Grad: 74.72394 ms\n",
      "NTK: 1666.75342 ms\n",
      "LR: 1919.82947 ms\n",
      "-----------------\n",
      "PCA: 0.16987 GB\n",
      "FNorm: 0.26424 GB\n",
      "Grad: 0.46557 GB\n",
      "NTK: 1.49946 GB\n",
      "LR: 5.73991 GB\n",
      "-----------------\n",
      "\n"
     ]
    },
    {
     "name": "stderr",
     "output_type": "stream",
     "text": [
      "\r",
      " 92%|█████████▏| 92/100 [04:35<00:28,  3.53s/it]"
     ]
    },
    {
     "name": "stdout",
     "output_type": "stream",
     "text": [
      "Structure(4 nodes with |nor_conv_1x1~0|+|none~0|skip_connect~1|+|avg_pool_3x3~0|nor_conv_3x3~1|nor_conv_1x1~2|)\n",
      "-----------------\n",
      "PCA: 109.85600 ms\n",
      "FNorm: 95.68777 ms\n",
      "Grad: 136.18851 ms\n",
      "NTK: 1517.36670 ms\n",
      "LR: 1080.52429 ms\n",
      "-----------------\n",
      "PCA: 0.21810 GB\n",
      "FNorm: 0.33764 GB\n",
      "Grad: 0.63544 GB\n",
      "NTK: 1.69869 GB\n",
      "LR: 8.21245 GB\n",
      "-----------------\n",
      "\n"
     ]
    },
    {
     "name": "stderr",
     "output_type": "stream",
     "text": [
      "\r",
      " 93%|█████████▎| 93/100 [04:38<00:22,  3.19s/it]"
     ]
    },
    {
     "name": "stdout",
     "output_type": "stream",
     "text": [
      "Structure(4 nodes with |avg_pool_3x3~0|+|nor_conv_1x1~0|nor_conv_1x1~1|+|none~0|avg_pool_3x3~1|none~2|)\n",
      "-----------------\n",
      "PCA: 103.44675 ms\n",
      "FNorm: 87.68662 ms\n",
      "Grad: 121.26346 ms\n",
      "NTK: 1283.49414 ms\n",
      "LR: 795.34058 ms\n",
      "-----------------\n",
      "PCA: 0.16987 GB\n",
      "FNorm: 0.26424 GB\n",
      "Grad: 0.46557 GB\n",
      "NTK: 1.48059 GB\n",
      "LR: 5.85315 GB\n",
      "-----------------\n",
      "\n"
     ]
    },
    {
     "name": "stderr",
     "output_type": "stream",
     "text": [
      "\r",
      " 94%|█████████▍| 94/100 [04:39<00:16,  2.79s/it]"
     ]
    },
    {
     "name": "stdout",
     "output_type": "stream",
     "text": [
      "Structure(4 nodes with |nor_conv_1x1~0|+|skip_connect~0|avg_pool_3x3~1|+|none~0|skip_connect~1|none~2|)\n",
      "-----------------\n",
      "PCA: 93.74230 ms\n",
      "FNorm: 76.17264 ms\n",
      "Grad: 105.14669 ms\n",
      "NTK: 1081.36658 ms\n",
      "LR: 475.61014 ms\n",
      "-----------------\n",
      "PCA: 0.14261 GB\n",
      "FNorm: 0.16777 GB\n",
      "Grad: 0.33764 GB\n",
      "NTK: 1.30653 GB\n",
      "LR: 3.48966 GB\n",
      "-----------------\n",
      "\n"
     ]
    },
    {
     "name": "stderr",
     "output_type": "stream",
     "text": [
      "\r",
      " 95%|█████████▌| 95/100 [04:43<00:15,  3.04s/it]"
     ]
    },
    {
     "name": "stdout",
     "output_type": "stream",
     "text": [
      "Structure(4 nodes with |skip_connect~0|+|nor_conv_1x1~0|avg_pool_3x3~1|+|avg_pool_3x3~0|avg_pool_3x3~1|nor_conv_3x3~2|)\n",
      "-----------------\n",
      "PCA: 102.13319 ms\n",
      "FNorm: 86.29075 ms\n",
      "Grad: 125.37907 ms\n",
      "NTK: 2470.03735 ms\n",
      "LR: 809.34485 ms\n",
      "-----------------\n",
      "PCA: 0.16987 GB\n",
      "FNorm: 0.26424 GB\n",
      "Grad: 0.48864 GB\n",
      "NTK: 1.52673 GB\n",
      "LR: 6.07545 GB\n",
      "-----------------\n",
      "\n"
     ]
    },
    {
     "name": "stderr",
     "output_type": "stream",
     "text": [
      "\r",
      " 96%|█████████▌| 96/100 [04:45<00:11,  2.80s/it]"
     ]
    },
    {
     "name": "stdout",
     "output_type": "stream",
     "text": [
      "Structure(4 nodes with |avg_pool_3x3~0|+|none~0|none~1|+|none~0|skip_connect~1|nor_conv_3x3~2|)\n",
      "-----------------\n",
      "PCA: 92.93497 ms\n",
      "FNorm: 78.33085 ms\n",
      "Grad: 107.27325 ms\n",
      "NTK: 1466.95398 ms\n",
      "LR: 491.63754 ms\n",
      "-----------------\n",
      "PCA: 0.14261 GB\n",
      "FNorm: 0.18874 GB\n",
      "Grad: 0.31667 GB\n",
      "NTK: 1.30862 GB\n",
      "LR: 3.59871 GB\n",
      "-----------------\n",
      "\n"
     ]
    },
    {
     "name": "stderr",
     "output_type": "stream",
     "text": [
      "\r",
      " 97%|█████████▋| 97/100 [04:48<00:08,  2.73s/it]"
     ]
    },
    {
     "name": "stdout",
     "output_type": "stream",
     "text": [
      "Structure(4 nodes with |avg_pool_3x3~0|+|skip_connect~0|avg_pool_3x3~1|+|avg_pool_3x3~0|none~1|nor_conv_3x3~2|)\n",
      "-----------------\n",
      "PCA: 92.96720 ms\n",
      "FNorm: 78.66438 ms\n",
      "Grad: 116.08288 ms\n",
      "NTK: 1727.64966 ms\n",
      "LR: 502.73172 ms\n",
      "-----------------\n",
      "PCA: 0.14470 GB\n",
      "FNorm: 0.19084 GB\n",
      "Grad: 0.34184 GB\n",
      "NTK: 1.33379 GB\n",
      "LR: 3.63017 GB\n",
      "-----------------\n",
      "\n"
     ]
    },
    {
     "name": "stderr",
     "output_type": "stream",
     "text": [
      "\r",
      " 98%|█████████▊| 98/100 [04:50<00:05,  2.62s/it]"
     ]
    },
    {
     "name": "stdout",
     "output_type": "stream",
     "text": [
      "Structure(4 nodes with |skip_connect~0|+|none~0|skip_connect~1|+|skip_connect~0|none~1|nor_conv_1x1~2|)\n",
      "-----------------\n",
      "PCA: 91.44560 ms\n",
      "FNorm: 77.25751 ms\n",
      "Grad: 110.88832 ms\n",
      "NTK: 1589.58667 ms\n",
      "LR: 493.68573 ms\n",
      "-----------------\n",
      "PCA: 0.14261 GB\n",
      "FNorm: 0.18874 GB\n",
      "Grad: 0.31457 GB\n",
      "NTK: 1.30653 GB\n",
      "LR: 3.60500 GB\n",
      "-----------------\n",
      "\n"
     ]
    },
    {
     "name": "stderr",
     "output_type": "stream",
     "text": [
      "\r",
      " 99%|█████████▉| 99/100 [04:55<00:03,  3.21s/it]"
     ]
    },
    {
     "name": "stdout",
     "output_type": "stream",
     "text": [
      "Structure(4 nodes with |none~0|+|skip_connect~0|avg_pool_3x3~1|+|none~0|nor_conv_3x3~1|nor_conv_3x3~2|)\n",
      "-----------------\n",
      "PCA: 103.73338 ms\n",
      "FNorm: 88.70960 ms\n",
      "Grad: 132.08388 ms\n",
      "NTK: 2255.72583 ms\n",
      "LR: 1971.18481 ms\n",
      "-----------------\n",
      "PCA: 0.16987 GB\n",
      "FNorm: 0.26424 GB\n",
      "Grad: 0.48864 GB\n",
      "NTK: 1.52673 GB\n",
      "LR: 6.30614 GB\n",
      "-----------------\n",
      "\n"
     ]
    },
    {
     "name": "stderr",
     "output_type": "stream",
     "text": [
      "100%|██████████| 100/100 [04:59<00:00,  3.00s/it]"
     ]
    },
    {
     "name": "stdout",
     "output_type": "stream",
     "text": [
      "Structure(4 nodes with |none~0|+|nor_conv_3x3~0|nor_conv_3x3~1|+|none~0|nor_conv_3x3~1|skip_connect~2|)\n",
      "-----------------\n",
      "PCA: 112.97235 ms\n",
      "FNorm: 102.62701 ms\n",
      "Grad: 149.62669 ms\n",
      "NTK: 2763.33374 ms\n",
      "LR: 1194.89856 ms\n",
      "-----------------\n",
      "PCA: 0.21601 GB\n",
      "FNorm: 0.33554 GB\n",
      "Grad: 0.61027 GB\n",
      "NTK: 1.67353 GB\n",
      "LR: 8.87095 GB\n",
      "-----------------\n",
      "\n"
     ]
    },
    {
     "name": "stderr",
     "output_type": "stream",
     "text": [
      "\n"
     ]
    }
   ],
   "source": [
    "n_samples = 100\n",
    "\n",
    "archs, pca_scores, fnorm_scores, grad_scores, ntk_scores, lr_scores = search_find_best(train_loader, network, criterion, lrc_model, n_samples)"
   ]
  },
  {
   "cell_type": "code",
   "execution_count": 7,
   "id": "ca428b33",
   "metadata": {
    "scrolled": true
   },
   "outputs": [],
   "source": [
    "%%capture\n",
    "def get_results_from_api(api, arch):\n",
    "    # print(api.query_by_arch(arch, \"200\"))\n",
    "    index = api.query_index_by_arch(arch)\n",
    "#     results = api.query_by_index(index, 'cifar10-valid', '200') # a dict of all trials for 1st net on cifar100, where the key is the seed\n",
    "#     results = api.query_by_index(index, 'cifar100', '200') # a dict of all trials for 1st net on cifar100, where the key is the seed\n",
    "    results = api.query_by_index(index, 'cifar10', '200') # a dict of all trials for 1st net on cifar100, where the key is the seed\n",
    "    \n",
    "    # valid acc\n",
    "    acc = 0\n",
    "    for seed, result in results.items():\n",
    "#         acc = acc + result.get_eval('valid')['accuracy']\n",
    "#         acc = acc + result.get_eval('x-test')['accuracy']\n",
    "        acc = acc + result.get_eval('ori-test')['accuracy']\n",
    "    acc = acc / len(results)\n",
    "    \n",
    "    result = list(results.values())[0]\n",
    "    \n",
    "    return acc, result.flop, result.params\n",
    "\n",
    "api_valid_accs, api_flops, api_params = [], [], []\n",
    "for a in archs:\n",
    "    valid_acc, flops, params = get_results_from_api(api, a)\n",
    "    api_valid_accs.append(valid_acc)\n",
    "    api_flops.append(flops)\n",
    "    api_params.append(params)"
   ]
  },
  {
   "cell_type": "code",
   "execution_count": null,
   "id": "784c9609",
   "metadata": {},
   "outputs": [],
   "source": [
    "# sorted_indices = np.argsort(api_valid_accs)\n",
    "# sorted_indices = np.argsort(pca_scores)\n",
    "\n",
    "# for a, s, acc in zip(np.array(archs)[sorted_indices], np.array(pca_scores)[sorted_indices], np.array(api_valid_accs)[sorted_indices]):\n",
    "#     print(a)\n",
    "#     print(\"{:.3f}\".format(acc), '\\t', s)"
   ]
  },
  {
   "cell_type": "markdown",
   "id": "bd152cc4",
   "metadata": {},
   "source": [
    "# Analysis"
   ]
  },
  {
   "cell_type": "code",
   "execution_count": 23,
   "id": "63b4c375",
   "metadata": {},
   "outputs": [
    {
     "name": "stdout",
     "output_type": "stream",
     "text": [
      "RANDOM-NAS finds the best one : Structure(4 nodes with |nor_conv_3x3~0|+|nor_conv_3x3~0|nor_conv_1x1~1|+|nor_conv_3x3~0|nor_conv_3x3~1|nor_conv_3x3~2|) with ntk_score=-10.870931625366211, lr_score=998.0\n",
      "188.66241 1.316506\n",
      "\n",
      "\n",
      "\n",
      "Call query_info_str_by_arch with arch=Structure(4 nodes with |nor_conv_3x3~0|+|nor_conv_3x3~0|nor_conv_1x1~1|+|nor_conv_3x3~0|nor_conv_3x3~1|nor_conv_3x3~2|) and hp=200\n",
      "Call query_index_by_arch with arch=Structure(4 nodes with |nor_conv_3x3~0|+|nor_conv_3x3~0|nor_conv_1x1~1|+|nor_conv_3x3~0|nor_conv_3x3~1|nor_conv_3x3~2|)\n",
      "|nor_conv_3x3~0|+|nor_conv_3x3~0|nor_conv_1x1~1|+|nor_conv_3x3~0|nor_conv_3x3~1|nor_conv_3x3~2|\n",
      "datasets : ['cifar10-valid', 'cifar10', 'cifar100', 'ImageNet16-120'], extra-info : arch-index=5563\n",
      "cifar10-valid  FLOP=188.66 M, Params=1.317 MB, latency=22.62 ms.\n",
      "cifar10-valid  train : [loss = 0.002, top1 = 99.98%], valid : [loss = 0.497, top1 = 90.19%]\n",
      "cifar10        FLOP=188.66 M, Params=1.317 MB, latency=22.62 ms.\n",
      "cifar10        train : [loss = 0.003, top1 = 99.96%], test  : [loss = 0.315, top1 = 93.38%]\n",
      "cifar100       FLOP=188.67 M, Params=1.322 MB, latency=23.91 ms.\n",
      "cifar100       train : [loss = 0.031, top1 = 99.72%], valid : [loss = 1.379, top1 = 70.40%], test : [loss = 1.386, top1 = 70.58%]\n",
      "ImageNet16-120 FLOP= 47.17 M, Params=1.324 MB, latency=22.20 ms.\n",
      "ImageNet16-120 train : [loss = 1.905, top1 = 49.39%], valid : [loss = 2.332, top1 = 40.54%], test : [loss = 2.325, top1 = 40.72%]\n"
     ]
    },
    {
     "data": {
      "image/png": "[encoded data removed]",
      "text/plain": [
       "<Figure size 432x288 with 1 Axes>"
      ]
     },
     "metadata": {
      "needs_background": "light"
     },
     "output_type": "display_data"
    },
    {
     "name": "stdout",
     "output_type": "stream",
     "text": [
      "0.7520232075140735 1.6857779143995647e-28\n"
     ]
    }
   ],
   "source": [
    "rank_pca, rank_fnorm, rank_grad, rank_ntk, rank_lr, rank_flops, rank_params = \\\n",
    "stats.rankdata(pca_scores), stats.rankdata(fnorm_scores), stats.rankdata(grad_scores), stats.rankdata(ntk_scores), stats.rankdata(lr_scores), stats.rankdata(api_flops), stats.rankdata(api_params)\n",
    "\n",
    "###\n",
    "# tmp = -np.abs(1.5-np.array(grad_scores))\n",
    "# rank_grad = stats.rankdata(tmp)\n",
    "###\n",
    "\n",
    "l = len(api_valid_accs)\n",
    "# rank_agg = rank_lr\n",
    "# rank_agg = rank_params\n",
    "rank_agg = np.log(rank_pca/l) + np.log(rank_fnorm/l) + np.log(rank_grad/l) + np.log(rank_params/l)\n",
    "# rank_agg = np.log(rank_pca/l) + np.log(rank_fnorm/l) + np.log(rank_grad/l) + np.log(rank_params/l) + np.log(rank_ntk/l) + np.log(rank_lr/l)\n",
    "# rank_agg = np.log(rank_pca/l) + np.log(rank_grad/l) + np.log(rank_ntk/l) + np.log(rank_lr/l) + np.log(rank_params/l)\n",
    "\n",
    "best_idx = np.argmax(rank_agg)\n",
    "best_arch, best_ntk_score, best_lr_score, flops, params = archs[best_idx], ntk_scores[best_idx], lr_scores[best_idx], api_flops[best_idx], api_params[best_idx]\n",
    "\n",
    "print(\"RANDOM-NAS finds the best one : {:} with ntk_score={:}, lr_score={:}\".format(best_arch, best_ntk_score, best_lr_score))\n",
    "print(flops, params)\n",
    "print(\"\\n\\n\")\n",
    "if api is not None:\n",
    "    print(\"{:}\".format(api.query_by_arch(best_arch, \"200\")))\n",
    "\n",
    "x = stats.rankdata(rank_agg)\n",
    "# x = np.array(lr_scores)\n",
    "# plt.xlim([-1,0])\n",
    "y = stats.rankdata(api_valid_accs)\n",
    "# y = api_valid_accs\n",
    "plt.scatter(x, y)\n",
    "plt.scatter(x[best_idx], y[best_idx], c=\"r\", linewidths=4)\n",
    "# target = rank_params\n",
    "# plt.scatter(x[np.argmax(target)], y[np.argmax(target)], c=\"k\", linewidths=4)\n",
    "plt.title(\"rank_agg\")\n",
    "plt.show()\n",
    "tau, p_value = stats.kendalltau(x, y)\n",
    "print(tau, p_value)"
   ]
  },
  {
   "cell_type": "code",
   "execution_count": null,
   "id": "2429f4d0",
   "metadata": {
    "scrolled": true
   },
   "outputs": [],
   "source": [
    "sorted_indices = np.argsort(api_valid_accs)\n",
    "sorted_indices = np.argsort(grad_scores)\n",
    "\n",
    "for a, s, acc in zip(np.array(archs)[sorted_indices], np.array(grad_scores)[sorted_indices], np.array(api_valid_accs)[sorted_indices]):\n",
    "    print(a)\n",
    "    print(\"{:.3f}\".format(acc), '\\t', s)"
   ]
  },
  {
   "cell_type": "code",
   "execution_count": null,
   "id": "7427f014",
   "metadata": {},
   "outputs": [],
   "source": [
    "# fp_results = torch.load(\"./c3n1_1000samples.pth\")\n",
    "# archs = fp_results['archs']\n",
    "# fp_ntk_scores = fp_results['ntk_scores']\n",
    "# fp_lr_scores = fp_results['lr_scores']\n",
    "# api_valid_accs = fp_results['api_valid_accs']\n",
    "# api_flops = fp_results['api_flops']\n",
    "# api_params = fp_results['api_params']\n",
    "\n",
    "# torch.save({\"archs\":archs,\n",
    "#             \"ntk_scores\":ntk_scores,\n",
    "#             \"pca_scores\":pca_scores,\n",
    "#             \"lr_scores\":lr_scores,\n",
    "#             \"api_valid_accs\":api_valid_accs,\n",
    "#             \"api_flops\":api_flops,\n",
    "#             \"api_params\":api_params,\n",
    "#            },\"./c3n5_1000samples_32_8_4_2.pth\")\n",
    "\n",
    "# torch.save({\"archs\":archs,\n",
    "#             \"fp_ntk_scores\":fp_ntk_scores,\n",
    "#             \"fp_lr_scores\":fp_lr_scores,\n",
    "#             \"q_ntk_scores\":q_ntk_scores,\n",
    "#             \"q_lr_scores\":q_lr_scores,\n",
    "#             \"api_valid_accs\":api_valid_accs,\n",
    "#             \"api_flops\":api_flops,\n",
    "#             \"api_params\":api_params,\n",
    "#            },\"./c3n5_1000samples_1bit.pth\")\n",
    "\n",
    "# trained_results = torch.load(\"./c3n5_1000samples_4bit.pth\")\n",
    "# archs = trained_results['archs']\n",
    "# fp_ntk_scores = trained_results['fp_ntk_scores']\n",
    "# fp_lr_scores = trained_results['fp_lr_scores']\n",
    "# q_ntk_scores = trained_results['q_ntk_scores']\n",
    "# q_lr_scores = trained_results['q_lr_scores']\n",
    "# api_valid_accs = trained_results['api_valid_accs']\n",
    "# api_flops = trained_results['api_flops']\n",
    "# api_params = trained_results['api_params']"
   ]
  },
  {
   "cell_type": "code",
   "execution_count": null,
   "id": "7f20f565",
   "metadata": {},
   "outputs": [],
   "source": []
  }
 ],
 "metadata": {
  "kernelspec": {
   "display_name": "Python 3",
   "language": "python",
   "name": "python3"
  },
  "language_info": {
   "codemirror_mode": {
    "name": "ipython",
    "version": 3
   },
   "file_extension": ".py",
   "mimetype": "text/x-python",
   "name": "python",
   "nbconvert_exporter": "python",
   "pygments_lexer": "ipython3",
   "version": "3.8.8"
  }
 },
 "nbformat": 4,
 "nbformat_minor": 5
}
