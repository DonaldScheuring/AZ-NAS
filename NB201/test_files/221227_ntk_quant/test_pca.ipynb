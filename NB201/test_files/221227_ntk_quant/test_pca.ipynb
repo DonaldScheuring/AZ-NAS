{
 "cells": [
  {
   "cell_type": "code",
   "execution_count": 1,
   "id": "20f2024a",
   "metadata": {},
   "outputs": [],
   "source": [
    "import torch\n",
    "import os\n",
    "\n",
    "os.environ[\"CUDA_VISIBLE_DEVICES\"] = \"1\""
   ]
  },
  {
   "cell_type": "code",
   "execution_count": 24,
   "id": "8cfeebfe",
   "metadata": {},
   "outputs": [
    {
     "name": "stdout",
     "output_type": "stream",
     "text": [
      "tensor([1.1670, 1.1446, 1.1406, 1.1389, 1.1298, 1.1238, 1.1150, 1.1064, 1.1055,\n",
      "        1.1001, 1.0992, 1.0924, 1.0783, 1.0726, 1.0674, 1.0648, 1.0595, 1.0544,\n",
      "        1.0512, 1.0491, 1.0424, 1.0408, 1.0340, 1.0274, 1.0243, 1.0207, 1.0168,\n",
      "        1.0136, 1.0122, 1.0076, 1.0043, 1.0025, 0.9943, 0.9877, 0.9859, 0.9837,\n",
      "        0.9806, 0.9778, 0.9723, 0.9657, 0.9631, 0.9602, 0.9574, 0.9567, 0.9540,\n",
      "        0.9415, 0.9400, 0.9396, 0.9356, 0.9334, 0.9292, 0.9255, 0.9159, 0.9146,\n",
      "        0.9114, 0.9004, 0.8932, 0.8907, 0.8865, 0.8827, 0.8765, 0.8686, 0.8567,\n",
      "        0.8413], device='cuda:0')\n",
      "tensor([[-0.1517, -0.0050, -0.0503,  ...,  0.0622,  0.1679,  0.0025],\n",
      "        [ 0.1230, -0.0440,  0.0244,  ..., -0.1275, -0.1299,  0.1386],\n",
      "        [ 0.0143, -0.0079, -0.1532,  ...,  0.1420,  0.1150, -0.0792],\n",
      "        ...,\n",
      "        [ 0.0603,  0.1304, -0.0102,  ..., -0.0213,  0.0552,  0.0024],\n",
      "        [ 0.1507, -0.0625,  0.1414,  ...,  0.2288, -0.1817,  0.0177],\n",
      "        [-0.1549,  0.0262, -0.1293,  ..., -0.1146,  0.0384, -0.0130]],\n",
      "       device='cuda:0')\n"
     ]
    }
   ],
   "source": [
    "a = torch.randn(10000, 64).cuda()\n",
    "\n",
    "m = a.mean(dim=0, keepdim=True)\n",
    "\n",
    "norm_a = a-m\n",
    "\n",
    "sigma = torch.mm(norm_a.transpose(1,0),norm_a) / (a.size(0)-1)\n",
    "\n",
    "u, s, v = torch.svd(sigma)\n",
    "\n",
    "print(s)\n",
    "print(v)"
   ]
  },
  {
   "cell_type": "code",
   "execution_count": 8,
   "id": "505c2c10",
   "metadata": {},
   "outputs": [
    {
     "name": "stdout",
     "output_type": "stream",
     "text": [
      "torch.Size([10000, 6]) torch.Size([6]) torch.Size([1000, 6])\n"
     ]
    }
   ],
   "source": [
    "u,s,v = torch.pca_lowrank(a)\n",
    "\n",
    "print(u.size(), s.size(), v.size())"
   ]
  }
 ],
 "metadata": {
  "kernelspec": {
   "display_name": "Python 3",
   "language": "python",
   "name": "python3"
  },
  "language_info": {
   "codemirror_mode": {
    "name": "ipython",
    "version": 3
   },
   "file_extension": ".py",
   "mimetype": "text/x-python",
   "name": "python",
   "nbconvert_exporter": "python",
   "pygments_lexer": "ipython3",
   "version": "3.8.8"
  }
 },
 "nbformat": 4,
 "nbformat_minor": 5
}
